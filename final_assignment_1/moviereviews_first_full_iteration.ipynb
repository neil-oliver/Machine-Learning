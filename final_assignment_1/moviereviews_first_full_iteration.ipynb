{
 "cells": [
  {
   "cell_type": "markdown",
   "metadata": {},
   "source": [
    "# Movie reviews\n",
    "\n",
    "This notebook takes you though a complete iteration of Machine Learning Assignment 1 - Movie reviews. The assignment details (including links to download the data) can be found [here](https://docs.google.com/document/d/1WGYw99e5q6j5V0Zrf2HveagU6URt_kVvdR8B9HYQ99E/edit?usp=sharing). "
   ]
  },
  {
   "cell_type": "code",
   "execution_count": 1,
   "metadata": {},
   "outputs": [],
   "source": [
    "# all imports and magic commands\n",
    "import numpy as np\n",
    "import pandas as pd\n",
    "import matplotlib.pyplot as plt\n",
    "from my_measures import BinaryClassificationPerformance\n",
    "from sklearn.feature_extraction.text import HashingVectorizer\n",
    "from sklearn.feature_extraction.text import CountVectorizer\n",
    "from sklearn.feature_extraction.text import TfidfTransformer\n",
    "from scipy.sparse import csr_matrix, hstack\n",
    "from sklearn.preprocessing import StandardScaler\n",
    "from sklearn.model_selection import train_test_split\n",
    "%matplotlib inline"
   ]
  },
  {
   "cell_type": "markdown",
   "metadata": {},
   "source": [
    "### IMPORTANT!!! Make sure you are using `BinaryClassificationPerformance` v1.02"
   ]
  },
  {
   "cell_type": "code",
   "execution_count": 2,
   "metadata": {},
   "outputs": [
    {
     "name": "stdout",
     "output_type": "stream",
     "text": [
      "Help on class BinaryClassificationPerformance in module my_measures:\n",
      "\n",
      "class BinaryClassificationPerformance(builtins.object)\n",
      " |  BinaryClassificationPerformance(predictions, labels, desc, probabilities=None)\n",
      " |  \n",
      " |  Performance measures to evaluate the fit of a binary classification model, v1.02\n",
      " |  \n",
      " |  Methods defined here:\n",
      " |  \n",
      " |  __init__(self, predictions, labels, desc, probabilities=None)\n",
      " |      Initialize attributes: predictions-vector of predicted values for Y, labels-vector of labels for Y\n",
      " |  \n",
      " |  compute_measures(self)\n",
      " |      Compute performance measures defined by Flach p. 57\n",
      " |  \n",
      " |  img_indices(self)\n",
      " |      Get the indices of true and false positives to be able to locate the corresponding images in a list of image names\n",
      " |  \n",
      " |  ----------------------------------------------------------------------\n",
      " |  Data descriptors defined here:\n",
      " |  \n",
      " |  __dict__\n",
      " |      dictionary for instance variables (if defined)\n",
      " |  \n",
      " |  __weakref__\n",
      " |      list of weak references to the object (if defined)\n",
      "\n"
     ]
    }
   ],
   "source": [
    "help(BinaryClassificationPerformance)"
   ]
  },
  {
   "cell_type": "markdown",
   "metadata": {},
   "source": [
    "# Function for feature building and extraction on natural language data"
   ]
  },
  {
   "cell_type": "code",
   "execution_count": 3,
   "metadata": {},
   "outputs": [
    {
     "name": "stderr",
     "output_type": "stream",
     "text": [
      "[nltk_data] Downloading package punkt to /Users/admin/nltk_data...\n",
      "[nltk_data]   Package punkt is already up-to-date!\n"
     ]
    }
   ],
   "source": [
    "# function that takes raw data and completes all preprocessing required before model fits\n",
    "#lemmatize\n",
    "import nltk\n",
    "from nltk import word_tokenize \n",
    "nltk.download('punkt')\n",
    "from nltk.stem import WordNetLemmatizer \n",
    "\n",
    "nltk.download('stopwords', quiet=True, raise_on_error=True)\n",
    "stop_words = set(nltk.corpus.stopwords.words('english'))\n",
    "tokenized_stop_words = nltk.word_tokenize(' '.join(nltk.corpus.stopwords.words('english')))\n",
    "\n",
    "\n",
    "class LemmaTokenizer(object):\n",
    "    def __init__(self):\n",
    "        self.wnl = WordNetLemmatizer()\n",
    "    def __call__(self, articles):\n",
    "        return [self.wnl.lemmatize(t) for t in word_tokenize(articles) if t not in stop_words]\n",
    "    \n",
    "def process_raw_data(fn, my_random_seed, test=False):\n",
    "    # read and summarize data\n",
    "    movie_data = pd.read_csv(fn, sep='\\t')\n",
    "    print(\"movie_data is:\", type(movie_data))\n",
    "    print(\"movie_data has\", movie_data.shape[0], \"rows and\", movie_data.shape[1], \"columns\", \"\\n\")\n",
    "    print(\"the data types for each of the columns in movie_data:\")\n",
    "    print(movie_data.dtypes, \"\\n\")\n",
    "    print(\"the first 10 rows in movie_data:\")\n",
    "    print(movie_data.head(5))\n",
    "    if (not test):\n",
    "        print(\"The rate of 'good' movie reviews in the dataset: \")\n",
    "        print(movie_data['sentiment'].mean())\n",
    "        \n",
    "    # vectorize Bag of Words from review text; as sparse matrix\n",
    "    if (not test): # fit_transform()\n",
    "        hv = CountVectorizer(tokenizer=LemmaTokenizer(), strip_accents='ascii', ngram_range=(1,2), max_df = 0.5, min_df = 5, lowercase=True, stop_words=tokenized_stop_words)\n",
    "        X_hv = hv.fit_transform(movie_data.review)\n",
    "        fitted_transformations.append(hv)\n",
    "        print(\"Shape of HashingVectorizer X:\")\n",
    "        print(X_hv.shape)\n",
    "    else: # transform() \n",
    "        X_hv = fitted_transformations[0].transform(movie_data.review)\n",
    "        print(\"Shape of HashingVectorizer X:\")\n",
    "        print(X_hv.shape)\n",
    "    \n",
    "    # http://scikit-learn.org/stable/modules/generated/sklearn.feature_extraction.text.TfidfTransformer.html\n",
    "    if (not test):\n",
    "        transformer = TfidfTransformer()\n",
    "        X_tfidf = transformer.fit_transform(X_hv)\n",
    "        fitted_transformations.append(transformer)\n",
    "    else:\n",
    "        X_tfidf = fitted_transformations[1].transform(X_hv)\n",
    "    \n",
    "    # create additional quantitative features\n",
    "    movie_data['word_count'] = movie_data['review'].str.split(' ').str.len()\n",
    "    movie_data['punc_count'] = movie_data['review'].str.count(\"\\.\")\n",
    "    movie_data['exclam_count'] = movie_data['review'].str.count(\"\\!\")\n",
    "    movie_data['q_count'] = movie_data['review'].str.count(\"\\?\")\n",
    "    movie_data['q_star'] = movie_data['review'].str.count(\"\\*\")\n",
    "    movie_data['q_hash'] = movie_data['review'].str.count(\"\\#\")\n",
    "    \n",
    "    # uppercase letter count\n",
    "    import string\n",
    "    movie_data['upper'] = [sum(1 for letter in c if letter.isupper()) for c in movie_data['review']]\n",
    "    \n",
    "    #afinn sentiment dictionary score from modifierd dictionary of only negative sentiment words\n",
    "    from afinn import Afinn\n",
    "    afn = Afinn()\n",
    "    \n",
    "    movie_data['afinn_score'] = [afn.score(c) for c in movie_data['review']]\n",
    "\n",
    "    X_quant_features = movie_data[[\"word_count\", \"punc_count\",'exclam_count','q_count','upper','q_star','q_hash','afinn_score']]\n",
    "    \n",
    "    print(\"Look at a few rows of the new quantitative features: \")\n",
    "    print(X_quant_features.head(10))\n",
    "    \n",
    "    # Combine all quantitative features into a single sparse matrix\n",
    "    X_quant_features_csr = csr_matrix(X_quant_features)\n",
    "    X_combined = hstack([X_tfidf, X_quant_features_csr])\n",
    "    X_matrix = csr_matrix(X_combined) # convert to sparse matrix\n",
    "    print(\"Size of combined bag of words and new quantitative variables matrix:\")\n",
    "    print(X_matrix.shape)\n",
    "    \n",
    "    # Create `X`, scaled matrix of features\n",
    "    # feature scaling\n",
    "    sc = StandardScaler(with_mean=False)\n",
    "    X = sc.fit_transform(X_matrix)\n",
    "    print(X.shape)\n",
    "    if (not test):\n",
    "        y = movie_data['sentiment']\n",
    "    \n",
    "    # Create Training and Test Sets\n",
    "    # enter an integer for the random_state parameter; any integer will work\n",
    "    if (test):\n",
    "        X_submission_test = X\n",
    "        print(\"Shape of X_test for submission:\")\n",
    "        print(X_submission_test.shape)\n",
    "        print('SUCCESS!')\n",
    "        return(movie_data, X_submission_test)\n",
    "    else: \n",
    "        X_train, X_test, y_train, y_test, X_raw_train, X_raw_test = train_test_split(X, y, movie_data, test_size=0.2, random_state=my_random_seed)\n",
    "        print(\"Shape of X_train and X_test:\")\n",
    "        print(X_train.shape)\n",
    "        print(X_test.shape)\n",
    "        print(\"Shape of y_train and y_test:\")\n",
    "        print(y_train.shape)\n",
    "        print(y_test.shape)\n",
    "        print(\"Shape of X_raw_train and X_raw_test:\")\n",
    "        print(X_raw_train.shape)\n",
    "        print(X_raw_test.shape)\n",
    "        print('SUCCESS!')\n",
    "        return(X_train, X_test, y_train, y_test, X_raw_train, X_raw_test)"
   ]
  },
  {
   "cell_type": "markdown",
   "metadata": {},
   "source": [
    "# Create training and test sets from function"
   ]
  },
  {
   "cell_type": "code",
   "execution_count": 4,
   "metadata": {
    "scrolled": false
   },
   "outputs": [
    {
     "name": "stdout",
     "output_type": "stream",
     "text": [
      "movie_data is: <class 'pandas.core.frame.DataFrame'>\n",
      "movie_data has 25000 rows and 3 columns \n",
      "\n",
      "the data types for each of the columns in movie_data:\n",
      "id           object\n",
      "sentiment     int64\n",
      "review       object\n",
      "dtype: object \n",
      "\n",
      "the first 10 rows in movie_data:\n",
      "       id  sentiment                                             review\n",
      "0  5814_8          1  With all this stuff going down at the moment w...\n",
      "1  2381_9          1  \\The Classic War of the Worlds\\\" by Timothy Hi...\n",
      "2  7759_3          0  The film starts with a manager (Nicholas Bell)...\n",
      "3  3630_4          0  It must be assumed that those who praised this...\n",
      "4  9495_8          1  Superbly trashy and wondrously unpretentious 8...\n",
      "The rate of 'good' movie reviews in the dataset: \n",
      "0.5\n",
      "Shape of HashingVectorizer X:\n",
      "(25000, 115664)\n",
      "Look at a few rows of the new quantitative features: \n",
      "   word_count  punc_count  exclam_count  q_count  upper  q_star  q_hash  \\\n",
      "0         433          20             1        2     59       0       0   \n",
      "1         158          16             0        0     26       0       0   \n",
      "2         378          20             0        0     75       0       0   \n",
      "3         379           8             0        1     35       0       0   \n",
      "4         367           9             6        1     37       0       0   \n",
      "5          89           5             0        0     32       0       0   \n",
      "6         112           9             0        0     13       0       0   \n",
      "7         132           9             0        0     18       0       0   \n",
      "8         163           7             0        0     19       0       0   \n",
      "9          43           5             0        0     12       0       0   \n",
      "\n",
      "   afinn_score  \n",
      "0         44.0  \n",
      "1         10.0  \n",
      "2         43.0  \n",
      "3         16.0  \n",
      "4         26.0  \n",
      "5         14.0  \n",
      "6         12.0  \n",
      "7          7.0  \n",
      "8         18.0  \n",
      "9          3.0  \n",
      "Size of combined bag of words and new quantitative variables matrix:\n",
      "(25000, 115672)\n",
      "(25000, 115672)\n",
      "Shape of X_train and X_test:\n",
      "(20000, 115672)\n",
      "(5000, 115672)\n",
      "Shape of y_train and y_test:\n",
      "(20000,)\n",
      "(5000,)\n",
      "Shape of X_raw_train and X_raw_test:\n",
      "(20000, 11)\n",
      "(5000, 11)\n",
      "SUCCESS!\n",
      "Number of fits stored in `fitted_transformations` list: \n",
      "2\n"
     ]
    }
   ],
   "source": [
    "# create an empty list to store any use of fit_transform() to transform() later\n",
    "# it is a global list to store model and feature extraction fits\n",
    "fitted_transformations = []\n",
    "\n",
    "# CHANGE FILE PATH and my_random_seed number (any integer other than 74 will do): \n",
    "X_train, X_test, y_train, y_test, X_raw_train, X_raw_test = process_raw_data(fn='moviereviews_train.tsv', my_random_seed=80)\n",
    "\n",
    "print(\"Number of fits stored in `fitted_transformations` list: \")\n",
    "print(len(fitted_transformations))"
   ]
  },
  {
   "cell_type": "markdown",
   "metadata": {},
   "source": [
    "# Fit (and tune) Various Models"
   ]
  },
  {
   "cell_type": "markdown",
   "metadata": {},
   "source": [
    "### MODEL: ordinary least squares"
   ]
  },
  {
   "cell_type": "code",
   "execution_count": 5,
   "metadata": {},
   "outputs": [
    {
     "name": "stdout",
     "output_type": "stream",
     "text": [
      "{'Pos': 9957, 'Neg': 10043, 'TP': 4730, 'TN': 5150, 'FP': 4893, 'FN': 5227, 'Accuracy': 0.494, 'Precision': 0.49153070767951784, 'Recall': 0.47504268353921864, 'desc': 'ols_train'}\n"
     ]
    }
   ],
   "source": [
    "from sklearn import linear_model\n",
    "ols = linear_model.SGDClassifier(loss=\"squared_loss\")\n",
    "ols.fit(X_train, y_train)\n",
    "\n",
    "ols_performance_train = BinaryClassificationPerformance(ols.predict(X_train), y_train, 'ols_train')\n",
    "ols_performance_train.compute_measures()\n",
    "print(ols_performance_train.performance_measures)"
   ]
  },
  {
   "cell_type": "markdown",
   "metadata": {},
   "source": [
    "### MODEL: SVM, linear"
   ]
  },
  {
   "cell_type": "code",
   "execution_count": 6,
   "metadata": {},
   "outputs": [
    {
     "name": "stdout",
     "output_type": "stream",
     "text": [
      "{'Pos': 9957, 'Neg': 10043, 'TP': 9865, 'TN': 9928, 'FP': 115, 'FN': 92, 'Accuracy': 0.98965, 'Precision': 0.9884769539078156, 'Recall': 0.9907602691573767, 'desc': 'svm_train'}\n"
     ]
    }
   ],
   "source": [
    "from sklearn import linear_model\n",
    "svm = linear_model.SGDClassifier(alpha=5, max_iter=10000, early_stopping=True)\n",
    "svm.fit(X_train, y_train)\n",
    "\n",
    "svm_performance_train = BinaryClassificationPerformance(svm.predict(X_train), y_train, 'svm_train')\n",
    "svm_performance_train.compute_measures()\n",
    "print(svm_performance_train.performance_measures)"
   ]
  },
  {
   "cell_type": "markdown",
   "metadata": {},
   "source": [
    "### MODEL: logistic regression"
   ]
  },
  {
   "cell_type": "code",
   "execution_count": 7,
   "metadata": {
    "scrolled": true
   },
   "outputs": [
    {
     "name": "stdout",
     "output_type": "stream",
     "text": [
      "{'Pos': 9957, 'Neg': 10043, 'TP': 9864, 'TN': 9938, 'FP': 105, 'FN': 93, 'Accuracy': 0.9901, 'Precision': 0.9894673487812218, 'Recall': 0.9906598373003916, 'desc': 'lgs_train'}\n"
     ]
    }
   ],
   "source": [
    "from sklearn import linear_model\n",
    "lgs = linear_model.SGDClassifier(loss='log',alpha=1, early_stopping=True)\n",
    "lgs.fit(X_train, y_train)\n",
    "\n",
    "lgs_performance_train = BinaryClassificationPerformance(lgs.predict(X_train), y_train, 'lgs_train')\n",
    "lgs_performance_train.compute_measures()\n",
    "print(lgs_performance_train.performance_measures)"
   ]
  },
  {
   "cell_type": "markdown",
   "metadata": {},
   "source": [
    "### MODEL: Naive Bayes"
   ]
  },
  {
   "cell_type": "code",
   "execution_count": 8,
   "metadata": {
    "scrolled": true
   },
   "outputs": [
    {
     "name": "stdout",
     "output_type": "stream",
     "text": [
      "{'Pos': 9957, 'Neg': 10043, 'TP': 9835, 'TN': 9960, 'FP': 83, 'FN': 122, 'Accuracy': 0.98975, 'Precision': 0.9916313772938092, 'Recall': 0.9877473134478256, 'desc': 'nbs_train'}\n"
     ]
    }
   ],
   "source": [
    "from sklearn.naive_bayes import MultinomialNB\n",
    "nbs = MultinomialNB()\n",
    "nbs.fit(X_train, y_train)\n",
    "\n",
    "nbs_performance_train = BinaryClassificationPerformance(nbs.predict(X_train), y_train, 'nbs_train')\n",
    "nbs_performance_train.compute_measures()\n",
    "print(nbs_performance_train.performance_measures)"
   ]
  },
  {
   "cell_type": "markdown",
   "metadata": {},
   "source": [
    "### MODEL: Perceptron"
   ]
  },
  {
   "cell_type": "code",
   "execution_count": 9,
   "metadata": {},
   "outputs": [
    {
     "name": "stdout",
     "output_type": "stream",
     "text": [
      "{'Pos': 9957, 'Neg': 10043, 'TP': 9956, 'TN': 10043, 'FP': 0, 'FN': 1, 'Accuracy': 0.99995, 'Precision': 1.0, 'Recall': 0.999899568143015, 'desc': 'prc_train'}\n"
     ]
    }
   ],
   "source": [
    "from sklearn import linear_model\n",
    "prc = linear_model.SGDClassifier(loss='perceptron',alpha=1)\n",
    "prc.fit(X_train, y_train)\n",
    "\n",
    "prc_performance_train = BinaryClassificationPerformance(prc.predict(X_train), y_train, 'prc_train')\n",
    "prc_performance_train.compute_measures()\n",
    "print(prc_performance_train.performance_measures)"
   ]
  },
  {
   "cell_type": "markdown",
   "metadata": {},
   "source": [
    "### Model: Neural Network Perceptron"
   ]
  },
  {
   "cell_type": "code",
   "execution_count": 10,
   "metadata": {},
   "outputs": [],
   "source": [
    "# from sklearn import neural_network\n",
    "\n",
    "# prc = neural_network.MLPClassifier()\n",
    "# prc.fit(X_train, y_train)\n",
    "\n",
    "# prc_performance_train = BinaryClassificationPerformance(prc.predict(X_train), y_train, 'prc_train')\n",
    "# prc_performance_train.compute_measures()\n",
    "# print(prc_performance_train.performance_measures)"
   ]
  },
  {
   "cell_type": "markdown",
   "metadata": {},
   "source": [
    "### MODEL: Ridge Regression Classifier"
   ]
  },
  {
   "cell_type": "code",
   "execution_count": 11,
   "metadata": {},
   "outputs": [
    {
     "name": "stdout",
     "output_type": "stream",
     "text": [
      "{'Pos': 9957, 'Neg': 10043, 'TP': 9957, 'TN': 10043, 'FP': 0, 'FN': 0, 'Accuracy': 1.0, 'Precision': 1.0, 'Recall': 1.0, 'desc': 'rdg_train'}\n"
     ]
    }
   ],
   "source": [
    "from sklearn import linear_model\n",
    "rdg = linear_model.RidgeClassifier(alpha=1, normalize=True)\n",
    "rdg.fit(X_train, y_train)\n",
    "\n",
    "rdg_performance_train = BinaryClassificationPerformance(rdg.predict(X_train), y_train, 'rdg_train')\n",
    "rdg_performance_train.compute_measures()\n",
    "print(rdg_performance_train.performance_measures)"
   ]
  },
  {
   "cell_type": "markdown",
   "metadata": {},
   "source": [
    "### MODEL: Random Forest Classifier"
   ]
  },
  {
   "cell_type": "code",
   "execution_count": 12,
   "metadata": {},
   "outputs": [
    {
     "name": "stderr",
     "output_type": "stream",
     "text": [
      "/Users/admin/opt/anaconda3/lib/python3.7/site-packages/sklearn/ensemble/forest.py:245: FutureWarning: The default value of n_estimators will change from 10 in version 0.20 to 100 in 0.22.\n",
      "  \"10 in version 0.20 to 100 in 0.22.\", FutureWarning)\n"
     ]
    },
    {
     "name": "stdout",
     "output_type": "stream",
     "text": [
      "{'Pos': 9957, 'Neg': 10043, 'TP': 9834, 'TN': 10028, 'FP': 15, 'FN': 123, 'Accuracy': 0.9931, 'Precision': 0.9984770027413951, 'Recall': 0.9876468815908406, 'desc': 'rdf_train'}\n"
     ]
    }
   ],
   "source": [
    "from sklearn.ensemble import RandomForestClassifier\n",
    "rdf = RandomForestClassifier(max_depth=1000, random_state=0)\n",
    "rdf.fit(X_train, y_train)\n",
    "\n",
    "rdf_performance_train = BinaryClassificationPerformance(rdf.predict(X_train), y_train, 'rdf_train')\n",
    "rdf_performance_train.compute_measures()\n",
    "print(rdf_performance_train.performance_measures)"
   ]
  },
  {
   "cell_type": "markdown",
   "metadata": {},
   "source": [
    "### ROC plot to compare performance of various models and fits"
   ]
  },
  {
   "cell_type": "code",
   "execution_count": 13,
   "metadata": {
    "scrolled": false
   },
   "outputs": [
    {
     "data": {
      "image/png": "[encoded data removed]",
      "text/plain": [
       "<Figure size 432x288 with 1 Axes>"
      ]
     },
     "metadata": {
      "needs_background": "light"
     },
     "output_type": "display_data"
    }
   ],
   "source": [
    "fits = [ols_performance_train, svm_performance_train, lgs_performance_train, nbs_performance_train, prc_performance_train, rdg_performance_train, rdf_performance_train]\n",
    "\n",
    "for fit in fits:\n",
    "    plt.plot(fit.performance_measures['FP'] / fit.performance_measures['Neg'], \n",
    "             fit.performance_measures['TP'] / fit.performance_measures['Pos'], 'bo')\n",
    "    plt.text(fit.performance_measures['FP'] / fit.performance_measures['Neg'], \n",
    "             fit.performance_measures['TP'] / fit.performance_measures['Pos'], fit.desc)\n",
    "plt.axis([0, 1, 0, 1])\n",
    "plt.title('ROC plot: test set')\n",
    "plt.xlabel('False positive rate')\n",
    "plt.ylabel('True positive rate')\n",
    "plt.show()"
   ]
  },
  {
   "cell_type": "markdown",
   "metadata": {},
   "source": [
    "### looking at reviews based on their classification\n",
    "\n",
    "Let's say we decide that Ordinary Least Squares (OLS) Regression is the best model for generalization. Let's take a look at some of the reviews and try to make a (subjective) determination of whether it's generalizing well. "
   ]
  },
  {
   "cell_type": "code",
   "execution_count": 14,
   "metadata": {},
   "outputs": [],
   "source": [
    "ols_predictions = ols.predict(X_train)"
   ]
  },
  {
   "cell_type": "markdown",
   "metadata": {},
   "source": [
    "### let's look at some false positives:"
   ]
  },
  {
   "cell_type": "code",
   "execution_count": 15,
   "metadata": {
    "scrolled": true
   },
   "outputs": [
    {
     "name": "stdout",
     "output_type": "stream",
     "text": [
      "Examples of false positives:\n",
      "5\n",
      "In the ravaged wasteland of the future, mankind is terrorized by Cyborgsrobots with human featuresthat have discovered a new source of fuel: human blood. Commanded by their vicious leader Jōb (Lance Henriksen), the Cyborgs prepare to overtake Taos, a densely populated human outpost.<br /><br />Only one force can stop Jōb's death marchthe Cyborg Gabriel (Kris Kristofferson), who is programmed to destroy Jōb and his army.<br /><br />In the ruins of a ransacked village, Gabriel finds Nea (Kathy Long), a beautiful young woman whose parents were killed by Cyborgs ten years earlier. Now she wants revenge. They strike a pact: Gabriel will train Nea how to fight the Cyborgs and Nea will lead Gabriel to Taos.<br /><br />Five-time kick-boxing champion Kathy Long has all the right moves in this high-speed adventure that delivers plenty of action. Also stars Gary Daniels (as David) and Scott Paulin (as Simon).\n",
      "* * * * * * * * * \n",
      "49\n",
      "I was very disappointed in this 1970 film based on a Bernard Malamud story. This is basically a story of possible redemption, racial bias and the unfulfillment of life based on mistrust.<br /><br />A black Jewish angel is sent to help a struggling tailor and his critically ill wife. If Morris Mishkin (Zero Mostel) will only believe in the angel (Belafonte), his wife Fanny (Ida Kaminska) will recover. The problem is that Morris has basically given up on life and just refuses to believe that Belafonte is an angel.<br /><br />When he believes it, Fanny improves but in the end he has doubts and Fanny suffers accordingly. It would have been very nice if there had been an English translation in the last scene when a dying Fanny speaks to Morris.<br /><br />Jan Kadar, who successfully directed Miss Kaminska in her Oscar nominated brilliant performance in 1966's \\The Shop on Main Street\\\" directs this film as well. Kaminska is reduced in the film to mostly bed scenes and her kindness in her speech really doesn't convey the desperate situation that she faces. She keeps calling for Ruthie, their daughter, who disobeyed them by marrying out of the Jewish religion. For most of the film, she does not realize the Angel's appearance in her apartment.<br /><br />The scene in the pharmacy is muddled and the scene where the Angel's girl friend confronts Belafonte in their apartment, is memorable but all too brief.<br /><br />We don't know why Belafonte is in danger and why he has died.<br /><br />Those viewing this film must have left the theater in a state of depression and desperation.\"\n",
      "* * * * * * * * * \n",
      "101\n",
      "Blank Check is easily one of the worst films of the nineties. The plot is completely pointless; its overtones of lonliness are pathetic. Do you really believe a twelve year old acting as a personal assistant for a millionaire could accomplish everything in this film, like buying a mansion for a mere $300 grand. The notion, let alone the bargain-basement price, will only be believed by the most gullible viewers. Please, respect your intelligence and don't watch this awful, awful film.\n",
      "* * * * * * * * * \n",
      "149\n",
      "This movie is so bad, it can only be compared to the all-time worst \\comedy\\\": Police Academy 7. No laughs throughout the movie. Do something worthwhile, anything really. Just don't waste your time on this garbage.\"\n",
      "* * * * * * * * * \n",
      "180\n",
      "(BIG SPOILERS) I've seen one other Takashi Miike film, and that was the very disturbing and brutal 'Audition', which was an examination of the Japanese ideals of femininity! In 'Visitor Q'- which I think means 'Visitor Question'- he examines, in a very disturbingly gross way, the family unit. Miike's surreal vision of a dysfunctional family almost tries to be Lynchian in terms of confusion and film-making, but ultimately lacks the style and intrigue. We, the audience, are introduced to a bizarre array of scenarios from the opening scene with the father figure (Kenichi Endo- who was actually quite good) paying for sex with his displaced daughter (Fujiko). Then, as the father returns home, he is struck on the head by \\the visitor\\\" (Kazushi Watanabe) wielding a fairly sizeable rock, and for some reason, they both end up back at the family home. The mother (Shungiku Uchida) is beaten and bullied by her son (Jun Muto) who is also beaten and bullied by his school peers. When the visitor enters the home, he somewhat menacingly establishes himself as part of the unit. Eventually, the family begin to improve their relationship, with assistance from the visitor, through milking breasts, murder and retaining a sense of family pride.<br /><br />And there are other crazy scenes that somehow bring the family closer together. It's has uncomfortable humour, but is equally frustratingly silly, and over-the-top in its weirdness. There is a necrophiliac scene that is utterly disgusting, but ends up being ridiculously funny as the scene progresses. Partly because of the situation itself, and partly because you can't believe the filmmakers and the actors are actually doing this! The style of the film is poor to say the least, and the plot is stupid and unbelievably weak. The characters themselves are all over the place, and while I understand this is not meant to be realistic, there is hardly any interest in these confronting characters and situations as all of them border on the absurd! The camera-work is sloppy, and doesn't have that cinematic feel that Lynch's work entails. It's hard to take this film seriously on a surrealist level, or on an interpretation of examining the family unit in Japan. It just seems that Miike was out to shock, and the film seems self-aware that it's \\\"trying\\\" to be shocking, and it becomes almost comical to be taken seriously. All in all, I would say that this film is a bizarrely dark comedy, but it looks and feels amateurish, and seems to unnecessarily want to shock. Miike's previous film, Audition, was finely balanced between disgusting horror, character development and technique- which established more intrigue in the way the film was crafted to allow the viewer to become engrossed with the plot. 'Visitor Q' is a step down as it tries too hard to be outlandishly bizarre and intentionally confronting, without really having much to say in the process! <br /><br />** out of *****!\"\n",
      "* * * * * * * * * \n",
      "271\n",
      "Universal Soldier: The Return is not the worst movie ever made. No, that honor would have to go to a film that attempted to make some sort of statement or accomplish some artistic feat but failed in a pathetic or offensive manner. However, perhaps no movie I have ever seen has tried for so little and succeeded so completely as did Universal Soldier: The Return. <br /><br />This film is a sci-fi/action travesty that has virtually nothing to recommend it. The acting is as bad as any movie I've ever seen. The plot is terrible and predictable. The special effects are pathetic. In short, anyone even remotely connected to this film should be ashamed of themselves. US: The Return makes previous Van Damme fare seem like groundbreaking cinematic masterpieces. Some movies are so bad, they're good. Believe me when I tell you that this is not one of them. I'm really not sure what else to say here. I doubt many people were considering seeing this movie if they hadn't already, but just in case: don't.\n",
      "* * * * * * * * * \n",
      "337\n",
      "After reading the book, which had a lot of meaning for me, the movie didn't give me any of the feeling which the book conveyed. This makes me wonder if Kaufman even liked this book for he successfully made it into something else.Either that or he is simply bad. Most importantly where is the lightness?! From the very first scene, music drownes out most of the dialogue and feeling, and this continues right through the movie. I think the makers thought that by having upbeat music playing right through the movie, this would make the story feel light- however they have completely failed here. Instead the music manages to give everything that 'movie feel', in a way dramatising events so that we linger on them, so that everything actually feels heavy.<br /><br />Another example of the how this adaptation fails is by embellishing the story line making it more dramatic. In the movie we see Franz passing Tomas on the street, who is on his way to see Sabina. The introduction of this chance meeting/passing, which im sure didn't happen in the book, gives Tomas' story more significance than it does make it light.<br /><br />There are many other examples where the continuity of the story has been changed, imo for the worst, however this might have been done because the book simply doesn't convert well into a movie, such is Kundera's style. This makes we wonder if all the generous reviewers on this site were writing with their book AND movie experience in mind rather than writing about just the film. A film which is as long as it is uncompelling. For those who haven't read the book yet I recommend just reading that. For those who have, I have to say you will just be wasting your time and probably end up here writing similar stay-clear warnings.\n",
      "* * * * * * * * * \n",
      "357\n",
      "Seems everyone in this film is channeling Woody Allen. They stammer and pause and stammer some more. Only for REALLY die-hard DeNero fans! It tries to appear as edgy and artistic - but it comes off as looking like a very, very low budget film made by college students. The most often used word in the whole film is \\hum\\\". The film does peg the atmosphere of the late sixties/early seventies though. If you like films where people are CONSTANTLY talking over each other, horrible lighting (even if it is for \\\"art's sake\\\"), and makes you feel like you are sitting in on a lame political meeting, then you might like this - but you need to be really bored. I found this CD in the dollar bin and now I know why.\"\n",
      "* * * * * * * * * \n",
      "370\n",
      "I saw virtually no redeeming qualities in this movie. The only thing I did see was Quentin Tarantino's seeming insane obsession for it... There were some attractive women in this movie and perhaps that is one decent quality. Overall however, I found this movie surrealistic and ridiculous. The hand held film making coupled with slow motion and other cinematic gimmicks I found clumsy and dizzying, even sickening. Overall the music throughout was horrible and repetitive to the extreme as well reminding me of psychological warfare of the U.S. military against various malcontents.<br /><br />The various vignettes that made up the movie are haphazard in their placement and unfulfilling and unresolved in their content and \\conclusions.\\\" A depressing movie (not a true _film_, a term I reserve for true art) that left me with a bad feeling. Do not believe the various people that try and spin this as a \\\"romantic comedy\\\" though there are certainly isolated elements of both this movie repudiates in content, form, and conclusion any association with this genre.<br /><br />I suggest staying far away notwithstanding the seemingly overwhelming positive views of IMDb and other ratings sources.\"\n",
      "* * * * * * * * * \n",
      "405\n",
      "As far as I can tell you, in spite of earlier comments posted by other commentors, this film IS currently available on DVD. I found it only a few weeks ago.<br /><br />It is on the Value DVD label and I paid the grand total of 98 cents plus tax for it. I found it at a 98 cent store among racks of plastic bowls and disposable chopsticks. Now don't you people who shelled out beau coup bucks for the super-duper Swedish import limited edition version feel like you were had??? I thought so.<br /><br />This film was indeed well worth 98 cents. 99 cents, I might start to argue with you. But clearly worth 98 cents. And remember that saying about getting what you pay for. For slasher film mavens only.\n",
      "* * * * * * * * * \n",
      "506\n",
      "A vampire's's henchman wants to call her after falling in love with a five-dollar hooker in this extremely low-budget horror-comedy. I can't explain all the positive comments on this movie. I'll chalk it up to mass hallucination, but it's disconcerting none the less. The one redeeming factor (and this is me being extremely generous here) might be the Grandfather who's the only semi-likable character in this whole mess. Don't waste your money, or time. In fact here's a word of advice, If Troma puts it out on DVD, but does NOT make it themselves, in all likelihood it's crap.<br /><br />Troma DVD Extras:Commentary with Omar and Kirk; second commentary with cast and crew deleted scenes; bloopers; troma interactivity; radiation march; Clip from \\Terror Firmer\\\"; Theatrical trailer ;Trailers for \\\"the Rowdy Girls\\\", \\\"Teenage Catgirls in Heat\\\", \\\"Cannible: The Musical\\\", and \\\"Toxic Avenger 4\\\" <br /><br />My Grade: D\"\n",
      "* * * * * * * * * \n"
     ]
    },
    {
     "name": "stdout",
     "output_type": "stream",
     "text": [
      "624\n",
      "The movie opens with a flashback to Doddsville County High School on April Fool's Day. A group of students play a prank on class nerd Marty. When they are punished for playing said prank, they follow up with a bigger prank which (par for the course in slasher films involving pranks on class nerds) goes ridiculously awry leaving Marty simultaneously burned by fire and disfigured by acid for the sake of being thorough. Fast forward five years, where we find members of the student body gathering at the now abandoned high school for their five year class reunion. We find out that it is no coincidence that everyone at the reunion belonged to the clique of pranksters from the flashback scene, as all of the attendees are being stalked and killed by a mysterious, jester mask-clad murderer in increasingly complicated and mind-numbingly ludicrous fashions. It doesn't take Sherlock Holmes to solve the mystery of the killer's identity, as it is revealed to be none other than a scarred Marty who has seemingly been using his nerd rage and high intellect to bend the laws of physics and engineering in order to rig the school for his revenge scenario. The film takes a turn for the bizarre as Marty finishes exacting his revenge on his former tormentors, only to be haunted by their ghosts. Marty is finally pushed fully over the edge and takes his own life. Finally, the film explodes in a crescendo of disjointed weirdness as the whole revenge scenario is revealed to be a dream in the first place as Marty wakes up in a hospital bed, breaks free of his restraints, stabs a nurse, and finally disfigures his own face.<br /><br />The script is tired and suffers from a terminal case of horror movie logic. The only originality comes from the mind-numbingly convoluted ways that the victims are dispatched. The absurd it-was-all-a-dream ending feels tacked on. It's almost as if someone pointed out the disjointed nature of the film and the writer decided then and there that it was a dream.<br /><br />Technically speaking, the film is atrocious. Some scenes were filmed so dark that I had to pause the film and play with the color on my television. The acting is sub-par, even for slasher films. I can't help but think that casting was a part of the problem as all of the actors look at least five years older than the characters they portray, which makes the flashback scene even more unintentionally laughable. Their lack of commitment to the movie is made obvious as half of them can't bother to keep their accents straight through the movie.<br /><br />All of this being said, if you like bad horror movies, you might like this one, too. It isn't the worst film of the genre, but it's far from the best.\n",
      "* * * * * * * * * \n",
      "645\n",
      "Before I start...let me say that I fully believe in God. I believe in Heaven and in Hell. Kay now that thats out of the way, I just wanna say that What in the world do these morons that call themselves \\hosts\\\" think they are doing?? The last time I checked a host doesn't discriminate, spew hatred filled rants on TV, or try to shove their own beliefs down every unfortunate soul that ventures onto the channel. ALl of these that crazy, idiotic, conservitive, bible thumping, Fred Phelps lover Pat Robertson does daily. I am all for free speech, but since when does that cover a guy who pretty much says that if you venture off his ideal way of life you are right away sent to hell? This is just a perfect example of why religion is the cause of SOOOO many problems. One day in my class room we had a substitute teacher in so we decided to watch some TV since the teach didn't give us any work. And we (against many of us's will) watched 700's Club, and of course that jerk Pat was on ranting and raving about the bible, and he said Simon along the lines of \\\"God says Homosexuality is a sin\\\" and I actually heard a kid go \\\"Hmm I guess he's right.\\\" WTF??? Seriously, if the host is trying to make people think that someone else's sexual orientation is a huge sin, then they seriously need to take that host, duct tape them, and throw them off of a cruise liner in the middle of the arctic.\"\n",
      "* * * * * * * * * \n",
      "682\n",
      "And, finally, old, old Michael Corleone falls over and goes 'THUMP!' Who REALLY did the writing for this last installment of the Godfather saga? Probably the same staff who does \\As the World Turns.\\\" This flick doesn't deserve the title \\\"Godfather\\\" at all. Let's call this one \\\"The Cosas of Our Nostras\\\" or \\\"All My Capos\\\". As someone who's encountered a number of Mafia people in my business life, I can say without exception, that I've never met any mobster as inwardly-conflicted and contemplative as Michael Corleone. Let's face it, these guys are in the Mafia solely because they're greedy, nothing more. In this film, Don Corleone spends lots of time pondering his past deeds and his bleak future, perhaps even the Afterlife, then recovers remarkably fast in order to pull off some fantastic business deal or order the death of this one or that one like the big time operator he is, deep down. Then, there's his failed marriage. After the break-up scenes in G2, we may hope that Michael & Kay will reunite as man and wife, but here they seem to just become very good, platonic friends who can laugh & cry & share intimate thoughts about their lives. It's as if the screenwriters try to make Michael into a woman. It's bizarre behavior for two people who shared the passion of the marriage bed for 9 years. There's some miscasting here and there, or perhaps they're sins of authorship. Poor, old-country-beautiful Sophia Coppola is saddled with a hopeless role, with too many short lines in the film that don't fit what a young woman would say in casual conversations - was given \\\"remarks\\\" rather than \\\"lines\\\" to emote. Her 'passionate' lovemaking scene with Andy Garcia looks like something from a bad teen sex comedy as they chew their open-mouthed kisses and fondle each others backsides on the kitchen drainboard like marionettes...scullery sex was brought off wonderfully by Glenn Close and Michael Douglas, but it's just laughable here. Then, there's Andy's character, Vinnie Mancini, who's also given a difficult & thankless role to play. He's expected, I guess, to be the new, new Don Corleone, but he's almost handed the job on a silver platter and has to do little to strengthen his position, unlike Michael's simultaneous hits on all 5 Families in G1. This hand-me-down process may be an authentic way of transferring power in a Mafia Family, but why is so much made of this boring routine? Certainly, Don Vincent may earn the respect of his fellow gangsters someday, but there's little character revelations in the script to give us a portrait of this young man, sadly. Puzo did such a fine job of quickly & concisely developing Michael's character in G1. But, G3 has no economy in it's story-telling and we suffer through drawn out expositories until we just want to take a snooze. Thirdly, George Hamilton was also handed a thankless task, in taking over as family lawyer after Robt Duvall reportedly turned down a 3rd installment as Tom Hagen. George wisely underplayed his role, so it came off without damage to the actor. The development of Connie Corleone's character is interesting, but it goes too far when she takes murderous matters into her own hands (she could well end up sleeping with the Fredos, if this were the real world). But, it's not all bad. The assassination scene in the hotel penthouse is nifty! Also, \\\"they keep pulling me back in\\\" or words to that effect is a great line. And, we recover some old-country feel as we get to go back to Sicily, even if it's all done in 1989 and they've got modern cars & haircuts. The plot lines involving the corrupt hierarchy of the Catholic Church are pretty interesting, since it's based on some actual financial shenanigans at Banco Vaticani in the 1980's, but it's brought too far, again, with the too-spectacular death scenes, etc. The Grand Opera scenes are very dramatic and well photographed. But, the death scene of Mary toward the end is an unbalanced attempt of emotional-manipulation, at best. All screenwriters need to learn that we don't always need more and more death in order to bring a mafia movie to a successful conclusion. You feel sorry for Kay that her daughter is dead, she plays her grief so well, but Michael's reaction is hammy, hammy, hammy. Then, Michael dies sometime in the 21st Century, in Sicily, alone on a grand estate, of heart-failure...no grandson to play with before his demise, no wife to grieve for him. What SHOULD have happened in the last 1/2 of this movie is Michael being tracked down by someone like Rudy Guilliani, put on trial, all his dirty family's sleazy little enterprises and bloodthirsty indulgences brought into the light of day, Michael then convicted under RICO statutes and sent to Federal Prison for life...then he can keel over dead from heart-failure while mopping a floor IN LEAVENWORTH. That's how mafia dons were ending their careers in the late 80's and early 90's and they got much better treatment than what they deserved.\"\n",
      "* * * * * * * * * \n",
      "716\n",
      "Besides being boring, the scenes were oppressive and dark. The movie tried to portray some kind of moral, but fell flat with its message. What were the redeeming qualities?? On top of that, I don't think it could make librarians look any more unglamorous than it did.\n",
      "* * * * * * * * * \n",
      "1066\n",
      "Being the only movie I was able to see at this year's \\Nordische Filmtage\\\" at Lübeck, this year's festival will be remembered as a all-time low for me.<br /><br />This movie, which was announced as an erotic thriller, is nothing more than a sick piece of crap! Excuse the language, but there aren't any decent words to describe it.<br /><br />First of all, the actors are not the best. But even better actors would not have rescued the movie. E.g. the plot: after the first 15 minutes it was quite clear that John was sick, the neighbour girls were not real and that he killed his first girlfriend. The so called \\\"sex-scene\\\" was nothing else but disgusting (hitting each other until blood flows for me hasn't anything to do with sexuality), but unfortunately that were not the only disgusting images to be shown. Everything else was copied by other directors like e.g. Lynch, but of course without their geniality.<br /><br />So, to summarize the whole film and to save other viewers time and money: guy loses girlfriend, girlfriend turns back home, guy kills girlfriend and becomes mad afterwards, guy imagines hot, but crazy neighbour girls, guy has very disgusting sex with one of them (or so he thinks), in the end he realizes, he is crazy and his girlfriend and her new lover lay in his apartment all the time... bad story, bad actors, pictures, that make you want to vomit...<br /><br />1 out of 10 (1 point for the fact, that you realize how good you can understand Norwegian if you learned Swedish - at least one benefit of the evening - and you can't choose 0 points here).\"\n",
      "* * * * * * * * * \n",
      "1146\n",
      "This film is a Pia Zadora special! When viewing it, I was reminded of the classic cartoon showing a Hollywood starlet; in urgent need of another role but afraid of becoming typecast for 'B' movie or soft porn roles; who says at her casting session \\Well of course I do not normally do roles requiring nudity, but if it is artistically necessary for the film...............\\\". This recollection brought up a very naughty image of a similar cartoon showing Pia at such a session saying \\\"Well of course I do not normally take any roles requiring actual acting, but if it will really give me sufficient exposure to enhance my status as a sex symbol..................\\\". This is probably grossly unfair, the rather sordid tale is the fault of Harold Robbins book; considering the nature of the story Pia's exposures certainly do not receive undue attention, and perhaps Pia (who once won an acting award in Butterfly) is deliberately satirising her part rather than attempting to act in an almost unplayable role. Critics usually point first to the actors as the problem whenever a film proves disappointing, but this is grossly unfair; the scriptwriters and director are far more often the guilty parties. The real problem with \\\"The Lonely Lady\\\" is that the screenplay, like the original book, looks for sensation rather than substance, and nothing can help with this. <br /><br />     The screenplay for this film is abysmal, but whether the story could have been filmed more successfully with a better script, tauter directing and really competent acting must remain a matter of personal judgement. As it was released, my viewers rating for it would depend upon whether I am assessing my personal opinion, or assessing to what extent the film succeeds in providing what it aims at doing. My personal rating for it would be two out of ten; but to some extent this film probably provides exactly what its sponsors intended, and judged on this basis a quality rating of four out of ten would be reasonable. Being in a charitable mood, and wanting to make it clear that I am not blaming Pia for my disappointment, I will give an IMDb rating of four.\"\n",
      "* * * * * * * * * \n",
      "1318\n",
      "\\Valentine\\\" is another horror movie to add to the stalk and slash movie list (think \\\"Halloween\\\", \\\"Friday the 13th\\\", \\\"Scream\\\", and \\\"I Know What You Did Last Summer\\\"). It certainly isn't as good as those movies that I have listed about, but it's better than most of the ripoffs that came out after the first \\\"Friday the 13th\\\" film. One of those films was the 1981 Canadian made \\\"My Bloody Valentine\\\", which I hated alot. \\\"Valentine\\\" is a better film than that one, but it's not saying much. The plot: a nerdy young boy is teased and pranked by a couple of his classmates at the beginning of the film. Then the film moves years later when those classmates are all grown up, then they're picked off one-by-one. The killer is presumed to be the young boy now all grown up looking for revenge. But is it him? Or could it be somebody else? \\\"Valentine\\\" has an attractive cast which includes Denise Richards, David Boreanaz, Marley Shelton, Jessica Capshaw, and Katherine Heigl. They do what they can with the material they've got, but a lackluster script doesn't really do them any justice. There are some scary moments throughout, however. <br /><br />** (out of four)\"\n",
      "* * * * * * * * * \n",
      "1381\n",
      "No doubt, when Madonna and Guy Ritchie married, it was because they both thought it would help their movie careers. If you've been through the ordeal of watching \\Swept Away,\\\" then you know at that level it was a match made in hell. After nearly 20 years of trying to become a respected actress (or \\\"octress\\\" as she might have pronounced it in \\\"The Next Best Thing\\\"), she still can't get out of herself long enough to turn in a performance that anyone with taste could even call decent. And that's the thing that makes people dislike her so much on the screen: that gut feeling that her ego is so inflated that it prevents her from being able to just let go and connect with her audience. If there's any justice in this universe, she just blew her last chance.\"\n",
      "* * * * * * * * * \n",
      "1461\n",
      "Is there anything that happens in this movie that is NOT predictable? I think not. Basically the movie is cliché after cliché and really nothing ever comes as a surprise. It makes the movie extremely predictable and because of that the movie is also seriously lacking in tension. So for a thriller it is not tense and unpredictable enough but also as a drama it's a failure. This is because the movie its story is highly unlikely. I mean, no way this could ever happen in real life, as in the same way as the events occur in this movie. So the movie has a real suspense and credibility problem.<br /><br />But it truly are the clichés that killed the movie. It was cringing stuff at times. Everything is so formulaic in this movie. The predator is portrayed as a cool heartless, almost psychopath like sexual frustrated boy and the victim as a naive young woman, who acts like she didn't see any of this coming. Everything that happened in the movie was so obvious and all seemed to happen for a reason. Such as the sequence in which the 'predator' fixes the 'victims' broken car. That has got to be one of the oldest clichés out of the book. I knew what the movie tried to achieve after that point. I tried to look as if the teacher and the student were really growing toward each other trough the eyes of the other persons around them. It was so incredibly obvious and cheap that I almost wanted to stop watching the movie after that point. The movie is filled with moments like these.<br /><br />The title might suggest that this is a cheap porn movie but this in fact is a sappy made for TV movie. Which means that everything is slowly happening and the movie spends halve its time on character development and unnecessary sub-plots to make the movie even more drama like.<br /><br />I'll admit that Elizabeth Berkley is pretty good acting in this movie. She makes some of the clichés and events look even almost realistic at times. Her Hollywood career is as good as over after appearing in the Paul Verhoeven movie \\Showgirls\\\", so unfortunately she will probably only still appear in movies- and television series like this one. It's a waste of her talent and she surely deserves better. All of the other characters are a disappointment. Corey Sevier plays the cliché pretty 'untouchable' rich boy and the way the husband of the main character is portrayed is even worse. He looks more like a sexual frustrated predator than the true predator of the movie. He basically tries to have sex with his wife in every sequence. He wakes up, he wants sex. Before he goes to sleep, he wants sex. He gets home, he wants sex. It might be a realistic thing but I don't know, it just didn't feel right for a movie like this one and the story in general.<br /><br />A cliché filled movie and I can't think of any reason why anyone should ever watch this movie. It's predictable and therefor also lacks in suspense and credibility. Not an 'horrible' movie and it certainly is a watchable one at times but all the weak and cliché elements in the movie also make this far from a recommendable one.<br /><br />4/10\"\n",
      "* * * * * * * * * \n",
      "1527\n",
      "This is the kind of movie that my enemies content I watch all the time, but it's not bloody true. I only watch it once in a while to make sure that it's as bad as I first thought it was.<br /><br />Some kind of mobsters hijack a Boeing 747. (That, at least, is an improvement over having Boeing hijack a good part of the Pentagon.) The airplane goes down in the Bermuda triangle and sinks pressurized to the bottoms, a kind of post-facto submarine.<br /><br />It has one of those all-star casts, the stars either falling or barely above the horizon.<br /><br />\\We're on our own!\\\", says pilot Jack Lemon. He is so right. Except for George Kennedy. He's in all these disaster movies.<br /><br />Watch another movie instead. Oh, not \\\"Airport\\\" the original. That's no good either. Instead, watch a decent flick about stuck airplanes like \\\"Flight of the Phoenix.\\\"\"\n",
      "* * * * * * * * * \n",
      "1537\n",
      "I watched this on the tube last night. The actor's involved first caught my attention. The first scenes were attention getters. Some funny some sad. Good character development. I felt that the latter third of the film diverged. If it was not for the early part of the movie I would have stopped watching. I kept watching wanting to how how it tied together.<br /><br />Unfortunately I feel that it never happened. I especially did not like the extend period that several of the character were talking yiddish (?). Was that the other shoe?<br /><br />Would I recommend? No, I think not. As other reviewers mention much of the slang is dated (60's jive) but it was not too distracting. The ending totally turned me off.\n",
      "* * * * * * * * * \n",
      "1714\n",
      "I really have no idea how to comment on this movie. The special effects were lackluster, the acting was terrible and if there was a plot to it all, it was on the back of the box. I don't think I can remember a movie being THIS bad in a long time, and I'm a big fan of lesbian sex and boobies!! ;) Even that couldn't save this movie from being just a terrible excuse to pay someone to stand (or lay in this case) in front of a camera.<br /><br />I was pretty much let down by the overall \\zombie\\\" effect. Since apparently in this movie, zombies are so commonplace that running over a couple here and there, and casually talking about it at a gas station (one with an in-house windshield repair but no interior bathroom), the zombie-movie genre isn't even a factor until the end. Even then, a cameo by a dozen zombies ripping off a girl's clothes doesn't really constitute being a zombie movie.<br /><br />On to the vampires: Apparently all the zombies are male and all the vampires are female, which is OK by me. I'm not sure how vampires are out in the daylight, or the why/how of a soldier vampire came to be standing in the middle of the road, still holding his gun with a stake through his heart, just waiting for the Queen of the Vampires to flick it all the way through. The last segment in the old nunnery made no sense, and when one hot lesbian vampire asks the other hot lesbian vampire \\\"Do you think we did the right thing?\\\" by killing the two apparent heroes in the movie, that about put it over the top.<br /><br />The acting and special effects were at an all-time low also. You could almost see the hoses that the fake blood was pumped out of during the closeup of the zombie who got ran over by the General. Speaking of the General, where did they find THIS Kenny Rogers look-alike anyways? No idea what he was the General of, aside of generally confusing and misplaced.<br /><br />All in all, watch the movie if you have nothing better to do or if you have the strong urge to waste $3. Just my $0.02.\"\n",
      "* * * * * * * * * \n",
      "1832\n",
      "The concept was ok but hardly original. The acting was plastic. But the real spoiler was that there was only one joke and a grubby one at that. This is a film for fourteen year olds who have been let out on their own for the first time. Don't dare to watch it with your kids.\n",
      "* * * * * * * * * \n",
      "1912\n",
      "Is it a remake og the Thing (1982/1951), i think it is, there are so many factors from det previous movies do deny it.<br /><br />So the acting is bad, James Spader does a superlow stargate re-enactment of himself, with his coffy mug and his somwhat strange thinking/movements but that's about it, the other actors i did't even notise. You don't get the feeling of getting to know anyone of the main characters. And the plot evolvement is slow, boring and, yah i know what is about to happend in 30mins. Score/music is ultraboring, imean there are alot of ubertallented people out there that would make scores for a coke and a credit, but this is major crap. Some of the special effects are nice, if it was made in early 90's. If you like Slimy Aliens, chills and thrills, don't whatch this movie. its a dull combination of the Thing, Alien 3, Outbreak and some Jerry Bruckheimer/Michael Bay production gone really really bad. Now this combination would be cool if somone knew what they where doing, and the only ones on this production that knew that was, no one.<br /><br />Though i have seen far worse, i would not recomend this movie to anyone, but if you are up one cold night, and just wanna glanse at something, it will pass the time, slowly.\n",
      "* * * * * * * * * \n",
      "1920\n",
      "80 minutes, and it felt twice that long! Brief Crossing is not brief enough. Indeed, the first 50 minutes or so consist almost entirely of a dialogue (more of a monologue, really) of a woman approaching middle age, tediously droning about \\men,\\\" disappointment, sex, aging, and her recent breakup, to a French teenager she met in the ship's cafeteria.<br /><br />The tedious monologue continues as they go to duty-free shop, and to a bar, where finally her self-involved rant pushes him away. The \\\"story\\\" can't end there, of course, so she persuades him to listen to her drone on more as she brings him to her cabin.<br /><br />What little romance, sex, or for that matter, anything at all this film has besides bitter rantings is hardly enough to justify the price of a rental unless you are one of those who love dramas where nothing interesting happens at all. Yes, the ending is very nicely done, but it is scant reward to subject yourself to what amounts to a turning your living room into a virtual therapy session with a narcissistic whiner.<br /><br />Of course, some people like it. I could be wrong.\"\n",
      "* * * * * * * * * \n",
      "1949\n",
      "This sorry excuse for a film reminded me a great deal of what I heard about \\Gigli\\\", that Ben and Jen flop earlier this Summer. \\\"The Order\\\" was clearly edited to such an unconscionable degree that the scenes, rather than forming a cohesive and provoking film, appeared to be a collection of disconnected sequences that did little to forward any semblance of a unified plot. Now, I'm a Heath Ledger fan (\\\"10 Things I hate About You\\\", \\\"A Knight's Tale\\\" and particularly his supporting role in \\\"Monster's Ball\\\"), but my man needs to find himself a better agent. Keep accepting scripts like \\\"The Order\\\" and \\\"Four Feathers\\\" and he's going to be on the fast track to movie oblivion.<br /><br />Here are the problems I had with the film. Firstly, the Director tried to make up for the inadequacies of his essential plot by introducing two other plot lines that seemingly had little if anything to do with, well, much of anything. Plot skeins involving the American trying to take over the Vatican and the Dark Pope, while mildly interesting, did nothing to reveal to the viewer anything about the main characters. The attempts to tie these threads together were pathetic at best. Secondly, please don't insult the intelligence of the viewer by inserting into the film scenes that are clearly obligatory. We had manufactured angst, manufactured love and most idiotically manufactured sex that seemed like a page right out of \\\"Matrix Reloaded\\\" with skull-numbing techno music. Rather than developing character, these elements seemed like the cheap devices they clearly were, a half-hearted attempt at putting popcorn-chewing adolescents in the seats. Thirdly, and most importantly, this movie seemed to ha ve an intriguing concept. We have scandal, we have religion and we have supernatural forces at play. Why then do we learn almost nothing about anyone's background? We learn a little about Alex, but even he gives up the passion of the priesthood to sleep with a woman after two days, a woman who tried to kill him during an exorcism at some point in the past. And Alex is the most developed, if you can call it that, character in the entire film.<br /><br />As the cliche goes nowadays, if you're going to see one movie this year, make sure it's not this one. There's about ten interesting minutes out of the intolerable 101 minute affair. The only thing that saved me was going with a girl who I'm rather fond of.<br /><br />1 out of 10. I'm disappointed. File this one firmly under -had potential but blew it on over editing and bad directing-. Heath my man, go back to Monster's Ball-like cameos. They really suit you.\"\n",
      "* * * * * * * * * \n",
      "1961\n",
      "A stuttering plot, uninteresting characters and sub-par (to say the least) dialogue plagues this TV production that could hardly have been interesting even with a billion dollar production budget.<br /><br />The characters aren't believable, in their motives, actions or their professed occupations. The plot reads like a bad Dungeons and Dragons(TM) hack but with plasma rifles and force fields. There are severe continuity issues and the degree of pointless interaction between the characters has this author, at least, wincing. <br /><br />Avoid it like the plague. Watch any episode of Dark Angel and you will have better acting, dialogue and plot. Yuck.\n",
      "* * * * * * * * * \n",
      "2220\n",
      "I have a 5 minute rule (sometimes I'll leave leway for 10). If a movie is not good in the first 5 or 10 minutes it's probably not going to ever get better. I have yet to experience any movie that has proved to contest this theory. Dan in Real Life is definitely no exception. I was watching this turkey and thought; wow, this is not funny, not touching, not sad, and I don't like any of the characters at all.<br /><br />The story of an advice columnist/widower raising three young daughters, who falls in love with his brothers girlfriend. I suppose the tagline would be \\advice columnist who could USE advice\\\"? I don't know. Dans character in no way struck me as someone qualified to give advice. I guess THAT'S the irony? I don't know. He goes to see his parents, brothers, sisters and their kids at some sort of anual family retreat, which seems very sweet, and potential fodder for good comedy, story lines...none which ever emerge. The central story is basically how he loves this woman, but can't have her. Anyone with a pulse will realise that eventually he WILL get her, but you have to suffer through painfully unfunny, trite, lifetime movie network dialogue \\\"murderer of love\\\" to get to the inevitable happy ending.<br /><br />This is truly one of the worst movies I've ever seen.\"\n",
      "* * * * * * * * * \n",
      "2228\n",
      "An awful film! It must have been up against some real stinkers to be nominated for the Golden Globe. They've taken the story of the first famous female Renaissance painter and mangled it beyond recognition. My complaint is not that they've taken liberties with the facts; if the story were good, that would perfectly fine. But it's simply bizarre -- by all accounts the true story of this artist would have made for a far better film, so why did they come up with this dishwater-dull script? I suppose there weren't enough naked people in the factual version. It's hurriedly capped off in the end with a summary of the artist's life -- we could have saved ourselves a couple of hours if they'd favored the rest of the film with same brevity.\n",
      "* * * * * * * * * \n",
      "2346\n",
      "Offering a killer combo of terrible writing, terrible acting and terrible direction, it's a tossup whether Kinjite: Forbidden Subjects is offensively bad or just hilariously bad. It's almost as if someone ran a competition to make the sleaziest, seediest Cannon film. As if a glance at a cast list including characters like 'Lesbian Pedophile,' 'Perverted Gentleman,' 'Porno Actress' weren't enough, it's your only chance to see Charles Bronson's cop throw a lowlife on a bed and grab a dildo - but don't worry, it's okay, as the offscreen screams make clear he's only torturing him for information. After all, even if he is a bit overprotective of his nice Catholic daughter, he's a nice Catholic cop who regularly brings local Catholic priest William O'Connell a packed lunch and who believes in poetic justice - or at least ensuring that the bad guys end up in the slammer with the horniest inmates maximum security can provide to give them a taste of their own medicine. But then that's what you get for telling him \\Look, I think you're a little bit unstable.\\\" Still, when later offered a bribe, he may snarl \\\"I'd like to shove this up your ass, but I don't want to get my hands dirty,\\\" he's clearly learned where to draw the line: instead, he just makes him eat a $25,000 watch and sets fire to his Cadillac. The anal obsession even follows through to the film's title: despite the poster featuring a naked Japanese girl on a porn film set, the film's only direct example of Kinjite/forbidden subjects, as Alex Hyde White's English teacher explains to a group of Japanese businessmen, is, er talking about your bowel movements in polite society.<br /><br />Bronson isn't just too old for this, as the opening fight makes only too clear, he's too old for love interest Peggy Lipton, and she looks old enough to have grown-up kids. A better actor than he ever got the credit for when given the right material, here's he's given less a properly thought out character than a series of outrageous reactionary quirks. When he's not widening the circles of suspects he's accidentally dropping them to their death off the sides of buildings. He's definitely not a P.C. copper, with a special loathing for the Japanese - as if it wasn't bad enough that they're buying up American businesses, what's worse, they double-park on a public thoroughfare! No racial minority goes unassaulted, be they black pimp or Pakistani hotel clerk, no cop cliché unrecycled, be it a boss who bangs his fist on the table or a dead meat partner (Perry Lopez and his spectacularly bad hair dye that's so prominent it deserves screen billing all its own). The twin plot strands - Bronson's L.A. cop trying to take down Juan Hernandez's pimp who deals in underage girls and James Pax's porn-obsessed Japanese businessman  take forever to intertwine, and then in the most unlikely of ways: after copping a feel of Bronson's daughter on a bus (\\\"Some Oriental guy touched my holy of holies!\\\"), in the film's idea of poetic justice Pax finds his own daughter kidnapped by Hernandez. You half expect the writer to pop his head round the corner of the screen and say, \\\"How d'ya like them apples?\\\"<br /><br />Somewhere underneath all the laziness is the germ of a good idea even if it is too muddily developed to ever be clear quite what that idea really is, but the execution is pure Rising Sun: the Archie Bunker Version, shot like out-takes from an R-rated 80s music video with an outrageous and rather lazy dockside shoot-'em-up-and-blow'em-up finale that sees a small army of machine-gunning sidekicks suddenly appear to up the gratuitous body count. The last of Bronson's mostly bad to in different collaborations with J. Lee Thompson  and sadly Thompson's last film as director - it's a poor signoff for two undervalued players who increasingly never seemed to be that discerning about what pictures they said yes to.\"\n",
      "* * * * * * * * * \n",
      "2352\n",
      "T.Z. Post, college professor, receives a false letter stating he inherited $750,000. Now with financial means, he withdraws his life savings of $4,000, and decides to finally going out & live. After having his baggage sent on a train to Chicago, he meets a traveling vaudeville troupe, and decides there good enough for him to put on a show on Broadway. The night of the show, poor Prof. Post has to hide from his creditors, settle the relationship woes between girlfriend Pansy and & floozy diva Eleanor, and still make sure the show must go on. After watching many of Keaton's silent gems, this one is a pain to sit through, but I felt, it could have been a lot worse. Supporting cast Durante, Todd, & Selwyn come off very annoying at times, but still likeable. A pre-Charlie Chan Toler is good as the frustrated show director. 90% of the script is badly written as MGM is trying to pass this off as a poor man's Marx Bros. film where many of the sight gags fall flat from the beginning. Compiled with Keaton's drinking problems at the time, this movie just is a sad moment in Buster's life. Rating- 3.\n",
      "* * * * * * * * * \n",
      "2434\n",
      "I only watched this movie because I was so impressed with Olivier Martinez in SWAT. But this is no SWAT. SWAT had a plot and some likable characters and made sense. Bullfighter had none of these. <br /><br />I should have realized that it couldn't possibly be any good, after all, the always painfully bad Michelle Forbes had a starring role.<br /><br />One poster here called the movie incoherent. Another called it the worst movie ever. Both gave the movie far too much credit. I am so glad I got it from the library for free, yet I still feel ripped off.<br /><br />IMDb needs to include a \\0\\\" in the \\\"rate this film\\\" vote, just for movies like this one.\"\n",
      "* * * * * * * * * \n",
      "2436\n",
      "My wife and I rented this movie because some people had drawn parallels between it and \\Office Space\\\". Blockbuster and IMDB even had it as an \\\"also recommended\\\" selection if you liked \\\"Office Space\\\".<br /><br />Now, I've seen Office Space probably 15 or 20 times. I love it. It's probably one of my 10 favorite movies. Witty, humorous, and featuring characters that remind me of people I've worked with over the years. \\\"Haiku Tunnel\\\" is similar to \\\"office Space\\\" in that they are both films. That's where the similarity ends. We sat through probably the first 50 minutes of HT, giving it the benefit of the doubt, hoping, nay, *praying* that it would get better. It didn't. We couldn't take it any more, and stopped the tape. Thank GOD it was a free rental. I'd have been p***ed if we'd actually paid for it. We should be reimbursed for having to sit through it. Now, since we didn't see the end, perhaps it miraculously comes together and redeems itself. I doubt it.<br /><br />Haiku Tunnel is so bad it's hard to believe it ever got produced. The movie is SO unfunny it's painful. Just mail the friggin letters already!!! The premise is asinine. The jokes are awful. We got as far as the \\\"printer doesn't work\\\" scene and had to stop. We couldn't take it anymore. This film is an EMBARRASMENT for Josh Kornbluth.<br /><br />If you are a fan of Office Space......don't waste your time with this turd. 0/10\"\n",
      "* * * * * * * * * \n",
      "2438\n",
      "Not even Goebbels could have pulled off a propaganda stunt like what Gore has done with this complete piece of fiction. This is a study in how numbers and statistics can be spun to say whatever you have predetermined them to say. The \\scientists\\\" Gore says have signed onto the validity of global warming include social workers, psychologists and psychiatrists. Would you say a meteorologist is an expert in neuro-surgery? The field research and data analysis geologists are involved in do not support Gores alarmist claims of global warming. As one of those geologists working in the field for the last 40 years I have not seen any evidence to support global warming. My analysis of this movie and Gores actions over the last couple years brings me to the conclusion that global warming is his way of staying important and relevant. No more, no less. Ask any global warming alarmist or \\\"journalist\\\" one simple question- You say global warming is a major problem. Tell me. What temperature is the Earth supposed to be?\"\n",
      "* * * * * * * * * \n",
      "2475\n",
      "There are many good things about the new BSG: There's the multiple Cylon roles for Model 8 and 6, for example, which the two actresses played superbly. There's the old school feel of industrial design aboard Galactica (\\My ship will not be networked, over my dead body!\\\") Also, all the space battles, the special effects (even though the seasoned sci-fi watcher will acknowledge the cartoonishness of it all) The darkness of the characters, their essentially flawed nature.<br /><br />That makes it all the more bitter that the ending was so childish.<br /><br />Yes, the first part, the scenes in space, the raid on the Cylons and all that was very good. But the mushy ending? I always watch films and shows these days with the timer hidden, so I never know how much time is left until the end. So for me it was a special kind of torture, to see the end happen over and over again. Every time I thought, oh this is the final scene, the final shot, I got one more. Every frakking character got its complete ending! That wasn't really necessary.<br /><br />What really highlighted the schoolboy amateurishness of it all: The young Roslin scenes. Why is important for us to know that: {a} she lost her sisters and father in a horrible accident and {b} that she has a one night stand with a former pupil/student? What does that bring to the story? Where was the linkage? Now, I'm all for a more European-ish style approach, and a random acts of whateverness in films and shows, and all that, but this was just ridiculous. This didn't bring anything meaningful to the story.<br /><br />Also, I've seen the \\\"Last Frakkin special\\\" and in it Ron revealed his own cluelessness about the plot: he couldn't come up with a good ending for the story, so .... he just didn't! It's never as much about the characters as they made the last episode to be. The whole \\\"this was thousands of years in the past\\\" idea, the mitochondrial Eve thing, was also used in the Hitchhikers Guide to the Galaxy, and believe you me, there are a lot of BSG watchers who know that particular H2G2 storyline. And speaking of Hera, now there's a storyline that WAS NOT worked out well, AT ALL. Instead we get Roslin is doing her former pupil who's 20 years younger. Don't get me wrong, I'm all for older women with younger men. The more power to them. But this ... just made no sense.<br /><br />All in all, (the writing in) this series is as flawed as they intended its characters would be. That goes even moreso for the last episode. I hope Lost and 24 do better, with their series finales.\"\n",
      "* * * * * * * * * \n",
      "2491\n",
      "this one of the best celebrity's reality shows a ever saw. we can see the concerts we can see the life of Britney, i love the five episodes. i was always being surprised by Britney and the subjects of the show i think that some people don't watch the show at all we can how a great person she his. she his really funny really gentle and she loves her fans and we can see how she loves her work. i just don't give a 10 because of k-fed he his a real jerk he doesn't seem to like Britney at all. I they make a second season of this great show because it shows at some people how Britney really is. Go Britney your the best and you will never leave our hearts.\n",
      "* * * * * * * * * \n",
      "2537\n",
      "Kurt Russell (as Steven Post) works as a mail-boy for struggling TV station UBC (that's United Broadcasting Corporation); he is going nowhere at work, offering ridiculous projects like \\Abraham Lincoln's Doctor's Dog\\\" to studio executives - because Lincoln, doctors, and dogs are popular. Programming director Joe Flynn (as Francis X. Wilbanks) wisely rejects Mr. Russell's proposals, but has no idea how to pick a hit TV show. His secretary Heather North (as Jennifer Scott), who does double duty as Russell's girlfriend, has a chimpanzee who bugs the heck out of Russell when he wants to watch TV. Turns out, the monkey watches all the popular shows, and can easily pick the hits. Russell discovers the chimp's talent, and uses him to advance his own career. Understandably, things gets HAIRY for Russell and the cast!<br /><br />Raffles the chimp (handled by Frank Lamping) performs well; Raffles does look bored and/or distracted during a few scenes, when the chimp is supposed to look interested; these could have been corrected with re-takes or editing. A mild satirical edge is present - imagine a monkey picking hit TV shows! AND, it's a monkey who gets a BEER during the commercials (drinking in a Disney film)! A look through the cast will reveal s bunch of fun TV actors to recognize and try to place. You could make a drinking game, in honor of Raffles' beer-guzzling, by guessing actors, and where you've seen them before. Here's a start - Hey, isn't that \\\"Dr. Bellows\\\" from \\\"I Dream of Jeannie\\\"? Down the hatch! <br /><br />**** The Barefoot Executive (1971) Robert Butler ~ Kurt Russell, Joe Flynn, John Ritter\"\n",
      "* * * * * * * * * \n",
      "2942\n",
      "A film like Amazing Grace and Chuck is a perfect example of how the left in this country just doesn't get it. They never did. And liberalism continues to slip further and further into political oblivion.<br /><br />This film deals with a little league baseball star who decides to stop playing ball as a protest to the existence of nuclear weapons. The boy is understandably ridiculed until a bevy of professional athletes, led by former NBA star Alex English, join his cause. Not just a few of them join the cause. By the time his movement reaches its zenith, entire leagues of professional and college sports have to cancel their seasons since nobody will play any more. Just to move this review along, I'm prepared to grant them this premise. Even though it would never happen in a million years, I'll just imagine it could, then go from there.<br /><br />I don't quite remember how, but some type of agreement is reached, and the boy decides to go back to the game he loves in an incredibly sappy and ridiculous scene.<br /><br />Before criticizing the message of this film, let me just say that this film is poorly written, acted and directed. Even if one does agree with the boy's stance, it would be impossible to overcome how badly the film was constructed. And that's a shame since there are plenty of good actors that go to waste. (Peck, Curtis, Petersen). Alex English does as well as he could have with his character however, and I wish he would try to act in more films. Alas, it's likely much easier to find work in the coaching world of the NBA. One wishes Mr. English would teach more of these thuggish NBA types of today how to shoot the rock a little better. Alex certainly knew how to put the ball through the hoop.<br /><br />As far as the film's message in concerned, it's just wrong-headed. Plain and simple. All of those nuclear warheads tucked away in those missile silos out west PREVENTED WAR!!!!! It would be one thing for this boy and his flock to protest an actual war or the USE of nuclear weapons. These weapons were in fact never used, and that was the genius behind their existence. Neither side during the cold war was crazy enough to fire a single missile. Without these weapons, who knows what might have happened between the USA and USSR.<br /><br />The makers of this film obviously intended for kids in America to take up their cause and follow in Chuck's footsteps. Kids in America however are more intelligent than the left wing kooks who created this dreck. <br /><br />The film is worth only 2 of 10 stars.<br /><br />If you want to see a great film about the dangers of nuclear war, stick with Dr. Strangelove, instead.<br /><br />Mr. Newell, you are no Frank Capra!\n",
      "* * * * * * * * * \n",
      "3000\n",
      "I don't know what the Oscar voters saw in this movie, but they must of seen some pretty hard stuff to see in it to be able to award it with the best picture Oscar. All I know is that fortunately there was Gene Kelly to play in it or this would have been twice as bad as I believe it is. First of all, I don't think Leslie Caron was really fit to play such a role. She isn't that talented, she isn't a great dancer and she's not good looking at all. It's a shame that one actor or actress may ruin a movie just like by playing in it because if Leslie Caron hadn't been in this, it might have made a terrific movie. The story was intelligent, the directing wasn't bad, and, as I said, Gene Kelly was pretty good. Now I'm not saying all this stuff about Leslie Caron just to criticize her, I'm just saying it because I think that's what the worse part of the movie is. She's probably a good actress but I can't tell because I haven't seen her in anything else but I think she was pretty bad in \\An American in Paris\\\". So if you want to see it, go ahead but I'm telling you, you're way better off watching \\\"Singin' in the rain\\\".\"\n",
      "* * * * * * * * * \n",
      "3292\n",
      "Bottom of the barrel, unimaginative, and practically unwatchable remake of THE ROAD WARRIOR. This film follows the exact plot as the Filipino film STRYKER and is worse by far! Bad acting, dialog, effects, dubbing, pacing, action sequences... The list goes on and on. Italy made literally dozens of Road Warrior rip-offs in the early 80's, some good, some bad. This is the worst by far, no contest. Not only was the mood of the film completely bleak and miserable, the experience of sitting through this one is a bore and a half. There was 1 (one) good chase sequence towards the beginning of the movie, and a cool shot of a man holding a hand grenade exploding. But EVERYTHING else about this movie seriously reeks! For actual post-nuke fun, go track down a copy of ENDGAME, AFTER THE FALL OF NEW YORK, or ESCAPE FROM THE BRONX instead. They're much more enjoyable than this rubbish.\n",
      "* * * * * * * * * \n",
      "3370\n",
      "Rock star John Norman Howard (Kris Kristofferson) turns lounge singer Esther Hoffman (Barbra Streisand) into an overnight singing star. Esther's star rises while John's goes into decline, thanks to drugs and alcohol. After about two hours, John does the self-destructive-red-converible-160-MPH-crack-up-on-a-desert-highway thing. The best thing about this movie is the music, especially the song, \\Evergreen.\\\" Barbra Streisand sings well, but you can't take her seriously as an up-and-coming star, when she is *already* a star. The very first time she appears, singing in a back alley bar, she looks like an established singing star who is slumming for the night, not like a struggling unknown who is trying to launch her singing career. She is too confident, too professional. Her apartment looks like a page out of \\\"Apartment Living,\\\" not some hole-in-the-wall apartment where a real struggling singer would live.<br /><br />Kris Kristofferson handles the self-centered, out-of-control rock star role like...well, like a singer who is trying to be an actor but doesn't have much acting talent. The direction is tepid, the story is slow and dull.<br /><br />But the worst thing about this movie is not the acting, or the lame direction, or the slow story. It's the hair! After staring at Kristofferson's and Streisand's awful 70's hairdos for 2+ hours, your eyes hurt.\"\n",
      "* * * * * * * * * \n",
      "3498\n",
      "The best thing about this movie was, uh, well, I can't think of anything. This was bad. The script was especially bad. The technical concepts were bad. The \\suspenseful\\\" plot was bad. The dialog was bad. Avoid at all costs. Do not rent. Do not watch. You'll be sorry.\"\n",
      "* * * * * * * * * \n",
      "3544\n",
      "This was the WORST movie I have ever seen! Molly (molly hall) could not act AT ALL! she had no emotion it was all blah blah blah like she was reading out of a boring text book. The smart kid and the kid who loves food (there names weren't worth remembering) were so annoying it drove me crazy.When ever the talked it was about some scientific thing or food. Mollys Dad didn't show enough emotion about his daughter missing. The police officer and Mollys dad said the same thing like four times. it was just horrible. Everything was repeated way to much. Beatrice should have had something bad happen to her for being so mean. I just wasted a moment in my life by watching this movie!\n",
      "* * * * * * * * * \n"
     ]
    },
    {
     "name": "stdout",
     "output_type": "stream",
     "text": [
      "3594\n",
      "Run away from this movie. Even by B-movie standards this movie is dreadful. It is also insidious in it's theme. The main theme is that people who reject society and have no respect for anything are cool and worth admiring. People who treat others with respect are losers. Guncrazy is a movie that speaks for the disenfranchised a lot better than this movie, see it instead.<br /><br />No normal kid would do what Trent does. State Troopers do not work as they do in this film etc. Seeing this movie makes you realize why writers use the hooker-with-a-heart-of-gold cliche. Mija is a completely unsympathetic hooker,who yes, has had a terrible life. However, she is such a terrible person the audience cannot identify with her.<br /><br />Usually there is one thing a movie can be recommended for, in this case there is none. It is such a ridiculous movie it insults the person who tries to identify with the main characters. The acting is adequate by B-movie standards and the direction presents nothing new or interesting.\n",
      "* * * * * * * * * \n",
      "3634\n",
      "First thing first . In this genre movie the first thing you need is a good music , and thats where Mr. shankar and his party fails.<br /><br />music is completely pale and uneffective. On other hand there is AJAY DEVGAN , WHO HAS REMOVED A LETTER 'A' from his spelling , done good job but was of no use to a bad casted movies like this.<br /><br />ASIN is like a doll which is used to amuse public, even though she is good to look at but her role in movie is to dance, actually she is dancing member of a rock band and i don't think any rock band have there dancer as a member of band.<br /><br />in nut shell this movie is a piece of crap a piece of ***t. watch it if you wanna get fooled.\n",
      "* * * * * * * * * \n",
      "3769\n",
      "THE KING MAKER will doubtless be a success in Thailand where the similar (but superior) 'The Legend of Suriyothai' set box office records. The film directed by Lek Kitaparaporn after a screenplay by Sean Casey based on historical fact in 1547 Siam has some amazingly beautiful visual elements but is disarmed by one of the corniest, pedestrian scripts and story development on film.<br /><br />The event the picture relates is the arrival of the Portuguese soldier of fortune Fernando de Gamma (Gary Stretch) whose vengeance for this father's murderer drives him to shipwrecked, captured and thrown into slavery and put on the bloc in Ayutthaya in the kingdom of Siam where he is purchased by the beautiful Maria (Cindy Burbridge) with the consent of her father Phillipe (John Rhys-Davies), a man with a name and a past that are revealed as the story progresses. There is a plot to overthrown the King and Fernando and his new Siamese sidekick Tong (Dom Hetrakul), after some gratuitous CGI enhanced choreographed martial arts silliness, are first rewarded by the King to become his bodyguards, only to be imprisoned together once Queen Sudachan (Yoe Hassadeevichit) reveals her plot to kill the king and son to allow her lover Lord Chakkraphat (Oliver Pupart) to take over the rule of Siam. Yet of course Fernando and Tong escape and are condemned to fight each other to save the lives of their families (Tong's wife and children and Fernando's now firm love affair with Maria) with the expected consequences.<br /><br />The acting (with the exception of John Rhys-Davies) is so weak that the film occasionally seems as though it were meant to be camp. The predominantly Thai cast struggle with the poorly written dialog, making us wish they had used their native Thai with subtitles. The musical score by Ian Livingstone sounds as though exhumed form old TV soap operas. But if it is visual splendor you're after there is plenty of that and that alone makes the movie worth watching. It is a film that has obvious high financial backing for all the special effects and masses of cast and sets and shows its good intentions. It is just the basics that are missing. Grady Harp\n",
      "* * * * * * * * * \n",
      "3788\n",
      "The mind boggles at exactly what about Universal Soldier merited a sequel. Since the real star, Dolph Lundgren, would not be able to reprise his role from the original, there is already scant reason to indulge oneself in this obvious tax write-off. Bold attempts are made to fill the gap with professional wrestler Bill Goldberg and martial arts expert Michael Jai White. To their credit, they give their action sequences a good sense of excitement. Bill Goldberg looks like he is having the time of his life on this film, and he makes a fair stab at filling the requisite comedic villain role. For once, his role is the kind that involves repeating the same line a few times, and it does not get irritating. The problem from the audience's point of view is that neither of these gentlemen really have the sense of comic timing or minor humility that makes Lundgren such a pleasure to watch in almost all of his films. And therein lies the problem. You do not go to see a Van Damme film because you want serious action. You go because you want comedy, however unintentional.<br /><br />Unbeknownst to many people, Universal Soldier was followed by two direct-to-video sequels. I have only seen the first, which had production values so bad one can only wonder if it was meant to be some kind of elaborate joke. Matt Battaglia was so terrible in the role of Luc Deveraux that for once in his career, the sight of Jean-Claude Van Damme comes as a welcome relief. The film more or less completely disregards the stories of the aforementioned direct-to-video sequels, and instead begins a whole new story set an indeterminate time after the events of the original. After years of investigation and explanation, the Unisol project is still going ahead, with some minor modifications. For one, the new Unisols are stronger and more damage-resistant than their earlier cousins. For another, all of the Unisols are now under the direction of a supercomputer called SETH. In the early parts of the film, SETH exists primarily as a series of abstract graphics within a glass dome.<br /><br />Being that the film barely lasts more than eighty minutes, we are quickly told that funding to the military is being cut. The Unisol project is on the chopping block, which essentially means that SETH will be turned off. SETH, somehow overhearing this conversation through means that are never really explained, decides to mobilise the Unisols as an army against those seeking to shut him down. His only problem is that every so often, a code is required to be put into his system in order to prevent automatic shutdown. Two individuals possess the code in question. SETH kills the first in short order, and those who are familiar with the plot kit that Van Damme's films are constructed out of will guess within five seconds who the second happens to be. The rest of the film revolves around the Unisols' attempts to get the code out of Van Damme without injuring him too badly. A subplot with a daughter and a reporter is woven into the film, but it adds about as much to the story as Van Damme does to the profession of acting.<br /><br />The film is loaded to the brim with ridiculous lines and clichés. When SETH transplants his command module into the body of Michael Jai White, we get a speech about how the time of the humans is over. He goes on to tell his foot soldiers how fear and mortality will be humanity's weakness(es). Gee, SETH, you mean they will not be our strong points? All kidding aside, the short length of the film is both the film's weakness and its strength. It leaves the action without adequate setup. In the original, we are given a very thorough explanation of the Unisols, how they work, and how they are brought to the state that is seen in the majority of the film. Here, the writer seems to take it for granted that the viewer knows what a Unisol is and how they operate. At least in the original, a moment of curiosity and wonder was created by leaving the explanation for later in the film when the hero lies in a tub of ice. Here, one of the villains is shot with a gun that leaves massive holes in his uniform (and presumably his body), getting up every time without stopping for breath.<br /><br />I tend to reserve the score of one for films that are so bad that they become entertaining in a completely unintentional manner. If you can see it on the cheap, knock yourself out. This is the kind of film that makes me mourn the loss of Mystery Science Theatre.\n",
      "* * * * * * * * * \n",
      "3983\n",
      "I just want to say that this production is very one sided, breaks the impartiality needed if you want to be taken seriously. <br /><br />There are no credits of the persons they interviewed, so you cant have an idea if they are worthy of being heard.<br /><br />Tells the story from just one point of view. To do this is very dangerous, because the next generations learns the bad idea, and thats why wars keep coming. I know this is not the only reason about wars, but doesn't help either.<br /><br />you can watch this documentary, but read in the internet a lot, before. Balcans are complex as human history is.\n",
      "* * * * * * * * * \n",
      "3999\n",
      "One of the worst films ever. Not funny, poor TV style cinematography, bad acting. Sad to see so many famous old actors barely able to walk, let alone act. Lead female Nancy Young can't act. Terrible direction. Sub-par with bad TV movies. Occasional weak jokes fall flat. Even the basic premise of the movie makes no sense. Somehow they are supposed to stop a wedding from happening but there's no logic behind their actions. Slow pacing made my wife stop watching but I suffered through it. The old men are supposed to be acting like they are young and horny, but it comes off as pathetic instead of funny. How did they even get the money to make this?\n",
      "* * * * * * * * * \n",
      "4013\n",
      "Sometime in 1998, Saban had acquired the rights to produce a brand-new Ninja Turtles live-action series. Naturally, being a fan of the TMNT back in the day, this obviously peaked my interest. So when I started watching the show... to say I was disappointed by the end result is an understatement. Some time later (more like recently), I got a chance to revisit the series.<br /><br />First off, let's talk about some of the positives. They managed to re-create the Turtles' lair as it was last seen in the movies fairly well given the limited budget they threw in with this. There tends to be this darker atmosphere overall in terms of the sets and whatnot. And the Turtle suits, while not the greatest piece of puppetry and whatnot, were functional and seemed pretty sturdy for most of the action stuff that would follow in the series.<br /><br />People tend to complain about getting rid of Shredder quickly and replacing him with these original villains who could have easily been used in a Power Rangers show. But you can only have Shredder get beat so many times before it gets boring and undermines his worth as a villain... and besides, most fans don't realize or don't remember or just plain ignore the fact that in the original comic, the Shredder was offed in the very first issue! Never mind the countless resurrections that would follow. So on a personal standpoint, I was sort of glad they got rid of Shredder because then the anticipation would build to the point where they would eventually bring him back in a later episode. I find that Shredder in small quantities work best because then his encounters with the Turtles are all the more memorable.<br /><br />Unfortunately, they end up replacing him with these original villains who, as stated, seemed more fit for a Power Rangers show than a Ninja Turtles show. And with these new magic-wielding generics comes a new female magic-wielding turtle, the infamous Venus De Milo. I'll be honest; I never got comfortable with her. I'm not against the idea of a female turtle; I'm just against the idea of one who uses magic and thus sticks out like a sore sight among a clan of ninja turtles who seem somewhat out of their domain. I almost get the impression that this could have easily been the Venus De Milo show dealing with her make-believe enemies and the TMNT are just there to provide the star power (or whatever was left considering the timeframe this was released). Fortunately, they all share the spotlight together.<br /><br />Next Mutation was canned after a season on the air and the creators were more than happy to ignore it. Given time and maybe another season, I really believe this live iteration of the TMNT could have been something and might have gotten a chance at greatness. But while the idea was sound, the execution was flawed (although there are a couple good episodes in this series). As it stands, Next Mutation is one of those oddities in Turtledom that is best left buried and forgotten.\n",
      "* * * * * * * * * \n",
      "4037\n",
      "The funny sound that you may hear when you eyeball this execrable version of Jules Verne's classic \\Journey to the Center of the Earth\\\" is Verne spinning in his grave. The only thing about this 80 minute opus that has anything to do with \\\"Journey to the Center of the Earth\\\" is the title. Otherwise, everything else in this lackluster production is new and not worth watching. In fact, the director has written here at IMDb.COM that he directed only eight minutes of \\\"Journey to the Center of the Earth\\\" and the studio tacked on part of \\\"Dollman\\\" helmer Albert Pyun's sequel to his own \\\"Alien from L.A.\\\" with Kathy Ireland. Evidently, the producers ran out of money and to satisfy overseas contractual obligations, they grafted Pyun's sequel onto director Rusty Lemorande's movie. Please, don't rent or buy this wretched piece of garbage.<br /><br />Unlike director Henry Levin's period piece \\\"Journey to the Center of the Earth\\\" (1959) with James Mason and Pat Boone, Lemorande's \\\"Journey to the Center of the Earth\\\" takes place in contemporary times in Hawaii. Two fellows, a British nanny, and a dog are brought together for the adventure of a lifetime purely by coincidence. Richard (Paul Carafotes of \\\"Blind Date\\\") and his comic book obsessed brother Bryan (Ilan Mitchell-Smith of \\\"Weird Science\\\") are going out to explore a cave. The heroine, Crystina (Nicola Cowper of \\\"Underworld\\\"), works for a domestic service called 'Nannies R Us.' Being a nanny has been Crystina's life-long dream, but she has made a less of all five of her nanny jobs. Nevertheless, her sympathetic supervisor, Ms. Ferry (Lynda Marshall of \\\"Africa Express\\\"), sends her to Hawaii. Crystina's new client, rock star Billy Foul (Jeremy Crutchley of \\\"Doomsday\\\") who is scheduling one last concert to revive his flagging career, has a dog named Bernard. Foul wants Crystina to take Bernard to a doggie day spa. Crystina is waiting on the arrival of her taxi when a careless motel attendant accidentally puts the basket that conceals Bernard in Richard's jeep. You see, Foul has hidden his canine in a basket because motel management strictly prohibits pets on their premises. Foul has disguised the dog as a human baby. Anyway, Crystina catches a cab and tells the driver follow Richard.<br /><br />After she catches up with them to get her dog, the cabbie cruises away and abandons her. Crystina demands that Richard drive her back to town, but he has other plans. Unhappily, Crystina joins the guys and they get lost, and then find themselves in the lost city of Atlantis, a police state ruled by a dictator, at the center of the Earth. The rulers of Atlantis repeatedly notify their citizens that life on the surface does not exist. Our heroes and heroine stumble onto Atlantis quite by accident. Atlantis resembles a disco and everybody looks like they are straight out of a punk rock opera. The ruler of Atlantis, General Rykov (Janet Du Plessis of \\\"Operation Hit Squad\\\"), is orchestrating a raid on the surface with clones of the first human, Wanda Saknussemm (Kathy Ireland of \\\"Necessary Roughness\\\"), to visit Atlantis. Predictably, General Rykov machinations to rule Atlantis and overthrow the Earth fails, and our heroes and heroine save the day.<br /><br />\\\"Journey to the Center of the Earth\\\" is an abomination. The movie seems to be a comedy despite its superficial satire about dictatorships. Albert Pyun is one of my favorite low budget action directors, but he blew it on this lightweight shambles of a science fiction saga.\"\n",
      "* * * * * * * * * \n"
     ]
    },
    {
     "name": "stdout",
     "output_type": "stream",
     "text": [
      "4179\n",
      "DVD has become the equivalent of the old late night double-bill circuit, the last chance to catch old movies on the verge of being completely forgotten like The Border. There were great expectations for this back in 1982  a script co-written by The Wild Bunch's Walon Green, Jack Nicholson in the days when he could still act without semaphore and a great supporting cast (Harvey Keitel, Warren Oates, Valerie Perrine), Tony Richardson directing (although he was pretty much a spent force by then)  but now it doesn't even turn up on TV. The material certainly offers a rich seam of possibilities for comment on the 80s American Dreams of capitalism and conspicuous consumption, with Nicholson's border patrolman turning a blind eye to the odd drug deal or bit of people trafficking to finance his wife's relentless materialism, until he rediscovers his conscience when he finds out his partners are also in the baby selling business. Unfortunately, he never really gets his hands dirty, barely even turning a blind eye before his decency rises to the surface. The film feels always watered down as if too many rewrites and too many committees have left it neutered and, sadly, the recent DVD release is a missed opportunity to restore the original, nihilistic ending where Nicholson goes over the edge and firebombs the border patrol station that was cut after preview audiences found it too downbeat but which still featured prominently in the film's trailers.<br /><br />While that probably wasn't too convincing considering how low-key Nicholson's crisis of conscience is in the film, it had to be better than the crude reshot climax where the film abandons logic and even basic rules of continuity: at one point he's holding characters at gunpoint, then he's somewhere else and they're free trying to kill him, one character goes from injured at his house to hopping around like a gazelle on the banks of the Rio Grande while Valerie Perrine's character gets dumber on an exponential level. The villains of the piece are disposed of with absurd ease (and one impressive car stunt) in time for a clumsily edited happy ending and you start wondering if you somehow found yourself watching another film entirely. What makes it all the more clumsy is that the rest of the film is so flat and underwhelming that the sudden lurch into melodrama is all the more jarring. Unfortunately Ry Cooder's beautiful title song, Across the Borderline, says it all much more economically. But if you want to know the film's real crime, it's completely wasting the great Warren Oates in a nothing bit part. When even he can't make an impression, you know something's really wrong. All in all, all too easy to remember why I found this so forgettable at the time.\n",
      "* * * * * * * * * \n",
      "4207\n",
      "Well, what can i say about this movie. I'm speechless. I could go on about how stupid this movie is forever though the one thing that REALLY pi*sed me off was the music. And to top it all off someone commented on how much they LIKED it. To them all I have to say is that it was ripped off from one of the best martial arts movies of all time Fistsof fury starring Bruce Lee. IF he was still alive and ever came across this movie he'd be horrified. the rest of the movie is absolutely ridiculous and a waste of tape. I say tape because a movie like that couldn't possibly have been shot on film.I now feel more stupid for wasting 30 minutes of my life watching it. The only reason why i even saw it was because my roommate downloaded it out of morbid curiosity. What is this world coming to.\n",
      "* * * * * * * * * \n",
      "4241\n",
      "You will recognize the plot immediately. Daughters of a divorced couple trying to get Mom and Dad back together again. Yes, that was the theme of The Parent Trap in the 60s, 80s and 90s. But here's the spooky thing. Even though Deanna Durbin was younger than the 21 year old Hayley Mills while playing the doting daughter(s) roles, Durbin looks much older, as in adult. And so do all of her so-called siblings. <br /><br />And this confusion between adult and child goes throughout the film. The girls are dressed in cute little sailor outfits but look ridiculous in them as the director seems to take pains to point out their ample tops and tushies throughout the film. So you're constantly torn between thinking of them as children or women. When Ray Milland and others start \\hitting on\\\" them you get the feeling as if they're pedophiles, and you might be one, too for noticing those tushies and tops the director was pointing out. Teens or temptresses, little girls or little foxes, you are never quite sure what you're supposed to be thinking of them as.<br /><br />The parents, too, seem very old and the whole film seems very dated.<br /><br />It is a rusty version of the Parent Trap and you should avoid it, or at least ensure your tetanus shots are up to date if you don't believe me.\"\n",
      "* * * * * * * * * \n",
      "4382\n",
      "I have been familiar with the fantastic book of 'Goodnight Mister Tom' for absolutely ages and it was only recently when I got the chance to watch this adaption of it. I have heard lots of positive remarks about this, so I had high hopes. Once this film had finished, I was horrified.<br /><br />This film is not a good film at all. 'Goodnight Mister Tom' was an extremely poor adaption and practically 4.5/10 of the book was missed out. Particularly, I found that a lot of the characters and some great scenes in the book were not in this. There was not much dialogue, It was rushed and far too fast-moving, but I was mostly upset by the fact that you never got to see the bonding and love between William Beech and Tom in this film which was a true let down. The casting was not all that good,either. I thought this could have been really good, but it was so different to the book! Anextremely poor adaption, one of the worst I've seen. This deserves a decent remake that'd better be 1000 times better than this pile of garbage.\n",
      "* * * * * * * * * \n",
      "4723\n",
      "This movie has some of the most awesome cars I've ever seen in a movie, and definitely the hottest women, but I would have to say it is still one of the worst movies I've ever seen.<br /><br />Here is the plot, and if you read it with a little inflection, you have the acting as well.<br /><br />Beginning, bring in characters, hot woman singing (obvious lip sync). Music agent or producer comes in, thinks that she is awesome asks her to race. She turns down, too many bad memories. Flash to war hero, back from war, has several fights, and becomes movie hero with attitude that he is better than everyone. Drive off in fast exotic car. Brother races, then dies. Hero to avenge death, cut away to getting weapons from friend. (You have never seen this friend before or after, but seems to really care about him) Are you sure you want to do this; Yes; I mean are you really sure; Yes, give me weapons; are you REALLY sure; Yes; OK, I guess I can't talk you out of it, be careful man, I love you.<br /><br />Now he goes to blow up his uncles house who owned the car his brother drove. Finds woman, decides to rescue her, She drives off, and he doesn't finish killing his uncle. Now there will be a race to finish the movie. Oh yeah, need to throw in one more scene with bad people coming in to beat up people that don't really matter, but maybe it adds a little plot. Race is not even that exciting, of course it ends with two cars racing, and one that should win throws in a surprise ending.<br /><br />OK, I just saved you $7.00. You can send all of your money to me, because I should have given you the same amount of enjoyment as this movie does. Don't get me wrong, the cars are awesome, and Nadija is beautiful, but it is truly an awful movie.\n",
      "* * * * * * * * * \n",
      "4741\n",
      "There are three movies with this animation style that I fondly remember from my youth. This movie, \\The Last Unicorn,\\\" \\\"Flight of Dragons\\\" and \\\"The Hobbit.\\\" I own copies of both \\\"Dragons\\\" and \\\"The Hobbit\\\" (both excellent) and I hadn't seen \\\"The Last Unicorn\\\" in more than a decade. That was until today and now I wish I hadn't. What bothered me the most was the script. It was incredibly choppy and often inane. Things would happen for no reason and other things would happen without explanation. We're not just talking about little things here either; we're talking about key plot points! The story itself isn't that great to begin with, but it could have worked had the script been decent. Not even close. On top of that the music was awful! I know that music in movies such as these rarely have what one would call classic pieces, but the music in this movie made me want to knock myself unconscious with a bowling ball. This was one of those films that I was going to show to my kids some day, but it just got cut. I don't think I could ever sit through that crap fest again. Disappointed is putting it mildly.\"\n",
      "* * * * * * * * * \n",
      "4774\n",
      "Ok I will sum up this movie... A bunch of skanky British women have some disease that basically is turning them into zombies. The whole movie consists of these women talking, smoking, and rarely going out for \\meat\\\" Or humans to eat. I swear I had to MAKE myself watch this movie... UGH\"\n",
      "* * * * * * * * * \n",
      "4893\n",
      "Johnathan Frakes is a good actor and, when he's not directing a family film, a fine director. But, he really shouldn't have directed this movie, and the screenplay should've been rejected. The director and writers must understand what the original TV show was really about, as well as who the characters were and how they worked. The original series had many episodes with razor-sharp writing using good dialogue and with situations that American producers would never consider using in children's programming, much less a movie, which made the original series so well received by adults. I mean, the Tracys were college graduates and some of them did even drank alcohol and smoked tobacco! And, there were characters who did get killed, although most were bad guys. If they had written it the way that it was originally done, which isn't dumbing things down with poor dialogue, kindergarten humor, and a weak plot, this Universal/Studio Canal joint venture wouldn't have such bad reviews. <br /><br />This motion picture is almost pure blasphemy. If you've seen the original Supermarionation series, then you'll know what I'm talking about! <br /><br />The first thing that was out of place and annoying were the constant references to Ford Motor Company, even going so far that Lady Penelope was riding around in a disfigured Ford Thunderbird made up to look like FAB-1 instead of using what would've been more appropriate considering Ms. Penelope's station (not to mention being more faithful to the original), a ROLLS-ROYCE FAB-1. She's supposed to be a distinguished member of British society, hence the preference for England's finest make of motorcars in the original series. One other reviewer here indicated that Penelope wouldn't be caught dead in a Ford. He's pretty much right in the context that the idea of her riding in a Ford doesn't work. At least they could have had Penelope ride in a Jaguar made up like FAB 1 since Jaguar is a British car make that is owned by Ford, but NO! They had to use a straight FORD! But the Ford product placement doesn't end there. EVERY single car you may see is a Ford! Even the news flash that is shown on the TV sets in the movie were sponsored by Ford! Ford, Ford, FORD! The predominance of Ford vehicles makes this movie an obvious marketing vehicle for Ford. <br /><br />The original series had a design that was futuristic for the 1960s and still remains ahead of its time even today. But, the futuristic design in the original series worked because there was an effort to make the design look practical and functional. This kind of treatment didn't exist in the movie, where everything is stylized to excess, defeating the sense of functionality and practicality. A lot of things that were done in the design of the movie were done strictly for style, many times with no sense of function to give that style a sense of reason.<br /><br />The original series relied on good acting performances of the voice talent to overcome the limited expressions in the puppets, bringing them to life in the episodes. The brilliant and lively music score by Barry Gray helped even further to connect the audience with the story, the characters, and how everything came together to help achieve the super objective (a little bit of Stanislavski talk). The movie, on the other hand, had some overly grating performances. Anthony Edwards overplayed Brains to a fault, Bill Paxton as Jeff Tracy just didn't work despite decent acting (one of few), there were better choices for the Hood than Ben Kingsley, and many others that I don't care to mention (it would take too long). Quite simply, the puppets were more believable! Second was the overly generic and underwhelming music score by Hans Zimmer, sounding more like a mix between \\Days of Thunder\\\" and \\\"Apollo 13.\\\" <br /><br />And, of course, the Hood. The Hood in the original series had an ability to communicate with Kyrano through a statue of Kyrano as an outlet for ESP contact. But, that was where his extraordinary capability ended. He's a master of disguise and deception, which allows him to sneak around undetected (for the most part, anyways) to gather information of the Thunderbirds vehicles for his own means. He also uses weapons for his own defense, including pistols, and generally collects information using a film camera, although he tried to steal Thudnerbirds 1 and 2 in the 1960s United Artists release of \\\"Thunderbird 6\\\" (which was the last Thunderbirds show filmed in Supermarionation and was the second Thunderbirds theatrical release). But, while he is a nemesis of International Rescue, the Hood isn't the villain in every Thunderbirds episode and he tends to avoid direct confrontation with International Rescue. In the movie, he's obviously the main villain, but he and his cohorts seem to act more like morons, along with the Hood having extended mind control ability, including the ability to move objects and move himself into flight for brief periods of time. This totally deviates from the Hood as a character in the original series with one that may leave kids laughing and people familiar with the series scratching their heads in confusion or leaving the theater in disgust.<br /><br />There are more criticisms, but the 1000 word limit for IMDb reviews will not allow me to list all of them. So, I will close with the point being made that I didn't enjoy this movie. As a matter of fact, I think it sucks! Having seen the original series and Supermarionation movies (Thunderbirds Are Go, Thunderbird 6), I was hoping for something a lot better than this.<br /><br />The original Supermarionation was a lot more sophisticated and elegant than this live action farce. (And that's saying it nicely.) - Kip Wells\"\n",
      "* * * * * * * * * \n",
      "4914\n",
      "Moron and girlfriend conduct some ritual to resurrect the dead, in attempt to prove that the dead can not be brought back to life. Not surprisingly, they do resurrect a dead soul who commences chopping them up with an axe, and the next day some college aged people are telling the story around a campfire. The guy with the axe turns up and starts hacking up the idiots telling the story. The group calls the cops, the cop sees blood splattered all over and thinks it's a mountain lion(!?) and soon after is axed by some deformed killer who may or may not be a ghost.<br /><br />Moronic little splatter movie which was filmed in broad daylight but where several characters are carrying flashlights and talking as though it were the middle of the night, and wanting to send up a signal flare to attract attention. One guy has a gun in one hand and bullets in the other but doesn't bother to load it, then after he finally loads it, he has several opportunities to shoot the killer but doesn't bother to, because that would end the movie too early. Then he throws the gun away! Also detrimental is characters who show no emotion and don't look the least bit concerned after their friends are chopped up into pieces and lousy effects (the human heart looks like a piece of chicken meat, the car blown up at the end clearly was a model car) and awful dialogue and some really ugly female nudity doesn't help. And in the end it tries to get away with it's incoherence by saying that it was all the invention of the same college aged people telling campfire stories at the start of this movie. <br /><br />Then the killer turns up for real in the last scene hacks them into pieces. Again.<br /><br />Mediocre of it's kind, good only for some unintended laughs.<br /><br />*1/2 out of ****\n",
      "* * * * * * * * * \n",
      "4917\n",
      "I had a really hard time making it through this move. It was extermly slow and at times wondered when the plot of the movie would actually come to life.<br /><br />This movie seemed to flow to slow and I kept on wondering when it was going to end. I am normally a person who likes a good indie file every once in a while but this did not satisfy what I was looking for.<br /><br />It seemed they tried to make to much out of this movie. At one point it seemed to turn political which I am not a big fan of in movies. If you are looking for a slow moving movie with little to no plot then this is the right movie for you. As for me I felt I wasted 2 hours when I could of been doing something else.\n",
      "* * * * * * * * * \n",
      "4990\n",
      "I don't understand why people would praise this garbage. Its wrong , stupid , unrealistic , awful , and just about everything else. The film is a view on life , racial issues , prejudice , and everything else that strangely goes on in College. This is where it fails. It has no grasps on reality. From many questionable non-sense scenes in the movie such as for example<br /><br />A black man chasing down a white man with a gun, the black man and stopped by the security guards handcuffed and carried out while the gunman runs right past them.<br /><br />The same white man snipering down people from a roof topic which is stopped and beaten down by the same black man is then stopped and given a Rodney King style beating while the gun man runs free while a moment later being chased back down by only one of the four guards.<br /><br />As one previous reviewer pointed out Several white 230lbs men being beaten down by several black men weighing around 160lbs including the 105lbs Bust A Rhymes<br /><br />Another critical flaw in the film are the shallow uninteresting main characters. From the scared and confused white people and the mean , angry , and yet rightful (?) black people. Its almost as its an insult to both black and white people. I am a white male and I know many black and hispanic people who agree that this movie is wrong to portray characters and giving them those characteristics exclusively due to their race.<br /><br />The storyline which I will explain now revolves around three characters. One a black athlete , the other a confused scared white girl who questions her sexuality , and the third is a white man who is also confused and scared , then blames his problems on black people in which he becomes a nazi later in the film. They all have their share of problems and adventures including sex , rape , fights , love , hate , prejudice , racial war , and oh yeah don't forget education. Which all comes down at the end for the fatal shoot out. In which after they go back to their boring lives and think \\being white is bad\\\". Does this sound alot like your college years? Didn't think so. I don't think the director attended college especially if he were to make this awful mess.<br /><br />Overall this is a really bad , bad , ugly movie. If you want to see a more accurate view or racial issues go see American History X. If you want to see a more accurate view of college rent Porkys. Just avoid this mess.\"\n",
      "* * * * * * * * * \n",
      "5011\n",
      "The only film I've ever walked out on. Amazing, since I paid for myself and my date and I'm really cheap. But my brain couldn't stand any more of the dreck being piled on, particularly since I could have written funnier material while tie up and gagged.<br /><br />From the beginning to the end this film offends. Worse, it ain't funny. It wasn't funny then, and it sure ain't funny now. But even worse, is that this film represents the beginning of the end of really smart, sophisticated comedy. It's juvenile, really sophomoric script and ideas began an era (which continues to this day) where cheap laughs, and sexual innuendo dominate the culture of comedy in film.<br /><br />Sexual Olympics? What High School kid hasn't thought of that? The beginning of the end.\n",
      "* * * * * * * * * \n",
      "5158\n",
      "How can they from Joe Don Baker (as Bufford Pusser in the first sequel) to Bo Svenson (as Bufford Pusser in the second sequel).Why did they do that for.Just Because Bo Svenon look more a like to Bufford Pusser they still should'nt of changed it because the first sequel it was Joe Don Baker as Bufford Pusser and that one of the thing i wanted to see in the second sequel.<br /><br />I would've given this movie a 7 out of 10 and i would've given it a 1 out of 10 if the story did'nt have anything to do with Bufford Pusser's life but it did and that why i had given this movie a 3 out 10.<br /><br />I strongly suggest that anyone who is planning on watching this cheese i suggest don't and watch the first sequel instead.\n",
      "* * * * * * * * * \n",
      "5163\n",
      "As a member of the cast, I was a member of the band at all the basketball games, I would like to let the world know after being in the movie, that we were not allowed to see it since it was banned in Oregon. This was due to the producers and the director breaking the contract with the University of Oregon where it was shot. Seems that the U of O sign was shown. While we were shooting, we were allowed to eat several meals with the cast and production staff. Mr Nicholson was quite memorable for being one of the most ill-mannered men I have ever met. Quite a time for a young 20 year old. BUt certainly not what campus life was really like in the late 60's and early 70's despite what Hollywood may think. Trombone player from Oregon\n",
      "* * * * * * * * * \n",
      "5351\n",
      "There is a reason why this made for British TV movie only appeared at the 1977 Toronto Film Festival. It is dull, plodding and lacking in suspense.<br /><br />Peter OÕTooleÕs diffident performance and the appearance of playwright Harold Pinter are the only elements of interest.<br /><br />Note : Some British film fans will enjoy seeing Philip Jackson, best known for his portrayal of Inspector Japp in the Poirot television series, in one of his earliest roles....\n",
      "* * * * * * * * * \n",
      "5352\n",
      "Ben a out-of-town cop is convinced his sister was brutally killed and wants to bring her killer to justice, but he's approached by Stefan who believes his sister was a victim of a werewolf cult. So Ben, his sister's best friend and Stefan travel to Transylvania to put a end to this evil.<br /><br />This is incredibly awful B-grade stuff and I wondered how it even got released. It makes the original 'Howling' look like a masterpiece. What was Christopher Lee thinking, as this has to be his worst performance I've seen.<br /><br />There was a lot wrong with this real cheap-ass film, ranging from the really hammy and wooden performances from Annie McEnroe, Reb Brown, Marsha A. Hunt and Sybil Danning (not to forgot Lee), cheesy fashion (those sunnies), cheap and lame special effects, bad use of lighting, the humour... if there was any, trashy 80s music (with some of the film just focusing on some unknown band playing), werewolf's having orgies which is a sight to see and a tiresome story with flat and annoying dialogue. I thought if it was that bad it would be awfully funny, but I was wrong. <br /><br />The positives were the location and settings of the film looked great, but that's about it... actually I'll add Sybil Danning short stripping scene too.<br /><br />During the end credits the band plays their crap-house song during a weird montage of scenes from the film, which I beckon the question why?<br /><br />An awful piece of mess, however at least it isn't boring.<br /><br />1/5\n",
      "* * * * * * * * * \n",
      "5645\n",
      "A large part of the scenes should be cut off. There is a lot of scenes that should have been cut off. For example the scene where the hunters mentions \\I got spiders on my dick\\\", \\\"I like dick\\\", playing in the mud scene, or a bar scene where a professional dinocroc hunters main job is a snake charmer.<br /><br />How about other terribly incoherent scenes featuring a woman, Diane who wants to loose her virginity to a boyfriend who walks like he wears women's panties three sizes too small. While they make love, didn't they realized they are making it out next to the little boy who will soon run away and loose his head? Why did they do in a living room? I mean his head really flipped. How about the beach scene very reminiscent of Steven Spielberg's Jaws scene at Grant Lake. All these strange scene could easily be re-dubbed and billed as a comedy.<br /><br />Here in my local town, the cineplex theaters had been advertising for months about Dinocroc, and I am glad I didn't watch it because I later found out it was shown only for 1 or 2 days before it was canceled. The movie was THAT bad. I suspected that Dinocroc was not a good movie looking at the preview. It features the leg of Dinocroc that looks like a child wearing green pajamas and slippers with claws and walks up and down like a 2 year old. It could easily passed over as Baby Geniuses.<br /><br />If any students of movie making wants to learn what not to do this is a real classic trash. Such as Diane's boyfriend who walks like he had an advanced case of syphilis makes you wonder what the poor woman sees in this guy who looks drunk even before he get to drink beer. When this happens, who cares about Dinocroc? The panties man looked more more interesting than the entire movie of Dinocroc. His acting was so bad, he makes a much better replacement for Mr. Bean. MOVE OVER ROWAN ATKINSON, here is a man with a better comedic talent in a horror sci-fi flick. Perhaps the worse casting in the history of Hollywood.\"\n",
      "* * * * * * * * * \n",
      "5792\n",
      "I am very open to foreign films and like to think that I grasp what they are trying to accomplish although some things are lost in translation. But the simplicity and \\intelligence\\\" of this film were boring. I've often thought how interesting it would be to make a movie that just shows a typical day or time period that really had no point. Now that I've seen a movie like that I will no longer be thinking along those lines. There's tones about society, racism, and some desire...but South Park has that. And when I watch South Park it actually moves me to feel an emotion. The closest thing I felt to an emotion during this movie was the yawn I experienced after the first five minutes. I rate the typical movie a seven or above because I love most every film. I gave this film a one.\"\n",
      "* * * * * * * * * \n",
      "5890\n",
      "Very businesslike authority with little responsibility and only a desire to keep his/her name clean - check. A veteran cop that has bad relationship with his family - check. Mafia guys that while criminals, want to do something good vigilante style - check. A sociopath and loyal mafia guy not hesitant to kill people to make an example - check. Cops' methods being less effective than the mafia guy's brutal yet very effective methods - check. A corrupt cop tying the authority, the criminals and the police together - check.<br /><br />Slow motion and/or jerky frame rates for showing what the actor's reaction can't - check. A serial killer whose background is explained in far too much detail, esp. using childhood abuse as the reason for everything - check. A child spree killer that is very, very non-menacing - check. Foreshadowing of the veteran cop's moral values not being what the killer deserves in the movie's and the majority of characters' opinion - check. Morally ambiguous and predictable ending thanks to the foreshadowing and the good veteran cop's coming to terms he should submit to the vigilante attitude of the majority of the characters - check.<br /><br />Recently saw this on TV and decided to endure it because it had Dennis Hopper in it and I could not sleep - check. Realized that was a mistake and should just have stared at the ceiling - check.\n",
      "* * * * * * * * * \n",
      "6064\n",
      "Fairly amusing piece that tries to show how smart Orcas are but in the meanwhile (and quite oblivious to them) makes the audience feel stupid by making the most ridiculous film. Richard Harris plays Quint.. I'm sorry, that's wrong, he plays Captain Nolan, a fisherman who catches sharks for a living, but is lured by the big catch, and tries to catch a killer whale. When the capture of a female killer whale goes awry (don't ask) it's mate (don't ask) goes on a rampage (don't ask) and starts STALKING Captain Nolan (Don't ask). Soon, Captain Nolan realizes that they have something in common (don't ask). Pretty amazing film-making here folks. I got to tell you though, the beginning (with the whale noises and nothing much else) is pretty haunting and the end credits (with the most godawful song) is pretty entertaining.\n",
      "* * * * * * * * * \n",
      "6199\n",
      "What a snore-fest.<br /><br />Of all the bits of nostalgia that Hollywood has decided to remake and update, this is by far one of the most pointless. This was a totally pointless show in the first place, and we REALLY don't need a 'modern' update.<br /><br />Never mind the bigotry and sexism inherent in the system from the beginning, so many advances have been made, socially, since the show ran that the entire point of the show (if it ever had one) has been lost.<br /><br />Also, what is the point of having a character named Boss Hogg if he's NOT overweight?\n",
      "* * * * * * * * * \n",
      "6207\n",
      "Joe Don Baker is an alright to good actor in small roles here and there...he was alright in Goldeneye and made a pretty good Bond villan in The Living Daylights and has appeared in various other movies. One thing he can't do is carry a movie as the lead, which he is in this extremely bad revenge movie set in Malta. Joe Don's partner is killed so he kills the killer's brother and escorts the killer to Italy, but some guys cause the plane to set down in Malta and the killer gets away. The rest of the movie is seeing Joe Don chase the killer here and there, Joe Don getting taken into custody various times, Joe Don torturing a bartendar and being interrupted and so on. The movie is quite bad and you won't find yourself exactly pulling for Joe Don's character. You will be amazed at how many times Joe Don the hero gets taken out by one punch and how incompetent he proves to be. The crowning part of the movie comes when Joe Don chases the killer all over Malta with the killer in a priest robe and then they get in boats and he chases them all around Malta. This movie also features one of the worst closing lines to end a movie ever.\n",
      "* * * * * * * * * \n",
      "6245\n",
      "I'm giving this movie a 1 because there are no negative numbers in IMDb rating system. this movie was horrible. It was very badly acted, the story was poorly written, the action was unbelievable. I doubt even the Salvation Army could battle as poorly as the troops did in this film. I won't even write any plot spoilers because the movie just isn't good enough for plot spoilers. To write comments on the plot would be pointless. If I were to compare this movie, I'd have to compare it to Reign of Fire, however although I didn't like Reign of Fire either, that movie at least was better than this one. <br /><br />Some of the people in the theater left before the movie was even halfway done. The only reason I didn't was because I simply didn't think to do it. I was hoping for a feast of CGI and fighting masterfully done, but that isn't what happened. The martial arts lasted all of 30 seconds and that was from an exercise routine done during the flash-back scene, very disappointing. The CGI was not done well either. One scene comes to mind. During one of the earlier tank battles, the troops are firing away at......nothing. Someone forgot to cue the animation guys on that bit of film so the street was totally devoid of bad guys. I'm also thinking the bad guy's voice was dubbed by the voice-over of Imotep from The Mummy movies. Had that same scraggly echoing thing going on. (Someone owed some royalties, here?) Since I mentioned the fight scene, I'll say yeah that might be considered a spoiler, but only to the purists I suppose.<br /><br />Don't go see it, don't buy the DVD when it comes out either. You have been warned.\n",
      "* * * * * * * * * \n",
      "6362\n",
      "Of all the films I have seen, this one, The Rage, has got to be one of the worst yet. The direction, LOGIC, continuity, changes in plot-script and dialog made me cry out in pain. \\How could ANYONE come up with something so crappy\\\"? Gary Busey is know for his \\\"B\\\" movies, but this is a sure \\\"W\\\" movie. (W=waste).<br /><br />Take for example: about two dozen FBI & local law officers surround a trailer house with a jeep wagoneer. Inside the jeep is MA and is \\\"confused\\\" as to why all the cops are about. Within seconds a huge gun battle ensues, MA being killed straight off. The cops blast away at the jeep with gary and company blasting away at them. The cops fall like dominoes and the jeep with Gary drives around in circles and are not hit by one single bullet/pellet. MA is killed and gary seems to not to have noticed-damn that guy is tough. Truly a miracle, not since the six-shooter held 300 bullets has there been such a miracle.\"\n",
      "* * * * * * * * * \n",
      "6392\n",
      "oh my god, i give this film three stars out of ten for the following reasons. the final sequence is once again quite effectively handled and it was absolutely hilarious. that is what it gets those three points for. other than that, it was atrocious. it wasnt meant to be this funny, that much is obvious, but the dubbing, the acting of the dubbed voices, the dialogue they said, where often hilarious. the actions performed, and/or not performed also lead to much hilarity and/or throwing things at the screen. such as when the whole town is being slaughtered and one small group of people stand on a balcony looking on as if they were watching a cooking glass, or the \\attempted\\\" escapes from the church in which they hole up.<br /><br />evil mayor: i think something is going on outside so you should go upstairs and look out the window.<br /><br />hero: ok.<br /><br />evil mayor: now is my chance to make some idiot go outside and flail around with fire being totally ineffective and getting hacked up.<br /><br />insert sequence in which this occurs.<br /><br />evil mayor: damn, wait, i will get this small child and she will walk outside and cry pappa seemingly obvlious to the fact that those rotten corpses are not just spooky strangers but are actually zombies with no flesh or skin or anything and she will lead them away and i will flee! insert sequence in which this occurs.<br /><br />hero (upstairs): he is trying to escape again, fool, and he has left the door open, he is silly, this is a nice view.<br /><br />woman: where is my daughter?<br /><br />hero (downstairs now): i dont know, i cannot see her anyway and she was not outside because i could not see her despite her being out there and me having a view of the entire neighbourhood and she is standing right outside, where on earth could she be?<br /><br />needless to say, anybody would be throwing things at the screen after 10 minutes of this. so, watch the first film with a couple of friends, having a few drinks, and make sure by the time you get to watching this one, you are absolutely blindly drunk and can just giggle at the stupidity of it all. and there wasnt even any decent gore, such a shame.\"\n",
      "* * * * * * * * * \n",
      "6539\n",
      "I saw this movie today at the Haifa Film Festival in Israel after hearing rave reviews, but I guess the critics were just sucking up to Willem Defoe and his wife (the director) who were present at the festival. It is definitely the slowest movie I have ever seen with numerous pointless, ridiculously long scenes of nothing. Besides Defoe who was decent, the acting of the two and a half other people in the movie, Defoe's wife Giada included, was ridiculously awful (how they cast the part of the salesgirl at the bakery is beyond me). This movie is pretty much plot less with a lame attempt to be abstract and off the wall. The only scene that stirred any kind of reaction in the crowd was vulgar and came from nowhere as if just to add some kind of shock value to the dullness that is this movie. Sorry for being so harsh, but really this movie is a precious waste of time and money. I appreciate good indie cinema, but this movie is not worthy of moviegoers' time.\n",
      "* * * * * * * * * \n"
     ]
    },
    {
     "name": "stdout",
     "output_type": "stream",
     "text": [
      "6623\n",
      "Having watched this movie on the SciFi channel, I can only conclude that this film was made by a bunch of amateurs who have never seen a movie in their lives. The film is an endless sequence of bizarre occurrences, or \\delights\\\" as the friend reading over my shoulder is telling me. The plot isn't really worth commenting as, but basically a plane carrying football players crashes into Yeti territory. Before the movie is over, we are treated to yetis ripping hearts out, yetis waddling in an effort to run before jumping 50 meters, yetis ripping a man's legs off and beating him with them, a woman killing a rabbit at 30 meters with a javelin, a yeti surviving several bullets and being set on fire with no apparent harm, a yeti dangling off a cliff by holding to a man's shoe, yet then jumps off, and a whole collection of further, bizarre occurrences. Basically, if you aren't staying up on a Saturday for the expressed purpose of watching the worst of SciFi channel original movies, avoid this film like the plague. Or as my friend reading over my shoulder says: \\\"It's the best movie I have ever seen.\\\" To which the friend on my right says: \\\"Only battle techno music could have made it better.\\\"\"\n",
      "* * * * * * * * * \n",
      "6647\n",
      "A female vampire kills young women and paints with their blood. She has an assistant who doesn't want to be a vampire, so he has to do what she orders or be turned into a blood sucker. After a few kills, the assistant gets remorse and falls in love with a homeless girl.<br /><br />What can I say about this movie ? That its pacing is over-slow, that it has some strange sound effects (never a bite sounded so strange) and ambiance (new jazz here I come) and that lights don't seem to be included on the set. It looks like an \\auteur\\\" horror movie with all the self-sufficiency inside.<br /><br />The plot is completely stupid and as you can guess, it's the female vampire who explains how to kill her even if she doesn't have to do it; of course, crosses, light, garlic and sticks don't work.<br /><br />It's not even a funny lousy movie. Perhaps with some friends and a lot of beers, it can't have its funny sides (to be honest, it's funny during 10 - 15 minutes near the end of the movie). Don't be fooled by the Troma sticker, it's one the bad movie they present.\"\n",
      "* * * * * * * * * \n",
      "6674\n",
      "BE WARNED. This movie is such a mess. It's a catastrophe. Don't waste your time with this one. I warned you!<br /><br />The acting, story, dialogue, music... basically everything is so over the top, it's absolutely annoying and ridiculous. It made me want to throw up (if the dialogue/acting/story wasn't doing it, it's everyone being shot crooked). You'll feel like you're watching a comedy. The problem is, the parts that are supposedly funny isn't even funny. The acting, story, cinematography, you can feel everything is just trying WAAAAY too hard -- but it never succeeds. Practically every shot is canted, but so what?! This movie just feels like a student film. No wonder they shot this in HD because it would be a waste to spend more money to shoot this on film.<br /><br />If you're easily amused or like poor acting, writing, editing, directing, full of clichés, everything that's forced in your face, oh and did I mention poor acting? (well, actually, it's not all the actor's fault - it's the director!) then I guess you'll like this movie.<br /><br />I had to watch this for a class. I would have turned it off right away if I could. If you still can't tell by now, I HATED this movie. It made me want to throw up and get my time back... at least I didn't have to pay for this garbage.<br /><br />Jeff Goldblum, you know... the guy from Jurassic Park/Independence Day, is in this movie but he sure went downhill from then -- accepting roles for movies like this catastrophe.\n",
      "* * * * * * * * * \n",
      "6830\n",
      "Some moron who read or saw some reference to angels coming to Earth, decided to disregard what he'd heard about the offspring of humans and angels being larger than normal humans. Reinventing them as mythical giants that were 40 feet tall, is beyond ridiculous. There was some historical references to housing and furniture in parts of the world, that were much larger than would be needed for standard humans. These were supposedly built on a scale that would lend itself to a 10 to 14 foot human, somewhat supporting the \\David and Goliath\\\" tale from the bible. There is no mention in any historical references to buildings or artifacts that would support the idea of a 40 foot tall being. If I was rating this movie on my own scale, it would have been a negative value instead of a one...\"\n",
      "* * * * * * * * * \n",
      "6837\n",
      "A movie has rarely left me as cold as this one. There is not a bit of tension, not a second of fear, not a moment we jump, even a little bit. The girl is cute, yeah. That's it. Was that worth a movie ? I knew it wasn't supposed to be a great movie, but I was at least expecting one.\n",
      "* * * * * * * * * \n",
      "6865\n",
      "Okay, when I came on the board for this movie, I was really expecting people to be making fun of it. I was surprised to see that people over the age of 7 liked it. I enjoyed the movie... but only b/c me and my little sister (who is, in fact only 10) made fun of the whole thing.<br /><br />I am sorry Jordan, but that acting was awful. You know a movie is headed for the toilet when the lead cannot act. And it didn't even have a good script or plot to redeem it. I also thought that the character of Pamela was very very lame... border-lining pathetic.<br /><br />Even with that being said, I thought there were a few good actors, such as gorgeous Spencer, Hollywood, and Ronnie. Still, not enough to redeem the movie.<br /><br />Two things about this movie that I just can't get over:<br /><br />1.) That that Spencer guy would fall for her. Okay, eww. I looked up the dates and while in reality, he is only about four years older than her, the difference in \\Go Figure\\\" seemed much larger. Jordan is a very pretty girl, but in GF, she seemed like 10 or 12... she seemed like a little kid! Jake Abel (Spencer) seemed like a college student.<br /><br />2.) That there is any way that Kristi Yamaguchi would come just to skate for one girl. I mean, I know that Katelin is good and everything, but it still just seemed kinda unlikely that Kristi would go to a boarding school that didn't even have scholarships for skating, or that a school would have employed a skating coach with such connections.<br /><br />That all being said... it wasn't the worst movie ever known, but it wasn't very good even by DCOM standards, which I consider quite low.\"\n",
      "* * * * * * * * * \n",
      "6911\n",
      "this film has it all; the deft camera work, reminiscent of martin scorcese, or oliver stone, the tight acting of 'heat', the explosive action of a jerry bruckheimer movie, the witty dialogue of a tarantino script and the epic feel of say, 'the godfather'<br /><br />the judge reinhold character displays a fiery temperememt, yet also shows real emotional depth and intensity. his performance reminds me of robert de niro's portrayal of jake la motta in raging bull.<br /><br />the action scenes are truly breathtaking, not since bullit has a movie depicted such high octane, yet stylish car scenes. The special effects push the boundries of technology and filmmaking to their limits. Independance day set the standard that this movie clearly has matched, and greatly surpassed.<br /><br />overall, great acting from its a list cast (like an oscars night party invitation list!), classy locations, gripping action, and a tight script.\n",
      "* * * * * * * * * \n",
      "6931\n",
      "Man, I really find it hard to believe that the wonderful Alan Ball had anything to do with this mess. Having seen the first two episodes thus far, I think I can safely say this show isn't going to be on my must see list. It's just got so many things working against it.<br /><br />None of the actors cast are particularly good. Anna Paquin as the lead character Sookie, is just awful. I remember her being better in a lot of other things I've seen her in so maybe it's just the writing. She's not really much fun to look at either, there are moments where to be honest she looks downright ugly. The actor who plays Bill is marginally better, if only because his character is supposed to be sort of wooden and aloof. The other actors do their best but with the cliché characters with difficult to perform accents they are given it's a tough job. Tara is an absolute misery to watch, Rutina Wesley absolutely murders the accent. It's like nails on a chalkboard bad. Almost as awful is Nelsan Ellis, it's difficult to understand what he's even saying sometimes. Both his character as well as Tara's also seem a bit racist to me. I don't know, having a character say 'whycome' on an HBO show that isn't The Wire just seems a bit odd. Rounding out the cast so far are Sookie's doddering grandmother, her sex addict brother, and the only bit of genius casting I've seen in William Sanderson as the sheriff.<br /><br />The story seems to be meandering towards it's destination at this point, with no real worry about keeping the viewer interested. The romance stuff is very Dark Shadow-sy. Although this show ups the camp factor from something like those old Dark Shadows episodes times about ten. At times it seemed so campy to me, that I just have to assume it was intended to be. But unlike a show such as Buffy, that pulled camp off masterfully, this show does not. Out of place with the campiness is the extreme gore and graphic sex of the show. I'm not averse to either of these when they are done well, as they have in many other HBO shows but here at least they prolonged rough sex scenes involving Jason Stackhouse seem a bit over the top and pointless.<br /><br />About the only nice thing I can really think to say about this mess is that I liked the opening title sequence. HBO has had a string of bad luck with their shows lately, I hope they cancel this after the first season and try to get something better on the air.\n",
      "* * * * * * * * * \n",
      "6937\n",
      "I began watching this movie with low expectations, as a matter of fact i only noticed it because it was an adaptation of a S.K. novel ( a novel i never read).<br /><br />I'm glad my expectations were low because the movie wasn't nothing close to good, but it manages to keep you interested. What really drags this story down is the work done by the director and the actors. The movie is overlong, hasn't no \\nice\\\" shots and no scares, the dialogs are dumb and the special effects are crap.<br /><br />The only things good are that, as i said, it keeps you interested ( i guess the book must be good) without using much horror cliches.<br /><br />My Vote 4/10.\"\n",
      "* * * * * * * * * \n",
      "6956\n",
      "If you have seen Friends, the writing will feel very familiar. Especially the last 3 or 4 seasons of Friends often share the same comedy setups.<br /><br />The show is about a group of people whose connection is that they shared the same class when they were still rather young (about 10 years old I think). Now, they're in their mid-twenties, and they meet again on a class reunion. This is where the series starts.<br /><br />A typical episode deals with multiple story lines at once. They're usually not connected in any way. Each story line is cut up into multiple sections, which are then shown in a mixed order.<br /><br />The sketches is where my problems lie with this series. As in the later seasons of Friends, it's often a rather silly setting with hard to believe situations. One of the main characters does something really stupid that's hard to believe. The situation is then heavily exaggerated, as if it wasn't silly enough. If you're into this kind of in-your-face humor, then maybe you'll like this series. For me it is a great turn-off.<br /><br />The reason I started watching Friends is because of the first few seasons. There are interesting and especially credible story lines, with some romance in it that makes you root for the characters. The Class has none of this. The characters are simply too forced and stereotypes are pushed too far. It's therefore not possible to relate to them and like them.<br /><br />At least with friends, it took several seasons before it ran out of steam and the character traits were all milked out. But in The Class, it seems it has run out of steam before it even started.\n",
      "* * * * * * * * * \n",
      "7088\n",
      "Emma is my favourite Jane Austen novel - Emma is well-meaning despite her flaws, so readers can forgive and love her, and the relationship she has with Mr Knightley, which is warm, familiar, respectful but playful, generating that warm, fuzzy, romantic excitement. Mr Knightley is the perfect man, and Emma is as close as you could get in those times to an independent, clever, confident woman - remember, she is only 21, and was sure to have matured and grown out of her flaws. Who doesn't want to be Emma? Who doesn't want to be told off by Mr Knightley? This version of Emma gives you no sense of the things that I love about Emma. I couldn't even finish watching it, I just found it so awful. I couldn't see that warm, generous side of Emma, which drives the reader to love her: The patience and warmth she shows to her father; the closeness between her and Mrs Weston, which demonstrates her willingness to put her friend's happiness above her own (as she sacrifices the only equal companion in her household by forwarding Miss Taylors marriage). Mr Woodhouse's character in this adaptation just appears bizarre, rather than just quaint, elderly and a bit trying.<br /><br />This adaptation most importantly fails bring to life the relationship between Mr Knightley and Emma. Their relationship is built on mutual respect and affection: Mr Knightley is indulgent of Emma's minor faults trusting that her intelligence and genuine care for others will never allow her to go terribly astray; and Emma looks up to him, though playfully hiding this and continuing to use her own judgement. The dressing down he gives her right at the beginning of the show completely overstates the argument between them, and ruins all possibility of portraying the nature of their relationship as I've described above. Mr Knightley is also insufficiently attractive to bring to life the sexual tension between the leads (or to inspire any admiration from the female viewers).<br /><br />Really horrible. I can't understand why anyone who truly like the novel Emma could like it, unless it miraculously redeems itself after the point I switched it off.\n",
      "* * * * * * * * * \n",
      "7162\n",
      "After just watching FIVE ACROSS THE EYES, I gotta be honest...I just didn't like it. I had read so many good reviews on this movie, but I just did'nt get where these reviews have came from,<br /><br />I have got a lot of time for newcomers into film-making, and I'm sure the directors will do well for themselves, but the budget they had was the main problem, there was two cameras used in the entire film (which was OK) but they seemed like really cheap cameras. Another problem was the sound, you get all these girls screaming and shouting all at the same time, all talking on top of each other - it's just impossible to hear what they're saying.<br /><br />It had a good idea going for it, in a nutshell, they hit a parked car then drive off, a short while later they are getting chased by the car they hit, driven by a mad woman, who wants to kill them, and has plenty of chances to do so!...and on the other hand the girls have plenty of chances to escape, but don't! <br /><br />Very frustrating...I only just scraped through this one!\n",
      "* * * * * * * * * \n",
      "7235\n",
      "This film concerns the story of Eddy as mentioned in the title and his homecoming to old friends in a seaside community. The plot involves the group of friends as it comes to light that Eddy left as a means to deal with death of a friend in which he feels in some way responsible. But this is inconsequential, as the choices made in the production are extremely poor and not fully realized. Screenplays not always need be 'chatty', but they should at least assist the development of the story. Here one line attempts such as \\he just took off\\\" or \\\"I know you don't have love in heart\\\" just do fully evoke something worth the audience's time. Also whenever the writer feels at a loss to where to go to next he cuts to a music montage of the protagonist walking through fields to some indie mood music. Talk about trying to hard. If you are interested in a good film, the type that gives quality and substance over just style then this is not the film for you.\"\n",
      "* * * * * * * * * \n",
      "7244\n",
      "The plot was quite interesting, with the Russian revolution background. I also enjoyed seeing Budapest as the movie was partly filmed there. Sadly, there was zero chemistry between the 2 main characters so it was hard to believe the love story between them. The love scenes were forced and mechanical. Jordan kirckland was really stiff, almost icy. Rob Stewart was quite charming and boyish, so she looked like his older sister rather than his girlfriend. The ending, when we finally figure out who was actually after them, was quite weak and made no sense whatsoever. I think I would have enjoyed this movie a lot better if the relationship between the 2 actors was slightly more credible.\n",
      "* * * * * * * * * \n",
      "7278\n",
      "Snow White, which just came out in Locarno, where I had the chance to see it, of course refers to the world famous fairy tale. And it also refers to coke. In the end, real snow of the Swiss Alps plays its part as well.<br /><br />Thus all three aspects of the title are addressed in this film. There is a lot of dope on scene, and there is also a pale, dark haired girl - with a prince who has to go through all kind of trouble to come to her rescue.<br /><br />But: It's not a fairy tale. It's supposed to be a realistic drama located in Zurich, Switzerland (according to the Tagline).<br /><br />Technically the movie is close to perfect. Unfortunately a weak plot, foreseeable dialogs, a mostly unreal scenery and the mixed acting don't add up to create authenticity. Thus as a spectator I remained untouched.<br /><br />And then there were the clichés, which drove me crazy one by one: Snow White is a rich and spoiled upper class daughter - of course her parents are divorced and she never got enough love from them, because they were so busy all the time. Her best girlfriend, on the other hand, has loving and caring parents. They (a steelworker and a housewife) live in a tiny flat, poor and happy - and ignorant of the desperate situation their daughter is in. The good guy (= prince) is a musician (!) from the French speaking part of Switzerland (which is considered to be the economically less successful but emotionally fitter fraction of the country). He has problems with his parents. They are migrants from Spain, who don't seem to accept his wild way of living - until the father becomes seriously ill and confesses his great admiration for his son from a hospital bed.<br /><br />And so it goes on: Naturally, the drug dealer is brutal, the bankers are heartless, the club owner is a playboy and the photographer, although a woman (!), has only her career in mind when she exposes Snow White in artsy pornographic pictures at a show.<br /><br />This review doesn't need a spoiler in order to let you add these pieces to an obvious plot. As I like other films by Samir, e.g. \\Forget Baghdad\\\", I was quite disappointed. Let's hope for the next one.\"\n",
      "* * * * * * * * * \n",
      "7345\n",
      "This is very much a television version of the tale, the film starts out like an episode of 'Xena...', with little meaningful dialog or character description. It does get a bit more substantive after a while, but all characters are still cartoonish. <br /><br />Salma is the exotic beauty. Richard Harris is an evil and sexually repressed Frollo, fiending to bust a nut up in Salma. The other characters, including Quasimodo are quite forgettable. <br /><br />Its also a sorta liberal version of the story, Frollo is a suppressor of Enlightenment ideals, like the abbot in 'Name of the Rose', and Quasimodo is a champion of liberty. The shadowy side of the Quas character is ignored, though he does pour liquid led on people. He is really only an outsider in that he looks different and enjoys playing with bells more than the average person. <br /><br />Perhaps the film is intended for children, but I doubt it, considering Frollo flogs himself bloody to amend wanting to spank his monkey. A mostly uninteresting and forgettable, but not awful, and sometimes entertaining, rendition of the tale.\n",
      "* * * * * * * * * \n",
      "7393\n",
      "This isn't one of Arbuckle's or Keaton's better films, that's for sure. Fatty's wife is tired of all his heavy drinking, so she takes him to a sanitarium where a psychiatrist (Keaton) claims to have a guaranteed cure! Well, once there, Arbuckle accidentally eats a thermometer and is taken to surgery. Then, he escapes and is chased about the place where he meets a cute girl who also wants to escape. Finally, despite staff chasing them about, they escape at which point it becomes apparent that the girl is crazy and Arbuckle is soon recaptured. However, he awakens and everything AFTER the surgery has all been a dream--there was no sexy crazy girl and Dr. Keaton isn't as big an incompetent as he seemed in the dream.<br /><br />A lack of humor is the biggest problem with the film. Sure, making fun of mentally ill people is pretty low, but in its day it was guaranteed laughs. I'd laugh, too, if there was just something funny to respond to! A lot of energy and that's all.<br /><br />FYI--during one of the chase sequences, Fatty wonders into a race for men over 200 pounds (wow, what are the odds of that?). And, shortly after this, he backs into a post on which the number 5 was just freshly painted. As a result, the five is now on the back of Fatty's shirt and he looks like a regular participant. HOWEVER, the number SHOULD have appeared backwards on Fatty's shirt but came out front-ways--a mistake, as they should have realized the mirror image would have been a backwards 5.\n",
      "* * * * * * * * * \n",
      "7461\n",
      "Who actually created this piece of crap this is the worst movie i have ever seen in my life it is such a waste of time and money. I hate it how they create low budget sequels featuring D-Lister actors and a storyline so similar to the 1st one.<br /><br />I found this movie in the bargain bin sitting right next to Wild Things 2 and Death To The Supermodels for $2.99 what a fool i was to actually think that this could be good instead i watched in disgust as poor acting stereotypes ripped of the storyline and script from the 1st one.<br /><br />Whoever thought that this straight-to-video production was actually even a half decent film you must be on crackd or something because I think what pretty much most of the people who've seen this film thinks WHAT A LOAD OF CRAP!!!!\n",
      "* * * * * * * * * \n"
     ]
    },
    {
     "name": "stdout",
     "output_type": "stream",
     "text": [
      "7691\n",
      "This film is terrible. Every line is stolen from 8MM (the Italian dubbed version, at least). If you like trash... real trash, give it a try; but beware: this ain't the \\so bad it's good\\\" kind of flick. In its cheapness, it may really look like a porno but, believe me, if you're looking for \\\"snuff\\\", s & m, hardcore, softcore... or even an ordinary erotic thriller, go find something else in store! I'm telling you this, 'cause the absolutely uninspired and unconvincing shooting, acting, plot, dialogues (the only good lines, as I said before, are the ones they stolen from Joel Schumacher's 8MM!) will bore you to tears in a few minutes and the \\\"happy ending\\\" is absolutely revolting! I'll give it one star: a half for the sudden shot in the back scene, after \\\"the eyes of the victim\\\" monologue (stolen from 8MM as well) and a half for mom & daughter's sexy bodies (that didn't manage to keep me completely awake while watching this turkey, anyway!)\"\n",
      "* * * * * * * * * \n",
      "7828\n",
      "It is hard to make an unbiased judgment on a film like this that had such an impact on me at such a young age. This is with out a doubt the worst kind of exploitation film. I was unfortunate enough to see this film for the first time in my youth, Iwill never forget it. I thought it was the most horrible movie ever made. I then saw it again earlier this year and was once again horrified.<br /><br />I am not a zealot or one to say what others should and should not see but I did take great offense to the way in which something as horrible as rape was dealt with in this movie. I love lowbrow cinema but this is just plain nasty. Rent some Rus Myer instead.\n",
      "* * * * * * * * * \n",
      "7968\n",
      "This movie was rented by a friend. Her choice is normally good. I read the cover first and was expecting a good movie. Although it<br /><br />was a horror movie. Which i don't prefer. But no horror came to mind while watching the movie. It was a dull,<br /><br />not very entertaining movie. The appearance of Denise Richards<br /><br />was again a pleasure for the eye. But that's it. We (the four of us)<br /><br />we're a little bit disappointed. But feel free to see this movie and<br /><br />judge it yourself.\n",
      "* * * * * * * * * \n",
      "7981\n",
      "I should have listened. I was warned, and still, I paid money for this, after reading all the reviews, after knowing the original is \\so bad it's good\\\", and that part 2 does not fit into that category at all, still, even then, I couldn't resist. Exactly what happened here? Part one was Hilarious, it had so much politically incorrectness, and other Crazy, Fat Entertainment, and this one, there just couldn't possibly be a worse sequel on God's green earth, not Basket Case 2, hell, not even Troll 2. This is truly the worst sequel in history and that's really saying something considering the groundbreaking, bottom of the barrel qualities of the original. Criminally Insane part 2 was just a completely different brand of bad. Shot on Video, zero score, zero entertainment value, 1/3 consists of flashbacks of the original, and on top of all that, crazy, fat Ethel has lost a portion of her girth. I mean, honestly, is this some kind of sick joke?!? Thank's a lot, Nick Milliard. 1/1\"\n",
      "* * * * * * * * * \n",
      "8080\n",
      "There is NOTHING cool, hip, or clever about this film-- liking it just reveals an ignorance of true art cinema. How can you so easily forget that the central fact of this entire film is that these mean & ugly people are . . . SERIAL KILLERS! If they have to dismember total strangers in order to \\be a family again,\\\" then we don't WANT them to \\\"be a family.\\\" What part of that did you have trouble grasping? Why applaud this filth?<br /><br />THIS silly filth is what you do if you can't do art! One's head & life must be deeply empty to mistake this shallow viciousness as \\\"interesting.\\\" This is a camera without a brain. What really makes an artwork cool is profundity, questioning the status quo from a perspective informed by a knowledge of history (or, in this case, a knowledge of ANYTHING would be preferable!). Instead, this is just randomly piling up the ugliest images available in a world in meltdown, thanks to just the sort of empty meanness glorified as \\\"cool cause it's so far OUT, man!\\\"). These same violent events actually HAPPEN, every day. They are NOT \\\"just in the film.\\\" They refer to actual soul-less people who would do those same things to YOU. Do you WANT those things done to you? A child could have thought this up, it required zero imagination, it is NOT surrealism. This lazy crap has no content, is saying nothing--it's just the worst of the evening news, & it is saying nothing new, nothing we don't already know. It's \\\"the emperor's new clothes,\\\" the director hoping there are enough uneducated children, proud of their streak of inhumanity, for this sloppy filth to fly. I can see director Miike's demented fans now: chain-smoking teens-and- twenties drunks covered in tattoos, with metal hanging from holes punched in their faces, their knowledge-base inversely proportional to their intelligence estimate of themselves .<br /><br />There is NO PLOT to this--it is just sheer exploitation of shock-value violence. There is no \\\"hidden meaning\\\" anywhere in this poorly made film. It is fine to explore a film to see if you can find cinematic devices that are ingeniously artistic, BUT you cannot uncover a hidden meaning if one is not THERE! To DO that you need to view & review a REAL piece of cinema. There are PLENTY out there, directed by Fellini, Bergman, Fassbinder, Herzog, Altman, Bunuel, Kurosawa, Lynch, Tarkovsky, Peter Greenaway, Tarantino, Guillermo del Toro, Richard Linklater, Eisenstein, Aronofsky, Gus van Sant, Soderbergh, Shyamalan, Ordet. Why don't you view a REAL art film by the likes of these giants? This wannabe director, Miike, will NEVER make a film equal to one of the geniuses I just listed because he just doesn't have the talent! Anyone could slap together some chaotic crap like \\\"Visitor Q.\\\" Teenagers could throw that together in one afternoon! There's no message, no meaning, no plot, nothing to it at all. There are long lists of ART Films to learn from--but THIS \\\"Visitor Q\\\" is NOT an art film in any respect. It has no content to it. It's just one banal horror piled onto another, and the point to remember about those hideous crimes is that those things HAPPEN, every single day, somewhere in the world. They are NOT okay because they are \\\"just in the film.\\\" They refer to actual soul-less people who would do those same things to YOU. Do you WANT those things done to you? To others? Why? Because this world is already ugly enough, thanks to people who enjoy thinking about horrific events like this. <br /><br />There are sooooo many art films out there to use your mind to deconstruct, but you are wasting your talents with this piece of crap. There IS no deeper meaning. There is nothing to analyze; why keep trying? I've spent nearly 40 years watching practically every film ever made, and keeping up with all the new ones, but I've never seen anything as disgustingly pointless as this. It's not imaginative or even shocking, because these types of events happen daily all over the world. To make this film, or even to favorably review it, has caused over 50 young airheads who don't know any better to think it's \\\"cool.\\\" They may grow up thinking that, convincing others, some of whom may end up DOING these things--convicted killers often reveal how they started out just this way, by being desensitized to the horror of this gruesome inhumanity. Trust me on this,--I know cool, and cool this piece of crap AIN'T. Visitor Q has the FEEL of a genuine SNUFF film, and I'm still not sure it isn't, actually. <br /><br />Your actions have consequences, son. The world is awful enough already. Some violence like this COULD happen to YOU, or to the socially irresponsible director who cranked out this FAKE Art film. Believe me, you won't be thinking it's \\\"Cool\\\" when someone is sawing YOUR skull in half!\"\n",
      "* * * * * * * * * \n",
      "8148\n",
      "Without a doubt, this is one of the worst pictures I ever actually paid money to see - the kind of flick you choose out of desperation at the mall cinema during a Christmas holiday when you have missed the start times for anything good but still are dead set on seeing a movie! And that is exactly how I came to see this stink bomb...<br /><br />At the distance of the better part of three decades I can still smell the rotting fish that constitute this story line. Unbelievable plot - that a killer whale carries a grudge against an individual not of the sea - is laughable. And that's about all, except for a completely out-of-place \\love theme\\\" that plays over the finish of a film devoid of a love story. At least Charlotte Rampling is lovely (in a two dimensional role) but Richard Harris just chews up the scenery. He was no Captain Quint (Robert Shaw) and this is no \\\"Jaws\\\". Mercifully, I have put most of it out of mind and when I run across it on television air casts I move on immediately. \\\"Danger, Will Robinson!\\\" See the current t.v. commercial showing a husband and wife whale-watching (\\\"Orca - I love Orca...\\\") - at least it is over in sixty seconds. This flick represents 92 minutes of my life that I will never get back.\"\n",
      "* * * * * * * * * \n",
      "8201\n",
      "Normally when I go on a raid of the local Hollywood Video I head towards the B-Horror movies. To me the basic principals behind a B-Horror movie is it's camp value, Heavy Gore, Lots of needless Nudity, and special effects that anyone can put together with a pack of corn syrup and latex. I rented Cradle of Fear strictly because I've been a fan of the band since they released they're first Demo in 1995. The movie started off on an interesting note and then when I saw Dani Filth stomp on an extremely obvious latex mask I LAUGHED. When I saw the Lesbian sex scene for the sake of a Lesbian sex scene I LAUGHED EVEN HARDER. I spent pretty much the entire movie laughing and when I wasn't laughing I was shaking my head thinking about how a multi-million dollar rock star would want to make a movie that seemed like it was on a budget of multi-hundreds of dollars. The whole point of this movie to me seemed to attract the \\Hardcore Goth kids who think death, destruction, sex, blood, and Satan are the greatest things invented since Lava Lamps. That was really it. To me this movie seemed like 80.5% of the things that happened in this movie just happened for the sake of being Satanic. This movie had a lot of potential and really could have been a real good movie but in the end this \\\"Movie\\\" really is just an extended Cradle of Filth Video.\"\n",
      "* * * * * * * * * \n",
      "8210\n",
      "This movie was not very entertaining, certainly NO WHERE as original or as good as A Christmas Story. The characters (except the youngest) try to emulate the preceding actors, and they fail. The hillbilly neighbors come out of nowhere as they weren't a part of the first movie. This really sucked, might have been good with the original cast, then again maybe not because the story is so weak. Skip it.\n",
      "* * * * * * * * * \n",
      "8235\n",
      "If it wasn't for some immature gullible idiot I know insisting that I watch this \\documentary\\\" I would never have seen this comedy! This film is full of bad scripting and laughable moments. One in particular is where the Afghan police / soldiers arrest Don Larson for filming in the streets while they allow the cameraman to carry on filming his arrest and then drive away, still filming, presumably to his plush hotel. Then there's the scene where a car crashes into another car which has been turned upside down and parked nicely on the side of the road without any evidence of it being in a crash or explosion.<br /><br />I am surprised this has currently got the rating it has (5.8 / 10). I thought IMDb users had more sense.\"\n",
      "* * * * * * * * * \n",
      "8410\n",
      "I watched this film based on the very favorable reviews that I read about it here by others.<br /><br />They definitely saw something in this movie I didn't see, that's for sure.<br /><br />The movie starts off at a good pace, and the first 15 or 20 minutes of it are interesting, then it begins to get logged down and draggy, not to mention completely unbelievable.<br /><br />Eventually you find yourself saying: \\What?!? He's going to do that too? Just how far is he going to go with this thing?\\\"<br /><br />The plot begins with Jeff Goldblum's character, John, going into a deli to purchase a bottle of wine. There is a robbery and a new store clerk, Auggie Rose, gets killed during the robbery. <br /><br />John gets in the ambulance and goes to the hospital with the guy. This seems a little much, but wait, there's more.<br /><br />John becomes totally obsessed with Auggie Rose. <br /><br />For reasons that never make any kind of logical sense, John, who has a very good life, a beautiful, loving girlfriend, a secure, well-paying job, nice house, nice car, expensive suits--decides he wants to be a loser like Auggie Rose was, and experience life in a low paying job, living in a dump with a dippy girlfriend and possible connections with dangerous people.<br /><br />Why this dim-witted, half-baked film got favorable reviews I'll never know. Sure Goldblum does a good acting job - he always does - and his looks have improved with age -- but unless you have a BIG infatuation with Jeff Goldblum and have to see every film he's in, I wouldn't recommend this turkey. It's approximately two hours of your life you're not going to get back - and believe me - you'll have nothing to be thankful about when those two hours are over, other than being grateful you're not still sitting there watching this film!<br /><br />\"\n",
      "* * * * * * * * * \n",
      "8544\n",
      "Maybe I'm missing something because I've read more positive things about The Man Who Cheated Himself than I have read bad reviews - and I just don't get it. I like my noirs to have a little style to them with characters that speak, look, and act like Humphrey Bogart in The Big Sleep or Gene Tierney in Laura. None of the characters in this movie have that style or presence or whatever you want to call it. Take the lead actor, Lee J. Cobb. His rumpled, rolled-out-of-bed look is about as far from the dashing, smooth-talking noir archetype as you'll find. Or, take Jane Wyatt as the femme fatale as another example. This is one of the worst cases of miscasting I've seen in a while. She's just not convincing in the role.<br /><br />As for the plot, it's tired and lacks any real surprises or anything new for the genre. I could have predicted the outcome of The Man Who Cheated Himself after about five minutes. And that final cat-and-mouse chase scene is plain old dull. Ten to fifteen minutes of nothing happening really ruined any pacing the movie may have had going for it.\n",
      "* * * * * * * * * \n",
      "8715\n",
      "Baldwin has really stooped low to make such movies. The script, the music, just about everything in this movie is a waste of time.<br /><br />The sound FX do not sound real, they stick out way too much (technical gadgets etc.) If they are trying to make a movie about things like this, at least try to get real with it and drop those extra bleeps and beeps, because those gadgets don't really make loud sounds like that. Natural sounds like footsteps and such are non-existent, which gives it a void-like atmosphere.<br /><br />Directing seems to be OK for such a low budget film (I sure hope it was a low budget production), although it does seem fairly amateurish at times.<br /><br />Most characters seem empty and false, they simply haven't casted this movie very well. I'd imagine it would've been a better idea to make Baldwin speak some Spanish than to make Spanish actors speak English, when we all know that theirs is the language which is more vibrant and alive, that is why the actors performance can suffer greatly if an odd language is used. I mean, could finally someone realise how stupid it sounds to make international actors speak English with a bad accent? It's should've a long ago buried corpse in movie production. The production team ever heard of subtitles? This movie again manages to depict European police as lazy and corrupt, the societies as vulnerable and helpless. I mean if the plot again goes like \\The Interpol can't do jack, so let's call one American to bring down this international syndicate\\\" or whatever.<br /><br />Sony Pictures treads on the same path as Columbia before it, just producing movies for the hell of it. I'd imagine them to have some self respect also. Are buyers supposed to buy every dirty title just because Sony puts out something good a few times a year?! Maybe they should've used the same team as who were making Di Que Si - Say I Do. It's spoken in Spanish and Paz Vega and Santi Millan do a decent job keeping the movie afloat. Looks and sounds much better! Come on Sony, wake up, produce less, sell more.\"\n",
      "* * * * * * * * * \n",
      "8750\n",
      "Madhur has given us a powerful movie Chandni Bar in the past. His next film Page 3 was one of the worst movies of all time. It apparently tells the story of some high class people in India. After seeing a scene where the man forces another man for sexual reasons to Star in a Movie. I felt like spitting and breaking the DVD. Coincidently i did. The reason why was the movie contains scenes of child pornography and molestation. I literally vomited and was shocked to see a movie showing naked children. Very disturbing stuff, there was no need to show the children fully naked. One of the rich guys likes to kidnap poor children and sell them to foreign people, British men in this movie. I am shocked to know this film was a Hit in parts of India, otherwise Super Flop in UK, USA and Australia. I'm from UK, and this kind of stuff makes me sick, shouldn't of been released in UK.\n",
      "* * * * * * * * * \n",
      "8811\n",
      "I find myself wondering what the people who gave this a 10 saw in it that I didn't. This movie has a VERY hard time following and/or staying to a plot. If someone tells you it's a comedy, don't be fooled, it's about 98% percent odd-drama and 2% comedy. All actors turn in a great performance, that cannot be denied, however it seems like it really lost something somewhere. Don't know if the original script was good and it had to be edited down or what. This had potential, and instead it was really a flop. I would really like the hour and a half I invested in this movie back, but the video rental place doesn't do returns on time. Save your money and see something else.\n",
      "* * * * * * * * * \n",
      "8828\n",
      "Spoiler below, but read on or you'll never know the horrible fate that awaits all planing to rent \\Rodentz\\\".<br /><br />On a moonlit night, in a remote research laboratory, a major medical breakthrough is about to have deadly results. A chemical compound that was created to \\\"hunt and destroy\\\" deadly cancer cells has leaked from the hazardous waste disposal system into the building's basement. Now, the rodents involved in the laboratory experiment upstairs are not the only rats in the facility that will become the altered species. Professor Schultz, a leading bio-researcher, has just determined that the addition of a new enzyme now enables his \\\"hunt and destroy\\\" formulation to regenerate for the length of time necessary to neutralize deadly cancer tumors. When three varying degrees of the new mixture are administered to three different rats and the rest poured down the faulty \\\"Waste Hazard\\\" sink, shocking side-effects result in a night of terror.....right.....<br /><br />Seriously, this is probably the worst film I've seen this year. Everything about it screams \\\"Low-budget!\\\", from the horrendous acting to the special effects which are some of the worst I've ever seen. The characters are clichéd morons and act in stupid, predictable ways: walking down dark hallways alone, looking for a cat, tripping and falling so the \\\"rats\\\" can catch up with them, boarding themselves up in a small room, etc. <br /><br />While some films are cheaply made, this film really takes the cake. Every possible corner is cut, everything from reusing earlier shots, filming the \\\"Lab\\\" hallways from different angles to make it look bigger (That reminds me--why were only TWO guys working in this freakin' massive building?!?!?!?), to music and special effects that could be done on a children's workshop PC.<br /><br />That brings me to the worst aspect of this steaming pile of dung--the special effects. Just horrendous. The computer generated rats look so fake and stand out in every scene so even the dumbest of film buffs could see they are computer generated. And that giant rat suit--OH MY GOD!!!!!!!! seriously, are we supposed to believe that freaking beany baby is a monster? Just pitiful........On the better side, some of the gore looks pretty cool, especially considering the budget. <br /><br />The actors all suck. no one involved with the production cared or knew what they were doing. I've wasted enough time with review, just take my advice, it's garbage. 1/10.<br /><br />About the DVD: The transfer sucks, the audio is passable and there's a commentary track on the disk by the director and two of his friends, who say they had absolutely nothing to do with making the film but were there to ask questions and make comments. All three of these sub-human primordial slime are so incredibly stupid that they should be institutionalized before they can harm themselves or others. I don't want to waste any more of you kind reader's time or mine, for I am starting to remember more than I want to about this film..... DVD rating: 1/10.\"\n",
      "* * * * * * * * * \n",
      "8846\n",
      "This movie is horrible. Everything in it has been done before. There is nothing original. I cannot stand when writers don't come up with their own plots.<br /><br />A girl makes a wish on her 13th birthday and wakes up as an adult. Hmm, sounds a lot like a movie in the 80s called Big. What is even more annoying is Jennifer Garner's acting. She doesn't act like she is 13 she just acts like she is stupid.<br /><br />From then on, you can guess the whole plot. She gets a good job and it just so happens that a friend she had at 13 works with her. Wow, how awesome! But, no....her friend is bad and turns on her, trying to get her job. But, of course, she wins in the end when she comes up with a \\great\\\" idea.<br /><br />There's also a dancing scene in the movie that I've seen a thousand times before.<br /><br />I hate this movie.\"\n",
      "* * * * * * * * * \n",
      "8859\n",
      "Evil Breed is a very strange slasher flick that is unfortunately no good.The beginning of the film seems promising but overall it's a disaster.The dialogue is pretty bad but not near as bad as the acting.The acting is brutal and unbearable.Most of the characters deliver there lines horribly and even if that is on purpose the method doesn't work because the characters become annoying.Some of the kills are innovative but it took far too long to get to them.After about a half hour through the movie we get the first death (other than in the beginning)and then almost every other character is smoked within the next five minutes.The movie then turned into sort of a spoof with ridiculous looking characters,unrealistic karate like fights,and a scene in which a man gets his intestines pulled out of his a*sscrack.None of it is funny it's just plain ridiculous.The film then becomes ultra gory and ultra pointless.Most of the characters are clichéd even for slasher standards and are as solid as butter left on the counter for 5 days.Evil Breed isn't even laughably bad therefore it fails in it's main task.Watch Texas Chainsaw Massacre,Just Before Dawn,or See No Evil for a real slasher.\n",
      "* * * * * * * * * \n",
      "8871\n",
      "I do not believe all the praise for this movie. The play and movie were a ripoff of Sleuth. Michael Caine wishes he were Olivier, and Reeves wishes he were Caine. Caine even had the nerve to do a remake of Sleuth with Jude Law playing his original part. Jude Law? You mean the one that did the remake of \\Alfie\\\"? <br /><br />This movie was made during a period of Caine's career when it was obvious he needed to pay off gambling debts. He would do anything for money. He would star in such award winning movies such as this, and \\\"Beyond the Poseidon Adventure\\\". What seems to be driving the praise for this movie is Reeves death. He deserves better than to be remembered for this lousy movie. And so does Caine. This movie can be found in the $5.97 bin at Walmart. Along with gems like \\\"The Island\\\", and \\\"Blame it on Rio\\\".\"\n",
      "* * * * * * * * * \n",
      "8887\n",
      "This was the first Ewan McGregor movie I ever saw outside of Star Wars. Since then I have become a very big Ewan McGregor fan but I still can't bring myself to forgive this movie's existence.<br /><br />My sister has always been a huge Jane Austen fan and because of that, I have been subjected to various of the classics, Emma being one of them. I've always considered them irritating, stupid and boring. However, after watching this terrible rendition, I was forced to admit that the original Emma was delightful and charming. Ewan McGregor scarcely serves a purpose in this film after they hacked and mutilated the part of Frank Churchill. Gweneth Paltrow is ridiculous in an already ridiculous character and the rest of the film is unremarkable and stupid.<br /><br />My recommendation to anybody who is remotely interested in English period drama... go see the originals. If you're a Ewan McGregor fan... believe me, by skipping this film, you haven't missed anything but five minutes collective of him in a silly hat and a bad haircut.\n",
      "* * * * * * * * * \n",
      "8918\n",
      "Dreamgirls, despite its fistful of Tony wins in an incredibly weak year on Broadway, has never been what one would call a jewel in the crown of stage musicals. However, that is not to say that in the right cinematic hands it could not be fleshed out and polished into something worthwhile on-screen. Unfortunately, what transfers to the screen is basically a slavishly faithful version of the stage hit with all of its inherent weaknesses intact. First, the score has never been one of the strong points of this production and the film does not change that factor. There are lots of songs (perhaps too many?), but few of them are especially memorable. The closest any come to catchy tunes are the title song and One Night Only - the much acclaimed And I Am Telling You That I Am Not Going is less a great song than it is a dramatic set piece for the character of Effie (Jennifer Hudson). The film is slick and technically well-produced, but the story and characters are surprisingly thin and lacking in any resonance. There is some interest in the opening moments, watching Jamie Foxx's Svengali-like manager manipulate his acts to the top, but that takes a back seat in the latter portion of the film, when the story conveniently tries to cast him as a villain, despite his having been right from a business stand-point for a good majority of the film. Beyonce Knowles is lovely and sings her songs perfectly well, but is stuck with a character who is basically all surface glitz. Anika Noni Rose as the third member of the Dreamgirls trio literally has nothing to do for the entire film. Eddie Murphy acquits himself well as a singer obviously based on James Brown, but the role is not especially meaty and ultimately has little impact. Foxx would seem ideal casting, but he seems oddly withdrawn and bored. The film's biggest selling point is surely former American Idol contestant/Oscar winner Jennifer Hudson in the central role of Effie White, the temperamental singer who gets booted from the group and makes a triumphant closing act return. For me, Effie has always been a big problem in both the show and the movie. The film obviously wants you to feel sorry for her and rather ham-handedly takes her side, but I have never been sure that this character deserves that kind of devotion. From the start, Effie conducts herself for the most part like an obnoxious, egotistical, self-centered diva, who is more interested in what everyone else can do for her rather than having much vested interest in the group of which she is a part. When she is booted from the group for her unprofessionalism and bad attitude, the charges are more than well-founded, but the stage show/film seem to think Effie should be cut unlimited slack simply because she has a great voice. Even though the film tries to soften some of Effie's harder edges to make her more likable, the charges still stand. Her story becomes more manipulative by suggesting she should have our further sympathy because she is an unwed mother struggling to raise her daughter - using the implication that (much like the talent card) motherhood immediately makes any behavior excusable. Indeed the only big effort the film makes to show Effie's mothering is to tell us about it and then include a scene where she barks at her daughter in the unemployment office, insists that the girl has \\no father\\\" and then refuse to look for gainful employment to support them since singing is all she knows. In the hands of a skillful actress, the gaps could perhaps have been remedied with technique and charisma. Unfortunately, Hudson is not that actress. She sings well, but the dialog-driven moments do not come naturally to her nor do high emotional moments. Effie's signature moment (the aforementioned And I Am Telling You... number) is well-sung by Hudson, but emotionally flat in the acting department. Effie is supposed to expressing her rage and desperation at her predicament, but Hudson comes off as a cabaret performer belting out a hot number. All in all, not quite the emotional highlight one expects. The latter portion of the film is basically a predictable melange of events that maneuver Foxx into Hudson's earlier position and allow her to strut back in and lord it over everyone. Foxx's criminal offenses in the film are undoubtedly par for the course of many struggling record producers, but the film's seeming implication that he has it coming because he helped usher in the disco era is rather ridiculous, not to mention pretentious and condescending, particularly coming from a film with all of the depth of a puddle. The end result is a faithful rendition of the stage hit, drained of emotion, energy or anything that can be described as dynamic.\"\n",
      "* * * * * * * * * \n",
      "8931\n",
      "Another horror flick in which a goof-ball teenager battles a madman and his supernatural sidekick who want to take over?! Yes, but the fact that this one was from Canada gives it a slightly different feel. \\The Brain\\\" has troublesome teenager Jim Majelewski getting put into a treatment whose leader turns out to be a cult leader aided by a big ugly \\\"brain\\\". Can Jim stop him? I guess that since our northern neighbor has accomplished all that they have accomplished, they're entitled to make at least one ridiculous horror movie. But still, they'll probably want to be known for having national health care and all.<br /><br />The bad guy had a brain. Why didn't the people who made this movie?\"\n",
      "* * * * * * * * * \n",
      "8943\n",
      "To be a Buster Keaton fan is to have your heart broken on a regular basis. Most of us first encounter Keaton in one of the brilliant feature films from his great period of independent production: 'The General', 'The Navigator', 'Sherlock Jnr'. We recognise him as the greatest figure in the entire history of film comedy, and we want to see more of his movies. Here the heartbreak begins. After 'Steamboat Bill Jnr', Keaton's brother-in-law Joseph Schenck pressured him into signing a contract that put Keaton under the control of MGM. Keaton became just one more actor for hire, performing someone else's scripts. Then his alcoholism got worse. After 'Steamboat Bill Jnr', Keaton never again made a truly first-rate film. A couple of sources describe a would-be masterpiece comedy that Keaton claimed he *almost* got to make at MGM: a parody of 'Grand Hotel'. Biographer Tom Dardis has offered convincing evidence that Keaton made up this story.<br /><br />The heartbreak increases because, among the many years of Keaton's long steady decline, he just occasionally came up with a good film ... such as his short comedy 'Grand Slam Opera'. I continue to search for the lost footage of Keaton's dramatic scene with Spencer Tracy in 'It's a Mad Mad World': a sequence in which embittered cop Tracy telephones an old retired crook (Keaton) and tries to recruit his assistance in stealing Smiler Grogan's cash. That footage is almost certainly gone forever, but I keep looking.<br /><br />'Speak Easily', alas, is one of Keaton's films from the beginning of his decline. MGM were trying to build up Jimmy Durante (who, coincidentally, played Smiler Grogan three decades later) as a new comedy star. Unfortunately, MGM tried to build up Durante by teaming him with Keaton, whose style of comedy was simply incompatible with Durante's. (I'm a fan of both.) Throughout his career, Durante was a merciless scene-stealer: commendably, he knew that he was being built up at Keaton's expense, and Keaton was the only co-star whom Durante never attempted to upstage.<br /><br />Keaton was often cast as the victim of extremely cruel machinations. In 'Speak Easily', he plays a didactic and humourless Midwestern college professor named Post (because he's as wooden as one) who receives a letter informing him that he's inherited $750,000, which he must travel to New York City to claim. Does he make a 'phone call to verify this? Does he even check the postmark? No; he takes his life's savings out of the bank and rushes to New York. As soon as he's gone, Post's manservant confesses that he wrote the (fake) letter to jostle Professor Post out of his rut!<br /><br />Post, who thinks he's a 3/4-millionaire, crosses paths with Jimmy Dodge (Durante), who's trying to produce a musical revue but hasn't any money. The characters which these two brilliant comedians are playing onscreen simply fail to intermesh. Keaton is playing one of those eggheads (like Mister Logic in 'Viz') who intellectualises everything. Durante plays one of those annoying hepcats who is incapable of making any straightforward statement because the script requires him always to speak in slang. There's a painfully unfunny dialogue scene in which Durante is trying to talk to Keaton about money, but - instead of coming straight out with it - Durante has to use increasingly contrived slang terms like 'kale', 'cartwheels' and so forth ... while Keaton of course has no idea what Durante's on about. I'll give Keaton credit: his own dry and dusty prairie voice, his flat Kansas accent, is absolutely perfect for the character he's playing here.<br /><br />Sidney Toler, looking much leaner and more handsome here than he would be just a year later, is impressive as the excitable director of the revue bankrolled (on tick) by Professor Post. Henry Armetta, whom I've never found funny, is even less funny than usual here, offering a running gag with a stupid payoff. Thelma Todd impressed me here, in a more villainous version of the role she played in 'Horse Feathers' (a much funnier movie). Edward Brophy, one of my favourite character actors, is wasted.<br /><br />Part of the problem with 'Speak Easily' is that supporting characters behave in completely inappropriate ways. Keaton's lawyer shows up at Durante's theatre with an urgent message for Keaton ... but he isn't there, so the lawyer proceeds to divulge Keaton's personal business to the first total stranger he meets. (Fire that lawyer, Buster!) In another scene, Professor Post - the guy who's perceived as bankrolling this musical - blunders into the chorus girls' changing room, and all the chorus girls immediately squeal and cover themselves. I know for a fact that *modern* chorus girls would never react this way, and I seriously doubt that chorus girls in 1932 behaved that way either ... certainly not in response to the 'angel' controlling their show's pursestrings.<br /><br />SPOILERS COMING. About half an hour into the unfunny 'Speak Easily', the great Jimmy Durante seats himself at the piano, grins into the camera, and does that distinctive little shake of his head as he starts to play a tune. This is the moment when I thought that, at long last, this movie was finally going to settle down to its purpose of entertaining us. Alas, no. Most annoying of all is the ending of this film, which uses the single most hackneyed and implausible cliche in all of comedy: the one in which an utterly incompetent dimwit becomes a star comedian through his own ineptitude. (Keaton would be forced to replay this cliche in a 1955 episode of 'Screen Directors Playhouse'; Chaplin had already used it in 'The Circus'.)<br /><br />I very nearly wept - in anger and sorrow - at the wasted opportunities in 'Speak Easily'. Mostly out of respect for the work that Keaton, Durante, Toler, Brophy and Miss Todd have done elsewhere, I'll rate this movie 2 points out of 10.<br /><br />\n",
      "* * * * * * * * * \n",
      "8995\n",
      "There is a remark that one of heroines was raped on \\drunken rampage\\\" by Russian soldiers, which is completely untrue. This movie should not be shown only because of this.<br /><br />Also there is a statement by someone, that KGB prosecuted \\\"Jews, Gypsies etc\\\", which is \\\"worse than Nazis\\\". KGB was looking for so called \\\"zionist\\\" agents, who were (KGB believed) imperialist agents. This is totally different from targeting Jewry as a whole nation, as Nazis did. Gypsies were never prosecuted. KGB was political tool and used politically, but from internationalist standpoint. Communists really did not distinguish between nationalities.<br /><br />Whole movie stinks like fake. Main hero does not speak Russian, signs in Berlin contains typographical errors, KGB general looks totally phony. Some so called \\\"russian proverbs\\\" are totally made up, and list goes on and on.<br /><br />Not recommended to watch - this movie is full of lies, and phony stuff. Go to \\\"Good shepherd\\\" instead.\"\n",
      "* * * * * * * * * \n",
      "9006\n",
      "Cult of the Cobra is now available on DVD in a pristine print that does full justice to whatever merits it has as a movie. Unfortunately, that is not saying much.<br /><br />It has a competent cast of second-rankers that acquit themselves as well as could be expected under the circumstances. It is efficiently directed, entirely on sound stages and standing sets on the studio backlot. It looks OK, but is ponderously over-plotted and at a scant 80 minutes it is still heavily padded.<br /><br />For example, the double cobra attack on the first of the GIs was surely one attack too many.<br /><br />The business about Julia choosing to marry Pete rather than Tom never amounts to anything. Tom immediately falls in love with Lisa and she never has any reason to be jealous of Julia (nor is she).<br /><br />Julia's 'feminine intuition' is introduced as if it is going to lead to an important plot development, but it doesn't. Similarly, Pete's investigation into cobra cults and the suspicion that briefly falls on Tom serve no purpose other than to fill up screen time.<br /><br />These are just symptoms of the underlying problem. The movie is structured like a mystery but it isn't. As soon as the curse is pronounced we know exactly where the story is heading, so the characters are left painstakingly uncovering what we already know.<br /><br />The ending is particularly lame. Julia is menaced purely by accident. Lisa has no reason to want to kill her - she just happens to be in the wrong place at the wrong time. When Tom turns up in the nick of time to save her, it is not even clear whether she was threatened at all. He then simply disposes of the cobra in the way any of the previous victims might have done.<br /><br />It is such an inconsequential little pipsqueak of a story that I found myself wondering how on earth it had been pitched to the studio heads. Then it occurred to me. Someone said: \\Those Val Lewton movies were very successful over at RKO, so why don't we make one like that?\\\"<br /><br />Cult of the Cobra is clearly modelled on Cat People: mysterious, troubled, shape-shifting woman falls in love with the hero, is apparently frigid, kills people, arouses the suspicions of the hero's woman friend and dies at the end. But 'modelled on' doesn't mean 'as good as' - by a wide margin. It copies, but doesn't understand what it is copying.<br /><br />It is obviously trying for the low-key, suggestive Lewton style, but this approach doesn't follow through into the story. Lisa is no Irene. She is meant to be strange and mysterious but there is no mystery about her. We get a glimpse of her after the first attack in Asia, so immediately recognise her when she turns up in New York. There is never any doubt about her purpose. Neither is there any ambiguity about whether of not she actually turns into a snake.<br /><br />Then again, during her nocturnal prowling we get, not one, but two attempts at 'buses'. Neither come off, because the director doesn't understand what makes a 'bus' work and, in any case, they happen to the stalker, not the person being stalked.<br /><br />These faint echoes of Cat People give Cult of the Cobra whatever small distinction it might have, but they only draw attention to the yawning gulf between the original and the imitation.<br /><br />Plagiarism may be the sincerest form of flattery, but I doubt if Lewton or Tourneur were particularly flattered when this tepid little time-passer came out.\"\n",
      "* * * * * * * * * \n",
      "9083\n",
      "I've seen a lot of movies and rarely would I ever rate a movie \\1\\\" but this movie was beyond terrible.<br /><br />The acting was terrible, the plot was ridiculous, the effects were unrealistic and the characters were annoying. Usually when I watch scary movies I think it's DUMB when the characters hears a noise in house/forest/school/etc and then yells out \\\"hello is anyone there?\\\" - but at least they're believable when they do it.. This movie couldn't even get that right.<br /><br />This is a movie that'll make other B-horror movies like Venom and The Fog look like academy award winning masterpieces.<br /><br />I always have an open mind while watching movies and I can only say that this movie was a complete waste of time and I write this comment so that anyone else who's thinking of watching this movie will think again. IT'S AWFUL!\"\n",
      "* * * * * * * * * \n",
      "9121\n",
      "I finally got to have a look at this experimental Lynch short after waiting for so long....and unfortunately, it wasn't worth it! Even for a die hard Lynch fan, I found this to be really tedious....<br /><br />nothing happens, there are long, long, long painful pauses where nothing happens, long, monotonous speeches where nothing is said and the whole thing finishes with the viewer not knowing, or caring, what the hell it was all about, what happened before and what happened afterward. <br /><br />There was a Mulholland Drive allusion - the blonde girl and the brunette girl were very Diane and Rita -esque, and a Lost Highway moment with allusions to some significant event that happened but cannot be talked about clearly. <br /><br />Unfortunately, It's all very uninteresting and very dull, nothing happens, it's very forgettable and I think i will delete it from my computer and forget I ever watched it. Sorry David!\n",
      "* * * * * * * * * \n",
      "9249\n",
      "C'mon guys some previous reviewers have nearly written a novel commenting on this episode. It's just an old 60's TV show ! This episode of Star Trek is notable because of the most serious babe (Yeoman Barrow's) ever used on Star Trek and the fact that it was filmed in a real outdoor location. Unlike the TNG and Voyager series which were totally confined to sound stages.<br /><br />This use of an outdoor location (and babe) gives proper depth and an almost film like quality to a quite ordinary episode of this now dated and very familiar show.<br /><br />Except a few notable exceptions i.e \\The city on the edge of forever\\\" , \\\"assignment Earth\\\" and \\\"Tomorrow is Yesterday\\\" The old series of Star Trek needs to be seriously moth-balled and put out of it's boring misery. Half a dozen good episodes from 79 is quite a poor batting average.<br /><br />This is typical of the boring stuff Gene Roddenberry produced back then actually, contrary to popular belief where some people worshiped the ground he walked on, he actually made a LOT of rubbish! He doesn't deserve to be spoken of in the same breath as Irwin Allen for example.<br /><br />Just look at the set of the bridge of the Enterprise from a modern point of view. They used wobbly plywood for the floor, cafeteria chairs with plastic backs and cheap cardboard above the instrument panels. You can clearly see the folds in the paper ! Every expense spared or what !\"\n",
      "* * * * * * * * * \n",
      "9309\n",
      "The spoilers in this review are offered as a public service, because the only way to enjoy this costume melodrama is to know that our protagonist, the Lady Barbara Skelton, gets raped and gunned down in the end. And not a moment too soon. I'd have shot the screen myself but I was afraid I'd hit James Mason.<br /><br />The original 1943 novel, called \\The Life and Death of the Wicked Lady Skelton\\\" (I guess people didn't whine about spoilers back then), was written by a woman, an English navy brat who was either troubled or cynical or both. Her heroine is devastatingly beautiful, and the author seems to think that if you have beauty, nothing else matters. But other things do matter, such as the fact that Lady Barbara's immediate and only response when someone gets in her way is homicide. She murders three men in five attempts. A serial femme fatale, she's got a case of dissocial personality disorder that should have landed her in either Bedlam or Newgate. <br /><br />Lockwood plays her as a narcissistic vamp, wearing so much makeup that I thought of her as a Restoration-era Joan Rivers (or a restoration-era Joan Rivers, ha!). Yet Lady B. is irresistible to all three principal male characters-- Michael Rennie, James Mason, and Griffith Jones, all of whom do good work, as does Patricia Roc. Of course, all three admirers realize in short order what a psychotic bitch Barbara is, but the plot keeps them all in her orbit until one of them finally does gun her down - accidentally, in what is meant to be either irony or just desserts. Given the dramatic death scene with a boom lifting the camera out through the windows and heavenward, I presume we're meant to give a damn about her death. But hers is the first corpse we don't care about.\"\n",
      "* * * * * * * * * \n",
      "9431\n",
      "The novelty of hearing clean-cut Jay Leno spout four-letter words is the only memorable aspect of this formulaic mismatched-police-partners caper. In COLLISION COURSE, the pelican-faced comedian teams up with the late Pat Morita to track down a stolen prototype turbocharger (think car lover Leno played a hand in the plot?). The two leads try hard, they really do, but Leno is no actor and Morita's fish-out-of-water routine gets old in a hurry. The film carries a bit of cheesy '80s appeal, but its worthy moments become increasingly scarce as it fills out its overlong 100-minute running time. Fans of Leno's considerable comedic talents will feel let down; everyone else will just be bored.\n",
      "* * * * * * * * * \n",
      "9449\n",
      "I was expecting a B-Movie French musical. After all, Dhéry, Blanche, DeFunès were superstars of low budget French films of that time. And it is in color! But I have hallucination in this unbelievable one hour 30 of pure mediocrity. Musical numbers are awful, and comedy is absolutely boring and stupid. And the songs? What songs? This is just a succession of bad numbers, one after another. The only one very rare thing about that thing is the nudity of women. It was not familiar at that time. In fact, some numbers are just there to show us topless women. It adds to the mediocrity! And try to find young Michel Serrault, the future great actor of French cinema, in a bit part as a musician, in his very first movie. Good luck!\n",
      "* * * * * * * * * \n"
     ]
    },
    {
     "name": "stdout",
     "output_type": "stream",
     "text": [
      "9620\n",
      "Let's start by the simple lines. From the viewer's side, there a couple of good \\director details\\\", some points of view at the movie scenes that are nice. The special effects are good enough, a good acting/good scenery also. But the story is way too simple. It shows how a elite Army bomb squad unit lives, acts and sometimes dies. It shows the drama of living in war. In my movie experience as a serious action movie \\\"addicted\\\" guy, I missed that click that gets my eyes and mind stuck on the screen. One of the things that need to be present in a movie in order to I consider it a good one is the ability of immerse the viewer in the movie reality and time. It didn't happened to me. I stayed \\\"conscious\\\", for the entire movie.<br /><br />Honestly speaking, I think that this movie gained its place in fame based on the \\\"subconscious\\\" appeal of American patriotism, a healthy and genuine feeling, but not the adequate use as a movie fame generator. More than a movie about war, it grows its popularity based on that.<br /><br />A simple thought: if this was a world war II or I movie, only changing time, with everything remained the same, would it be this awarded? Sure not. Why? Because there are great ones that elevate the bar way to high.<br /><br />Compared against its rivals in the Oscars, I don't think that all of the prizes it won are correctly awarded.\"\n",
      "* * * * * * * * * \n",
      "9624\n",
      "There are many different versions of this one floating around, so make sure you can locate one of the unrated copies, otherwise some gore and one scene of nudity might be missing. Some versions also omit most of the opening sequence and other bits here and there. The cut I saw has the on-screen title WITCHCRAFT: EVIL ENCOUNTERS and was released by Shriek Show, who maintain the original US release title WITCHERY for the DVD release. It's a nice-looking print and seems to have all of the footage, but has some cropping/aspect ratio issues. In Italy, it was released as LA CASA 4 (WITCHCRAFT). The first two LA CASA releases were actually the first two EVIL DEAD films (retitled) and the third LA CASA was another film by the same production company (Filmirage), which is best known here in America as GHOSTHOUSE. To make matters even more confusing, WITCHERY was also released elsewhere as GHOSTHOUSE 2. Except in Germany, where GHOSTHOUSE 2 is actually THE OGRE: DEMONS 3. OK, I better just shut up now. I'm starting to confuse myself!<br /><br />Regardless of the title, this is a very hit-or-miss horror effort. Some of it is good, some of it isn't. I actually was into this film for the first half or so, but toward the end it became a senseless mess. A large, vacant hotel located on an island about 50 miles from Boston is the setting, as various people get picked off one-by-one by a German- speaking witch (Hildegard Knef). Photographer Gary (David Hasselhoff), who wants to capture \\Witch Light,\\\" and his virginal writer girlfriend (Leslie Cumming), who is studying witchcraft, are shacking up at the hotel without permission. Along comes real estate agent Jerry (Rick Farnsworth), who's showing off the property to potential buyers Rose (Annie Ross) and Freddie (Robert Champagne) Brooks. Also tagging along are their children; pregnant grown daughter Jane (Linda Blair) and very young son Tommy (Michael Manchester), as well as oversexed architect Linda Sullivan (Catherine Hickland - Hasselhoff's wife at the time). Once everyone is inside, their boat driver is killed (hung) and the boat disappears, so they find themselves trapped and basically at the mercy of the \\\"Lady in Black.\\\"<br /><br />So what can you expect to find here? Plenty of unpleasantries! One of the characters has their lips sewn shut and is then hung upside down in the fireplace and accidentally slow-roasted by the rest of the cast. There's also a crucifixion, witches eating a dead baby, a swordfish through the head, someone set on fire, a possession, a Sesame Street tape recorder, the virgin getting raped by some demon, a guys veins bulging and exploding thanks to voodoo doll pokes and some other stuff. From a technical standpoint, it's a nice-looking film with pretty good cinematography, a decent score and good gore effects. The hotel/island setting is also pretty nice. Blair (particularly at the end) and Ross both seem like they're having fun and Knef is great as the evil witch. Even though people like to ridicule Hasselhoff these days, he's not bad in his role, either.<br /><br />On the down side, despite all the gore, the film seems somewhat dull and it gets monotonous after about an hour. The supernatural themes are muddled and confusing, too. When characters are being swept into the witches lair to be tortured and killed, the filmmakers unwisely decided to superimpose the screaming actors over some silly looking red spiral vortex effect that looks supremely cheesy. And the witch lair itself is vacant and cheaply designed with unfinished lumber. And while most of the cast is at least decent, a few of the performances (particularly the \\\"actress\\\" who plays Hasselhoff's girlfriend and the kid) are so bad they're constantly distracting.\"\n",
      "* * * * * * * * * \n",
      "9651\n",
      "Only a handful of the segments are engaging here. A segment with a garage attendant from Nigeria is heartbreaking. One with Fanny Ardent & Bob Hoskins makes its point, twist by twist until the final shot overplays things. <br /><br />The problem with this movie is that only a few of the clips invoke Paris. The others are so scatter-shot in theme, tone, volition & production that you may as well be watching \\The Years Best Commercials, 2006.\\\" It's really all over the place. It doesn't develop over it's running time, and nothing reigns the directors in. No construct successfully joins the pieces... tedium sets in. I'm at the one hour, twenty minute point and Elijah Wood is in some dumb, over-commercial, overproduced vampire shtick. It has about as much to do with Paris as old ladies knitting in the Antartic. Fantasy shows up I think first in the Coen Brothers segment (Uh, thanks J & E for ruining another movie) and then makes way too many appearances. The point of being in Paris is that you don't need make-believe crap to make your days extraordinary. Why divide it by neighborhood if Quartier de la Madeleine is equated with vampires for some loser director? Has there ever been a genre more over-represented than the vampire film. Every three years we get the same lame vampire clichés.<br /><br />Making things worse is that the switch from segment to segment is pretty artless. The transitions get lost. This doesn't feel intentional, it feels sloppy.\"\n",
      "* * * * * * * * * \n",
      "9710\n",
      "Susan Seidelman seems to have had a decent career with a few top notch credits under her belt. I'm certainly glad she bounced back from this film which seems to have its admirers. I'm not one of them.<br /><br />I've seen better acting in high school plays than I did in Smithereens. The plot such as it is involved young Susan Berman who is ambitious to make it in the world of music and is willing to do just about anything to get there. She even rejects the sincere advances of a young artist who is living out of his van off the East River played by Brad Rijn.<br /><br />Young Mr. Rijn contributes the worst performance in the film, in fact one of the worst acting jobs I've seen in a long time. No wonder he's not gone anywhere.<br /><br />I will say that Seidelman's eye for the camera is a good one in capturing the familiar East Village locations where the film was mostly shot. But her work with her live performers didn't measure up. I'm not sure she had that much raw material to work with.<br /><br />Look fast and you'll see a very young Christopher Noth before Law and Order and Sex in the City as a street hustler.<br /><br />If you like punk rock, you might sit through this for the soundtrack. I'll stick to Bing Crosby.\n",
      "* * * * * * * * * \n",
      "9886\n",
      "Absolutely dreadful Mexican film supposedly based on a short story by Edgar Allan Poe about a newsman wanting to go into the confines of an asylum hidden in the woods to write a story about how it works, etc... When our hero, Gaston, is given the grand show by Dr. Maillard, head of the asylum, we see all kinds of things which are suppose to be horrific, such as men hanging around long in a dungeon, and comedic, such as our hero being joked upon by soldiers as he climbs down a ladder hanging over the side of a building. Then there is one sight which might have been meant to be both: a human man dressed as a chicken, yes, that's right a chicken, that pecks around the ground for chicken feed. The scene was to be a comedic highlight of the film, but, at least for me, it was the film's low point and really most revolting when you considered that grown men and women thought this might even be remotely entertaining. Ah! That is indeed the real horror that is Dr. Tarr and his Legion of Name Changes. And that brings me to this salient fact about the film which is most films that undergo multiple title changes usually have some kind of serious problem. Yes, this is obvious, but some have distribution problems and others, of which this is one, have numerous title changes so that someone might unsuspectingly buy the same garbage more than once. This is definitely garbage. It has very little going for it. The only performer worth having a look at is Claudio Brook as the head of the asylum. He is one huge slab of ham as he laughs maniacally, bellows orders, sashays with sword in hand, and praises the chicken. I got so tired of hearing him talk about the \\soothing system\\\" as his means to cure the mentally sick. What a bunch of ludicrosity(Hey, a film like this with a script like this deserves this kind of word). It won't take you long to figure out what is going on in the asylum nor will it be any more interesting. Cinematic chicken scratch!\"\n",
      "* * * * * * * * * \n",
      "10084\n",
      "This movie is a modest effort by Spike Lee. He is capable of much more than this movie.Get on the Bus while apparenly anti racist, does nothing but berate whites and degrade the black status quo. The plot of this movie is about a group of black men who travel on a bus to Louis Farrakhan's million man march. The bus has every type of person you could imagine:gay, muslim, gangbanger and the Uncle Tom(He is thrown off the bus though). There was one only white person on the bus. He was accused of being a racist the minute he got on the bus to drive. Despite him being a jew and the fact that he explained is situation he ended up being a racist and leaving the bus.I hate to say it but films like this need to realize their own hipocracy and rienforcation of steryotypes. This should not be seen as a triumph but a sad dissapointment. You may think I am a racist for writing this but I mean well. Better luck next time Spike.\n",
      "* * * * * * * * * \n",
      "10173\n",
      "This movie was strange... I watched it while ingesting a quarter of psilcybe cubensis (mushrooms). It was really weird. Im pretty sure you are supposed to watch it high, but mushrooms weren't enough. I couldn't stop laughing.. maybe lsd would work. The movie is a bunch of things morphing into other things, and dancing. Its really cheesy for todays standards but when it was released im sure it was well... one of a kind. I could see how some people would think this movie was good, but I didn't think it was very interesting, and I was on mushrooms at the time. If your having a party or something and everybodys pretty lit, pop it on you'll get a few laughs.\n",
      "* * * * * * * * * \n",
      "10327\n",
      "In Theodore Rex poor Whoopi Goldberg is set up as a tough police cop who gets to work with a pathetic dinosaur on a case. The movie tries to be funny, and tries to make a story about abductions and more but it never works. The movie is far from funny, and the story is ridiculous. I voted 1/10\n",
      "* * * * * * * * * \n",
      "10356\n",
      "Good Lord, what were they THINKING??!!!!!! Here is your spoiler warning, even though I don't think it'll really matter. You won't be seeing this piece of trash anyway.<br /><br />A group of handpuppets go chasing after a group of really stupid people, who go on a really stupid hunt for them to try and kill them, and the puppets complicate things by letting them live out their really stupid fantasies. In other words, the whole thing is really stupid.<br /><br />You KNOW it has to be bad when even Mike and the Bots can't save something!! And they didn't! I know, some of their lines were funny, like what to add to the sign \\HIT\\\" and the hand comments, but, geez, this was pretty dang sad.<br /><br />All I can say is DO NOT WATCH THIS PIECE O CRUD. IT IS NOT WORTH YOUR EYES.\"\n",
      "* * * * * * * * * \n",
      "10364\n",
      "Okay, I rented this movie because of the director...he has made some interesting flicks in the past (if you haven't seen Waxork you are missing a fun ride). Anyway, I had my doubts about this movie from the beginning but I decided to suck it up and give it a look. It's bad. Very bad. If you haven't seen the movie and don't mind spoilers read ahead. First of all, the old saying 'You can't judge a book by it's cover' applies here. The box for this flick seems to indicate that Jill is the stone fox with long hair with highlights. The back of the box has a cool shot of the red-leather Jill and some other shots. The description makes you want to rent the movie because it SOUNDS good. You start watching it and suddenly you find out that the movie takes place (inexplicably) in 1977. Jill is a total dog who is not the girl on the cover. The movie is not quite as predictable as you would think...and that's not a good thing. Characters do so many stupid things without any modicum of motivation...it's embarrassing to watch. 10 minutes before the end of the movie Dolph and another lady have sex for no good reason. Also, what was the point of having Dolph kill this other lady in cold blood who had been helping him. Anthony Hickox the director should have seen a stinker when he read the script. Had it been set in the underworld of the new milennium and made the characters halfway intelligent it might have been decent. To set it in the 70's makes no sense and has no bearing on the story whatsoever. Avoid it!\n",
      "* * * * * * * * * \n",
      "10724\n",
      "I've seen plenty of Sci-Fi Channel Original movies ever since I started watching them back in 2002 (My first one was Sabretooth - which actually is one of the more entertaining Sci-Fi Channel features in my opinion). Their quality varies. Some of them are average but decent (Sabretooth, Dragon Fighter, Never Cry Werewolf, Swamp Devil), some are laughably bad, and then there are some that are truly terrible. Raptor Planet lies in the latter. <br /><br />Raptor Planet, a loose sequel to the 2004 Sci-Fi Channel Original Raptor Island, is a barely watchable mess of a film with truly horrid acting and lazy scriptwriting. The effects that bring the dinosaurs to life (a combination of puppetry and animatronics as well as CGI and stock footage from Raptor Planet) are some of the worst looking effects I've seen in a low budget film. The gore effects are even unconvincing. <br /><br />The plot involves a bunch of commandos who for some reason (I forget why) travel to a planet of alien dinosaurs. That's right folks, the dinosaurs are aliens. Dinosaurs in outer space. What's next, sharks in space?!? The rest of the plot is simple. The human cast are picked off and eaten. By now, we've come to expect this in the numerous dinosaurs movies and novels that are released, but this is the first killer dinosaur movie I've seen where I actually became bored with all the dinosaur attacks.<br /><br />There are a few chuckles in it though. There's one scene that stands out in which a man is being munched by a Carnotaur (brought to life by stock footage from the original film) that seconds later becomes a giant raptor. Also, a bit of trivia, this is the scene where Steven Baur is shooting at his own death scene from the first movie. <br /><br />While Raptor Island wasn't a good film to begin with, its a masterpiece compared to its sequel.<br /><br />Believe me when I say, this is quite possibly the worst movie Syfy has ever aired. It's darn near unwatchable.\n",
      "* * * * * * * * * \n"
     ]
    },
    {
     "name": "stdout",
     "output_type": "stream",
     "text": [
      "10765\n",
      "Ever since the cinema-loving universe made acquaintance with a guy named George A. Romero, the word \\zombie\\\" automatically gets associated with blood-soaked horror images and non-stop acting sequences. It's safe to say that his \\\"Night of the Living Dead\\\" formed the zombie movie as we know it now. Yet, in the earliest years of cinema, the premise of reanimated corpses was merely used in slow, nearly action-less psychological thrillers. Jacques Tourneur's \\\"I walked with a Zombie\\\" is a perfect example and so is \\\"White Zombie\\\", starring Bela Lugosi. This \\\"Revolt of the Zombies\\\" could have been another example but unfortunately it's a failure over the entire line and easily one of the most tedious movies I ever saw. Dreadful acting, a very poorly written screenplay and a complete lack of atmosphere and tension! The film only lasts 65 minutes and yet the first half hour is entirely wasted on stupid love-story intrigues and unexciting monologues. The setting in the legendary Cambodian city of Angkor surely could have resulted in a more compelling story but all we ever see are interior shots. The lead actress (Dorothy Stone, textbook blonde with curly hair and an ugly nose) irritated me enormously and I kept hoping a ravenous undead would suddenly appear out of nowhere to devour her. Unlucky again",
      ". If you manage to struggle yourself through 60 soporific minutes, you'll be rewarded with a fairly decent finale. Still, this is far too little to give this film a positive rating, let alone a recommendation. Avoid! This is the type of movie you should only see in case you already saw everything else.\"\n",
      "* * * * * * * * * \n",
      "10853\n",
      "True, there are many movies much worse then this movie. This movie was no Manos: The Hands of Fate, or Troll 2 (yes, I have seen them both.. twice) but at the same time this movie is No Alien, Predator or even Alien Vs. Predator (Yes, even that movie surpassed this). Movies like this make Battlefield Earth look like a Star Wars it is so bad. Razzie awards lookout, your biggest competition has just arrived in theaters. This film I'm talking about is of course Alone in the Dark. I'll try to take you though a step by step process on why this film was so bad.<br /><br />Acting- I'll first start off with what perhaps was the best component of this film (next to the ending credits, which played 'Wish I had An Angel', the acting. Christian Slater must be proud of himself, he successfully proved that it is possible to act decent in a film worse then drinking antifreeze. Though all his awful dialog he had to speak, it made me wonder why he just didn't walk off the set halfway. Perhaps it was because of Stephen Dorff being in the film as well (somebody he wishes he could be but fails at it). Tara Reid is a bad actress but good looking and that's all that really matters in films like these. That is not to say the acting was perfect though, it was average, not good, and perhaps the only thing in the film not good.<br /><br />The Soundtrack- Except for 'Wish I had An Angel', the soundtrack is pointless and bad heavy medal being pumped into the viewers ears, perhaps to disguise the awful story (something I will get to soon). A long and very expensive 2 CD soundtrack is now up for sale for those musically challenged.<br /><br />The Directing- Directed by Hollywoods favorite director Uwe Ball who brought us the classic House of the Dead. Telling us \\Yes, movies can get this utterly bad and that's just the beginning to my deadly saga of awful movies\\\". At least it is said to be directed by Uwe Ball. Without being told I would have guessed a monkey was kidnapped from the Congo, brought here and forced to make opinions on how to make the movie under penalty of being shocked. The director of photography was probably a camcorder taped onto a skateboard and pushed forward until it hits a wall. On the scenes where the camera should stay still it is constantly moving, not allowing us to stop anywhere and when it should be moving in action, the camera stops for some reason.<br /><br />The Producing- Who on earth is stupid enough to put money towards this bomb? I pity the fool... sometimes. Sometimes I'm glad he or she was taught such a lesson to never put money towards garbage worse then dog dung tied up in a bag.<br /><br />The Writing / Storyboard- Trying to Analise the story is more painful then jamming an ice pick under a big toe and kicking a soccer ball as hard as I possibly could with it right after but I will still attempt it.<br /><br />Edward Carnby escapes as a child from an orphanage where 20 children where to go under science experiments. He escapes and hides in an electrical outlet where he is electrocuted (this is the point where it got so bad i started to laugh out loud). Then it fast-forwards many years later where he's a paranoia detective. He get's attacked by some zombie that can't be shot to death, kills it and moves on with life. Later on he gets attacked by some crazy looking monster and he discovers secrets that nobody else knows.<br /><br />Yeah, the plot is bad, really really bad. The film beings with expecting us to read approximately 10 minutes, which felt like 100, of random text about an untrue civilization called the Abskani. The film goes not to have one twist after another, more then the audience can handle, more then the audience wants to handle, more then the audience could ever care about. This storyline is rock bottom bad that even Double Dragon does better.<br /><br />Overall, miss out on this movie. I gave it a 1 out of 10 but that is because there is no 0.\"\n",
      "* * * * * * * * * \n",
      "10958\n",
      "This movie has a slew of great adult stars but fails to get you interested in a way an adult film should. Among all the stars you couldn't get your kicks from any of the scenes. The movie is shot in a dream like middle age set which is embarrassingly cheesy. The acting is worse than Keanu Reeves, the sex scenes are as exciting as listening to your neighbor talk about their kid in college, and the dialogue is the worse I have seen in a movie. The plot also was worse by ten fold. I'd stick to the amateur route. The audio commentary was useless since it's a skin flick but even then that was bad too. Unless your a diehard Jenna Jameson fan there is little here. 4/10\n",
      "* * * * * * * * * \n",
      "11008\n",
      "Wonderful actors. <br /><br />Lousy script and not too great direction either. My main problem was I simply didn't CARE about any of these people. Not the killer not the victims. The settings were pretty drab. Dennis Quaid's character was so poorly written in, I didn't even care when the end came. He got his kid back. Big deal! I wanted my money back.\n",
      "* * * * * * * * * \n",
      "11146\n",
      "When I rented this movie, I had very low expectations......but when I saw it, I realized that the movie was less (a lot less) than what I expected. The actors were bad (the doctor's wife was one of the worst), the story was so stupid...it could work for a Disney movie (except for the murders), but this one is not a comedy, it is a laughable masterpiece of stupidity. The title is well chosen except for one thing: they could add stupid movie after Dead Husbands! I give it 0 and a half out of 5.\n",
      "* * * * * * * * * \n",
      "11168\n",
      "Absolutely one of the worst movies I have ever seen! The acting, the dialog, the manuscript, the sound, the lighting, the plot line. I actually can't say anything positive about this, although I enjoy Swedish movies. The fighting scenes are so ridiculous that it's impossible to take it seriously. And when the lead character just happens to loose his shirt, while dodging bullets in a strip bar, I'm not sure if it's supposed to be a joke, or if someone really thinks these are ingredients in a good film?! Regina Lund is the only half descent actor, but she disappears in a flood of laughable pronunciations and unbelievable reactions. It leaves you horrified that someone actually spent time and money on something like this...\n",
      "* * * * * * * * * \n",
      "11228\n",
      "I admit that the majority of this film was uninspired,but i was still entertained. It has a wonderful sense of frenetic energy,above average music,and the women in the film fiercely defend themselves,there's no prissies here. I can think of dozens of other films that were way worse,at least this one had an intriguing plotline along with some social commentary.They allude to how the military deals with viral epidemics,destroy everything in sight,even if it means the people you're supposed to be saving.Also, how dangerous martial law can be since at that point democracy ceases to exist. Fulci seemed to attempt to combine his earlier work(zombie,beyond,gates of hell)in an effort to somehow improve on them.He failed,but definitely not miserably,like a number of people would have you think.I have a soft spot for zombie films, so i admit that i'm somewhat biased when it comes to reviewing them.All i'm saying is that this movie is good for one time around,if there wasn't so much descension in the making of this film(fulci quit and bruno(i can hack with the best of them)mattei took over)it could have been much better and more focused.It's going to stay in my collection as fulci's zombie swan song.One surprising note, is that there is a scene in zombie 3 that cemetery man actually ripped off,i couldn't believe it myself,check it out you'll be surprised.\n",
      "* * * * * * * * * \n",
      "11297\n",
      "The only reason I saw \\Shakedown\\\" was that it has Erika Eleniak in it. She's sexy as always, but she plays second fiddle to leading man Wolf Larson. It's a pity, because she has more action capabilities than she's allowed to show here. The film largely consists of endless shootouts that quickly become monotonous - especially when most of the time you are seeing the bad guys armed with machine guns constantly missing Larson and him armed only with a revolver (that NEVER runs out of bullets) taking them all out rather easily. The earthquake effects are decent, but there is also a lot of blurry motion and poor CGI explosions. As the psychotic \\\"spiritual leader\\\", Ron Perlman tries, but the pseudo-religious mumbo-jumbo he has to spout is simply boring. Eleniak, Perlman or Larson (assuming he has any) completists might want to give this one a look, for others it is barely worth a rental. (*1/2)\"\n",
      "* * * * * * * * * \n",
      "11312\n",
      "This ludicrous and inept film is certainly the most misguided version of \\Hamlet\\\" to ever reach the screen. Branagh's approach to the material can only be described as vulgar; going to such lengths as depicting Ophelia in a straight jacket, having Fortinbras' army appear suddenly on the horizon (looking very much like the climax of \\\"Monty Python and the Holy Grail\\\") when the palace is apparently guarded only by Francisco (who shouts the very un-Shakespearean cry of \\\"ataaaaaaaaaaaaaaaack\\\" before being gunned down), and multitudes of star cameos that harken back to the days of Jimmy Cagney's Bottom and Mary Pickford's Kate.<br /><br />Branagh chose to set his film in an Edwardian setting but at the same time decided to employ an almost uncut text, so that frequently the dialogue that is firmly rooted in Elizabethan mentality makes no sense in the context that it is being performed. And Branagh does not concern himself with such textural subtleties as the ambiguous nature of Hamlet and Olphelia's relationship, treating the audience to a vulgar nude sex scene between the couple that tosses any ambiguity right out the stained glass window.<br /><br />The uncut text does allow Branagh to indulge in his favorite cinematic pastime: more footage of Kenneth Branagh. This is never so apparent as in the \\\"How All Occasions Inform Against Me\\\" speech that ends the first half of the nineteen hour film (at least that's how it feels), which attempts to play to a dramatic crescendo along the lines of Gone With The Wind's \\\"I'll never be hungry again.\\\" This may serve Branagh's ego, but it does not serve Shakespeare or the speech: when I saw the film in the theater, I leaned over to my companion and snickered \\\"Great Moments With Mr. Hamlet.\\\" Branagh saves the funniest and most tasteless moment for last, when he attempts to out-do the Olivier film and its justly celebrated death of Claudius by having Hamlet jump from off a high tower onto the monarch, impaling him with a sword. Branagh's Dane does in the king by heroically throwing an apparently magic rapier from across the palace to run through Claudius' heart with a super hero's bulls eye. The only thing that saved the moment from being unbearably maddening was that it was so off-the-wall funny.<br /><br />While this film has been praised in some quarters as a serious depiction of the tragedy, it is in fact nothing but a star-studded display of a once-talented filmmaker being overtaken by his own narcissism. The Emperor has no clothes, and this Hamlet has nothing to offer but a few unintended laughs and the appalling sight of one man's ego out of control.\"\n",
      "* * * * * * * * * \n",
      "11337\n",
      "just below the surface lies what? a simply awful movie is what.<br /><br />as other viewers have justifiably commented, the storm sequences are just plain ridiculous. chopping already sodden firewood in the pouring rain? now that's smart. menace? foreboding? sexual tension? for those read dull & contrived, dull & contrived and dull & overly contrived.<br /><br />i want to say thank god for mia sara's shower scene but in retrospect i think the producers of the film, having seen the completed mess realised that they had to put something in to make it half way worthwhile at all. so it just becomes yet another contrivance. do yourself a favour and give this a miss.\n",
      "* * * * * * * * * \n",
      "11438\n",
      "I love horror movies. I can even appreciate most cheese (face it, 9 out of 10 horror films these days ARE cheese), but this was just ridiculous. Terrible acting, terrible writing, completely hollow and unbelievable characters (no Meisner actors here!) and a total lack of sufficient body count. I wish I could SALVAGE the 79 minutes of my life I just wasted. At least the Crook brothers are aptly named. The only good thing about the whole film was watching the Alicia Silverstone wanna-be get punched in the face. How this EVER made it to Sundance is completely baffling to me. Most of the plot was absolutely unrealistic, even by slasher film standards. I mean, COME ON! Who would rush out to get a cheap earring 10 seconds after a creepy stalker guy just left their doorstep? Lame.\n",
      "* * * * * * * * * \n",
      "11590\n",
      "This inferior sequel based by the characters created by David Selzer and Harvey Bernhard(also producer) concern on a matrimony named Gene(Michael Woods) and Karen York(Faye Grant). They adopt a little girl named Delia from a convent. Gene York about re-elect for congressman and he presides the financing committee. Meanwhile, Delia seems to be around when inexplicable deaths happen. She creates wreak havoc when goes a metaphysical fair, as stores of numerology, therapy, counselling heal,yoga, tarots, among others are destroyed. Karen York hires an eye private(Michael Lerner) to investigate the weird and bizarre events.<br /><br />This TV sequel displays thrills, chills, creepy events and gory killing. Delia such as Damien seems to dispatch new eerie murder every few minutes of film, happening horrible killings . The chief excitement lies in watching what new and innocent victim can be made by the middling special effects. Furthermore, mediocre protagonists, Faye Grant and Michael Woods, however nice cast secondary, such as Michael Lerner,Madison Mason, Duncan Fraser and the recently deceased Don S Davis, he was an Army captain turned into acting. As always , excellent musical score taken from Omen I and III by the great Jerry Goldsmith. The movie is exclusively for hardcore followers Omen saga. The motion picture is badly directed by Jorge Montesi and Dominique Othenin Girard. Previous and much better versions are the following : The immensely superior original 'Omen'(Gregory Peck, Lee Remick)by Richard Donner; 'Damien'(William Holden, Lee Grant) by Don Taylor; 'Final conflict'(Sam Neil and Tisa Harrow) by Grahame Baker. Rating : Below average.\n",
      "* * * * * * * * * \n",
      "11715\n",
      "If you want to see a movie that terribly mixes up one Latin country with any other Latin country, \\The Celestine Prophecy\\\" is a good example: 1. Perú, not even in its most violent times, has not shown polices or soldiers as much as in this film. This showed a country like El Salvador when Civil War. Since I'm a Peruvian who lives in Lima (the capital of Perú), it was too funny to me seeing the police guards here, there and everywhere. 2. If you have a car in Perú, and you want (or need) to be a taxi driver, just post a sticker with the word \\\"Taxi\\\" on the front glass of your car and you can drive freely in Peruvian streets (there are taxi companies, but their rates are quite expensive). No need of yellow or a black/white squared band on the doors of your car. Well, taxis in this film have that band, somethin that you will never see in Perú. 3. Peruvian people are not Caribbean styled clothing. For example, when a taxi driver comes out, he was wearing a \\\"Guayabera\\\" (Cuban shirt), a white hat, and 40's mustaches, like Clark Gable. Not one Peruvian man looks like that, please! Perú is not the Caribbeans! 4. A scene shows a woman on a street with a quite long skirt, like the typical folklore dresses in Latin America. Take a walk anywhere in Perú, and you'll never find a woman wearing like that, unless you are watching a typical dance. 5. Cast could've been better: I can not deny Héctor Elizondo is a great actor, but he's not a Latin actor (his father was Basque and his mother from Puerto Rico, but he was born in New York) and his Spanish is not fluent. It's notorious Spanish is not his first language. There are dozens of very good Latin actors who could've performed as Cardinal Sebastián. Petrus Antonius (General Rodríguez) was also a bad choice for a \\\"Latin Police officer\\\". It was so funny seeing Elizondo and Petronius in General Rodríguez's office. They looked like two English or American students in a Spanish class, making their best effort in order to pronounce Spanish. Unsuccessfully, of course. Castulo Guerra was better in his Spanish. A \\\"Peruvian\\\" officer, who announced Cardinal Sebastián, spoke a quite funny Spanish too. There are very good Peruvian actors, like Augusto Alvarez-Calderón and Christian Meier (just to mention two out of many Peruvian actors), who could've performed with excellence. 6. I admit that a fictional movie can let itself a license inventing cities or, even, countries. But, please, when creating a name, be careful when using a foreign language: The town portrayed in this movie should've been called \\\"Vicente\\\" and not \\\"Viciente\\\". Vicente is a male name, and Viciente has never been used. 7. I disagree one user, who says that this movie was filmed on locations in Perú. Not one location is Peruvian, although the production has used in excess posters showing \\\"Inca Kola\\\", the Peruvian soda. As not few American films, this one must have used any Latin country. After all, for American producers or directors, a Latin place is identical to any other Latin place. 8. In the first scenes, when John (Matthew Settle) flies to Perú, he's supposed to arrive to the only one international airport in Perú: Jorge Chávez Airport (in Lima, the capital). Actually, believe me, it must be any airport in the world, but Peruvian airport. And, of course, in Peruvian airports there are no military or police guards. 9. When this John takes a room in a Peruvian hotel, this one has a fan and, obviously has no air conditioner. Please, this doesn't happen in no hotel in Perú(and other Latin countries), unless you get a 1 star hotel! 10. The rebels who fight against the government are... ¡Colombians! Their accent was, with no doubt, from Colombia. For casting them, the producers should've hired Peruvian actors. In few words, it would've been cheaper filming in Perú.<br /><br />I could go on with more examples out of this film, that led me to give it a \\\"1\\\" (awful) vote, but I fell asleep after about 20 minutes from its beginning. But dear producers: It's not a tragedy: There are many worse movies with not few mistakes. Just let's remember \\\"Indiana Jones and the kingdom of the Crystal skull\\\" and indescribable Disney's \\\"The Emperor's new groove\\\". The list of bad films could be endless...\"\n",
      "* * * * * * * * * \n",
      "11834\n",
      "This is another one of those 'humans vs insects/eco-horror' features; a theme that was popular in the late 70's. Only you can't really call it horror. There's zero suspense and no gruesome events. In other words: this movie is pretty lame. It's not that it's really bad or something; it's just very boring. A construction site near a hotel uncovers a big nest of ants. Later on we learn that, probably due to different sorts of pesticides used in the past, their bite became poisonous. Some people get bitten and rushed to the hospital and it takes ages for the residents of the hospital to figure out what's going on. Robert Foxworth figures it out first and then you can see him go berserk with a digging machine for what seems like several hours. Then they flee in the house, waiting to get rescued. And, man, you should see all the efforts they make for rescuing them. I won't spoil too much, but at one point they even use a big helicopter. All the time when I was watching this, I sat there thinking \\Come on, people, you all got shoes on. Just run out of the building. I'm sure a bunch of ants won't catch up with you.\\\" It's all pretty ridiculous.<br /><br />Of course, lots of close-ups of crawling ants are shown throughout the whole movie. Ants in the garden. Ants in the garbage. Ants in the kitchen. Ants on the roof. Ants in the bedroom. Ants in the sink. And the best part: Ants crawling on people's faces while the actors are breathing through straws. But when you see groups of ants in wider shots, they indeed look like black rice the set designers glued to the wall.<br /><br />One small surprise came near the end. No, it has nothing to do with a twist in the plot. It was just that Brian Dennehy made an appearance as a chief-fireman. Ehrr... What more can I say? This movie is called IT HAPPENED AT LAKEWOOD MANOR but the box-art of my copy read ANTS and the title during the opening credits was PANIC AT LAKEWOOD MANOR. There you have it. Now, since this is a made-for-TV movie from the 70's, I'll be once again extremely mild in my final rating. Now, THE SAVAGE BEES, another 'humans vs insects' TV-movie from 1976 was much better than this one. I even feel I have to go back and add a few points to its rating after having seen ANTS. Lacking suspense, action, thrills, shocks and creepiness, the only thing you'll be left with after seeing ANTS is an annoying itch.\"\n",
      "* * * * * * * * * \n",
      "11925\n",
      "...though for a film that seems to be trying to market itself as a horror, there was a distinct lack of blood.<br /><br />There was also a distinct lack of skilled directing, acting, editing, and script-writing.<br /><br />Jeremy London put in one of most appalling performances I've ever seen - his \\descent into the maelström\\\" of madness is achingly self-aware and clumsy. Oh look at him twitch! Oh look at him drink strong spirits! Oh look at him raise his brow, and cock his head at a jaunty angle! Oh look at his unwashed, greasy dark hair! Oh listen to his affectedly husky voice! He must be a tortured artist/writer/genius! Oh, yes, out comes the poet-shirt - it's another boy who thinks he's Byron. (Or Poe.) Oh for the love of... did someone give this guy a manual on \\\"How To Act Good\\\" or did they just pull him out of a cardboard box somewhere, the defunct little plastic toy-prize in a discontinued brand of bargain-bin cereal. Okay, that was a stupid line - but that's only because London's performance has melted my brain with its awfulness.<br /><br />Katherine Heigl is cute, and very briar rose, but has yet to grow into her acting shoes in this film - she delivered her lines like she was being held up, in fact, her whole performance was very wooden, her poses as stiff as her lines - who knows, perhaps she was just reacting to, and trying to neutralise, Jeremy London's flailing excesses, but if that's the case, she takes it too far.<br /><br />Notable is Arie Verveen as Poe - while his character's role is confused, he delivers the best performance of the piece. He, quite simply, looks right, but it's more than that - he has some sort of depth, I believed that he had a life beyond the dismal two-dimensional quality of the rest of the characters. Huh, maybe it's just because I like Poe, and could thus just let my mind wander and invent while he was on screen - whatever, he had an interest factor otherwise missing.<br /><br />The rest of the characters are a faceless blur - there are all the usual caricatures: the perky blonde best-friend who's a bit of a floozy; the smitten local cop who's a bit of a dork; the protective older man who perhaps has too much un-fatherly interest in our heroine; the scheming old witch, etc., etc., yawn, yawn. <br /><br />As with the 'distinct lack of blood for a horror movie' issue, none of the themes that they mention (and that London's character mentions - so scathingly - in his attack on Poe's writing) are followed through on. As another reviewer said - there was potential here: murder, incest, - genuinely shocking stuff, but instead they skirt away from the issues, and cut away from the violence (a raised candlestick swinging through the air - closing in on it's victim - then---cut to black! This is fine in a Noirish traditional horror, indeed, it's expected, and is fondly received when it happens - it's a dear convention, especially when accompanied by fake lightning bolts and intense Siouxie eye makeup - but in 'Descendant' it just comes across as clumsy, or as though the editor got queasy at the last minute and cut it out.) This could have either been a very tense psychological thriller - the horror of palingenesis/delusion/madness - or a simple (and fun) slasher movie: it tries to be both, or neither (something new and exciting!), but either way it fails dismally. The only horror element of this entire movie is it's epic dullness.<br /><br />I think the editor (if there was one at all) must have been drunk when s/he chopped this thing up - there are awkwardly foreshortened scenes; scenes that appeared to be out of order (but that could have just been the poor script). LIkewise the director & cinematographer - there were some very strange shots and framing that I think were meant to be tributes to Hitchcock or Browning, but just ended up looking silly (again, fine in a noir, but this was trying to be something else.)<br /><br />The whole thing perhaps may have been funny (in that way that previous reviewers have mentioned - \\\"OMG how did this get made?!?\\\") if I had been in the mood for some trash- bagging, unfortunately for me I had settled on the couch, with the lights down low, with the express intention of scaring myself silly - this is a very poor film, and I'm afraid I can't recommend it to people, not even for laughs.<br /><br />Please, please, don't waste your time or money on this - either borrow a real horror/thriller film, or find yourself a copy of Poe's fantastical tales, either way, you'll have a far more enjoyable and frightening night than you could ever hope to achieve with this rubbish.\"\n",
      "* * * * * * * * * \n",
      "12162\n",
      "When you have two tower house of performers pitched against each other, the least you can expect is the superb camaraderie and that is the case in this film where we have a 64 yrs old Amitabh Bachchan romances a 34-yr old Tabu. Wait! In fact that is all there in the name of plot therefore instead of \\cheeni\\\" it is the content that is \\\"Kum\\\" in this Adman turned Writer-Director R. Balki's maiden effort..<br /><br />Trust the two senior actors to bring the house down with their wise-cracks and bitter-sweet moments when love happened in this unconventional pair, and that is all you find in slow but refreshing first half. The locales of London as captured in rainy season are captivating. By the end of first half, romance completed and mission accomplished. There is not much left to be said. Therefore in the second half a strange opposition comes in the form of girl's father to the extent that he goes for a Satyagrah is really a test of patience. There is an equally strange climax about how he gives in. The result, second half is dry, flat with no energy. There is a subplot with a girl child dying of cancer, not making much impact. Nonetheless, the film is recommended for its fresh approach and the performances.\"\n",
      "* * * * * * * * * \n",
      "12227\n",
      "If you are expecting to see a lot in the bath of Alt&#305;oklar, as it is promised by the tag line, you will be very disappointed to see that the movie consists of nothing but the populist style of Alt&#305;oklar regarding most famous issues like sex, marriage and cheating. To much nudity, which seems to appear from nowhere and has no connection or whatsoever to the plot proves that Alt&#305;oklar was unsuccessfully to \\try something new\\\" as he has quoted. To much sex centered jokes seems to show that Alt&#305;oklar had fallen for the famous saying which is \\\"sex sells.\\\" I was hoping to see a very good story told with a very good narration technique. However in the end I found myself sitting down for 90 minutes and watching Alt&#305;oklar's experimental yet still to much focused on popularism work.\"\n",
      "* * * * * * * * * \n",
      "12293\n",
      "Unashamedly ambitious sci-fi from Kerry Conran, for whom this is clearly a labour of love. Unfortunately it's just not that good. It all starts well enough - with an epic but restrained score, a mixture of Lucas and Hitchcock style editing and the glossy cinematography of a Spielberg. The movie also references many pulp sci-fi novels, serials and films as diverse as The Day The Earth Stood Still, Superman, Metropolis, Planet Of The Apes, The Iron Giant, Star Wars and The Spy Who Loved Me. The film however, fails to be as good as any one of those for several reasons: the main being that it's such a labour of love, so concerned with throwing everything at the screen and creating a brave new world, Conran actually forgets about making a movie. There is little to no tension, atmosphere or magic on offer here despite aerial battles, dinosaurs and race-against-time set-pieces. Even the noir elements fall flat. This is a broad way of looking at things though - those elements mainly fail because nothing feels at all real and is so obviously fake - the green-screen just looks like a video game half the time and it's obvious the actors have been pasted on afterwards. The actors don't get to do much either - Jude Law is wooden, Gwyneth Paltrow is annoying and stupid, Angelina Jolie is wasted - and it's all because of an awful script - the sort that has to explain nearly everything. It is a decent experience and some might get a nostalgia feel but ultimately this is a pointless step into the world of yesterday. Nice ending though.\n",
      "* * * * * * * * * \n",
      "12361\n",
      "This is one of the worst movies I've seen in a long time. Not just the story, but the acting is shockingly bad. The dialog sounds like someone reading the news.<br /><br />This is rated as comedy/drama/romance, it's not of those things ! It's a little action, that's it. There's really NO comedy and drama at all.<br /><br />If you went to the cinema to see this I feel sorry for you. I would not recommend it at all. Pretty much anything else that you choose to look at will be better. This is pretty much a action/crime movie. The actions scenes sucked, and crime story part of it was very predictable.<br /><br />If you are not really interested in a good story, or good acting. And you simply want to look at a 'foreign' film for the appeal of being foreign. Then this might be for you.\n",
      "* * * * * * * * * \n",
      "12377\n",
      "Frequently voted China's greatest film ever by Chinese critics, as well as Chinese film enthusiasts from the outside, and, frankly, I don't get it at all. What I saw was one of the most generic melodramas imaginable, blandly directed and acted, with a complete shrew for a protagonist. Wei Wei (don't laugh) is that shrew, a young married woman who has suffered alongside her tubercular husband (Yu Shi) for the past several years. It is post WWII, and they live with the husband's teenage sister (Hongmei Zhang) in a dilapidated home with not much money (the man had been wealthy when they married). Along comes the husband's old best friend (Wei Li), who also used to be the wife's boyfriend when they were teens. She considers running away from her husband with this man, while the husband pretty much remains oblivious, thinking he may engage his little sister to his friend. That's the set-up, and it doesn't go anywhere you wouldn't expect it to. I've actually seen the remake, directed by Blue Kite director Zhuangzhuang Tian. It runs a half hour longer, and is actually kind of dull, too, but at least it was pretty. This supposed classic is pretty intolerable.\n",
      "* * * * * * * * * \n",
      "12398\n",
      "This is the weakest of the series, not much of a plot and a rather odd-looking Wallace. But it's still pretty good, considering. A sign of greater things to come!<br /><br />6/10\n",
      "* * * * * * * * * \n",
      "12408\n",
      "I went into this movie expecting it to be really god-awful. And it was. I really felt sorry for the star-studded cast- Kathy Bates was a wonderful actress... before she made this movie- Vince Vaughn and Paul Giamatti were disappointing as usual but Miranda Richardson couldn't put in one of the fabulous performances I know and love her for. Fred's dad, played by Trevor Peacock (of Vicar of Dibley fame, amongst others), had about one line.<br /><br />The plot was predictable and all over the place, and the humour was... lacking. (However, there was one part of the movie where Santa enters the house of a Jewish family... that made me laugh just because their expressions were classic) Don't see this movie unless your only other alternative is having a head-on collision with a train (actually- maybe the train would be better...)\n",
      "* * * * * * * * * \n",
      "12462\n",
      "While the premise behind The House Where Evil Dwells may be intriguing, the execution is downright pathetic. I'm not even sure where to begin as I've got so many problems with this movie. I suppose I'll just number a few of them: <br /><br />1. The Acting  When you see that Edward Albert, Doug McClure, and Susan George (and her teeth) are the stars of your movie, you know you're in trouble? Not that it matters much to me, but these are hardly A-List names. Susan George may have been in a couple of movies I enjoy, but I've never considered her the greatest actress I've ever seen. And in this movie, her acting is embarrassing. As for the other two, the less said the better.<br /><br />2. The Ghosts  The ghosts or spirits or whatever you want to call them reminded me quite a bit of the ghosts in the haunted mansion ride.at Disney World. And, they are about as frightening. And why did they have to be so obvious? Subtlety is not a characteristic of The House Where Evil Dwells.<br /><br />3. The Plot  How predictable can one movie be? The outcome of this movie is painfully obvious once you meet the three main characters. If you couldn't see where this movie was headed after about 15 minutes, you need to see more movies.<br /><br />4. The Convenient Priest  What are the chances that the haunted house you buy just happens to be across the street from a group of Japanese monks? Not to mention that one of them knows the history of your house and comes over, knocks on the door, and asks if you need help removing evil spirits. Absurd is a word that comes to mind.<br /><br />5. Everything Else  It's very difficult for me to think of any positives to write about. I suppose I'll give it a point for the opening scene and a point for the house's architecture. That's a sure sign of a winner  noting the architecture as a highlight of any film doesn't say much about the actual movie.<br /><br />I'll stop. You should be able to get the idea from what I've already mentioned. And, I haven't even mentioned the annoying little girl or the Invasion of the Crabs or a multitude of other problems. Be warned, this thing is horrible.\n",
      "* * * * * * * * * \n"
     ]
    },
    {
     "name": "stdout",
     "output_type": "stream",
     "text": [
      "12771\n",
      "Now, I won't deny that when I purchased this off eBay, I had high expectations. This was an incredible out-of-print work from the master of comedy that I so enjoy. However, I was soon to be disappointed. Apologies to those who enjoyed it, but I just found the Compleat Al to be very difficult to watch. I got a few smiles, sure, but the majority of the funny came from the music videos (which I've got on DVD) and the rest was basically filler. You could tell that this was not Al's greatest video achievement (that honor goes to UHF). Honestly, I doubt if this will ever make the jump to DVD, so if you're an ultra-hardcore Al fan and just HAVE to own everything, buy the tape off eBay. Just don't pay too much for it.\n",
      "* * * * * * * * * \n",
      "12851\n",
      "I can say without a shadow of a doubt that Going Overboard is the single worst film i have ever seen, and yes, I have seen Cujo. Adam Sandler is an abomination as Schecky Moskowitz, a wannabe comedian working on a cruise liner. That's the plot.<br /><br /> That's it! Nothing else in the film makes sense, it's all over the place like a mad man's breakfast, and not in a wacky naked gun kind of way, but more of a frustrating, 'throw both shoes at the t.v' kind of way. even General Noriega makes an appearance, for no reason i can comprehend (it certainly wasn't for humour). Add to the mix Miss Australia, who has the worst Australian Accent i've ever heared, and you have something which i won't call the worst film ever made, because Going overboard doesn't even fit the basic definition of a film. I highly recomend seeing this film, as it will elevate the standing of every bad film you ever see. I guarantee the first thing you'll say after seeing a bad film will be \\at least it wasn't as bad as Going Overboard\\\".\"\n",
      "* * * * * * * * * \n",
      "12862\n",
      "This was a nice attempt at something but it is too pretentious and boring to rise above it's low budget trappings. The use of virtual sets almost works but at some points it fails miserably. They made good use of the small budget I guess. I just wish the story and most of the acting was better. There are a lot of parts where you see what they were aiming for and it would of been great if they actually hit those marks but they don't. Confusing and unbelievable story. Bad DVD transfer too. It doesn't take much for me to watch a movie in one sitting. This I had to shut off. It was too boring. I can do slow movies. But just make them appealing in some aspect. Visually, story-wise, acting, etc. This was lacking in all departments so it never added up to an engrossing experience. Maybe the film maker's next attempt will be better.\n",
      "* * * * * * * * * \n",
      "12961\n",
      "Rather foolish attempt at a Hitchcock-type mystery-thriller, improbably exchanging espionage for archaeology and based on the Robin Cook novel; incidentally, I’ve recently acquired another adaptation of his work – COMA (1978) – in honor of the late Richard Widmark. For the record, director Schaffner had just made THE BOYS FROM BRAZIL (1978) – a similarly fanciful but much more engrossing suspenser and, unfortunately, SPHINX was a false step from which his so-far impressive career would not recover.<br /><br />Despite its scope and reasonably decent cast, however, this one proved a critical and commercial flop – mainly because the narrative just isn’t very thrilling: in fact, it’s quite dreary (feeble attempts at horror – the archaeologist heroine having to put up with entombment, rotting corpses galore, and even an attack by a flurry of bats – notwithstanding). Lesley Anne-Down is the lovely leading lady, stumbling upon a lost treasure – it’s actually been hidden away by a local sect to prevent it from falling into the hands of foreigners, who have appropriated much of the country’s heritage (under the pretext of culture) for far too long. Sir John Gielgud turns up in a thankless bit early on as the antique dealer who puts Down on the way of the loot, and pays for this ‘act of treason’ with his life.<br /><br />Typically, it transpires that some characters are the opposite of what they claim to be – so that apparent allies (such as Maurice Ronet) are eventually exposed as villains, while an ambiguous figure (Frank Langella, whom I saw at London in early 2007 in a West End performance of “Frost/Nixon”, which has now been turned into a film) goes from Down’s antagonist to her lover and back again, as he determines to keep the wealth belonging to Egyptian high priest Menephta a national treasure.\n",
      "* * * * * * * * * \n",
      "12975\n",
      "There are similarities between Ray Lawrence's \\Jindabyne\\\" and his last movie \\\"Lantana\\\"  a dead body and its repercussions for already dysfunctional lives. But whereas \\\"Lantana\\\" offered some hope and resolution, \\\"Jindabyne\\\" leaves everything unresolved in a bleak way that will leave most viewers unsatisfied, perhaps even cheated.<br /><br />The storyline - the aftermath of a fisherman's discovery of a corpse floating in a remote river - is based on a short story by Raymond Carver. It became an element in Robert Altman's classic 1993 ensemble \\\"Short Cuts\\\". Lawrence uses this theme for an exploration and exposition of relationships within a small Australian community under stress. The movie poses some moral questions \\\"Would you let the discovery of a dead body ruin your good weekend?\\\" and more poignantly for Australians \\\"Would it make any difference if the dead person was an aboriginal?\\\" The acting, especially by Gabriel Byrne and Laura Linney, is commendable. And there are elements of mysticism reinforced by haunting music, not unlike \\\"Picnic at Hanging Rock\\\".<br /><br />If all this sounds like the basis for a great movie - be prepared for a let down, the pace is very slow and the murder is shown near the beginning, thereby eliminating the element of mystery. And so we are left with these desolate lives and a blank finale.\"\n",
      "* * * * * * * * * \n",
      "12976\n",
      "This is a total waste of money. The production is poor, the special effects are terrible. In my country they had the courage to put this film on video named as \\The Mummy\\\" because of the success of Brendan Fraser`s film. I`m sure that you can find better horror movies.\"\n",
      "* * * * * * * * * \n",
      "13276\n",
      "I like monster movies, generally. Even if they are implausible and silly. But its hard to like this movie when its so implausible and silly AND tries to take itself seriously all at the same time. Like in a really posh kind of way.<br /><br />While the idea is somewhat factual, like Orcas are known for killing Great White Sharks, its really hard to find it scary when I can't help but just see an angry Shamoo destroying stuff. Especially that one scene where some building exploded cause of the Orca's doing...and while it explodes, the thing jumps out of the water and it felt like I was watching a show at Sea World with fireworks. Plus they kill a lot of the scary moments before they even hint that they're going to happen. On top of that, it takes a few jabs at JAWS. Its like \\hey look, we're being factual and we can come up with BETTER reasons why the Orca is attacking\\\".<br /><br />Yes you are, ignoring your outrageous **** ups in logic of course. But JAWS had one thing your movie doesn't. Its scary. Yes its implausible. Yes its somewhat outrageous. But quite frankly, factual or not, a Killer Shark is not close to being as scary as a Great White. And the poor attempt at character development and writing just hurts it more. Even JAWS the Revenge is scarier than this.\"\n",
      "* * * * * * * * * \n",
      "13359\n",
      "Randall \\Memphis\\\" Raines is a retired master car thief who is forced back into the \\\"game\\\" when his younger brother faces death for not filling an order for British crime boss Raymond Calitri. The job involves \\\"lifting\\\" 50 cars in 24 hours or Calitri will enact his punishment. So Raines quickly assembles a crew he can trust and sets about the task to hand. But the police are on to him and some of the cars on the list are not easy takes. It would seem a near impossible job to complete.<br /><br />It's got quite a cast has Gone In 60 Seconds, Nicolas Cage, Angelina Jolie, Robert Duvall, Will Patton, Delroy Lindo, Vinnie Jones, Giovanni Ribisi, Christopher Ecclestone, Scott Caan & Timothy Olyphant. All of whom deserve better. Enough acting horsepower there to propel a Porsche 998 Turbo. Trouble is, is that this is very much a case of too many cars overstocking the car park, mucho characters, not enough zest. From the off we are in no doubt that this is a Bruckheimer/Simpson production, bonkers script laced with loud noises and lashings of cheese, scattergun editing, and directed with sledgehammer subtly by Dominic Sena. It's essentially a big budget remake of H.B. Halicki's 1974 indie movie of the same name, with the premise offering up the potential for an adrenalin fuelled car based movie. Potential that sadly is never realised. There's one or two high impact moments, daft for sure, but enjoyable none the less. But if you pardon the pun, the film never gets out of first gear, it's more content to labour with its ream of characters who mope about trying to make the boorish screenplay {Scott Rosenberg} work.<br /><br />Car fans will get something from it {the cars are ace on the eye}, as will fans of unintentional comedy movies {check out Ecclestone's carpenter grief moment}. But no, it's really rather poor all told. 4/10\"\n",
      "* * * * * * * * * \n",
      "13437\n",
      "Now this film isn't going to scare anyone, but it was interesting for two reasons - two big reason and a smaller one- well, that's three reasons, isn't it.<br /><br />The first reason this is interesting is the special effects. I found them to be quite interesting and somewhat spectacular. To see the hair growing on Marsha A. Hunt and Sybil Danning was creepy, especially when they were participating in a ménage à trois.<br /><br />Of interest, is the fact that this Marsha Hunt is the famous \\Brown Sugar\\\" of the Rolling Stones song, and that she was in the infamous nude scene in the London cast of the rock musical Hair.<br /><br />Besides the special effects, there were two other points of note in this film, and they were brought out repeatedly during the closing credits. I lost count, but i swear that Sybil Danning bared those points for us in the closing credits at least a dozen times and maybe many more. Theyu were the most outstanding feature of the film.\"\n",
      "* * * * * * * * * \n",
      "13549\n",
      "While the 3-D animation (the highlight of the show) did it's job well, most other elements fell flat. It was as though the filmmakers thought \\well, it's gonna be 3-D so we don't have to work that hard on the plot or character development.\\\" And the fact that it's a children's movie is absolutely no excuse. The public is drawn to three dimensional characters (Shrek, Nemo's Dad) just as much as they are drawn to three dimensional graphics. The only dimension any of the main characters showed was two dimensional Scooter who twists the plot from time to time with his compulsion to eat everything in sight.<br /><br />And the absolute kicker? Buzz Aldrin's appearance at the very end (after watching a very robotic cartoon version of the same historical figure for an hour and half) comes on the screen and ruins everyone's good time by calling the film's main characters \\\"contaminants\\\" and announcing that the situation put forth on screen was actually an impossibility.<br /><br />???!!!??? Did you just wanna tell the kids the Easter Bunny and Santa Claus don't exist while you're at it?\"\n",
      "* * * * * * * * * \n",
      "13571\n",
      "There is not a speck of entertainment in this entire film. There's not one scary, funny, or even interesting scene in this film. It advertises itself as a horror, then goes on to call itself a comedy. It doesn't even ATTEMPT humor. Neither does it attempt to be scary.<br /><br />In order to not be bored by this film, you would have to be one of the most easily entertained people on earth. If you like this movie even a LITTLE BIT than you have no standard for what you watch at all. I'm having a very difficult time trying to understand what the filmmakers were trying to accomplish with this. Its not funny, scary, shocking, or intriguing. So was it supposed to be a drama? Because it really wasn't dramatic either.<br /><br />Please just do yourself a favor and don't watch this film. Life is too precious to be wasting 90 minutes of it watching this.\n",
      "* * * * * * * * * \n"
     ]
    },
    {
     "name": "stdout",
     "output_type": "stream",
     "text": [
      "13826\n",
      "The film is pretty confusing and ludicrous. The plot is awful...but on the plus side the acting is pretty good, with a few good shouts and rants. Sharon stone is OK this time...not even half as good as the original mind you. The murders aren't as gory as the first one either, which is a shame. Its not the unpredictable mess everyone say it is though. The sex is pretty graphic at times while others it is clear it is fake (they are fully clothed). The script is weak most of the time, but the scenes with banter and arguments between Dr.Glass and Washburn are highlights. The plot twists a few times, but the ending is awful. The tension is always constant with a huge dollop of 'Oh my god!'. The chase sequences are brilliantly directed, and shots and camera angles are impressive and bring a bit of class to an otherwise, rush-felt film. Sharon stone is a bit old for this too. The bits where we see her breasts were, in the first one, delights. This time around, they are too horrid to describe. The films its self is rather average, but it is worth a go. Mainly because the film does deserve some good buzz...with the opening sequence being a highlight. Not to be critical, but if you liked the first one - leave this one. Don't ruin the run. You'll be glad you left this stone unturned.\n",
      "* * * * * * * * * \n",
      "13856\n",
      "Elizabeth Rohm was the weakest actress of all the Law and Order ADA's and her acting is even worse here. Her attempts at a Texas accent are amateurish and unrealistic. Nor can she adequately summon the intense emotions needed to play the mother of a kidnapped child; at times while her daughter is missing she manages to sound only vaguely annoyed, as if she can't remember where she left her keys.<br /><br />This is an important true story, so it's too bad that the awful acting of the lead actress distracts so much from the message. The rest of the cast is talented enough, but they just can't overcome Rohm's tendency to simply lay on a particularly thick imitation of a Southern drawl whenever actual acting is required.\n",
      "* * * * * * * * * \n",
      "13880\n",
      "Lorne Michaels once again proves that he has absolutely no business producing movies.<br /><br />You'd think that after such dismal flicks \\Superstar\\\", \\\"Night at the Roxbury\\\", and \\\"Coneheads\\\", he'd start to get the notion that maybe he doesn't know what he's doing when it comes to movies (and many would argue that he doesn't know what he's doing when it comes to television, as well). Trying to make feature films out of skits that wore out their welcome the third time the were done on SNL makes no sense.<br /><br />I personally like Tim Meadows, and think that he would be great in the right movie. It's a shame to see a talented guy wasted in a film that features unfunny after unfunny situation, and caps it all with a dreadfully bad song and dance scene. Any laughs here will be because the movie is so bad, not because it's funny.<br /><br />Oh well, at least we can be thankful that there are many other tired SNL characters who will never have films done about them. It's just too bad that this one made it to the big screen.\"\n",
      "* * * * * * * * * \n",
      "14040\n",
      "Spanish horrors are not bad at all, some are smart with interesting stories, but is not the case of \\Second Name\\\". It is badly directed, badly acted and boring...boring...boring, a missed chance for an interesting story.\"\n",
      "* * * * * * * * * \n",
      "14086\n",
      "I'm kinda torn on DARK ANGEL. The film appears to be a \\loving\\\" tribute to the greatest pin-up to ever live - but there is so little actual \\\"content\\\" that the film itself is virtually pointless. I can't really see what the motivation or \\\"point\\\" of this film is - as there is very little biographical information provided in the narrative - so those who don't know much about Bettie aren't gonna know much more after watching DARK ANGEL either...<br /><br />The film basically chronicles the last few years of Bettie's career in bondage modeling. Almost the entire film is comprised of \\\"re-enactments\\\" of some of Bettie's more \\\"famous\\\" photo-shoots and loops. These re-enactments take up literally 75% of the films run-time, and give virtually no insight into Bettie as a person. The film touches briefly on her short-lived legitimate acting pursuits, and her subsequent decision to leave the \\\"business\\\" and become religious - but all of this is pretty much glossed-over in favor of showing long and drawn-out re-enactment scenes...<br /><br />DARK ANGEL isn't a horrible film - there's just no substance to it. The other problem is that the actress that plays Bettie only really resembles her in farther away shots - up-close it's a no-go. The other thing that irritated me, is that although Bettie did several topless modeling shoots - the only nudity in the film was a short segment shot in a zoo during the end credits. The film itself is obviously extremely low-budget, but does what it can set and costume-wise within it's limitations - so no gripes from me there. The acting is pretty wooden and unmemorable from everyone involved. In fact - the most memorable thing about the whole film for me, was noticing during the end credits that the actor who played Irving Klaw's real name is Dukey Flyswatter. No joke - check the cast list. Can't say that I recommend this one too highly unless you are a true Bettiefile completist and must own anything relating to her. And if you are that bad off - then you need to seek treatment anyway...4/10\"\n",
      "* * * * * * * * * \n",
      "14152\n",
      "I like Brad Pitt enormously. He is an actor with brains and wit, not to mention face, pectorals and all the rest. Since I saw him in \\Thelma and Louise\\\" a thought has been bothering me, who does he remind me of? \\\"Troy\\\" did it for me. He is the new Brigitte Bardot. The differences are obvious of course. Male, American etc but Brigitte Bardot comes to mind nonetheless. He is so beautiful that he is at his most effective when he plays against it. \\\"Kalifornia\\\" \\\"12 Monkeys\\\" \\\"Fight Club\\\" \\\"Snatch\\\" His self deprecating humor makes him human, almost accessible. Fortunately \\\"Troy\\\" will soon be forgotten. Only still photographs with Pitt, semi naked in ravishing sprint positions will decorate the walls of legions of salivating fans. Strange, \\\"Das Boot\\\" is one of the great films of the second part of the 20th Century. What is Wolfgang Petersen doing directing this? Well, I suppose it would be very hard to say no at the chance of working with the new Brigitte Bardot.\"\n",
      "* * * * * * * * * \n",
      "14156\n",
      "When I tell people that I review movies as a hobby, the first thing they say is \\What do you think of such-and-such movie?\\\" There are a couple of problems here. Firstly, there is the probable chance that I've not seen it and thus, I ruin my reputation. Secondly, I could trash the movie in question without realising that it's actually their favourite. Lastly, I could be given DVDs to watch so they can judge my opinion. Thus, I find myself sat before \\\"The Convent\\\" which is the sort of film I would ignore completely given the choice but unable to avoid here. More's the pity because this frankly dreadful \\\"horror\\\" is about as scary as a box of kittens.<br /><br />Following well-worn clichés, \\\"The Convent\\\" focuses on a bunch of American high school students on a trip to an abandoned convent on a mission to get stoned, laid and mildly spooked. But you'll never guess what happens next? A group of cannibalistic demonic nuns emerge from the cobwebs who proceed to pick the kids off one by one in classic horror movie tradition. Will any of them survive and more importantly, haven't you got better things to worry about? <br /><br />The only thing that saves \\\"The Convent\\\" from being a total waste of time is the fact that nobody is really taking this tosh seriously with the exception of Coolio's bizarre cameo as a hyperactive cop with an itchy trigger finger. It's far too amusing to be properly frightening - the zombie cheerleader who makes chipmunk noises for no reason, the day-glo paint jobs that appears when you become a zombie - but what really kills it as a horror is the fact that you can instantly tell when someone is going to jump out and get messily murdered. But even if they were trying, I still doubt that it would work - demonic nuns wearing the sort of make-up you'd see in the \\\"Buffy The Vampire Slayer\\\" TV show aren't really that scary. The scariest thing about this movie really is that over 10% of voters gave this a maximum score. I mean, I know it's funny but I hardly split my sides. To be honest, I've had more fun in a dentist.<br /><br />\\\"The Convent\\\" isn't really a horror movie as such. It's more of a comedy horror like \\\"Scary Movie\\\" or \\\"Shaun Of The Dead\\\" but you're laughing at it instead of with it. I honestly can't recommend this to anybody except the family of the cast and crew but even then, I doubt very much they'd enjoy it. I don't enjoy the \\\"so bad that it's good\\\" genre - I personally feel that if the film-makers can't be bothered to salvage a turkey then I shouldn't bust a gut trying to watch it. Yes, it's a bad film and yes, they really should have gone home and done something more constructive. A Rubik's cube, for example. The DVD box has two price stickers - one for £4.99 and a reduced price of £3. But it was sold for £1 and that should tell you everything you need to know about this poxy, cheap, awesomely bad flick. Sorry if you do like it but \\\"The Convent\\\" really is a pile of unholy crap.\"\n",
      "* * * * * * * * * \n",
      "14171\n",
      "Yes, CHUNKY, this is the nick-name that Donna Reeds' romantic lead played by Tom Drake tags her with! So lets get this clear right away. From her first ingénue role in THE GET-AWAY (1941) too her last, DALLAS (1984-1985) Ms. Reed could NEVER be described as CHUNKY. Not this attractive and slim actress. Whose roles at M.G.M. seldom lived up to her talents.<br /><br />Ms. Reed is supported by a cast of competent character actors, who unfortunately must flounder through this alleged 'screw-ball' comedy. Clearly M.G.M. was out of their depth making this type of film. A type better produced over at COLUMBIA, PARAMOUNT, RKO and even UNIVERSAL. Neither the 'touch' of Ernst Lubitsch nor the wit of Preston Sturges could save this film. A rather conventional romantic comedy that had all the markings of a pre-war (WWII) effort.<br /><br />If Irving Thalberg had still been alive the screen-play would have either gone through a significant rewrite or never seen the light of day. It did fit into Louis B. Mayer's 'safe-zone' of none challenging family entertainment. A form that could not stand up to the post-war challenges of the 'DeHavilland Decision', loss of their theater chains, television and would contribute to M.G.M.s decline. Fortunetly for Donna Reed her best days are ahead of her culminating in FROM HERE TO ETERNITY (1953) and her Oscar win as Best Supporting Actress.\n",
      "* * * * * * * * * \n",
      "14367\n",
      "It makes one wonder how this show is still on the air. There's been one couple that has stayed together, married, and has children, but everyone else has broken up. What's the point of continuing this? The show can be entertaining at the beginning. You see all the girls swooning over one man, that almost all of them like instantly. It's just like in real life! The girls start to take sides, bitch one another out, and show their true selves (or so we think). But that one man is left to decide who to pick that he thinks he can marry and live happily ever after.<br /><br />What is true love exactly? How can you fall for someone when you're forced to pick them? This show is unbelievable. You thought dating online was bad, but people have to go on TV to find love? It's not realistic. How could a girl be with a man when he is going out with several others, making out with them? None of these questions are answered, and finally when the show ends, you know there won't be a happy ending in the future. For all we know, everything is scripted.\n",
      "* * * * * * * * * \n",
      "14696\n",
      "This movie is maybe one of the most boring movies of 2000 that I have seen! Especially the music fails to create suspense when people suddenly disappear. Also aspects such as martial law are not treated with the necessary seriousness. The story itself has problems: the UN could never take power over the world since the United States alone would not allow it but nations such as China, Russia, Japan, etc. would not either. This would also play against someone trying to take over the world as Nicolae Carpathia does. This reminds me of James Bond movies, only that those have more action! Naturally the movie is made for Christians and only for Christians and they may enjoy it. Since I cannot count myself a Christian I find the whole idea ludicrous. This prophecy furthermore seems to be, if believed to be true, dangerously close to other prophecies by cults for the end of the world. Why fear such a possibility when we can make life as good as possible here on Earth without\n",
      "* * * * * * * * * \n",
      "14784\n",
      "****MINOR SPOILERS*** As a bad movie connoisseur I must have viewed hundreds of bad movies and yet \\Hobgoblins\\\" stands apart from all others in it's own unique way. Classic baddies such as \\\"The Creeping Terror,\\\" \\\"The Mighty Gorga\\\" and \\\"Manos\\\" are uniformly bad from start to finish. \\\"Hobgoblins\\\" on the other hand, starts off bad and gets progressively worse as it goes. During my first viewing of the infamous rake fight scene I thought to myself that this was a truly bad film. I was blissfully unaware that I had just seen the best that this movie had to offer. The movie takes its most massive nosedive into celluloid hell during the painfully inept \\\"Club Scum\\\" sequence which is a continuous string of one unfunny joke after another. With just this one film, director Rick Sloane proves that he deserves mention alongside the likes of Coleman Francis and Bill Rebane as one of the worst directors of all time. How bad can a bad movie be? Watch \\\"Hobgoblins\\\" and wonder no longer.\"\n",
      "* * * * * * * * * \n",
      "14910\n",
      "This movie was like \\The Disney Channel after Dark.\\\" Take out the \\\"aren't we naughty\\\" language and themes and you are left with dialogue and plot devices that insult the intelligence of anyone who doesn't describe \\\"Saved by the Bell\\\" as quality television. The dialogue so laughably cliched and knowingly dirty, one might think the screenplay was the product of locking Aaron Spelling and Joe Eszterhas in a room with orders to produce an amalgam of every bad script each had ever had a hand in creating. If that was Roger Kumble's intention, mission accomplished.\"\n",
      "* * * * * * * * * \n",
      "14919\n",
      "I first saw the live musical at the Denver Center For The Performing Arts and it was absolutely mind-blowing, Stunning and had such fantastic continuity of plot and dialogue that I liked it much more than most musicals that I have seen on the stage. The interesting thing is that you NEVER got to see Zach's face. He was always in the dark but his presence was powerful and guided the direction of entire production. Whe I heard they were making a movie from it, I waited with bated breath, but when I watched the movie version I was so bummed-out disappointed that I felt I was cheated. The movie lacks the captivating mood set in the live production and it never allows you to be completely in close touch with every character. Personally, I would like to see the live version again and if that should ever be revived, I would wholeheartedly recommend that you go out of your way to see it. It will be one of the most memorable experiences you will enjoy.\n",
      "* * * * * * * * * \n",
      "15265\n",
      "Movie didn't have much plot and was uninteresting. Basically you spend a lot of time watching people paint. Also it's very difficult to hear or understand the dialogue -- partially because of the accents, but also because words are mumbled.\n",
      "* * * * * * * * * \n",
      "15308\n",
      "I jumped at the chance to view this movie uncut and uninterrupted, remembering rahs and raves for it. But wherever it seemed about to slip into being truly scary, it backed off and went somewhere else. The dripping water throughout the house, the black rain, the prophetic dreams, taking the wrong turn in raw sewage were dropped before they could work up to a scream.<br /><br />What a disappointment. Chamberlain's nearly expressionless mask of a face offered little but confused disbelief, something I found myself mirroring as the film wore on. What could have been eerie Aboriginal chanting and instruments in the background were instead a cacophony seemingly designed to beat terror into one's head. The ideas that modern people can embody ancient gods, that the Aboriginal peoples believe red-haired white men were the first priests, and many other possibilities are passed along more like a shopping list than a hint at another dimension (the Dream Time).<br /><br />[SPOILER] In the final scene, it wasn't clear to me what the director was trying to tell. Is there a big wave? So what? How big? A tsunami? Yeah, okay. That's devastating but not apocalyptic. Is it the end of the world? From a wave? The last wave? That'd have to be a pretty darn big wave. Why? Was the world that bad a place? It didn't seem so awful in this movie. Actually I didn't think the wave came off, since the shadow left Burton's face that had been cast by the wave. Was it only Burton's apocalypse? Heck, that happens every day to people who lose it. It wasn't of any interest if it was only him.<br /><br />The most frightening scene, and the one that gives the best indication of Weir's potential, was in Charlie's apartment where Burton has gone to confront the old man for scaring Burton's wife. Charlie keeps asking him \\Who are you?\\\" and it becomes truly disturbing after a while. Unfortunately, the movie never followed suit.\"\n",
      "* * * * * * * * * \n",
      "15552\n",
      "Wow. Simply awful. I was a fan of the original movie, and begrudgingly sat through part 2, 3 was and improvement. 4,5 and Freddy's Dead were pretty bad. But NOTHING is as bad as Freddy's Nightmares. Freddy acts as a Rod Serlingesq host of this anthology series.<br /><br />I can accept how Freddy became one punchline after another, but at least in the movies the appeal of Freddy carried the movies, but here these were so poorly made, they looked like high school productions of a horror series. The poor actors, if you really want to call yourself that after doing this show were obviously exactly what they paid for. I'm nearly certain this was a stopping point for two types of actors. Ones just starting on the Hollywood ladder, brand new willing to take any part that would put off their having to take that porn job they were offered last week, or seasoned actors on their way down the Hollywood ladder willing to take any part that would put off their having to take that porn job they were offered last week.<br /><br />I half expected Dana Plato to guest star, but she was already dead by the time this was in production.<br /><br />To paraphrase Nancy's line in the original Elm St,\\What ever you do try not to fall asleep watching this.\\\"\"\n",
      "* * * * * * * * * \n",
      "15610\n",
      "Is this film a joke? Is it a comedy? Surely it isn't a serious thriller? There is no suggestion that there is any intended humor, but on quite a few occasions the poor acting, poor directing, and appalling script had the audience laughing out loud in the cinema. The plot is acceptable - a promising young artist just reaching his peak shot dead by an assassin he walks in on by mistake. The killer sees the young artists work portfolio he is carrying and decides to attend an exhibition of his work. At the exhibition the assassin meets the dead artists sister and they end up falling in love. It is all very predictable stuff and the end will not have anyone guessing as it is so poorly scripted. The film takes place mainly in and around Vienna, Austria, and shows what a beautiful city it is. Do not waste your time on this film though, unless you are studying how NOT to act, direct or script a film!\n",
      "* * * * * * * * * \n",
      "15695\n",
      "This film is absolutely horrific. One of the worst movies I've ever seen. The story does nearly not exist, the characters are full of stereotypes and the Special-FX only make you laugh. The only remarkable thing about this movie is the guest appearance of the Rapper Coolio as some kind of police officer.<br /><br />If this film was supposed to be a comedy I didn't quite get the point. If you want to watch this movie: please get yourself drunk first and then prepare for some good laughs...especially when the first Special-FX appear on the screen.<br /><br />But if you like trash movies made on the cheap: this film is a must-see for you.\n",
      "* * * * * * * * * \n",
      "15703\n",
      "Personally I think this show looks pretty cheaply made. Some of the actors are terrible. They over do it & seem fake. I can always tell how it's going to end within the first 10 minutes or less of watching because they make it so transparently clear. It's not very well written either. I love to watch it to laugh at it. You know the saying \\It's so bad that it's good?\\\" Well, that saying applies to this show. I also like to watch just to see if I'm right when I guess how it's all going to end. So far I've been right every time. It's like a little game that I play. It's nice when you are bored & you feel like laughing at something.\"\n",
      "* * * * * * * * * \n",
      "15751\n",
      "Scary Movie 2 is definitely the worst of the 4 films, for there is not much of a plot , bad acting, pretty tedious and some really cheesy jokes. But. And this is a big but, there is one good actor, one good recurring joke, and a good beginning. The good actor being Tim Curry, the one good recurring joke is the creepy,weird butler with the disgusting hand who always does cringey but laugh worthy things. And the good beginning is the spoof of the Excorsist.<br /><br />The plot to Scary Movie 2 is the main characters from the original and a host of new characters along the way are invited to stay the night at a creepy old mansion, but will they survive the night? This film is not very good but if your bored you might as well watch it!\n",
      "* * * * * * * * * \n"
     ]
    },
    {
     "name": "stdout",
     "output_type": "stream",
     "text": [
      "15908\n",
      "This movie blows - let's get that straight right now. There are a few scene gems nestled inside this pile of crap but none can redeem the limp plot. Colin Farrel looks like Brad Pitt in \\12 Monkeys\\\" and acts in a similar manner. I normally hate Colin because he is a fairy in general but he's OK in this movie. There were two plot lines in this movie-= one about a kid who throws rocks through windshields of moving vehicles and the other about a woman with a moustache. Let's face it- this movie has no freaking idea of what it wanted to say or where it wanted to go. THe characters story lines intertwine on some levels but are in no means worthy of being included in a script. The whole thing is weak and pointless and then there is an occasional OK scene. But overall- Don't bother unless you love irish accents so much that you can watch mediocrity and it is rescued by everyone sounding like the Lucky Charms elf -an American fetish that has catapulted some truly crappy movies to success.\"\n",
      "* * * * * * * * * \n",
      "16184\n",
      "The first part, Che in Cuba, is about that portion of his life. It contains too many indistinguishable battles and Che ministering to too many indistinguishable wounded (remember that Che was a physician). It ends as Castro wins the revolution; Che never gets to Havana. The second part, Che in Bolivia, is about guess what. It contains too many indistinguishable battles and Che ministering to too many indistinguishable wounded.<br /><br />When I realized this was supposed to be an \\epic\\\" (I never knew *anything* but the title before it started), I naturally thought of the greatest epic of them all, David Lean's Lawrence of Arabia. More of that later.<br /><br />Not to be a racist, but aside from what I've already mentioned is the fact that there are too many characters who are, well, indistinguishable -- unknown Hispanic actors who look alike, especially considering they all wear \\\"Che\\\" beards and all wear Che fatigues. This results in the viewer not being able to identify with anyone other than Che, Benicio del Toro (even Fidel has a very minor role). While del Toro's terrific, think of \\\"Lawrence\\\" with Peter O'Toole as the only discernible character: no Alec Guinness, no Omar Sharif, no Anthony Quinn, etc. You get the idea.<br /><br />Because the other characters are interchangeable, this results in a loss of reference. When top aides of Che are killed, you feel no remorse since you don't know who they are. Even when Che is killed (I don't think that's a spoiler), there's no empathy from the audience -- he's just killed.<br /><br />He's too one-dimensional to relate to as a human being. Aside from being a revolutionary and second only to Jesus in moral rectitude, the only thing we learn about Che is that he's married with five children (he tells another character that near the end). What was his motivation? A complete enigma.<br /><br />Maybe Soderbergh is purposely aping Lean. Like Soderbergh's Che, Lean never lets us know anything about Lawrence, the mystery man of Arabia. But at least Lawrence had a friend (Sharif) and associates (Guinness, Quinn). He was as courageous as he was insecure -- i.e., had human qualities. Che is like a machine, about as warm as The Terminator.<br /><br />Earlier this year there was another war epic, Mongol. Che makes Mongol look like It's a Wonderful Life.\"\n",
      "* * * * * * * * * \n",
      "16319\n",
      "Certainly NOMAD has some of the best horse riding scenes, swordplay, and scrumptious landscape cinematography you'll likely see, but this isn't what makes a film good. It helps but the story has to shine through on top of these things. And that's where Nomad wanders.<br /><br />The story is stilted, giving it a sense that it was thrown together simply to make a \\cool\\\" movie that \\\"looks\\\" great. Not to mention that many of the main characters are not from the region in which this story takes place (and it's blatantly obvious with names like Lee and Hernandez). If movie makers want to engross us in a culture like the Jugars and the Kazaks, they damn well better use actors/actresses that look the part.<br /><br />Warring tribes, a prophecy, brotherly love and respect, a love interest that separates our \\\"heroes\\\", are all touched on but with so little impact and screen time that most viewers will brush them aside in favor of the next battle sequence, the next action horse scene, or the breathtaking beauty of the landscape.<br /><br />It is worth mentioning that there were some significant changes made to Nomad during its filming, specifically the director and cinematographer. Ivan Passer (director) was replaced by Sergei Bodrov, and Ueli Steiger (cinematographer) was replaced by Dan Laustsen. In one respect, Laustsen seems to have the better eye since his visions of the lands made the final cut that we see here. Definitely a good thing. However, the changing over to Bodrov as director may not have been the wisest choice. From what I'm seeing here, the focus is on the battles and not the people, which I sense comes from Bodrov's eyes and not Passer's. A true travesty.<br /><br />The most shameful aspect is that this could've been a really fantastic film, with both character and action focuses. Unfortunately, the higher-ups apparently decided that action was what was needed and took the cheap (intellectually speaking) way out.<br /><br />Even though I can't give this film a positive rating, it is worth watching simply for the amazing cinematography work. But that's all.\"\n",
      "* * * * * * * * * \n",
      "16350\n",
      "I realize that bringing a novel to the big screen is always problematic. That is the only positive thing I can say about this truly horrid adaptation.<br /><br />Have you read 'Wise Blood?' It's an amazing book. Flannery O'Connor wrote about the south as no one else has. She was a southerner herself, a devout catholic, and a remarkably gifted writer. In her first novel she wove together a dark and deeply disturbing tale of faith, doubt, and redemption with a macabre sense of humor and surprising evenhandedness. The characters in the book may seem outrageous to those who have not lived in the rural south, but I can assure you that such people do exist. Not only do they exist, they are human beings with families, feelings, and concerns like anyone else. Flannery's intentions were so often misunderstood - she was not lampooning these backwoods zealots - she saw in them the beautiful operation of what she would have called 'grace'...even in the most violent, distressing, and maddening of circumstances. To read 'Wise Blood' is to be washed over with a sense of dread and impending doom. Finally, it is to think long and hard about our judgments and preconceptions - our entire world view.<br /><br />None of this comes through in John Huston's 'Gilligan's Island'-like adaptation. None. It is a farce. A bad farce. The entire film is saturated with a hauteur that turns the stomach. The acting is poor, the southern accents are fake and insulting. The filmmakers show no insight into the thinking of religious southerners. Ms. O'Connor's intense prose are reduced to sight gags and cheap, amateur theatre. The soundtrack is a mixture of hayseed silliness and 'Clockwork Orange'-style cheeseball electronics that doesn't fit the story or even the MOVIE. I was granted free admission to this movie and almost walked out. Truly, truly terrible.<br /><br />As an aside, I do not agree with Ms. O'Connor's religious views, and while I was raised in the deep south, years ago I made my way north and have not looked back. But the south is a beautiful place full of fascinating individuals (like every other place on earth), and the cartoonish mockery with which southerners and their attitudes are dealt in this movie borders on offensive. If you're into being offended (which I am not), then this movie most DEFINITELY crosses the line.<br /><br />I don't like to talk crap about an artist's work - John Huston was a man that I did not know, and I'm sure he was a sincere and gifted filmmaker, to which his respected place in film history attests. My views are clearly skewed by having read (and loved) Flannery O'Connor's work. So I don't claim to be coming from any other perspective. Maybe as a stand-alone film it works for cinephiles. But for Flannery O'Connor fans - and, I might add, for self-respecting southerners and openminded individuals of all stripes - this movie is a waste of time.\n",
      "* * * * * * * * * \n",
      "16448\n",
      "Great CGI effects & a truly Oscar-worthy performance by Gary Sinise as Lt. Dan. <br /><br />Tom Hanks is a one-trick pony in this movie, how he got the Best Actor Oscar that year over Morgan Freeman was a crime. <br /><br />This movie is a pandering treacly love letter to the baby boom generation, with a barely concealed right-wing prejudice, beginning from Forrest's service in Vietnam all the way through to the \\resolution\\\" with Jenny at the end.<br /><br />With that said, though, it is hugely entertaining and an American movie through and through. I found certain parts of this film exceedingly offensive, Zemeckis dumbs down this movie almost to the level of Gump himself . . .maybe that was the point he was trying to make.<br /><br />Watch this film and ask yourself \\\"What is Robert Zemeckis saying about what makes a good American?\\\" <br /><br />Forrest seems to have made the \\\"right\\\" choices and been at the \\\"right place at the right time\\\" for the last 45 years. Those who are wrong according to the director's vision seem to pay a heavy price. So is Zemeckis saying that idiocy disguised as innocence and naivety is a patriotic, even AMERICAN quality?\"\n",
      "* * * * * * * * * \n",
      "16475\n",
      "I watched the film recently and it poorly resembles the book is based on. I blame this on poor screenplay and direction. Some parts were forcibly introduced (the gay rape scene) for no apparent reason. I actually read the book after watching the movie and some 20 years or so after reading it for the first time. I found it hard to read and somewhat clumsy. Too many disparate ideas introduced for no benefit at all... other than sensational parts for the time. As it covers stuff that was deemed 'sensitive', to say the least, during communism, I can see the fascination it produced at the time. That isn't the case anymore though or maybe I see things differently now or a bit of both. The film tries too much to cover many aspects from the book, the result being a concoction of scenes that may make some sense to someone who read the book. Even so this is a film that is difficult to watch and maybe should have never been made.\n",
      "* * * * * * * * * \n",
      "16493\n",
      "how can you take her hard-living, glamorously violent bounty hunter story serious with *that* accent? It's absurd. Apart from that, the visual style of the directer is nauseating and gimmicky, the plot is a shallow, boring, confused gangster-movie rehash and the acting is unconvincing. The film introduces new characters all the way throughout the film and is told in fragmented flashback - mostly out of sequence - seemingly just to keep you nice and confused. The film ever shows you THINGS THAT DON'T REALLY HAPPEN and then later says \\that didn't really happen, this happened\\\" - see the (apparent) killing of the (fake) 'first ladies'. What have we seen the first, wrong, sequence of events for then?<br /><br />Terrible choice in casting, a convoluted, messy plot and a headache-inducing directorial style. 1/5.\"\n",
      "* * * * * * * * * \n",
      "16562\n",
      "I really looked forward to this program for two reasons; I really liked Jan Michael Vincent and I am an aviation nut and have a serious love affair with helicopters. I don't like this program because it takes fantasy to an unbelievable level. The world speed record for helicopters was set at 249 mph by a Westland Lynx several years ago. The only chopper that was ever faster was the experimental Lockheed AH56A in the 1960's. It hit over 300 and was a compound helicopter, which means it had a pusher propeller at the end of its fuselage providing thrust.<br /><br />In short, no helicopter can fly much over 275 because of the principle of rotary wing flight. And the Bell 222, the \\actor\\\" that portrayed Airwolf wasn't very fast even by helicopter standards. And it didn't stay in production very long.<br /><br />There was a movie that came out during this time period called \\\"Blue Thunder\\\" that was much more realistic.\"\n",
      "* * * * * * * * * \n",
      "16564\n",
      "drss1942 really took the words right out of my mouth. I loved Segal's early films and feel like the only one who is still faithful to him. I just saw this movie (ok, fell asleep about 90% through, so I didn't see the end). When I woke up and saw I was at the DVD menu, I was thankful I didn't subject myself to any more of that movie and didn't dare find out what happened at the end. There was something strange about the voice of Segal and others. Kinda reminded me of the original Mad Max where the voice were dubbed, but in the same language (Australlian is English, right? :) Anyway, if I had 10 thumbs, they'd all point down right now for this Segal injustice.\n",
      "* * * * * * * * * \n",
      "16639\n",
      "The cover on the DVD and disc is freaking awesome, you would think they made a movie about sweet tooth from twisted metal black which is still a really great idea, but this movie's actors are worst then Ben's performance in pearl harbor, porno's have better quality and better actors. i was gonna buy the DVD but luckily i rented it first, the plot and script are also horrible, nothing seems to go to together so the movie really never makes sense. The poor attempts to frighten you using flashback scenes are worse then ones used in 80's sitcom shows and in the end it'll leave you wanting to bang your head against the wall of your house.\n",
      "* * * * * * * * * \n",
      "16757\n",
      "Jeff Lowell has written & directed 'Over Her Dead Body' poorly. The idea is first of all, is as stale as my jokes and the execution is just a cherry on the cake.<br /><br />Minus Eva Longoria Parker there is hardly anything appealing in this film. Eva looks great as ever and delivers a likable performance.<br /><br />Paul Rudd looks jaded and least interested. Lake Bell is a complete miscast. She looks manly and delivers a strictly average performance. Jason Biggs is wasted, so is Lindsay Sloane.<br /><br />I expected entertainment more from this film. Sadly, I didn't get entertained.\n",
      "* * * * * * * * * \n",
      "16871\n",
      "If the only sex you've ever had is with a farm animal, then the tag line for this movie is probably still misleading.<br /><br />This is by far one of the most boring movies I've had the pleasure to try and watch lately. I found the DVD lying around at my friend's house, and I made the sad mistake of not burning it.<br /><br />I am unable to tell any details without spoiling the movie because there are only about 5 details to this movie. Just try to imagine someone making a movie about things on c-span only the fictional movie is 10 times less interesting than the most boring debate on c-span.<br /><br />I think there is a conspiracy somewhere in this movie, but I was unable to tell exactly what it was after I gouched my eyeballs out and threw them at Richard Gere.\n",
      "* * * * * * * * * \n",
      "16916\n",
      "Well, I like to be honest with all the audiences that I bought it because of Kira's sex scenes, but unfortunately I did not see much of them. All sex scenes were short and done in haphazard manner along with all the weird and corny background music just like all other B movies - it just doesn't look much like two people having sex. There is a tiny bit of plot toward the end - Kira's new lover is a killer. Whoa!!! how shocking!!! Why don't we nominate this movie for Oscar Award? I can't imagine how bad the movie would look like if it were R-rated (Mine is imported from UK, rated 18). Conclusion? Put it down and walk away, so yon won't end up with being a moron like me.<br /><br />Score: 2/10\n",
      "* * * * * * * * * \n"
     ]
    },
    {
     "name": "stdout",
     "output_type": "stream",
     "text": [
      "17036\n",
      "NATIONAL LAMPOON'S CLASS REUNION was a flop when it was released. It didn't stay long in theaters in my big city. Why? Because it's BAD!!!!!<br /><br />Not bad in a good way but bad in a really painfully unfunny way. The entire cast of actors were mostly unknowns then and have remained unknowns after this turkey.<br /><br />The idea is actually great (a parody of slasher flicks) but the execution is sorely lacking in every aspect. <br /><br />Just avoid this \\comedy\\\". Your time is more precious than spending a nanosecond watching this embarrassing misfire.\"\n",
      "* * * * * * * * * \n",
      "17141\n",
      "Hmm",
      " I agree with the reviewer who said that \\strange people with generous tastes have been reviewing this film\\\". I thought the film was intriguing enough to watch it. I think that was primarily because of Marsden and Speedman - not the plot.<br /><br />The bottom line is that this film is mildly psychologically tantalizing on the one hand and profoundly homophobic on the other. Thumbs up on the former and triple thumbs down on the latter. I'm not sure if the film is intended to promote dialogue or to spread fear and propaganda.<br /><br />I thought the acting was mediocre. A lot of conversation that was about 90 degrees askew of reality. I kept wanting to derive some meaning from the plot, but it's ultimately just a conversation with a mad man (Speedman). I feel mildly sorry for him (Speedman) because of his loss, but not really. His loss is no greater and certainly is less than losses suffered every day around the world by more significant causes.<br /><br />Does the film expose naiveté about HIV/AIDS? Yes: That of the intended audience. Is HIV a dark, mysterious, evil killer? What about it's victims? The answer to both questions is NO. Neither HIV nor its victims have any more or less malevolent intent than lupus, multiple sclerosis, TB, hepatitis, CANCER, or their victims, FOR GOD'S SAKE. Just because a disease is communicable does not make it EITHER deliberate OR negligent - or evil - it just IS.<br /><br />Does this excuse ignorance or fool-hardy risk taking? - NO. Should all people practice safe sex? - YES. Will safe sex save the world? - NO. Is safe sex realistic in all instances of love and lust between passionate and emotional human beings?  OF COURSE NOT. What kind of a world would we live in if everyone followed the rules, no one ever took risks, and sex was never spontaneous and passionate??? Am I ignoring that the film deals specifically with gay sex?  YES. HIV is spread by sharing blood or bodily fluids between infected and non-infected individuals. Sex is not necessary for transmission, gay or otherwise.<br /><br />I'm always disturbed by willful violence of one person upon another. I actually thought the film did do a good job of portraying the absurdity of Tom's violent abduction, captivity, and intent towards Dan, and this kind of insane violence does occur every day.<br /><br />Stream of consciousness notes from the film: Tom is crazy.<br /><br />Why doesn't Dan ask \\\"why\\\" do you feel this way, rather than \\\"what are you doing\\\"? Implication: men who have sex with men get \\\"AIDS\\\" Implication: HIV = AIDS Where was Tom's responsibility in the sex act? Why was it Dan's responsibility to use the condom? \\\"maybe you slipped it off before you stuck it in",
      "\\\" What are we talking about here? Was one of the parties unconscious? \\\"Maybe she didn't want to hear the truth\\\" are you kidding me \\\"She's up in heaven and so unbelievably hurt about what she now knows about me\\\" ",
      "right",
      " Is Dan's life over if he has HIV? Certainly NOT! Is this why the whole world is so homophobic???? They think gay men are the cause of HIV, that they will give it to the rest of the world, and we will all die",
      " are you kidding me??? Are people really stupid enough to think that homosexuality is the cause... is the problem??? Do we feel that way about the victims of tuberculosis? of malaria? I can see that Tom is hurt because of his wife's death, and he blames it on AIDS, but seriously",
      " who's at fault here? The victim or the virus? Are illnesses really the responsibility of the ill? (presuming they did not seek and did not seek to spread the disease).<br /><br />Sure, safe sex is essential to a safe life, but so is not-driving, not-flying, not-leaving the house, not-living. Do we really want to blame the disease on the victims? Would safe sex between Tom and Dan have prevented Tom's wife's ultimate demise? Perhaps, but not Dan's sole responsibility.<br /><br />Tom is crazy. Did I mention that.<br /><br />Tom to Dan: \\\"maybe you get what you deserve\\\"",
      " COME ON! 24 Days: Violent, naïve, and homophobic.<br /><br />Am I overreacting? Perhaps. But I think this film points a judging finger at gay men for their reckless and malevolent intent towards a \\\"straight world\\\" by practicing unsafe sex, when the rate of homosexuals practicing safe sex is proportionately equivalent or better than that of heterosexuals. We all need to wake up and get serious about HIV/AIDS. HIV is killing hundreds of thousands of STRAIGHT Africans every year.\"\n",
      "* * * * * * * * * \n",
      "17167\n",
      "As gently as I can, I sincerely believe this movie is a waste of time. I did not find it the 'warm, emotionally satisfying' film others did. I found it boring, with music that distracted from the film. The story was thin, the characters overdrawn, and the direction pedestrian.<br /><br />Fooey.<br /><br />Now I'm going to write some more about this movie, so I make the 10 line minimum. There really isn't more to be said and brevity is important, but IMDb has its minimums, so here goes.<br /><br />Young eager kid finds nascent talent, seeks time with aging, embittered mentor in spite of father's cartoonish homophobia. Aging, embittered mentor turns out to drink a lot and teach very little. conflict arises. While I don't think this is a spoiler, I've added the warning in case someone feels this much information is too much. <br /><br />Mostly, I just found the film boring and pretentious. A waste of my time. I honestly don't understand what little fuss there seems to be, mostly on this web site, about the transcendent quality of this movie. I think it's really worth avoiding. But, as Dennis Miller used to say, \\Maybe I'm wrong.\\\"\"\n",
      "* * * * * * * * * \n",
      "17398\n",
      "From the first moment, this \\thing\\\" is just an awful sequence of extremely short cuts of blurry camera work. While the overall plot has every potential for a thriller, the story is so badly told that I'm unable to buy it. From the middle of the film, the actions of characters don't make sense to me. Stop reading now to avoid SPOILERS.<br /><br />For instance, Ed's idea to have Edna make coffee for them after having shot off her son's arm is way below his alleged experience; it's just an extremely stupid idea. Domino not questioning the fragmentary orders she receives from Claremont Williams over a breaking-up phone connection just eludes me; shouldn't she be long suspicious that Williams is turning them in? Those FBI agents seem out of their minds showing up with just one single helicopter to something they have every reason to consider a capital mafia shoot-out. Besides, what they do by withholding and leaking information towards Cigliutti is pretty much incitement to murder; it seems to me like farewell to justice if that's they way the FBI does investigations. In reality, they'd have a case messed up beyond repair if they acted like this. We get to see a car accident which normally would have at least seriously injured if not killed most of the passengers but miraculously leaves all of them with just a few bruises. Quite the contrary, the accident is immediately followed by Domino making love to Choco, which is from Domino's viewpoint in no way founded by previous events but just by being drugged to the eyeballs.<br /><br />The whole sequence of scenes starting from the phone call of Claremont Williams appears to me just as want-to-be dramatic razzle-dazzle. This combined with the awful, uneasy camera work just makes a piece I hesitate to call a movie. I'm sorry for the wasted effort of the main actors, whose talent is out of question.\"\n",
      "* * * * * * * * * \n",
      "17445\n",
      "The only thing that The First Power really has going for it is that it affords Jeff Kober an opportunity to play one of his lovely variety of psychotic villains that he's done so well in the last 25 years. Kober is a worthy successor to Lyle Bettger who specialized in those parts back in the Fifties.<br /><br />But it's not enough, The First Power is a souped up slasher flick that has Lou Diamond Phillips wasted as an LAPD detective who has a specialty in catching serial killers. Kober is his latest catch, but Kober's in league with a lower power and they're going to team up and make Lou's life miserable for him. Even after Kober is given the gas chamber, his spirit comes back in all kinds of guises.<br /><br />Mykelti Williamson is on hand as Lou's partner who meets a nasty end involving a demon possessed horse and Tracy Griffith as a psychic and Elizabeth Arlen as a nun with insights are around to help Lou. Will he succeed in battling forces from beyond?<br /><br />By the time the film ends, you no longer care. Lou really got trapped in a turkey. Maybe the devil made him do this film.\n",
      "* * * * * * * * * \n",
      "17475\n",
      "The movie starts quite with an intriguing scene, three people are drinking and making small talk in a bar. All of them are making up a bit outrageous stories. As the movie unfolds, it turns out that the most outrageous story is true. However, beyond that the movie is not very interesting except for the scene in the bar and the scene where main secret is revealed. This revelation happens barely half time into the movie and frankly, not much is left to be seen. The rest of the time director is lingering in a god forsaken Russian village full of pitiful and creepy old ladies. Sure, these are fascinating and a bit shocking images, but admiring them goes on way too long, sacrificing any possible plot or character development. I found this movie as another example of either lousy or lazy movie-making, where instead of trying to make an interesting story, movie makers concentrate on weirdly fascinating imagery and through in a few almost unrelated stories (case in point - meat trader's story) to leave the spectator to figure out all odds and ends. On a surface it has artsy appearance, but in this particular case is nothing more than lack of talent.\n",
      "* * * * * * * * * \n",
      "17633\n",
      "Brief summary: This movie demeans everyone it touches. That means you.<br /><br />First off, let me say I'm not a purist, and this might have been funny for a few minutes. The impersonations are not bad. But overall it's just dull and excruciatingly not funny. A few simple jokes are repeated over and over again.<br /><br />It's clear that this movies only exists to squeeze the last few dollars out of the now-trademarked Laurel and Hardy. The producers cannot have any real regard for their place in film history, or their talents. This is what offended me the most.<br /><br />Of course, my daughter liked it, so I'm also a failure as a parent ;)\n",
      "* * * * * * * * * \n",
      "17741\n",
      "I have seen this movie and the other one. Trinity is my name and i find that this one is worse then the first one. I have no idea why they even made another movie it was stupid and pointless sorry to say that i have all of them. I have sat through them number of times and it still drives me to turn it off 5 minutes into the movie. I like Terence Hill movies and i like Bud Spencer but this movie just drove me up the wall. If it had a different story line or at least more of a plot and more comedy it might have been funner and worth the 5 dollars i spent buying all the movies. But you make mistakes so i would say save your money and don't bye this movie or any of the ones that go with it trust me on this one.\n",
      "* * * * * * * * * \n",
      "17767\n",
      "I rented this because I'm a bit weary of '80s NBC programming and apparently I saved myself a lot of money. I have nothing against any of the actors and for their credit they do a good job but this show is flawed from the premise.<br /><br />We have a character who is unlikable. He's full of flaws, not enlightened, and a complete jerk on a good day. Yet the reason why anybody should care just isn't there. While creating an American sitcom centered around a complete bullheaded jackass is revolutionary and full of potential, it just isn't met here within this show. Most of the supporting characters aren't fully fleshed characters but rather sad punching bags that want empathy from the audience for being punching bags. As in any sitcom, they are the ones who are made the most normal for the audience to relate to, and in doing this they negate the lead character to such an extent that we see Bittinger being himself and harming people and they just stay there because....why? There is no reason. Any normal people would have simply left the abuse. Keeping them there without any real reason--even the really unbelievable one given by Joanna Cassidy in the very special 2-part abortion episode that has major problems of its own--is where the show just falls apart. To simply believe that people put up with this guy because we are told he has a heart of gold does not mesh with the reality of the situation. If anything, this isn't even dramedy. This is a badly plotted, conceived, and executed premise that had a few moments but overall met the fate it deserved. Someone had the guts to go out and make a very good idea, but the execution is so haphazard that it just looks like a weirdly scripted version of the Jerry Springer show where someone is abused by this tyrant that we're supposed to root for because we are told to. A show like this requires a deft touch that the actors here could have provided easily, but somehow aren't able to. And that's a fatal error that really killed the program.<br /><br />Chalk it up to a show in its infancy. Regardless, the show is worth a watch. But it really screwed up when trying to aim for the stars, and made the whole enterprise not what it could have been.\n",
      "* * * * * * * * * \n",
      "17863\n",
      "This is by far the worst movie I've ever seen. From the plot, though the shots, the \\special effects\\\", the acting, and did I mentioned the plot? Every single thing in it sucked ass!<br /><br />This is a good example of what \\\"over-doing\\\" means and I'll try to explain:<br /><br />I understand what the creator of this movie was trying to do; this was supposed to be one of those movies you can't really tell what the hell is going on up until the end. You sit mesmerized, not knowing who's dead and who's alive and who killed who and why and just when you think you got the timeline right you find out you're wrong and the movie ends - leaving you with an opened mouth for the next 5 minutes! Something like \\\"Unbreakable\\\" or \\\"The Job\\\" if you know what I mean.<br /><br />But Olga Levens, the writer of this junk, yes, Olga  The writer, Director, Producer, Screenplay author, Caster, Production designer, Art Director, Costume Designer and also a double for one of the characters is some scenes... this is basically a one woman movie and when it comes to Olga Levens from \\\"Levens Productions\\\" you can't go wrong :-)<br /><br />Well this might come as a shocker but \\\"this time\\\" Olga over did this big time, jumping from scene to scene, from dreams to reality... but wait! this was all a dream after all... or was it??? The picture fades and I realized none of this ever happened, the girl was all alone on the ship... actually there was no ship... no wait! There's the ship again, and the guys! They're alive! Thank god! No they're calling her to join the cruise... but then the ship disappears so maybe they're dead after all??? or maybe they never were alive to begin with???<br /><br />If you understood what I just said you might like this movie - otherwise it's a boring piece of work and the only reason I set through this entire crap is to find out how the hell can they finish this movie...<br /><br />Don't watch this if you value time, ever 90 minutes are a waste in this case...\"\n",
      "* * * * * * * * * \n",
      "17893\n",
      "Sorry Fulci fans, but I could not get through this one. The soundtrack was about as annoying as they come, the acting was puerile, the story has been done and done, and the direction was non-existent. <br /><br />Massacre honestly looked like a children's film project. But I've seen some of those, and they actually look better than this did! It appears to have been so underfunded they couldn't afford ... ANYTHING! Not a DoP, not a director, no one who even remotely had a clue what acting was. It was a very poor cinematic experience; one of my worst.<br /><br />This was about the worst suck-fest I've seen, next to Terror Toons which is second only to Killer Klowns from Outer Space. I've nothing else to say about it.<br /><br />It rates a 0.1/10 from...<br /><br />the Fiend :.\n",
      "* * * * * * * * * \n",
      "17926\n",
      "I was in physical pain watching the eyes of the cast as they participated in this sham. Bad dialogue, worse (worst) acting, lifeless all the way, and the cast knew it. The two preceding movies which this attempted to copy had life, sparkle, and were captivating.\n",
      "* * * * * * * * * \n",
      "17957\n",
      "Chillers starts on a cold, dark stormy night as a bus drops off three passenger's outside a bus station, a young boy named Mason (Jesse Emery), a college professor Dr. Howard Conrow (David Wohl) & a woman named Sharon Phillips (Laurie Pennington). Inside they discover that they have missed their connecting bus & are stranded for the night. In the waiting area they find two other people, Ronnie (Jim Wolf) & a sleeping woman named Lindsay (Marjorie Fitzsimmons) who is currently having a terrifying nightmare...<br /><br />While swimming in an indoor pool Lindsay encounters & befriends guy named Billy Waters (Jesse Johnson), the next time Lindsay sees Billy he dives into the pool & then seemingly disappears into thin air before he surfaces. Shortly after Lindsay discovers that Billy Water died in a diving accident 5 years ago...<br /><br />Lindsay wakes up & tells the others about her nightmare, everyone else responds by saying that they too have suffered disturbing dreams recently & decide to share them to pass the time...<br /><br />Next up is Mason who tells a story of how he & two friends, Scott (David R. Hamm) & Jimmy (Will Tuckwiller), are terrorised during a camping trip...<br /><br />Then it's Sharon whose story revolves around a newsman named Tom Williams (Thom Delventhal) who she phones up, in no time at all Tom is at her front door but he actually turns out to be a Vampire...<br /><br />It's Ronnie's turn next & he describes how he discovers that he can bring the dead back to life, unfortunately he brings executed mass murderer Nelson Caulder (Bradford Boll) back to homicidal life...<br /><br />Finally Dr. Conrow tells a tale of how two of his students brought an ancient Aztec war-god named Ixpe (Kimberly Harbour) back to life...<br /><br />Then it's back to the bus station for one last (predictable) twist...<br /><br />Written, produced & directed by Daniel Boyd Chillers is one of the worst horror anthologies I've ever seen & I usually really like this sub-genre. The script by Boyd lacks what is needed for films such as Chillers to work, you can see the final twist coming a mile off & each story is really lame. The first one is totally pointless & didn't seem to have an ending & the best thing about these anthologies are the short snappy stories that are rounded off with a neat twist. The second story is predictable &, again, just ends without any payoff. So it continues throughout Chillers that each story is deeply unsatisfying to watch & have no reward for doing so. The character's & dialogue are poorly written, the stories seem to have no original ideas of their own & as a whole the film totally sucks. At least each story doesn't last long & I liked the idea behind the linking segments.<br /><br />Director Boyd was obviously working with a very low budget & it shows. All I can say is if you want to watch a 15 odd minute short story set entirely within a swimming pool then Chillers is for you. The stories are neither clever, scary or have any sort of tension or build up to anything. Having said that it does have a few nice scenes & some surprising competence shines through on occasion. Violence & gore wise there isn't much happening in Chillers, a ripped out heart, a decapitated head & a bitten off hand is as gory as it gets.<br /><br />Technically Chillers is poor stuff that won't impress anyone. Basic cinematography, bad music, cheap special effects & below average production values. Chillers also features one of the worst closing theme songs ever, period. The acting is also of a very low standard.<br /><br />I am sure a lot of effort was put into Chillers as a low budget film & at least the filmmakers tried so I will give credit for that at least, but that still doesn't stop me from thinking it's crap. Similar anthology films like Tales From the Crypt (1972), Asylum (1972), The Vault of Horror (1973), Dr. Terror's House of Horrors (1965), Creepshow (1982) & Tales From the Darkside: The Movie (1990) are far superior to Chillers so watch one of those instead.\n",
      "* * * * * * * * * \n",
      "17976\n",
      "What a poor excuse for New Zealnd Movie making. I'm ashamed to call myself a New Zealander when this movie exists and is currently playing on New Zealand satellite TV (Aug 2006). The cast is made up of a large number of local soap stars. The ship, in real life, is one of the inter-island ferries that travel daily between the two main islands and even has the company's logo (a dolphin) still all over the set including on the ship's funnel. The ship is supposed to be a cruise ship/ferry between the USA and Mexico. It has obvious signs of rust and old age all over the place yet is supposed to be a luxury ship on it's maiden voyage. One of the scenes shows the snow capped peaks of New Zealand's South island in the background for God's sake! Must have been a very cold time on the USA/Mexico area! The story is weak, the acting is weaker and the new Zealand/American accents just don't work. I expect the New Zealand tax payer contributed to the production cost of this movie and that was a waste of money better spent on a real production. I know high school kids in New Zealand who could make better movies with their cell phones. Goof: There is a truck in the hold with tagging on it and they stuck a Taco Company sign on the door of the truck, presumably to make it look like it was American. But some of the sign is over the top of the tagging - you'd think they would have noticed that in the props department before attaching it. I'd love to go on but it just isn't worth the trouble in any way.\n",
      "* * * * * * * * * \n",
      "18079\n",
      "Straight to the point: \\The Groove Tube\\\" is one of the most unfunny, unclever and downright horrible films ever made. This \\\"comedy\\\" is so void of anything remotely resembling a trace of wit that it's almost incomprehensible that it was even made. I said almost because there are fans of everything after all.<br /><br />This film isn't even \\\"good\\\" bad or \\\"enjoyable\\\" bad. To put this movie on the same level of entertainment as \\\"Plan 9\\\" or \\\"Robot Monster\\\" would be a crime to those films. Films like that you can actually watch and get a kick out of. But this film is SO bad, SO poorly made, acted and scripted and SO incredible stale, that there just isn't even a trace of \\\"camp\\\" or \\\"schlock\\\" to be found.<br /><br />Even though this was made before Saturday Night Live premiered, comparisons were probably inevitable. I'm not a big fan of SNL, but this film is worse than the worst SNL skit you can find. And man, that's BAD. Just to keep the men viewers from leaving, Shapiro throws in a pair of breasts every so often, but poorly-filmed breasts from 1974 aren't going to excite anyone these days. Truthfully this film is so poorly made and is such a sleep-inducing excursion, I doubt if they excited anyone in 1974 either.<br /><br />A man named Ken Shapiro made this film. I swear to God, any ten-year old with a video camera could have made something funnier and more clever. It's just downright unreal - this is truly an unbelievable film. The \\\"jokes\\\" and \\\"gags\\\" are so infantile that even little boys who like to sneak dad's porno mags out at night won't laugh.<br /><br />I will give this film one thing - the very last sequence, the \\\"dancing man\\\" sequence, where a guy (Shapiro) on the streets of NYC dances to a tune, is easily the best thing in this horrible film. Not that the \\\"dancing man\\\" sequence is that great either - it definitely has its moments of not being clever as Shapiro desperately tries to fill in the time for the entire song - but it actually was somewhat watchable. The part of this sequence where the cop starts dancing with the man is the one sole trace of cleverness in the entire film. No wonder Shapiro put this sequence last - again, while not so great itself, it easily beats anything else in this \\\"film.\\\"<br /><br />Otherwise, this film is such a complete piece of crap, it's unfathomable as to how an actual human being can be so downright cleverless. The name of this film should have been \\\"Ken Shapiro's Craparama.\\\" It's amazing that this was made, but many truly talented filmmakers can't get in. However, I will say that I bet the geniuses at NYU would love this movie. Total garbage.\"\n",
      "* * * * * * * * * \n",
      "18174\n",
      "Why? Why did they make this movie? If Timothy Olyphant wasn't shirtless in it several times, there would be ABSOLUTELY no reason to watch this movie, ever. Um...Plot? Nope. Well-defined characters? nope. The only time I laughed was when my boyfriend made fun of the whole she-bang. P.S. Andy Dick? Nope.\n",
      "* * * * * * * * * \n",
      "18433\n",
      "I have grown up reading Modesty Blaise, both the comics and the books, and she truly is a heroine to me. Although not being a great fan of Quentin Tarantino I anyway was interested to hear a few years back that he was considering making a film of her: could he finally give Modesty a nice big screen treatment she's worthy of? I heard of 'My Name Is Modesty' a few months ago and checked the stars it had been given here, and wasn't too surprised to find out the score was not too high, since beloved characters often have hard time melting the fans' heart if not done exactly right. So I decided not to read any reviews and see the film instead, and well, I just finished watching it, and I'm stunned, and sad, and yeah, pretty furious, too. Sad and furious of giving over an hour of my time seeing something so fabulous as Modesty Blaise-character being turned into a film that has nothing to give to a viewer or a fan.<br /><br />It seems that almost everything about this film is sub-par and unprofessional, although I must admit seeing some actors in other films earlier where they were fine so I can't blame them. But the screenplay and the directing... my god, why even make this kind of crap with production values slightly bigger than your average TV-film but done much worse? I don't know the background of this film and actually I really don't want to know, but I just can't help wondering that how on earth could Tarantino with a straight face tell that he loves Modesty and then put his name on this? He just lost a huge amount of respect in my eyes. The director was not the right man for this job and I can honestly thank him for ruining my night.<br /><br />I give this film 3 stars and those stars go to the actors and the technical quality which could've been worse. The other seven stars missing are what this film was not good at. Oh well, hopefully at some point there will be a serious production of The Modesty Blaise Movie that has some other goals than to steal money from the Modesty fans. Although if people like Tarantino are the ones making the decisions I'm not holding my breath.\n",
      "* * * * * * * * * \n",
      "18676\n",
      "I should have never watched this movie. The style of filming may be considered artsy to some, but it is considered migraine-inducing to me. I think it may have had an interesting plot, but since I couldn't watch it for long stretches at a time I missed a lot. The flickering pictures and stop motion filming branded my brain. I stopped watching mid way through and won't be back for a second try. I suppose if I were home alone in my own lighthouse some dark and stormy evening, this might be just the ticket... PS Not sure if the lighthouse/ film style thing can be considered a spoiler, but I don't want to be blacklisted on my first review ;)\n",
      "* * * * * * * * * \n",
      "18836\n",
      "I am a big fan of Arnold Vosloo. Finally seeing him as the star of a recent movie, not just a bit part, made me happy.<br /><br />Unfortunately I took film appreciation in college and the only thing I can say that I didn't like was that the film was made in an abandoned part of town and there was no background traffic or lookie loos.<br /><br />I have to say that the acting leaves something to be desired, but Arnold is an excellent actor, I have to chalk it up to lousy direction and the supporting cast leaves something to be desired.<br /><br />I love Arnold Vosloo, and he made the film viewable. Otherwise, I would have written it off as another lousy film.<br /><br />I found the rape scene brutal and unnecessary, but the actors that got away at the end were pretty good. But the sound effects of the shoot-out were pretty bad. There are some glitches in the film (continuity) but they are overlookable considering the low-caliber of the film.<br /><br />All in all I enjoyed the film, because Arnold Vosloo was in it.<br /><br />Jackie\n",
      "* * * * * * * * * \n",
      "18917\n",
      "The Hamiltons tells the story of the four Hamilton siblings, teenager Francis (Cory Knauf), twins Wendell (Joseph McKelheer) & Darlene (Mackenzie Firgens) & the eldest David (Samuel) who is now the surrogate parent in charge. The Hamilton's move house a lot, Franics is unsure why& is unhappy with the way things are. The fact that his brother's & sister kidnap, imprison & murder people in the basement doesn't help relax or calm Francis' nerves either. Francis know's something just isn't right & when he eventually finds out the truth things will never be the same again...<br /><br />Co-written, co-produced & directed by Mitchell Altieri & Phil Flores as The Butcher Brothers (who's only other film director's credit so far is the April Fool's Day (2008) remake, enough said) this was one of the 'Films to Die For' at the 2006 After Dark Horrorfest (or whatever it's called) & in keeping with pretty much all the other's I've seen I thought The Hamiltons was complete total & utter crap. I found the character's really poor, very unlikable & the slow moving story failed to capture my imagination or sustain my interest over it's 85 & a half minute too long 86 minute duration. The there's the awful twist at the end which had me laughing out loud, there's this really big sustained build up to what's inside a cupboard thing in the Hamiltons basement & it's eventually revealed to be a little boy with a teddy. Is that really supposed to scare us? Is that really supposed to shock us? Is that really something that is supposed to have us talking about it as the end credits roll? Is a harmless looking young boy the best 'twist' ending that the makers could come up with? The boring plot plods along, it's never made clear where the Hamiltons get all their money from to buy new houses since none of them seem to work (except David in a slaughterhouse & I doubt that pays much) or why they haven't been caught before now. The script tries to mix in every day drama with potent horror & it just does a terrible job of combining the two to the extent that neither aspect is memorable or effective. A really bad film that I am struggling to say anything good about.<br /><br />Despite being written & directed by the extreme sounding Butcher Brothers there's no gore here, there's a bit of blood splatter & a few scenes of girls chained up in a basement but nothing you couldn't do at home yourself with a bottle of tomato ketchup & a camcorder. The film is neither scary & since it's got a very middle-class suburban setting there's zero atmosphere or mood. There's a lesbian & suggest incestuous kiss but The Hamiltons is low on the exploitation scale & there's not much here for the horror crowd.<br /><br />Filmed in Petaluma in California this has that modern low budget look about it, it's not badly made but rather forgettable. The acting by an unknown (to me) cast is nothing to write home about & I can't say I ever felt anything for anyone.<br /><br />The Hamiltons commits the cardinal sin of being both dull & boring from which it never recovers. Add to that an ultra thin story, no gore, a rubbish ending & character's who you don't give a toss about & you have a film that did not impress me at all.\n",
      "* * * * * * * * * \n",
      "19091\n",
      "One would think (as I did), that with Steve Martin, Goldie Hawn, and John Cleese, a movie should be, at the very least, decent. These stars (especially Martin and Cleese) have produced some of the funniest works of comedy of all time.<br /><br />Well, apparently I was grossly mistaken--this is single-handedly one of the worst movies I have ever seen. It boggles my mind how one joke after the other can be so profoundly unfunny. It pained me to watch these talented actors execute one of the most positively lame scripts I have had the misfortune to come across. Based solely on the big names, I remained hopeful for a long time through the duration of the film, but it consistently failed to provide any entertainment whatsoever.<br /><br />Normally, both with movies and in life, I try to stay away from biased comments and broad generalizations. But with this film, it's hard not to let loose. I can count on one hand, perhaps even two or three fingers, major Hollywood productions that left me more bitter than this. This is easily one of the worst comedies ever made.<br /><br />I tried to enjoy this---I really did. But The Out-of-Towners ultimately fails miserably. If you really want time-efficient entertainment, just take your money and watch it swirl as you flush it down the toilet. Just please don't watch this movie.\n",
      "* * * * * * * * * \n",
      "19102\n",
      "Anyone who is a sucker for 1920s jazz, 1920s dress, the Charleston, and ultra-swanky yachts (e.g. me, on all counts) will want to like this movie. But the sad fact is that that's all there is. The plot is banal and obvious, the acting mostly either awful or playing to the farcical side of the goings-on, and when the whole thing's over there is not much left but the impression of mirrors and smoke. This is a beautifully made bad movie.\n",
      "* * * * * * * * * \n",
      "19128\n",
      "Sorry, but aside from Kim Basinger doing a good job acting scared, this was one of the worst thrillers I've seen in awhile. Logic is thrown out as 4 young guys terrorize this woman outside a crowded mall then shoot a security guard. Yet no one seems to notice. Then, instead of screaming for help or racing back to the mall, she drives off and ends up in the middle of the woods with the guys in hot pursuit. I can't even describe how silly it is seeing this woman fleeing from 4 retarded thugs, carrying a red toolbox, screaming for God to come help her, and then having sex with one of them after brutally killing the others. Please trust me, this is bad and a bit tasteless as well.\n",
      "* * * * * * * * * \n",
      "19182\n",
      "Given that this movie was put together in less than a year might explain its shortness (81 minutes - including end credits, so roughly 76 minutes of actual film). But what it cannot explain is its lack of humor that the previous film possessed.<br /><br />The gags are quick and sometimes not even funny. The only true funny parts are the quick spoofs on the Nike basketball spots, James Woods' portrayal of Max Van Sydow's character in the Exorcist, and bits and pieces scattered throughout the film. Very unfunny was the take off of Charlie's Angels, which like the first Scary Movie and the Matrix spin off scene, basically recreated the scene without much humor injected into it.<br /><br />Today's youth might not be able to relate to the spoof gags of the classic supernatural horror films of the 70's such as the Exorcist and maybe of the 80s' Poltergeist, et. al.<br /><br />Hopefully Scary Movie 3 will take some time to put together, making the spoofs more enjoyable.<br /><br />One thing though, the film features more than the last one of promising young actress Anna Faris (whom I will admit seemed exceptionally hot in the sequel). Just for her casting and acting ability, I give this movie a \\3\\\" out of \\\"10\\\".\"\n",
      "* * * * * * * * * \n"
     ]
    },
    {
     "name": "stdout",
     "output_type": "stream",
     "text": [
      "19371\n",
      "If they could get Ed Asner why didn't they get other actors instead of people who go to the same church as the producers? And why did the protagonist throw the wise old sage character to the ground when he was never in danger. It forced the old guy to mask the injury out of pride and so the young guy would feel guilty leaving him with a life long disability. I guess thats why the main character refuses money though and why the old guy works him like a dog even when he volunteers for extra work. If the d-bag boyfriend is a bad guy because he is long-distance boyfriend then why is a soldier any better. He has good reason to be jealous, good reason to get her away from her hometown and over protective, controlling manipulative father. All the characters that are meant to be likable aren't and everyone else is the 'bad' boyfriend. How did they meet anyway, a wine broker and a saw mill worker?\n",
      "* * * * * * * * * \n",
      "19402\n",
      "Now, i hired this movie because Brad Dourif was in it. He is an excellent actor, BRILLIANT in everything...except this movie. And i think that was only because he realized how stupid this movie was, and didn't bother with a good performance. This movie is a unintentional-comedy. Some of the lines just crack me up. And them there are some lines that make no sense, and it seems like Tobe Hooper just throw lines in without thinking about the plot. Oh! BTW the plot is BAD! But it one of those films that is TAHT BAD that its actually PAINFUL to watch. I recommend this only for BIG Brad Dourif fans, or fans of any of the other actors, because the plot is pathetic.\n",
      "* * * * * * * * * \n",
      "19450\n",
      "The goofy Griswalds win the T.V. game show \\pig in a poke\\\" grand prize, and all fly off together to Europe where they manage to cause one stupid disaster after another. Of all the ridiculous, unfunny money-spinning sequels this one beats the lot. Harold Ramis' 1983 film was a below average misadventure in which the misfit family went on a nightmarish \\\"Vacation\\\" across the States. This time Amy Heckerling (\\\"Look Who's Talking\\\") helms what turns out to be a disastrous \\\"comedy\\\" which will annoy you more than it will make you laugh.<br /><br />Hughes script (with Rob Klane) is awful and you wonder why the likes of Chevy Chase and Beverly D'Angelo bothered with such a dead-beat project, as even Anthony Michael Hall and Imogene Coca had the sense to decline the offer. Even an omnipotent Michael Palin is unable to lift proceedings to any level that one could call entertaining.<br /><br />Yet, as inconceivable as it may seem, \\\"European Vacation\\\" was successful enough to warrant a second sequel! Surely it couldn't be as unbearable as this one. You know, I have yet to see a National Lampoon show that was worth the bother.<br /><br />Monday, December 26, 1994 - T.V.\"\n",
      "* * * * * * * * * \n",
      "19578\n",
      "honestly, where can I begin! This was a low budget, HORRIBLY acted film, it was so cheesy it had us all bursting with laughter to how completely retarded it was! the sword fighting scenes weren't even sword fights, they were playing around with some plastic swords they bought at wal-mart and all they were doing was just moaning to try and make it look like they were struggling!! Me and my family was in the mood for a really good action movie one day, so we decided to go to the store and look for one, and there it was The Sawtooth Island movie. I mean it looked so great but when we watched it at home I practically died after the first scene.<br /><br />Oh and the plot of the film, the story board, the script, etc..was a bunch of garbage that I don't even know why the director and producer even wasted their time making it!! But if you happen to stumble upon this movie..do not get it!!!!!\n",
      "* * * * * * * * * \n",
      "19748\n",
      "I appreciate a think positive feel good about yourself film, but this is too much. In the end they look like a bunch of loonies. This film is one of those finding yourself 70's plots, I know the film is made in 1980. A lot more of Clint and girl friend movie. This movie is a 3/10.\n",
      "* * * * * * * * * \n",
      "19772\n",
      "Some people don't like the animation. Personally, I think the animation was quite remarkable given when this movie was done. There are lots of older cartoons that I just love. My problems with this movie are not the animation, but basically the way it was constructed. The characters are all just... well, goofy. And for this movie, they shouldn't be. Apparently, everyone in LOTR has a limping problem (for starters.) Just the way they acted in general annoyed me. My two sisters and I were laughing through most of this movie. I think that if many people had seen this before seeing the newer ones, they wouldn't have gone. I'm glad I rented this and didn't buy it. There are few movies that give me a headache. This was one of them. However, this isn't the worst movie I've ever seen, although it ranks up there. Or down there, depending on your view.\n",
      "* * * * * * * * * \n",
      "19967\n",
      "Much like the early horror film The Boogens, the devious unseen killer is quite a letdown when it finally becomes seen. Although Animal House's Stephen Furst obviously had fun in the role as a product of incest, his performance is more comedy than horror.<br /><br />The plot, an extremely tired one, has three sexy women(Bach, Lamm and Lois Young) unable to find a hotel for the evening, so they willingly accept to stay with a seemingly kind museum curator, exceptionally played by the deceased Sydney Lassick. If you have ever seen any horror film, you know that lovable IL' Sydney is a deranged psycho, so one knows what will happen to the lovely ladies.<br /><br />The three women are all very attractive, especially Barbara Bach, but Lois Young(a Helen Hunt clone) is the only one to go nude, as Sydney watches her take a bath.\n",
      "* * * * * * * * * \n",
      "19995\n",
      "Joyce Reynolds seems a might grown-up for the role of Janie, a boy-crazy sixteen-year old in small town America who ditches her steady guy for a visiting soldier AND winds up on the cover of Life magazine (smooching at a blanket party) all in the same week! Non-stop barrage of wisecracks, put-downs, bull talk, and unfunny bits of business such as Janie's little sister bribing family members, Hattie McDaniel (as the maid) constantly scuttling after sassy kid sis, Janie's mother involved with the Red Cross, and Janie's father trying to write an editorial on the problems with today's teenagers (as the parents, stuffy, sexless Edward Arnold and pert, chatty Ann Harding make an unlikely couple, even for 1944; he looks incapable of helping to conceive a child much less raising two of them). Nominated for an Academy Award (!) for Owen Marks' editing, Warner Bros. followed this in 1946 with \\Janie Gets Married\\\". Reynolds must have outgrown her co-horts by then--she was replaced by Joan Leslie. *1/2 from ****\"\n",
      "* * * * * * * * * \n"
     ]
    }
   ],
   "source": [
    "# false positives\n",
    "\n",
    "print(\"Examples of false positives:\")\n",
    "\n",
    "import random, time\n",
    "\n",
    "for i in range(0, len(ols_predictions)):\n",
    "    if (ols_predictions[i] == 1):\n",
    "        if (X_raw_train.iloc[i]['sentiment'] == 0):\n",
    "            if (random.uniform(0, 1) < 0.05): # to print only 5% of the false positives\n",
    "                print(i)\n",
    "                print(X_raw_train.iloc[i]['review'])\n",
    "                print('* * * * * * * * * ')\n"
   ]
  },
  {
   "cell_type": "markdown",
   "metadata": {},
   "source": [
    "---\n",
    "\n",
    "# <span style=\"color:red\">WARNING: Don't look at test set performance too much!</span>\n",
    "\n",
    "---\n",
    "\n",
    "The following cells show performance on your test set. Do not look at this too often! "
   ]
  },
  {
   "cell_type": "markdown",
   "metadata": {},
   "source": [
    "# Look at performance on the test set"
   ]
  },
  {
   "cell_type": "markdown",
   "metadata": {},
   "source": [
    "### MODEL: ordinary least squares"
   ]
  },
  {
   "cell_type": "code",
   "execution_count": 16,
   "metadata": {},
   "outputs": [
    {
     "name": "stdout",
     "output_type": "stream",
     "text": [
      "{'Pos': 2543, 'Neg': 2457, 'TP': 1166, 'TN': 1319, 'FP': 1138, 'FN': 1377, 'Accuracy': 0.497, 'Precision': 0.5060763888888888, 'Recall': 0.4585135666535588, 'desc': 'ols_test'}\n"
     ]
    }
   ],
   "source": [
    "ols_performance_test = BinaryClassificationPerformance(ols.predict(X_test), y_test, 'ols_test')\n",
    "ols_performance_test.compute_measures()\n",
    "print(ols_performance_test.performance_measures)"
   ]
  },
  {
   "cell_type": "markdown",
   "metadata": {},
   "source": [
    "### MODEL: SVM, linear"
   ]
  },
  {
   "cell_type": "code",
   "execution_count": 17,
   "metadata": {
    "scrolled": false
   },
   "outputs": [
    {
     "name": "stdout",
     "output_type": "stream",
     "text": [
      "{'Pos': 2543, 'Neg': 2457, 'TP': 2283, 'TN': 2183, 'FP': 274, 'FN': 260, 'Accuracy': 0.8932, 'Precision': 0.892843175596402, 'Recall': 0.897758552890287, 'desc': 'svm_test'}\n"
     ]
    }
   ],
   "source": [
    "svm_performance_test = BinaryClassificationPerformance(svm.predict(X_test), y_test, 'svm_test')\n",
    "svm_performance_test.compute_measures()\n",
    "print(svm_performance_test.performance_measures)"
   ]
  },
  {
   "cell_type": "markdown",
   "metadata": {},
   "source": [
    "### MODEL: logistic regression"
   ]
  },
  {
   "cell_type": "code",
   "execution_count": 18,
   "metadata": {
    "scrolled": true
   },
   "outputs": [
    {
     "name": "stdout",
     "output_type": "stream",
     "text": [
      "{'Pos': 2543, 'Neg': 2457, 'TP': 2281, 'TN': 2210, 'FP': 247, 'FN': 262, 'Accuracy': 0.8982, 'Precision': 0.9022943037974683, 'Recall': 0.8969720802202124, 'desc': 'lgs_test'}\n"
     ]
    }
   ],
   "source": [
    "lgs_performance_test = BinaryClassificationPerformance(lgs.predict(X_test), y_test, 'lgs_test')\n",
    "lgs_performance_test.compute_measures()\n",
    "print(lgs_performance_test.performance_measures)"
   ]
  },
  {
   "cell_type": "markdown",
   "metadata": {},
   "source": [
    "### MODEL: Naive Bayes"
   ]
  },
  {
   "cell_type": "code",
   "execution_count": 19,
   "metadata": {
    "scrolled": true
   },
   "outputs": [
    {
     "name": "stdout",
     "output_type": "stream",
     "text": [
      "{'Pos': 2543, 'Neg': 2457, 'TP': 2123, 'TN': 2089, 'FP': 368, 'FN': 420, 'Accuracy': 0.8424, 'Precision': 0.8522681653954235, 'Recall': 0.8348407392843099, 'desc': 'nbs_test'}\n"
     ]
    }
   ],
   "source": [
    "nbs_performance_test = BinaryClassificationPerformance(nbs.predict(X_test), y_test, 'nbs_test')\n",
    "nbs_performance_test.compute_measures()\n",
    "print(nbs_performance_test.performance_measures)"
   ]
  },
  {
   "cell_type": "markdown",
   "metadata": {},
   "source": [
    "### MODEL: Perceptron"
   ]
  },
  {
   "cell_type": "code",
   "execution_count": 20,
   "metadata": {},
   "outputs": [
    {
     "name": "stdout",
     "output_type": "stream",
     "text": [
      "{'Pos': 2543, 'Neg': 2457, 'TP': 2153, 'TN': 2097, 'FP': 360, 'FN': 390, 'Accuracy': 0.85, 'Precision': 0.8567449263828094, 'Recall': 0.8466378293354306, 'desc': 'prc_test'}\n"
     ]
    }
   ],
   "source": [
    "prc_performance_test = BinaryClassificationPerformance(prc.predict(X_test), y_test, 'prc_test')\n",
    "prc_performance_test.compute_measures()\n",
    "print(prc_performance_test.performance_measures)"
   ]
  },
  {
   "cell_type": "markdown",
   "metadata": {},
   "source": [
    "### MODEL: Ridge Regression Classifier"
   ]
  },
  {
   "cell_type": "code",
   "execution_count": 21,
   "metadata": {},
   "outputs": [
    {
     "name": "stdout",
     "output_type": "stream",
     "text": [
      "{'Pos': 2543, 'Neg': 2457, 'TP': 2234, 'TN': 2213, 'FP': 244, 'FN': 309, 'Accuracy': 0.8894, 'Precision': 0.9015334947538337, 'Recall': 0.8784899724734565, 'desc': 'rdg_test'}\n"
     ]
    }
   ],
   "source": [
    "rdg_performance_test = BinaryClassificationPerformance(rdg.predict(X_test), y_test, 'rdg_test')\n",
    "rdg_performance_test.compute_measures()\n",
    "print(rdg_performance_test.performance_measures)"
   ]
  },
  {
   "cell_type": "markdown",
   "metadata": {},
   "source": [
    "### MODEL: Random Forest Classifier"
   ]
  },
  {
   "cell_type": "code",
   "execution_count": 22,
   "metadata": {
    "scrolled": true
   },
   "outputs": [
    {
     "name": "stdout",
     "output_type": "stream",
     "text": [
      "{'Pos': 2543, 'Neg': 2457, 'TP': 1761, 'TN': 2077, 'FP': 380, 'FN': 782, 'Accuracy': 0.7676, 'Precision': 0.8225128444652032, 'Recall': 0.6924891860007865, 'desc': 'rdf_test'}\n"
     ]
    }
   ],
   "source": [
    "rdf_performance_test = BinaryClassificationPerformance(rdf.predict(X_test), y_test, 'rdf_test')\n",
    "rdf_performance_test.compute_measures()\n",
    "print(rdf_performance_test.performance_measures)"
   ]
  },
  {
   "cell_type": "markdown",
   "metadata": {},
   "source": [
    "### ROC plot to compare performance of various models and fits"
   ]
  },
  {
   "cell_type": "code",
   "execution_count": 23,
   "metadata": {
    "scrolled": true
   },
   "outputs": [
    {
     "data": {
      "image/png": "[encoded data removed]",
      "text/plain": [
       "<Figure size 432x288 with 1 Axes>"
      ]
     },
     "metadata": {
      "needs_background": "light"
     },
     "output_type": "display_data"
    }
   ],
   "source": [
    "fits = [ols_performance_test, svm_performance_test, lgs_performance_test, nbs_performance_test, prc_performance_test, rdg_performance_test, rdf_performance_test]\n",
    "\n",
    "for fit in fits:\n",
    "    plt.plot(fit.performance_measures['FP'] / fit.performance_measures['Neg'], \n",
    "             fit.performance_measures['TP'] / fit.performance_measures['Pos'], 'bo')\n",
    "    plt.text(fit.performance_measures['FP'] / fit.performance_measures['Neg'], \n",
    "             fit.performance_measures['TP'] / fit.performance_measures['Pos'], fit.desc)\n",
    "plt.axis([0, 1, 0, 1])\n",
    "plt.title('ROC plot: test set')\n",
    "plt.xlabel('False positive rate')\n",
    "plt.ylabel('True positive rate')\n",
    "plt.show()"
   ]
  },
  {
   "cell_type": "markdown",
   "metadata": {},
   "source": [
    "---\n",
    "\n",
    "# <span style=\"color:red\">SUBMISSION</span>\n",
    "\n",
    "---"
   ]
  },
  {
   "cell_type": "code",
   "execution_count": 34,
   "metadata": {},
   "outputs": [
    {
     "name": "stdout",
     "output_type": "stream",
     "text": [
      "movie_data is: <class 'pandas.core.frame.DataFrame'>\n",
      "movie_data has 25000 rows and 2 columns \n",
      "\n",
      "the data types for each of the columns in movie_data:\n",
      "id        object\n",
      "review    object\n",
      "dtype: object \n",
      "\n",
      "the first 10 rows in movie_data:\n",
      "         id                                             review\n",
      "0  12311_10  Naturally in a film who's main themes are of m...\n",
      "1    8348_2  This movie is a disaster within a disaster fil...\n",
      "2    5828_4  All in all, this is a movie for kids. We saw i...\n",
      "3    7186_2  Afraid of the Dark left me with the impression...\n",
      "4   12128_7  A very accurate depiction of small time mob li...\n",
      "Shape of HashingVectorizer X:\n",
      "(25000, 115664)\n",
      "Look at a few rows of the new quantitative features: \n",
      "   word_count  punc_count  exclam_count  q_count  upper  q_star  q_hash  \\\n",
      "0         131           5             0        0      7       0       0   \n",
      "1         169          15             1        0     15       0       0   \n",
      "2         176          18             0        0     25       0       0   \n",
      "3         112           5             0        0     10       0       0   \n",
      "4         133           8             0        0     17       0       0   \n",
      "5         331          20             1        5     48       0       0   \n",
      "6         121          18             4        0      6       0       0   \n",
      "7         230          22             0        4     32       0       0   \n",
      "8          59           3             3        0      2       2       0   \n",
      "9         224          14             0        1     48       0       0   \n",
      "\n",
      "   afinn_score  \n",
      "0         17.0  \n",
      "1         22.0  \n",
      "2          7.0  \n",
      "3         10.0  \n",
      "4          3.0  \n",
      "5         14.0  \n",
      "6         10.0  \n",
      "7         13.0  \n",
      "8         16.0  \n",
      "9         15.0  \n",
      "Size of combined bag of words and new quantitative variables matrix:\n",
      "(25000, 115672)\n",
      "(25000, 115672)\n",
      "Shape of X_test for submission:\n",
      "(25000, 115672)\n",
      "SUCCESS!\n",
      "Number of rows in the submission test set (should be 25,000): \n"
     ]
    }
   ],
   "source": [
    "# read in test data for submission\n",
    "# CHANGE FILE PATH and my_random_seed number (any integer other than 74 will do): \n",
    "raw_data, X_test_submission = process_raw_data(fn='moviereviews_test.tsv', my_random_seed=80, test=True)\n",
    "print(\"Number of rows in the submission test set (should be 25,000): \")"
   ]
  },
  {
   "cell_type": "markdown",
   "metadata": {},
   "source": [
    "---\n",
    "\n",
    "Choose a <span style=\"color:red\">*single*</span> model for your submission. In this code, I am choosing the Ordinary Least Squares model fit, which is in the `ols` object. But you should choose the model that is performing the best for you! "
   ]
  },
  {
   "cell_type": "code",
   "execution_count": 35,
   "metadata": {},
   "outputs": [
    {
     "name": "stdout",
     "output_type": "stream",
     "text": [
      "0.4916\n"
     ]
    }
   ],
   "source": [
    "# store the id from the raw data\n",
    "my_submission = pd.DataFrame(raw_data[\"id\"])\n",
    "# concatenate predictions to the id\n",
    "my_submission[\"prediction\"] = lgs.predict(X_test_submission)\n",
    "# look at the proportion of positive predictions\n",
    "print(my_submission['prediction'].mean())"
   ]
  },
  {
   "cell_type": "code",
   "execution_count": 36,
   "metadata": {},
   "outputs": [
    {
     "data": {
      "text/html": [
       "<div>\n",
       "<style scoped>\n",
       "    .dataframe tbody tr th:only-of-type {\n",
       "        vertical-align: middle;\n",
       "    }\n",
       "\n",
       "    .dataframe tbody tr th {\n",
       "        vertical-align: top;\n",
       "    }\n",
       "\n",
       "    .dataframe thead th {\n",
       "        text-align: right;\n",
       "    }\n",
       "</style>\n",
       "<table border=\"1\" class=\"dataframe\">\n",
       "  <thead>\n",
       "    <tr style=\"text-align: right;\">\n",
       "      <th></th>\n",
       "      <th>id</th>\n",
       "      <th>review</th>\n",
       "      <th>word_count</th>\n",
       "      <th>punc_count</th>\n",
       "      <th>exclam_count</th>\n",
       "      <th>q_count</th>\n",
       "      <th>q_star</th>\n",
       "      <th>q_hash</th>\n",
       "      <th>upper</th>\n",
       "      <th>afinn_score</th>\n",
       "    </tr>\n",
       "  </thead>\n",
       "  <tbody>\n",
       "    <tr>\n",
       "      <td>0</td>\n",
       "      <td>12311_10</td>\n",
       "      <td>Naturally in a film who's main themes are of m...</td>\n",
       "      <td>131</td>\n",
       "      <td>5</td>\n",
       "      <td>0</td>\n",
       "      <td>0</td>\n",
       "      <td>0</td>\n",
       "      <td>0</td>\n",
       "      <td>7</td>\n",
       "      <td>17.0</td>\n",
       "    </tr>\n",
       "    <tr>\n",
       "      <td>1</td>\n",
       "      <td>8348_2</td>\n",
       "      <td>This movie is a disaster within a disaster fil...</td>\n",
       "      <td>169</td>\n",
       "      <td>15</td>\n",
       "      <td>1</td>\n",
       "      <td>0</td>\n",
       "      <td>0</td>\n",
       "      <td>0</td>\n",
       "      <td>15</td>\n",
       "      <td>22.0</td>\n",
       "    </tr>\n",
       "    <tr>\n",
       "      <td>2</td>\n",
       "      <td>5828_4</td>\n",
       "      <td>All in all, this is a movie for kids. We saw i...</td>\n",
       "      <td>176</td>\n",
       "      <td>18</td>\n",
       "      <td>0</td>\n",
       "      <td>0</td>\n",
       "      <td>0</td>\n",
       "      <td>0</td>\n",
       "      <td>25</td>\n",
       "      <td>7.0</td>\n",
       "    </tr>\n",
       "    <tr>\n",
       "      <td>3</td>\n",
       "      <td>7186_2</td>\n",
       "      <td>Afraid of the Dark left me with the impression...</td>\n",
       "      <td>112</td>\n",
       "      <td>5</td>\n",
       "      <td>0</td>\n",
       "      <td>0</td>\n",
       "      <td>0</td>\n",
       "      <td>0</td>\n",
       "      <td>10</td>\n",
       "      <td>10.0</td>\n",
       "    </tr>\n",
       "    <tr>\n",
       "      <td>4</td>\n",
       "      <td>12128_7</td>\n",
       "      <td>A very accurate depiction of small time mob li...</td>\n",
       "      <td>133</td>\n",
       "      <td>8</td>\n",
       "      <td>0</td>\n",
       "      <td>0</td>\n",
       "      <td>0</td>\n",
       "      <td>0</td>\n",
       "      <td>17</td>\n",
       "      <td>3.0</td>\n",
       "    </tr>\n",
       "  </tbody>\n",
       "</table>\n",
       "</div>"
      ],
      "text/plain": [
       "         id                                             review  word_count  \\\n",
       "0  12311_10  Naturally in a film who's main themes are of m...         131   \n",
       "1    8348_2  This movie is a disaster within a disaster fil...         169   \n",
       "2    5828_4  All in all, this is a movie for kids. We saw i...         176   \n",
       "3    7186_2  Afraid of the Dark left me with the impression...         112   \n",
       "4   12128_7  A very accurate depiction of small time mob li...         133   \n",
       "\n",
       "   punc_count  exclam_count  q_count  q_star  q_hash  upper  afinn_score  \n",
       "0           5             0        0       0       0      7         17.0  \n",
       "1          15             1        0       0       0     15         22.0  \n",
       "2          18             0        0       0       0     25          7.0  \n",
       "3           5             0        0       0       0     10         10.0  \n",
       "4           8             0        0       0       0     17          3.0  "
      ]
     },
     "execution_count": 36,
     "metadata": {},
     "output_type": "execute_result"
    }
   ],
   "source": [
    "raw_data.head()"
   ]
  },
  {
   "cell_type": "code",
   "execution_count": 37,
   "metadata": {},
   "outputs": [
    {
     "data": {
      "text/html": [
       "<div>\n",
       "<style scoped>\n",
       "    .dataframe tbody tr th:only-of-type {\n",
       "        vertical-align: middle;\n",
       "    }\n",
       "\n",
       "    .dataframe tbody tr th {\n",
       "        vertical-align: top;\n",
       "    }\n",
       "\n",
       "    .dataframe thead th {\n",
       "        text-align: right;\n",
       "    }\n",
       "</style>\n",
       "<table border=\"1\" class=\"dataframe\">\n",
       "  <thead>\n",
       "    <tr style=\"text-align: right;\">\n",
       "      <th></th>\n",
       "      <th>id</th>\n",
       "      <th>prediction</th>\n",
       "    </tr>\n",
       "  </thead>\n",
       "  <tbody>\n",
       "    <tr>\n",
       "      <td>0</td>\n",
       "      <td>12311_10</td>\n",
       "      <td>1</td>\n",
       "    </tr>\n",
       "    <tr>\n",
       "      <td>1</td>\n",
       "      <td>8348_2</td>\n",
       "      <td>0</td>\n",
       "    </tr>\n",
       "    <tr>\n",
       "      <td>2</td>\n",
       "      <td>5828_4</td>\n",
       "      <td>0</td>\n",
       "    </tr>\n",
       "    <tr>\n",
       "      <td>3</td>\n",
       "      <td>7186_2</td>\n",
       "      <td>1</td>\n",
       "    </tr>\n",
       "    <tr>\n",
       "      <td>4</td>\n",
       "      <td>12128_7</td>\n",
       "      <td>1</td>\n",
       "    </tr>\n",
       "  </tbody>\n",
       "</table>\n",
       "</div>"
      ],
      "text/plain": [
       "         id  prediction\n",
       "0  12311_10           1\n",
       "1    8348_2           0\n",
       "2    5828_4           0\n",
       "3    7186_2           1\n",
       "4   12128_7           1"
      ]
     },
     "execution_count": 37,
     "metadata": {},
     "output_type": "execute_result"
    }
   ],
   "source": [
    "my_submission.head()"
   ]
  },
  {
   "cell_type": "code",
   "execution_count": 38,
   "metadata": {},
   "outputs": [
    {
     "data": {
      "text/plain": [
       "(25000, 2)"
      ]
     },
     "execution_count": 38,
     "metadata": {},
     "output_type": "execute_result"
    }
   ],
   "source": [
    "my_submission.shape"
   ]
  },
  {
   "cell_type": "code",
   "execution_count": 39,
   "metadata": {},
   "outputs": [],
   "source": [
    "# export submission file as pdf\n",
    "# CHANGE FILE PATH: \n",
    "my_submission.to_csv('moviereviews_submission.csv', index=False)"
   ]
  },
  {
   "cell_type": "markdown",
   "metadata": {},
   "source": [
    "# Submit to Canvas: 1) the CSV file that was written in the previous cell and 2) the url to the repository (GitHub or other) that contains your code and documentation"
   ]
  }
 ],
 "metadata": {
  "kernelspec": {
   "display_name": "Python 3",
   "language": "python",
   "name": "python3"
  },
  "language_info": {
   "codemirror_mode": {
    "name": "ipython",
    "version": 3
   },
   "file_extension": ".py",
   "mimetype": "text/x-python",
   "name": "python",
   "nbconvert_exporter": "python",
   "pygments_lexer": "ipython3",
   "version": "3.7.4"
  }
 },
 "nbformat": 4,
 "nbformat_minor": 2
}
