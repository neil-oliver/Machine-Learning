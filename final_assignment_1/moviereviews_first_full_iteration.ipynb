{
 "cells": [
  {
   "cell_type": "markdown",
   "metadata": {},
   "source": [
    "# Movie reviews\n",
    "\n",
    "This notebook takes you though a complete iteration of Machine Learning Assignment 1 - Movie reviews. The assignment details (including links to download the data) can be found [here](https://docs.google.com/document/d/1WGYw99e5q6j5V0Zrf2HveagU6URt_kVvdR8B9HYQ99E/edit?usp=sharing). "
   ]
  },
  {
   "cell_type": "code",
   "execution_count": 3,
   "metadata": {},
   "outputs": [],
   "source": [
    "# all imports and magic commands\n",
    "import numpy as np\n",
    "import pandas as pd\n",
    "import matplotlib.pyplot as plt\n",
    "from my_measures import BinaryClassificationPerformance\n",
    "from sklearn.feature_extraction.text import HashingVectorizer\n",
    "from sklearn.feature_extraction.text import CountVectorizer\n",
    "from sklearn.feature_extraction.text import TfidfTransformer\n",
    "from scipy.sparse import csr_matrix, hstack\n",
    "from sklearn.preprocessing import StandardScaler\n",
    "from sklearn.model_selection import train_test_split\n",
    "%matplotlib inline"
   ]
  },
  {
   "cell_type": "markdown",
   "metadata": {},
   "source": [
    "### IMPORTANT!!! Make sure you are using `BinaryClassificationPerformance` v1.02"
   ]
  },
  {
   "cell_type": "code",
   "execution_count": 4,
   "metadata": {},
   "outputs": [
    {
     "name": "stdout",
     "output_type": "stream",
     "text": [
      "Help on class BinaryClassificationPerformance in module my_measures:\n",
      "\n",
      "class BinaryClassificationPerformance(builtins.object)\n",
      " |  BinaryClassificationPerformance(predictions, labels, desc, probabilities=None)\n",
      " |  \n",
      " |  Performance measures to evaluate the fit of a binary classification model, v1.02\n",
      " |  \n",
      " |  Methods defined here:\n",
      " |  \n",
      " |  __init__(self, predictions, labels, desc, probabilities=None)\n",
      " |      Initialize attributes: predictions-vector of predicted values for Y, labels-vector of labels for Y\n",
      " |  \n",
      " |  compute_measures(self)\n",
      " |      Compute performance measures defined by Flach p. 57\n",
      " |  \n",
      " |  img_indices(self)\n",
      " |      Get the indices of true and false positives to be able to locate the corresponding images in a list of image names\n",
      " |  \n",
      " |  ----------------------------------------------------------------------\n",
      " |  Data descriptors defined here:\n",
      " |  \n",
      " |  __dict__\n",
      " |      dictionary for instance variables (if defined)\n",
      " |  \n",
      " |  __weakref__\n",
      " |      list of weak references to the object (if defined)\n",
      "\n"
     ]
    }
   ],
   "source": [
    "help(BinaryClassificationPerformance)"
   ]
  },
  {
   "cell_type": "markdown",
   "metadata": {},
   "source": [
    "# Function for feature building and extraction on natural language data"
   ]
  },
  {
   "cell_type": "code",
   "execution_count": 7,
   "metadata": {},
   "outputs": [
    {
     "name": "stderr",
     "output_type": "stream",
     "text": [
      "[nltk_data] Downloading package punkt to /Users/admin/nltk_data...\n",
      "[nltk_data]   Package punkt is already up-to-date!\n"
     ]
    }
   ],
   "source": [
    "# function that takes raw data and completes all preprocessing required before model fits\n",
    "#lemmatize\n",
    "import nltk\n",
    "from nltk import word_tokenize \n",
    "nltk.download('punkt')\n",
    "from nltk.stem import WordNetLemmatizer \n",
    "\n",
    "nltk.download('stopwords', quiet=True, raise_on_error=True)\n",
    "stop_words = set(nltk.corpus.stopwords.words('english'))\n",
    "tokenized_stop_words = nltk.word_tokenize(' '.join(nltk.corpus.stopwords.words('english')))\n",
    "\n",
    "class LemmaTokenizer(object):\n",
    "    def __init__(self):\n",
    "        self.wnl = WordNetLemmatizer()\n",
    "    def __call__(self, articles):\n",
    "        return [self.wnl.lemmatize(t) for t in word_tokenize(articles) if t not in stop_words]\n",
    "    \n",
    "def process_raw_data(fn, my_random_seed, test=False):\n",
    "    # read and summarize data\n",
    "    movie_data = pd.read_csv(fn, sep='\\t')\n",
    "    print(\"movie_data is:\", type(movie_data))\n",
    "    print(\"movie_data has\", movie_data.shape[0], \"rows and\", movie_data.shape[1], \"columns\", \"\\n\")\n",
    "    print(\"the data types for each of the columns in movie_data:\")\n",
    "    print(movie_data.dtypes, \"\\n\")\n",
    "    print(\"the first 10 rows in movie_data:\")\n",
    "    print(movie_data.head(5))\n",
    "    if (not test):\n",
    "        print(\"The rate of 'good' movie reviews in the dataset: \")\n",
    "        print(movie_data['sentiment'].mean())\n",
    "        \n",
    "    # vectorize Bag of Words from review text; as sparse matrix\n",
    "    if (not test): # fit_transform()\n",
    "        hv = CountVectorizer(tokenizer=LemmaTokenizer(), strip_accents='ascii', ngram_range=(1,2), lowercase=True, max_df = 0.5, min_df = 10, stop_words=tokenized_stop_words)\n",
    "        X_hv = hv.fit_transform(movie_data.review)\n",
    "        fitted_transformations.append(hv)\n",
    "        print(\"Shape of HashingVectorizer X:\")\n",
    "        print(X_hv.shape)\n",
    "    else: # transform() \n",
    "        X_hv = fitted_transformations[0].transform(movie_data.review)\n",
    "        print(\"Shape of HashingVectorizer X:\")\n",
    "        print(X_hv.shape)\n",
    "    \n",
    "    # http://scikit-learn.org/stable/modules/generated/sklearn.feature_extraction.text.TfidfTransformer.html\n",
    "    if (not test):\n",
    "        transformer = TfidfTransformer()\n",
    "        X_tfidf = transformer.fit_transform(X_hv)\n",
    "        fitted_transformations.append(transformer)\n",
    "    else:\n",
    "        X_tfidf = fitted_transformations[1].transform(X_hv)\n",
    "    \n",
    "    # create additional quantitative features\n",
    "    movie_data['word_count'] = movie_data['review'].str.split(' ').str.len()\n",
    "    movie_data['punc_count'] = movie_data['review'].str.count(\"\\.\")\n",
    "    movie_data['exclam_count'] = movie_data['review'].str.count(\"\\!\")\n",
    "    movie_data['q_count'] = movie_data['review'].str.count(\"\\?\")\n",
    "    movie_data['q_star'] = movie_data['review'].str.count(\"\\*\")\n",
    "    movie_data['q_hash'] = movie_data['review'].str.count(\"\\#\")\n",
    "    \n",
    "    # uppercase letter count\n",
    "    import string\n",
    "    movie_data['upper'] = [sum(1 for letter in c if letter.isupper()) for c in movie_data['review']]\n",
    "    \n",
    "    #afinn sentiment dictionary score from modifierd dictionary of only negative sentiment words\n",
    "    from afinn import Afinn\n",
    "    afn = Afinn()\n",
    "    \n",
    "    movie_data['afinn_score'] = [afn.score(c) for c in movie_data['review']]\n",
    "\n",
    "    X_quant_features = movie_data[[\"word_count\", \"punc_count\",'exclam_count','q_count','upper','q_star','q_hash','afinn_score']]\n",
    "    \n",
    "    print(\"Look at a few rows of the new quantitative features: \")\n",
    "    print(X_quant_features.head(10))\n",
    "    \n",
    "    # Combine all quantitative features into a single sparse matrix\n",
    "    X_quant_features_csr = csr_matrix(X_quant_features)\n",
    "    X_combined = hstack([X_tfidf, X_quant_features_csr])\n",
    "    X_matrix = csr_matrix(X_combined) # convert to sparse matrix\n",
    "    print(\"Size of combined bag of words and new quantitative variables matrix:\")\n",
    "    print(X_matrix.shape)\n",
    "    \n",
    "    # Create `X`, scaled matrix of features\n",
    "    # feature scaling\n",
    "    sc = StandardScaler(with_mean=False)\n",
    "    X = sc.fit_transform(X_matrix)\n",
    "    print(X.shape)\n",
    "    if (not test):\n",
    "        y = movie_data['sentiment']\n",
    "    \n",
    "    # Create Training and Test Sets\n",
    "    # enter an integer for the random_state parameter; any integer will work\n",
    "    if (test):\n",
    "        X_submission_test = X\n",
    "        print(\"Shape of X_test for submission:\")\n",
    "        print(X_submission_test.shape)\n",
    "        print('SUCCESS!')\n",
    "        return(movie_data, X_submission_test)\n",
    "    else: \n",
    "        X_train, X_test, y_train, y_test, X_raw_train, X_raw_test = train_test_split(X, y, movie_data, test_size=0.2, random_state=my_random_seed)\n",
    "        print(\"Shape of X_train and X_test:\")\n",
    "        print(X_train.shape)\n",
    "        print(X_test.shape)\n",
    "        print(\"Shape of y_train and y_test:\")\n",
    "        print(y_train.shape)\n",
    "        print(y_test.shape)\n",
    "        print(\"Shape of X_raw_train and X_raw_test:\")\n",
    "        print(X_raw_train.shape)\n",
    "        print(X_raw_test.shape)\n",
    "        print('SUCCESS!')\n",
    "        return(X_train, X_test, y_train, y_test, X_raw_train, X_raw_test)"
   ]
  },
  {
   "cell_type": "markdown",
   "metadata": {},
   "source": [
    "# Create training and test sets from function"
   ]
  },
  {
   "cell_type": "code",
   "execution_count": 9,
   "metadata": {
    "scrolled": false
   },
   "outputs": [
    {
     "name": "stdout",
     "output_type": "stream",
     "text": [
      "movie_data is: <class 'pandas.core.frame.DataFrame'>\n",
      "movie_data has 25000 rows and 3 columns \n",
      "\n",
      "the data types for each of the columns in movie_data:\n",
      "id           object\n",
      "sentiment     int64\n",
      "review       object\n",
      "dtype: object \n",
      "\n",
      "the first 10 rows in movie_data:\n",
      "       id  sentiment                                             review\n",
      "0  5814_8          1  With all this stuff going down at the moment w...\n",
      "1  2381_9          1  \\The Classic War of the Worlds\\\" by Timothy Hi...\n",
      "2  7759_3          0  The film starts with a manager (Nicholas Bell)...\n",
      "3  3630_4          0  It must be assumed that those who praised this...\n",
      "4  9495_8          1  Superbly trashy and wondrously unpretentious 8...\n",
      "The rate of 'good' movie reviews in the dataset: \n",
      "0.5\n",
      "Shape of HashingVectorizer X:\n",
      "(25000, 55755)\n",
      "Look at a few rows of the new quantitative features: \n",
      "   word_count  punc_count  exclam_count  q_count  upper  q_star  q_hash  \\\n",
      "0         433          20             1        2     59       0       0   \n",
      "1         158          16             0        0     26       0       0   \n",
      "2         378          20             0        0     75       0       0   \n",
      "3         379           8             0        1     35       0       0   \n",
      "4         367           9             6        1     37       0       0   \n",
      "5          89           5             0        0     32       0       0   \n",
      "6         112           9             0        0     13       0       0   \n",
      "7         132           9             0        0     18       0       0   \n",
      "8         163           7             0        0     19       0       0   \n",
      "9          43           5             0        0     12       0       0   \n",
      "\n",
      "   afinn_score  \n",
      "0         44.0  \n",
      "1         10.0  \n",
      "2         43.0  \n",
      "3         16.0  \n",
      "4         26.0  \n",
      "5         14.0  \n",
      "6         12.0  \n",
      "7          7.0  \n",
      "8         18.0  \n",
      "9          3.0  \n",
      "Size of combined bag of words and new quantitative variables matrix:\n",
      "(25000, 55763)\n",
      "(25000, 55763)\n",
      "Shape of X_train and X_test:\n",
      "(20000, 55763)\n",
      "(5000, 55763)\n",
      "Shape of y_train and y_test:\n",
      "(20000,)\n",
      "(5000,)\n",
      "Shape of X_raw_train and X_raw_test:\n",
      "(20000, 11)\n",
      "(5000, 11)\n",
      "SUCCESS!\n",
      "Number of fits stored in `fitted_transformations` list: \n",
      "2\n"
     ]
    }
   ],
   "source": [
    "# create an empty list to store any use of fit_transform() to transform() later\n",
    "# it is a global list to store model and feature extraction fits\n",
    "fitted_transformations = []\n",
    "\n",
    "# CHANGE FILE PATH and my_random_seed number (any integer other than 74 will do): \n",
    "X_train, X_test, y_train, y_test, X_raw_train, X_raw_test = process_raw_data(fn='moviereviews_train.tsv', my_random_seed=80)\n",
    "\n",
    "print(\"Number of fits stored in `fitted_transformations` list: \")\n",
    "print(len(fitted_transformations))"
   ]
  },
  {
   "cell_type": "markdown",
   "metadata": {},
   "source": [
    "# Fit (and tune) Various Models"
   ]
  },
  {
   "cell_type": "markdown",
   "metadata": {},
   "source": [
    "### MODEL: ordinary least squares"
   ]
  },
  {
   "cell_type": "code",
   "execution_count": 10,
   "metadata": {},
   "outputs": [
    {
     "name": "stdout",
     "output_type": "stream",
     "text": [
      "{'Pos': 9957, 'Neg': 10043, 'TP': 4884, 'TN': 5089, 'FP': 4954, 'FN': 5073, 'Accuracy': 0.49865, 'Precision': 0.49644236633462085, 'Recall': 0.4905091895149141, 'desc': 'ols_train'}\n"
     ]
    }
   ],
   "source": [
    "from sklearn import linear_model\n",
    "ols = linear_model.SGDClassifier(loss=\"squared_loss\")\n",
    "ols.fit(X_train, y_train)\n",
    "\n",
    "ols_performance_train = BinaryClassificationPerformance(ols.predict(X_train), y_train, 'ols_train')\n",
    "ols_performance_train.compute_measures()\n",
    "print(ols_performance_train.performance_measures)"
   ]
  },
  {
   "cell_type": "markdown",
   "metadata": {},
   "source": [
    "### MODEL: SVM, linear"
   ]
  },
  {
   "cell_type": "code",
   "execution_count": 11,
   "metadata": {},
   "outputs": [
    {
     "name": "stdout",
     "output_type": "stream",
     "text": [
      "{'Pos': 9957, 'Neg': 10043, 'TP': 9809, 'TN': 9873, 'FP': 170, 'FN': 148, 'Accuracy': 0.9841, 'Precision': 0.9829642248722317, 'Recall': 0.9851360851662148, 'desc': 'svm_train'}\n"
     ]
    }
   ],
   "source": [
    "from sklearn import linear_model\n",
    "svm = linear_model.SGDClassifier(alpha=5, max_iter=10000)\n",
    "svm.fit(X_train, y_train)\n",
    "\n",
    "svm_performance_train = BinaryClassificationPerformance(svm.predict(X_train), y_train, 'svm_train')\n",
    "svm_performance_train.compute_measures()\n",
    "print(svm_performance_train.performance_measures)"
   ]
  },
  {
   "cell_type": "markdown",
   "metadata": {},
   "source": [
    "### MODEL: logistic regression"
   ]
  },
  {
   "cell_type": "code",
   "execution_count": 12,
   "metadata": {},
   "outputs": [
    {
     "name": "stdout",
     "output_type": "stream",
     "text": [
      "{'Pos': 9957, 'Neg': 10043, 'TP': 9915, 'TN': 10016, 'FP': 27, 'FN': 42, 'Accuracy': 0.99655, 'Precision': 0.9972842486421243, 'Recall': 0.9957818620066285, 'desc': 'lgs_train'}\n"
     ]
    }
   ],
   "source": [
    "from sklearn import linear_model\n",
    "lgs = linear_model.SGDClassifier(loss='log',alpha=1)\n",
    "lgs.fit(X_train, y_train)\n",
    "\n",
    "lgs_performance_train = BinaryClassificationPerformance(lgs.predict(X_train), y_train, 'lgs_train')\n",
    "lgs_performance_train.compute_measures()\n",
    "print(lgs_performance_train.performance_measures)"
   ]
  },
  {
   "cell_type": "markdown",
   "metadata": {},
   "source": [
    "### MODEL: Naive Bayes"
   ]
  },
  {
   "cell_type": "code",
   "execution_count": 13,
   "metadata": {
    "scrolled": true
   },
   "outputs": [
    {
     "name": "stdout",
     "output_type": "stream",
     "text": [
      "{'Pos': 9957, 'Neg': 10043, 'TP': 9558, 'TN': 9669, 'FP': 374, 'FN': 399, 'Accuracy': 0.96135, 'Precision': 0.9623439387837294, 'Recall': 0.9599276890629708, 'desc': 'nbs_train'}\n"
     ]
    }
   ],
   "source": [
    "from sklearn.naive_bayes import MultinomialNB\n",
    "nbs = MultinomialNB()\n",
    "nbs.fit(X_train, y_train)\n",
    "\n",
    "nbs_performance_train = BinaryClassificationPerformance(nbs.predict(X_train), y_train, 'nbs_train')\n",
    "nbs_performance_train.compute_measures()\n",
    "print(nbs_performance_train.performance_measures)"
   ]
  },
  {
   "cell_type": "markdown",
   "metadata": {},
   "source": [
    "### MODEL: Perceptron"
   ]
  },
  {
   "cell_type": "code",
   "execution_count": 14,
   "metadata": {},
   "outputs": [
    {
     "name": "stdout",
     "output_type": "stream",
     "text": [
      "{'Pos': 9957, 'Neg': 10043, 'TP': 9953, 'TN': 10042, 'FP': 1, 'FN': 4, 'Accuracy': 0.99975, 'Precision': 0.9998995378742214, 'Recall': 0.9995982725720599, 'desc': 'prc_train'}\n"
     ]
    }
   ],
   "source": [
    "from sklearn import linear_model\n",
    "prc = linear_model.SGDClassifier(loss='perceptron',alpha=1)\n",
    "prc.fit(X_train, y_train)\n",
    "\n",
    "prc_performance_train = BinaryClassificationPerformance(prc.predict(X_train), y_train, 'prc_train')\n",
    "prc_performance_train.compute_measures()\n",
    "print(prc_performance_train.performance_measures)"
   ]
  },
  {
   "cell_type": "markdown",
   "metadata": {},
   "source": [
    "### Model: Neural Network Perceptron"
   ]
  },
  {
   "cell_type": "code",
   "execution_count": 10,
   "metadata": {},
   "outputs": [],
   "source": [
    "# from sklearn import neural_network\n",
    "\n",
    "# prc = neural_network.MLPClassifier()\n",
    "# prc.fit(X_train, y_train)\n",
    "\n",
    "# prc_performance_train = BinaryClassificationPerformance(prc.predict(X_train), y_train, 'prc_train')\n",
    "# prc_performance_train.compute_measures()\n",
    "# print(prc_performance_train.performance_measures)"
   ]
  },
  {
   "cell_type": "markdown",
   "metadata": {},
   "source": [
    "### MODEL: Ridge Regression Classifier"
   ]
  },
  {
   "cell_type": "code",
   "execution_count": 15,
   "metadata": {},
   "outputs": [
    {
     "name": "stdout",
     "output_type": "stream",
     "text": [
      "{'Pos': 9957, 'Neg': 10043, 'TP': 9957, 'TN': 10042, 'FP': 1, 'FN': 0, 'Accuracy': 0.99995, 'Precision': 0.9998995782285599, 'Recall': 1.0, 'desc': 'rdg_train'}\n"
     ]
    }
   ],
   "source": [
    "from sklearn import linear_model\n",
    "rdg = linear_model.RidgeClassifier(alpha=1, normalize=True)\n",
    "rdg.fit(X_train, y_train)\n",
    "\n",
    "rdg_performance_train = BinaryClassificationPerformance(rdg.predict(X_train), y_train, 'rdg_train')\n",
    "rdg_performance_train.compute_measures()\n",
    "print(rdg_performance_train.performance_measures)"
   ]
  },
  {
   "cell_type": "markdown",
   "metadata": {},
   "source": [
    "### MODEL: Random Forest Classifier"
   ]
  },
  {
   "cell_type": "code",
   "execution_count": 16,
   "metadata": {},
   "outputs": [
    {
     "name": "stderr",
     "output_type": "stream",
     "text": [
      "/Users/admin/opt/anaconda3/lib/python3.7/site-packages/sklearn/ensemble/forest.py:245: FutureWarning: The default value of n_estimators will change from 10 in version 0.20 to 100 in 0.22.\n",
      "  \"10 in version 0.20 to 100 in 0.22.\", FutureWarning)\n"
     ]
    },
    {
     "name": "stdout",
     "output_type": "stream",
     "text": [
      "{'Pos': 9957, 'Neg': 10043, 'TP': 9851, 'TN': 10021, 'FP': 22, 'FN': 106, 'Accuracy': 0.9936, 'Precision': 0.9977717005975894, 'Recall': 0.9893542231595862, 'desc': 'rdf_train'}\n"
     ]
    }
   ],
   "source": [
    "from sklearn.ensemble import RandomForestClassifier\n",
    "rdf = RandomForestClassifier(max_depth=1000, random_state=0)\n",
    "rdf.fit(X_train, y_train)\n",
    "\n",
    "rdf_performance_train = BinaryClassificationPerformance(rdf.predict(X_train), y_train, 'rdf_train')\n",
    "rdf_performance_train.compute_measures()\n",
    "print(rdf_performance_train.performance_measures)"
   ]
  },
  {
   "cell_type": "markdown",
   "metadata": {},
   "source": [
    "### ROC plot to compare performance of various models and fits"
   ]
  },
  {
   "cell_type": "code",
   "execution_count": 17,
   "metadata": {
    "scrolled": false
   },
   "outputs": [
    {
     "data": {
      "image/png": "[encoded data removed]",
      "text/plain": [
       "<Figure size 432x288 with 1 Axes>"
      ]
     },
     "metadata": {
      "needs_background": "light"
     },
     "output_type": "display_data"
    }
   ],
   "source": [
    "fits = [ols_performance_train, svm_performance_train, lgs_performance_train, nbs_performance_train, prc_performance_train, rdg_performance_train, rdf_performance_train]\n",
    "\n",
    "for fit in fits:\n",
    "    plt.plot(fit.performance_measures['FP'] / fit.performance_measures['Neg'], \n",
    "             fit.performance_measures['TP'] / fit.performance_measures['Pos'], 'bo')\n",
    "    plt.text(fit.performance_measures['FP'] / fit.performance_measures['Neg'], \n",
    "             fit.performance_measures['TP'] / fit.performance_measures['Pos'], fit.desc)\n",
    "plt.axis([0, 1, 0, 1])\n",
    "plt.title('ROC plot: test set')\n",
    "plt.xlabel('False positive rate')\n",
    "plt.ylabel('True positive rate')\n",
    "plt.show()"
   ]
  },
  {
   "cell_type": "markdown",
   "metadata": {},
   "source": [
    "### looking at reviews based on their classification\n",
    "\n",
    "Let's say we decide that Ordinary Least Squares (OLS) Regression is the best model for generalization. Let's take a look at some of the reviews and try to make a (subjective) determination of whether it's generalizing well. "
   ]
  },
  {
   "cell_type": "code",
   "execution_count": 18,
   "metadata": {},
   "outputs": [],
   "source": [
    "ols_predictions = ols.predict(X_train)"
   ]
  },
  {
   "cell_type": "markdown",
   "metadata": {},
   "source": [
    "### let's look at some false positives:"
   ]
  },
  {
   "cell_type": "code",
   "execution_count": 19,
   "metadata": {
    "scrolled": true
   },
   "outputs": [
    {
     "name": "stdout",
     "output_type": "stream",
     "text": [
      "Examples of false positives:\n",
      "113\n",
      "How a director of Altman's experience could ever expect us to want to spend time with, or to care about what happens to, a lead character who is neurotic, a whiner, a jerk with no redeeming qualities -- that is the central puzzle about this profoundly confused piece of work. A monstrous piece of trash. In addition to this crippling flaw, the plot line requires serious concentration to follow. The setup that the Branagh character walks into is so obviously a setup from the start that we are inclined to wonder whether the writer and director have totally lost respect for their audience. This latter issue is at the core of the film: it represents directorial self-indulgence with profound contempt for the taste, values, and intelligence of the viewer. Very unusual for Mr. Altman.<br /><br />Patrick Watson\n",
      "* * * * * * * * * \n",
      "216\n",
      "I can't believe this is on DVD. Even less it was available at my local video store.<br /><br />Some argue this is a good movie if you take in consideration it had only a 4000$ budget. I find this funny. I would find it very bad whichever the budget.<br /><br />Still more funny, I read the following in another review: \\Dramatics aside, if you love horror and you love something along the lines of Duel (1971) updated with a little more story and some pretty girls thrown in, you'll love this movie.\\\"<br /><br />What?!? This is a shame comparing those two movies.<br /><br />I give a \\\"1\\\", since I can't give a \\\"0\\\". I just don't see any way this movie could be entertaining.\"\n",
      "* * * * * * * * * \n",
      "245\n",
      "The stranger Jack (Matthew Lillard) arrives in the studio of the crook collector of antiques Max (Vincent D'Onofrio) and tells his ambitious companion and specialist in poisons Jamie (Valeria Golino) that he is Jack's brother. Jamie does not buy his story, dominates Jack and ties him up to a chair. When Max arrives, Jack proposes US$ 100,000.00 for each one to protect him in a negotiation of the antiques \\Spanish Judges\\\" with a wealthy and dangerous collector. Max invites his stupid acquaintance Piece (Mark Boone Junior), who comes with his retarded girlfriend that believes she is from Mars, to compose the backup team. However, Jack double-crosses the collector and then he intrigues Jack, Jamie and Piece.<br /><br />The low budget \\\"Spanish Judges\\\" is a movie with a reasonable screenplay with an awful conclusion that wastes a good cast. Valeria Golino is astonishingly beautiful but together with the good actor Vincent D'Onofrio, they are not able to save the stupid story. Further, the scenes that are supposed to be funny unfortunately do not work, and actually they are silly and not funny. My vote is three.<br /><br />Title (Brazil): \\\"Tudo Por Dinheiro\\\" (\\\"All For Money\\\")\"\n",
      "* * * * * * * * * \n",
      "264\n",
      "Gayniggers from Outer Space is a short foreign film about black, gay aliens who explore the galaxy until they stumble upon Earth. Being gay, their goal is to have a male-only universe in which all people are gay. Hence, when they discover women or \\female creatures\\\" live on Earth, they are at first terrified; eventually they decide to eliminate all women on the planet and liberate the male population.<br /><br />An offensive title with a racist, homophobic and sexist storyline, albeit probably intended as a satire, give this film some shock value. However, there's little substance underneath. As another reviewer pointed out, there are few jokes besides the characters' names (eg. ArmInAss); I think I laughed once at one small gay joke. I think I got the point of the film quickly, a satire of bad science fiction, but after that I had had enough; I kept wanting the film to end already (and it is a short film!). Not brilliant or particularly well-written.\"\n",
      "* * * * * * * * * \n",
      "343\n",
      "While \\Santa Claus Conquers the Martians\\\" is usually cited as one of the worse films ever made, this Mexican-made film from 1959 is so bad it makes \\\"SCCM\\\" look like \\\"It's a Wonderful Life.\\\" You have to wonder what the people who made this film were thinking; perhaps they meant it as a third-world allegory about capitalist greed and conspicuous consumption. Nah . . . They just weren't very good. The same production company made an even more disturbing version of \\\"Little Red Riding Hood\\\" in which the wolf's obsession with our heroine has unmistakable hints of pedophilia. (Perhaps this was the inspiration for \\\"Freeway.\\\") Back to \\\"Santa Claus\\\": instead of the North Pole, Jolly Old Saint Nicholas resides in a satellite in geosynchronous earth orbit (shades of \\\"MST3K\\\"); instead of elves his toys are made by children chosen from around the world; and he had sophisticated spy equipment to check just which kids are naughty and nice. The result is like an Orwellian outer space sweat shop. It's enough to turn you off Christmas forever. This and other low-rent Mexican children's' films were dubbed in English and widely distributed in the U.S. in the early 1960s; no wonder the sixties became such a turbulent period in American history. The baby boomers who were forced to endure these \\\"family\\\" films as children would be all too eager to turn revolutionary.\"\n",
      "* * * * * * * * * \n",
      "380\n",
      "Average viewers looking for any sense of internal coherence in a film should probably give this one a pass. It generates the same feeling as staring at a curious array of individual images that seem to have some relationship one to another, but never coalesce into a totality.<br /><br />While this isolative approach to creating a kind of cinematic montage may appeal to a few students or critics steeped in the inside language of contemporary filmmaking, it is flatly irritating and condescending to us commoners who just fell off the haywagon. An overt avoidance of accessibility may be the intentional hallmark of auteurs like Kar-wai Wong and Tarantino, but to me it comes across as Andy Warhol warmed over. The only redeeming characteristic I find is in the production values, and them there just ain't going to cut it all by themselfs.<br /><br />This is one of those productions in which you watch and listen and wait anxiously and in vain for some clever development of an idea or thought to sustain all the remarkable and beautiful individual scenes. Sorry. The calligraphic credits unexpectedly begin to roll just as your interest begins to stir. I get the same big yawn and let-down reading what I guess are very knowledgeable and thorough comments about this film that never lead to anything truly comprehensible. Ideas and images without some external context are not my idea of fun.<br /><br />Call me a philistine roaming the streets of Hong Kong looking for a bowl of chop suey.<br /><br />\n",
      "* * * * * * * * * \n",
      "431\n",
      "This show had a lot of hype but I didn't know about it until the midseason (season 1). Someone even recommended the show to me. But I decided that if I was going to watch it, I was going to wait until the end of the season so I could watch it in bulk. Due to the show's format, I'm happy I waited. I imagine it would have been fairly annoying have nearly every episode end in the middle of some cliff hanger then have to wait another week to find out what happens in the next second of the story.<br /><br />Somehow, this show has managed to throw in too much sex. Jason will have sex with pretty much anything that moves. Right after he finds out that one woman he had sex with was killed, he's in bed with another woman the next night! Then Tara and Sam get it on, despite each of them knowing that Sam is in love with Sookie. And for some reason, Sookie gets mad when she later finds out about it--even though she's sleeping with a vampire. One of the problems with the show, is that it doesn't do a good job of making you care about the characters. I really didn't care for Jason at all. Along with his endless pursuit of tale, he was rude to the people who actually were concerned for him. After a few episodes, I wouldn't have minded if he got killed somehow. For that reason, I was for the most part uninterested in the murders until Sookie's Grandmother became a victim (since the first two were more closely involved with Jason).<br /><br />Then once Sookie and Bill have sex, the story gets a few more subplots. Tara's mother wants an exorcism, then the exorcist lady tries to convince Tara that she should have one to remove her own demon. I wasn't so much bothered by the whole exorcism thing as I know there are some people who really believe in that stuff. However, they waste little time in showing that is it a farce right after Tara spends about $1300 on exorcisms for her and her mother. At other points, some of the developments happen too fast. Jason continues being a jerk, trying to sell his Grandmother's stuff to buy vampire blood, which apparently is the new crack or something. In his search he finds this girl who will do V (vampire blood) with him. They get high, and within three days fall in love with each other and kidnap a vampire for a constant source of V. Another example is when Bill has to go to a vampire tribunal. He's only gone for two days before Sookie starts to feel abandoned and start to wonder if he thinks \\vampire politics\\\" are more important than her.<br /><br />Subtlety is not this show's strong suit. It doesn't take a genius to figure out something is going on with the local dog. Although my assumption wasn't dead on, it wasn't that much of a surprise. But the finale two episodes was where it really got annoying as it just shoved all the developments in your face as if you couldn't possibly figure the out for yourself. When Tara gets into the car accident, the naked lady's face with the pig is clearly shown, and was easily recognizable when she shows up at the jail for the bailout. As if that wasn't enough, they later show the lady again with the pig at her house. Then it's time to wrap up the murder story. At the end of the penultimate episode, it's revealed that Renee is not who he says he is and most likely is the killer. In the final episode, they shove Renee being the killer in your face. Sookie remarks that it's odd that Renee's thoughts don't have an accent. I thought that was fine, as it adds to Renee being a fraud. But the next scene is full of incriminating evidence against Renee. They show that Renee has the tape of Maudette with the vampire and his fiancée finds a tape in one of Renee's boxes about how to fake a Cajun accent. At this point it was just ridiculous. I mean WE GET IT!!! So blah blah blah stuff happens. Bill almost kills himself while failing to save Sookie, who still manages to kill Renee. They start to set up season 2 by leaving unfinished issues. The naked pig lady and Sam have a history, Lafayette has gone missing and might have been killed. Jason is in the process of being brainwashed into being a religious nut by some anti-vampire church--which makes me care about him even less.<br /><br />It's almost surprising to see how many people absolutely love this show. I think I just expected this show to be better. I'm interested in seeing what happens in season 2, but if I watch it, I'll most likely wait for the season completion.\"\n",
      "* * * * * * * * * \n",
      "472\n",
      "Otherwise it is one of the worst movies I've ever seen - and I mean ever. My wife and I were both bored out of our minds within 10 minutes. Not to mention being boring, it is entirely unbelievable. Women (non-lesbian) don't bathe together - nor do they \\accidentally\\\" kiss. Brothers and sisters don't live together well into their 30s and run around swing dancing together and engaging in footraces in central park. Men don't find out their wife and sister romantically kissed the night before the wedding and then never discuss it with said wife. Absolutely ridiculous.<br /><br />Heather Graham is possibly the worst actress in films today. She smiles when she should be crying and vice versa. The only movie she has ever been good in is Boogie Nights - and that is because she wasn't acting.<br /><br />I cannot stress enough how bad this movie was.\"\n",
      "* * * * * * * * * \n",
      "535\n",
      "This film was the most longest film and the record breaking film for sure It had 30 actors After JAANI DUSHMAN(2002) i guess no one had the guts to do something like that<br /><br />The film as the title suggests is based on the Kargil war but the problem is there are too many characters and the romantic subplots and the songs of many characters are boring<br /><br />Even there are too many cinematic liberties like killing people with knifes, wonder which soldier does that?<br /><br />Direction by JP Dutta pales front of BORDER Music is okay<br /><br />Amongst the huge cast Ajay Devgan stands tall, Saif is very good in his part and also it's his first film with kareena, Abhishek is likable Manoj Bajpai has his moments Sanju is wasted, Suneil is okay Akshaye Khanna does his part well rest are passable Rani is good, Esha is okay rest are passable\n",
      "* * * * * * * * * \n",
      "672\n",
      "At first glance this documentary/fiction/cartoon is quite entertaining and thought provoking. Of course, when something provokes thought, it can then be scrutinized. The reality is this movie combines metaphysics with innuendo and baseless conclusions. The link that \\What the Bleep...\\\" would have you see between science and spirituality is, in fact, not rooted in science at all. The Transcendental Meditation study mentioned in the film claims that meditation by a group can reduce crime in a given area, Washington D.C. in this case. In reality the HRA (Homicides, Rapes, and Assaults) crime rate was about 30% higher in 1993 than the average crime rate between 19881992. There was absolutely no decrease in the homicide rate during the study. In fact, each and every claim that links metaphysics to science can and has been debunked.<br /><br />My conclusion from this information is that this movie is either a poor attempt to indoctrinate people or a joke. Either way, I suggest that you do not waste your time.<br /><br />If you are looking for a long winded movie about science that could provoke thoughts, you might consider Mindwalk (1990).\"\n",
      "* * * * * * * * * \n",
      "761\n",
      "All the bare chested women in the world couldn't keep me from hitting the stop button about a third of the way through this awful rubbish. With the derisory acting, equally terrible script plus the poor CGI FX to match; this movie is an insult to the Werewolf genre. It is supposed to be serious, which in itself would be funny if this film could even make it to the level of being a bad joke.<br /><br />This is one of those movies where the people behind the camera are obviously competent but are too lazy to make something even one quarter decent. Avoid at all costs and watch one of the classic Werewolf movies instead.<br /><br />0 out of 10!\n",
      "* * * * * * * * * \n",
      "829\n",
      "Don't even waste your time, let alone pay rental for this piece of dreck! How it got made is beyond me. (I don't know why there's a minimum of 10 lines... I've already summarized this trashy movie, but, oh well...) The acting was awful, like they all needed lessons. The plot was weak, the ending... Feh! I think the cinematography was the only thing that didn't totally suck... well, maybe the sound was minimalistically OK. The one good thing is, if they could make this movie, even make some money with it, there may be hope for any screenwriter with a REAL idea. So, you-all take heart! I guess the same holds true of actors... if these people actually got paid, then you can, too!\n",
      "* * * * * * * * * \n",
      "938\n",
      "five minutes after watching this i logged on to IMDb to warn all of you out there not to bother with this movie... genre:horror? it had moments of mild suspense and throughout the whole movie i was thinking to myself \\somethings gotta happen soon\\\" it did not...when the movie ended i felt so embarrassed for the writer/director i've never been the biggest fan of patrick rea this guy just does not know how to make movies and after watching this sorry excuse of a horror flick i've gone from not been the biggest fan to will not watch another of his works..<br /><br />i was taken in by the plot summary please don't make the same mistake.<br /><br />i gave this movie a 2 for the actors..they were not bad and it wasn't there fault they got such bad direction...\"\n",
      "* * * * * * * * * \n",
      "1010\n",
      "When setting out this film, director Mary Harron seemingly had the goal of clearly documenting the progress of Bettie Page's career, from early modelling days to leaving modelling to go back home after the Senate Hearings on Juvenile Delinquency and her religious rediscovery in the 50s, and so intent is she to get all of these facts on screen in the time allowed she seems to have missed out on taking any time to explain anything in depth.<br /><br />When you think of someone who had Page's career you'd think that there would be plenty to discuss, her reasons, decisions, life event, personal traumas, but Harron avoids any kind of personal exploration of the character. In the first fifteen minutes or so of the film there are brief hints of child abuse, domestic violence and a gang rape, but these are all rushed past and then never referred to again. You get the impression that Harron and Guinevere Turner (co-writer) wanted to gloss over anything that wasn't glamorous and flattering. You go into this film expecting to gain an insight into who the person behind the posters was, but all you are given is a list of things that she did and recreations of some of her most famous photo shoots.<br /><br />All in all the film really frustrates you as you watch, desperately waiting for some extra layer to reveal itself. How did she balance her religion with her job? What made this young Tennessee girl move from modelling into bondage photography. The film simply shows her going to another modelling agency and putting on whatever she's told, but surely it would have involved some shock and deliberation, this was after all the 50s.<br /><br />It seems to me that Harron is trying to make a point about how tame all this is by today's standards (Page never took any photos of explicit sexual actions) and how the reaction some gave this kind of thing was really overzealous And although this is true, she never actually makes it seem sordid in the eyes of others. Today we look at a young girl posing topless and think nothing off it, but we should have got some sort of feeling about how shocking it would have been to a contemporary audience. This woman was a central part of a Senate hearing on Juvenile Delinquency, but no one is ever really shown as shocked.<br /><br />Basically I left this film just thinking how tame it was. Harron and Turner have managed to avoid anything that might be unpleasant to a viewer. They come across as two lifelong fans of Miss Page and are desperate to make sure that nothing, absolutely nothing, could possibly put a bad light on their heroine, and have therefore avoided any in depth probing into who she really was. (Before and after her career there are reports of her violent nature and mental problems) And all that's left is the string of events that made up her career, without any substance whatsoever behind it.\n",
      "* * * * * * * * * \n",
      "1077\n",
      "I'm sorry to all the fans, but this is a useless movie. The acting is bad, even wooden, it over-hypes the fright-factor early on, and doesn't exactly work. I think there was supposed to be a twist at the end, but it just ended up being maddeningly confusing. What the hell? The dude who was killing everyone was one of the hunted? Try again.<br /><br />Its hardly original, and it isn't even particularly good as a straight slasher. And that's saying something.<br /><br />I think whoever did the castings, whoever wrote the script, and whoever thought of the concept should be mercilessly fired and deported.<br /><br />Don't watch this movie. If someone puts this on at a party, throw the disc out the window and put on a good horror movie, like Silence of the Lambs or The Shining.\n",
      "* * * * * * * * * \n",
      "1104\n",
      "Casting aside many of the favorable comments that have obviously come from friends and/or relatives that pepper this and many other low budget independents listed on IMDb, one is lost when it comes to using these reviews as an accurate gauge. So eventually you have to go out and rent the flick just to see for yourself. One of the first things you must understand are the catch phrases that camouflage the reality of the movie. In this case the term \\dark psychological thriller.\\\" Read: \\\"hack writer/director who thinks he's an auteur, who replaces plot, story, and action, with what he believes is a deep insight into the human soul. His great insight? Festering and repressed childhood traumas emerge to wreck havoc when we become adults. Wow, I bet Freud would be really impressed! Too many would be film makers like Kallio, who were raised on low budget horror flicks of the last few decades, fail to dig their own fresh grave. Instead, they fall into the pre-dug graves of the many other directors that came before them. They are content with rehashing old and tired horror clichés that they borrowed from a dozen or more films. The result is an unoriginal, uninspired, unbelievable waste of film stock.\"\n",
      "* * * * * * * * * \n",
      "1260\n",
      "This movie should have never been made.<br /><br />What a shame of the budget.<br /><br />Please hire convincing actors, and make a proper movie. Very thin plot, and unconvincing lines. Almost hilarious, and that is a shame for an action movie.... <br /><br />Definitely not worth watching.<br /><br />They keep replaying the same \\shots\\\" of an Stealth airplane flying away. You have seen it ones, and that was not worth re-running 3 or 4 times.<br /><br />It is time for Steven Seagal to retire from movie-making.<br /><br />His movies are getting worser every time.<br /><br />Black Dawn, and Submerged were already bad, but this movie is even worse.\"\n",
      "* * * * * * * * * \n",
      "1312\n",
      "I notice that the previous reviewer (who appears to be still at school) gave this movie a very good review and I can only assume that this is because the reviewer hasn't seen the far superior 1989 BBC adaptation of this classic novel. The major problem I had with this (1999) version was the casting of Anthony Way as Tom Long. Anthony Way was a talented boy treble who shot to fame after appearing in the TV mini-series \\The Choir\\\". I can only assume that he was cast for the role of Tom Long on the strength of his excellent acting in \\\"The Choir\\\". Unfortunately the small boy who appeared in \\\"The Choir\\\" had grown into a tall and gangly youth by the time \\\"Tom's Midnight Garden\\\" was filmed and as such Anthony fails to convince as schoolboy Tom. It is too far a stretch of the imagination to believe that Tom (as played by Anthony) would befriend the far younger Hatty. In the 1989 BBC version Tom and Hatty are much closer in age and the development of their friendship is so much more believable. For a 1999 movie even the special effects fail to convince and are not any noticeable improvement on the 1989 TV effects. The casting and acting of this version are inferior to the earlier adaptation and all in all the movie was a lack lustre version of a true classic. As a final observation I would point out that the VHS of the 1989 BBC version fetches well over £20.00 second hand whereas a new DVD of this version can be bought for under £5.00, need I say more?\"\n",
      "* * * * * * * * * \n",
      "1319\n",
      "...there's no one else watching the movie. My husband and I went to watch it last night. It's just a small theater, but there's usually a decent amount of people there. Not this time! My husband and I were the ONLY people watching Dragon Wars last night! Now we know why.<br /><br />The movie was by far one of the worst I've ever seen. Yes, the CG was good, but that was it. The acting, script & dialog, directing, editing, etc. was God-awful! Since we were alone in the room, we felt free to talk during the movie. That is, we talked about how bad it was, that it reminded us of The Mighty Morphin Power Rangers, Godzilla, Mortal Combat AND The Lord of the Rings. It was like we expected to see Rita and Lord Zed portraying commanders of Sauron's army.<br /><br />The creatures were ridiculous. You can't just introduce legions of dino/dragon/lizard things loaded down with cannons without explanation. The Lord of the Rings has a wide spectrum of characters, but it introduces and develops them over 3 movies, not in an hour and a half.<br /><br />The scene transitions are horrible. I didn't fall asleep during the movie, but even though it was an overly simple plot, I found myself getting lost in the plot holes.<br /><br />The characters were caucasian Americans, but spoke almost with broken English because of the badly written dialog in the script.<br /><br />The final scene that could have redeemed some value of the movie...failed. Ethan didn't cry when Sarah died...though he hadn't known her for very long during THIS life anyways. He didn't seem too upset to be left in \\Mordor\\\", not knowing where he was or how to get back. We couldn't for the love of God figure out where he was or how he got there either, but if he wasn't upset we shouldn't be either.<br /><br />Oh, and why did the dress that Sarah's spirit was wearing look like she borrowed it from Queen Elizabeth? One more thing...all 3 of the main hero characters were reincarnations brought back to finish the job. Sarah completes her task and moves on to the afterlife. Jack does this as well. Then why does Ethan get screwed? He's left alone, without the girl, without a map/compass/helicopter to help him get back. What's he supposed to do? Send smoke signals? And IF he gets back home, does he just go back to his job? He should have been given the same mercy of getting killed out of the movie that the other heroes had.<br /><br />Don't waste your time or money on this movie. We only stayed til the end because we'd paid for it, but as soon as the credits hit, we were out the door.\"\n",
      "* * * * * * * * * \n",
      "1330\n",
      "I was so disgusted by this film, I felt obligated to warn off others. This film has no story, plot or hint of purpose. The film starts after the standard \\lets be scary\\\" movie intro, which by now every film watcher has become accustomed. So we can ignore the beginning completely. We are soon introduced to the main actress and from this point it becomes clear to all that you have just wasted your hard earned and would be better off watching static. (Unless you have seen white noise - EEK) Acting is a DISGRACE and all of them should return to the travelling pantomime from where they came. Having said that, even the best actors in the world would struggle to make this film remotely watch able. Their poor performances merely contribute to the disaster. Senseless violence and what I can only assume is the written word of yet another junked up \\\"eccentric\\\" writer, who probably considers himself to be an artist, has resulted in a film which will test your patience. It was not until my fellow watcher turned to me and said, \\\"We have been watching this for 45 mins\\\" did I realise that this film is as thin and tasteless as a cup of tea without a tea bag. Clearly something was missing and unfortunately it wasn't the audience. Rather than suggest what the film is missing, let me tell you what it has: Dumb Blonde (surprise surprise), Victims, bad-monster-guy-thing, about 2 mins of storyline which is stretched over hours, days, weeks, months... and credits.<br /><br />Want a silver lining? Well, the blonde girl is a bit saucy looking in some of the scenes, but expect to want to see her face ripped off for the rest of the film!\"\n",
      "* * * * * * * * * \n",
      "1348\n",
      "I would of enjoyed this film but Van Damme just does the same old same old rubbish time after time. Poo knickers fight scenes as per usually. The only thing this loser left out was the Russians normally end up being killed in the end. This film is utter doggy do do of the highest nature, please please please Van Damme get some acting lessons, you need them. Anyone who likes Van Damme has issues, It seems sad that the only way Van Damme ever gets any acting work is when he co writes the film, co produces the film and does the screen play for the film. AVOID VAN DAMME AND HIS SLICKED BACK NASTY WIG. I give this film a two out of ten, because the one with the the sandman was better. To add insult to injury I wasted a quid on this manure\n",
      "* * * * * * * * * \n",
      "1404\n",
      "Richard Pryor's early 80s running down the street on fire incident must have affected him somehow. In his stand up,he jokes about it getting great laughs. It seemed to have done something involving the projects he chose. The Toy is about the lamest he ever chose,aside from I guess Another You.<br /><br />A movie where a white man buys his son a black man? Nice little bit of underlying political incorrectness before thee was such a thing. It's seeing Richard getting all sentimental that made me finally walk out before the end. I wanted to see Pryor get even with this brat,instead it becomes the misunderstood kid nauseum! At least Gleason had his moments. Ignore this and watch Pryor with Gene Wilder or any of his '70s stuff. This is a waste of any movie watcher's time!\n",
      "* * * * * * * * * \n",
      "1632\n",
      "First, I realize that a \\1\\\" rating is supposed to be reserved for the worst of the worst. This movie gets that from me because, as one reviewer points out, it's not bad in a self-aware, over-the-top sort of way that might allow it to have some comic or cult value. It simply misses its mark on every count. **Contains possible spoilers** The dialog is completely disingenuous. The continuity is so deliberate it's painful. Daniel just finishes speaking of his lost love, and with his final word the flamenco dancers start. The mock-shock of what's her name (see? I don't even remember her character's name, let alone the name of the forgettable actress) when her husband (the Baldwin) first tells her that her friend is the bad guy. The car and the motorcycle chases did all the right things. Vegetable carts gone flying. Cars crashing into each other. Motorcycles going down the stairs. People nearly being hit, but remarkably, no one is. Oh, that's right... except for the one guy who has been stabbed several times, is obviously stumbling along the curb with knife wounds, and an approaching car apparently didn't notice him there. Hmmm. <br /><br />It's becoming more and more remarkable to me that movies like this can be made. There is so much pressure in the film industry to make money, you'd think that someone in Hollywood would think of making good films worth seeing. Now there's a novel idea. <br /><br />My suggestion: don't see this film. Don't rent the DVD. Don't watch it on cable. There are lots of other things you could be doing that will leave you feeling more satisfied.\"\n",
      "* * * * * * * * * \n",
      "1677\n",
      "One of the most common entries in the 'goofs' category is anachronism. Though I'm beginning to believe that anachronism and other goofs are more acceptable, even ignored, in very good films, but are found front and center in rotten films. KISS THEM FOR ME is a rotten film and reeks of anachronism, yet when watching it closely, I found almost nothing specifically anachronistic.<br /><br />The shots of aircraft which bookend the film are certainly out of place. The big 4 engine transport seen after the title \\Honolulu 1944\\\" appears to be the post war C-97 Stratofreighter (in MATS colors). The combat planes seen taking off from the carrier at the end are Douglas Skyraiders which entered service after WW2 and were made famous by their service in Vietnam.<br /><br />But excepting these two pieces of film and, of course, the hairstyles, everything else is very possibly period authentic. It just 'feels' so wrong. I'm an admirer of Stanley Donen, we share the same birthday. In his co directed ON THE TOWN (1949) there is a car chase at the end with the police driving 1949/50 Ford's yet there isn't the slightest feeling that this is out of place in a WW2 period film. In fact, as I reflected later, there isn't anything which says that this is supposed to be a WW2 period film. It just feels that way. Based on a wartime Broadway musical which was based on a ballet (Fancy Free) which may have been based on the work of artist Paul Cadmus (The Fleet's In! 1934) its a great film about sailors on a 24 hour pass in New York and, so heavy with wartime associations, its merely assumed it takes place during the war and yet these contemporary cars do nothing to break the spell.<br /><br />The first problem is old Cary Grant. Though far too old to represent a Navy SBD dive bomber pilot, it is a Hollywood tradition for stars like Grant, Gary Cooper (Lou Gehrig), Jimmy Stewart (Charles Lindbergh) to play younger. It was the role which he is miscast in, not his age. He plays an operator, as they used to call them. A guy who gets things done and breaks all the rules while doing it yet remains admired and loved for it. A hustler. A wheeler dealer. A de rigueur character in a service comedy. Grant is the comic center of what is after all supposed to be a service comedy which is contra to his comedy style.<br /><br />Thinking back on the great Grant comic performances like BRINGING UP BABY (1938) or ARSENIC AND OLD LACE (1944) and he is the great reactor whose comedy is to be reduced by his context from dignity to a befuddled puddle of inert jelly. IN KISS THEM he is expected to be the comic spark plug which just isn't him. People had already been exposed to the type, most recently to comic Phil Silvers as Sgt. Bilko on television. The role would be perfected later by James Garner but here Grant just isn't funny and appears to be a bully getting his way by aggressively pushing his Cary Grantness rather than cajoling and finessing.<br /><br />But the thing which really stinks the place up with anachronism is the lead women. There can be no more echt 50s women than Suzy Parker and Jayne Mansfield. They are unique to the decade. Marilyn Monroe can be placed in a continuum with Carole Lombard and Marie Wilson and any number of dumb blonds, and Grace Kelly was another high class dame (think of Mary Astor), but there never could have been an anatomically exaggerated woman in films like Mansfield. Sure there were the 'sweater girls' (e.g. Lana Turner) of WW2, but Mansfield was stretching the point. Suzy Parker was THE model who revolutionized the model business, who changed the mannequin like poses to become the first natural girl who moved and whose personality was captured by the camera (see FUNNY FACE (1957) also by Stanley Donen).<br /><br />Of course in high 50s style, there seems to be a lot of gender mixing at 'wild' parties but never even a hint of sex (think of the 50s TV shows Bachelor Father or The Bob Cummings Show where dinner jacketed men returned from 'dates' alone). The original book, which I haven't read, was published during the war and appeared as a play on Broadway at the end of the war and the nuances of the situation must have been inescapable for contemporary readers and audiences, but broken down, bowdlerized and reconstituted a dozen years later and fatally miscast, it remains a once forgotten stain on otherwise exemplary careers until the invention of the VCR and cable television resurrected this petrified turkey.<br /><br />So the lesson here is whatever the 'goof' it will be ignored in a great film like CITIZEN KANE (who actually hears Charles Foster Kane say 'Rosebud'?), and tolerated in fun dreck like WESTWORLD ( why were the robots given live ammunition in the first place?) but absolutely despised in a rotten film, even if the goofs are really non existent.\"\n",
      "* * * * * * * * * \n",
      "1709\n",
      "What an incomprehensible mess of a movie. Something about a cop who extracts bullets from himself after he gets shot and keeps them in a glass jar in his bathroom (and from the size of the jar he's been shot about fifty times by now) and a top secret tank guarded by five or six incompetent soldiers who for some reason drive it into Mexico. Whether they were sent there intentionally or just got really really lost is never made clear. And you'll never hear another screenplay feature the word \\butthorn\\\" either. Gary Busey tries out the Mel Gibson role from \\\"Lethal Weapon\\\" and while Busey is a serviceable actor the screenplay damns the whole movie to mediocrity. William Smith does another turn as a Russian soldier, the same character he played in \\\"Red Dawn\\\" a few years earlier. After playing biker heavies for most of the 70s it was sort of nice to see him expand his range playing Communist heavies. Sadly he'll probably always be remembered best as the guy who Clint Eastwood whupped in \\\"Every Which Way You Can.\\\"\"\n",
      "* * * * * * * * * \n",
      "2077\n",
      "Way back in 1967, a certain director had no idea about a galaxy, far away or near. He was trying to complete a movie with the title THX etc. this short is a remanufactured history of a certain George. i am sorry it has only cuteness to defend it. This is merely an advertising promo for the director, actors, et. al. It has little intrinsic artistic value. It is a brochure. The lead playing George, is very fine, as is the Leia character, and the ersatz Darth character. All else is plain commercial dross. What a waste. Still, it got the job done I guess. The rest of the movie is merely treading water to kill time I guess. a brochure only.\n",
      "* * * * * * * * * \n",
      "2134\n",
      "I watched this today, partially attracted to the all-star cast and partly because I have enjoyed so many other films of this ilk. However, this is one to avoid. There are dozens of badly cut scenes where the continuity just does not flow, the billiards challenge at the start, for example. The fighting scenes with the natives are about as good as you would remember in those old black and white Tarzan movies, you know where you see a spear fly through the air and camera cuts to a dead native lying motionless on the floor with it sticking from his thigh. Is that instantaneous death? There are also several quite unnecessary scenes which have nothing to do with the plot, like the little girl being rescued while collecting flowers. The really badly animated clay toys are too painful to watch. If you do see this movie the crabs which inch forward at about 5kph are the highlight. Somehow one manages to creep up on David Mccullum and give him a nip. Its as if there was no time to get out of the way, like when the obelisk in the city falls over, the native has all the time in the world to take a 2 step to the left, but no he screams and it falls on him. I only give this a 2 because of Ekland. And why does Mccullums voice develop a stutter as the movie progresses?\n",
      "* * * * * * * * * \n",
      "2296\n",
      "**SPOILERS** Redicules slasher film that makes no sense at all with a killer running around dressed in a black robe and wearing what looks like a pull-over Peter Lorre rubber mask. Were told early in the movie, almost the very first scene, that young Beth Morgan was in rehab due to heavy drug use after her boyfriend was murdered in Tennyson Collage about a year ago.<br /><br />It's also brought out that FBI Agent Sacker's (Jeff Conaway), who's obsessed in catching the killer,daughter was also murdered in Tennyson around the same time. By the time the movie \\Do You Wanna Know A Secret\\\" is over it's never explained just what those two killings back in Connecticute has to do with the slaughter in Florida of some half dozen collage students a year later? other that the killer, at least in the murder of Beth's boyfriend, wore the same silly Halloween outfit. <br /><br />At spring break in the Sunshine State the six students spend their vacation at a beach house and before you know it they start getting knocked off one at a time. Starting with computer geek Brad Clyton, Chad Allen, the killing even spill over into town with a number of people who have nothing to do with the targeted student including the police chief Gavin, Jack McGee, getting sliced open. <br /><br />The masked killer saves Beth for last in this weird ceremony at a deserted church, in what looks like the Florida Everglades. He then finally reveals who his is and what he intentions are which make as much sense as the movie does, none. Trying to scare it's audience all the movie does is confuse and bewilder it with a number of not-too convincing slasher scenes. The most effective ones having the victim Oz Washington, Tom Jay Jones, survive at least three attempts on his life and ending up, together with Agent Sacker, the hero in the film. <br /><br />Oz also had a vicious cut on is foot from a large splinter of glass that almost cut it in half and crippled him but later he miraculously recovered, after getting arrested for a murder he didn't commit, in fact he had it out two more time with the killer with him not as much as having a slight limp in his walk! It also made no sense at all why Oz and Beth went on their own to tack down and catch the killer instead of calling the police, with a cellphone that Oz had, instead? <br /><br />Beth's boyfriend, who loses his head over her, in the movie Hank Ford, Joseph Lawrence, is also very unconvincing as well as the two girls at the beach house.They together with with Beth Oz end up being the killers victims and then somehow disappearing from sight! for a moment you didn't know if they were really killed at all or if it was some kind of hallucination on Oz's or the local police part. Until the off-the-wall final scene where they popped up in the church.<br /><br />We also get an insight on a previous relationship between Tina and Hank with her, drunk and acting obnoxious, trying to get it on with Hank as Beth walks in without Hank and Tina even noticing her. That seemed to have upset Beth even more then her boyfriend being murdered at the beginning of the movie!\"\n",
      "* * * * * * * * * \n",
      "2372\n",
      "WARNING: REVIEW CONTAINS MILD SPOILERS<br /><br />A couple of years back I managed to see the first five films in this franchise, and was planning to do an overview of the whole Elm St. series. However, just two years on and I find I can't remember enough about them in order to do it  I guess they couldn't have made much of an impression. From what I do recall, some of the sequels  Dream Warriors in particular  weren't as bad as is often made out, though even the original was no classic. Generally, the predictability of the premise (if people fall asleep they get murdered in their dreams) doesn't lend itself to narrative tension. But while I cannot recall much of the first five films, I do know they never plumbed the depths of Freddy's Dead.<br /><br />An indication of how sick of Freddy the public was at this point can be judged by the fact that the film was promoted solely on the character's demise. The fact that the movie's conclusion is not even hidden, but in fact the entire purpose for the film's being goes to illustrate how vacant, soulless and cynical this venture was.<br /><br />Taking the morally questionable idea of having a child molester as the charismatic villain, Robert Englund's in-no-way-scary interpretation booms with laughter. I always thought Freddy's mockery of the teenage victims was less aimed at the characters than at the teenage audience that could ever watch this tripe. It's like Englund's crying out \\we know this is garbage  but you're paying to see it, so who's the one laughing?\\\" And I'm sure victims of child abuse would be disheartened to see such an insensitive depiction of their plight. Was Freddy's appearance in the films always so rudimentary? All he gets to do here is a few \\\"haaaaaaaaaaaaaarr  har  har  hars\\\" and that's it. If this was the only Elm St. film you'd ever seen you wouldn't get to know the character at all. Even as the character pre-death in a flashback Englund plays him as a boo-hiss pantomime villain with a slop of Transatlantic (ie. overstated, misplaced and not at all funny) irony.<br /><br />Acting is almost universally poor. Just look at how many times Breckin Meyer overacts with his hand gestures and body language. Only Kananga himself, Yaphet Kotto, keeps his dignity. And when Roseanne, Tom Arnold and Alice Cooper show up, you can almost visibly see the film sinking further into the mire. The script, too, is absolutely lousy, almost wholly without merit. Carlos (Ricky Dean Logan) opens a road map, upon which the Noel Coward-like Freddy has wittily written \\\"you're f**ked\\\". When prompted for the map, Carlos responds \\\"well the map says we're f**ked\\\". Who wrote the screenplay, Oscar Wilde?<br /><br />Or how about the scene where Carlos is tortured by Freddy, his hearing enhanced to painful levels? So Freddy torments him by threatening to drop a pin  a potentially fatal sound, given that all sounds are magnified. Oddly, the fact that Carlos shouts at the top of his voice for him not to drop it seems to have no effect. \\\"Nice hearing from you, Carlos\\\", quips Freddy, hoping some better lines will come along. It's also worth noting that dream sleep doesn't occur instaneously, so being knocked unconscious wouldn't allow instant access into Freddy's world. Though as part of the narrative contains a human computer game and a 3-D finale plot logic isn't that high on the list of requirements.<br /><br />The teenagers heading the cast this time are really the most obnoxious, dislikeable group in the whole series. Tracy (Lezlie Deane) is the only one who gets to greet Freddy with \\\"shut the f**k up, man\\\" and a kick in the scallops. And was incongruous pop music always part of the ingredients? Freddy's Dead. No laughs. No scares. No interest. No fun.<br /><br />\"\n",
      "* * * * * * * * * \n",
      "2431\n",
      "Everything in this film is bad , the story , the acting , the effects but its funny , funny , funny !!!Scott Valentine with the army uniform thats ten sizes too big is so bad with the permanent attempt at a scowl on his face as the leader of a special ops group its hilarious ! The ''terrorists'' are as scary and realistic as the ''raptors'' , this is so phoney and bad at everything it tries you have to laugh .The part where the giant T-REX who somehow snuck on board a ship and then somehow got below is blown up and you see the metal pole sticking up where its head was is the perfect ending .If your into bad films , this is the pot of gold , the mona lisa of b-b-bad !!!\n",
      "* * * * * * * * * \n",
      "2452\n",
      "All of David Prior's movies are terrible on all counts: bad writing, bad acting, bad cinematography, no budget (the director's brother is usually cast as the male lead). But they all have incredible entertainment value because of their unintentional hilarity. The plot of almost every David Prior \\film\\\" (as I like to refer to them) is basically the same. Manly all-American commandos team up to blow up Communist baddies. But unlike other Cold War-era garbage such as Red Dawn, Prior's movies are actually funny because of their over-the-top premises and acting. The best part of Jungle Assault is the scene in which Becker (or was is the other dude?) is being summoned by General Mitchell for a top-secret mission in South America. The funniest line in the movie is then delivered, something to the effect of \\\"this is my roommate, I trained him well\\\". WHAT. You trained your roommate? And apparently this is going to be their solution to avoiding eviction.<br /><br />If you can find these gems on video used anywhere, BUY THEM. They are all funny and even funnier after a few beers. Watch them with a group of your friends for a true MST3K-style experience. So far my friends and I have managed to get a hold of Night Wars and Aerobicide aka \\\"Killer Workout\\\". But the one I recommend the most over them all is Final Sanction, with the freakish-looking Robert Z'dar.\"\n",
      "* * * * * * * * * \n",
      "2466\n",
      "Please, someone stop Ben Stiller from acting in ANY movie. Write the studios, hell, write your local congressman even. I've gotten more laughs going to a funeral then I have watching ANY Stiller flick. Jack Black tries to make something about a comedy about disappearing dog crap, and Christopher Walken, perhaps on of the greatest actors of his generation, simply looks embarrassed to be there. Stiller is his unfunny self,but now even with someone to bail him out, proves that he is way overrated as a comic. It's no wonder why this movie tanked badly, and was available of the dollar movie theaters after only a handful of weeks. I warn you, and you must warn your friends, Do not watch this flick, it is just awful, worst then Gothika (personally, i'd never thought i'd say that), worst the Plan 9, Worst the Ishtar, worst then The Golden Child. Please Hollywood, quit allowing Ben Stiller in your movies, he's not funny, he's a god awful actor, and he's bringing others down with him. The following film was ranked 1 because there are no negative scores allowed, so while the board says one, I'll give it a Zero.\n",
      "* * * * * * * * * \n",
      "2492\n",
      "I see a lot of people liked this movie. To me this was a movie made right of writing 101 and the person failed the class. From the time Lindsey Price the videographer shows up until the end the movie was very predictable. I kept on watching to see if it was going anywhere.<br /><br />First we have the widowed young father. Cliché #1 movies/TV always kill off the the mother parent if the child is a girl, or a brood of boys so the single father can get swoon over his dead wife and seem completely out of his element taking care of the children. Starting from from My 3 Sons to 2 1/2 Dads. These movies are usually dramas and comedies are TV shows.<br /><br />Cliché # 2 When a pushy woman has a video camera in her hand she will play a big part in the movie. And will always have solutions or even if that person is a airhead <br /><br />Cliché #3 If the person in peril is a foreigner they have to be of Latino origin. And they must be illegal. Apparently there are no legal Latino's and illegal Europeans, unless if there is a IRA element involved.<br /><br />Cliché #4 The said Latino must be highly educated in his native country. In this case he was a Profesor who made 200 per month. And the said highly educated Latino must now act like he hasn't brain in his head now and lets the air head side kick take over.<br /><br />Cliché #5 The crime the person committed really wasn't a crime but a accident. But because in this case he has lost all of the sense he had when he crossed the boarder he now acts like a blithering idiot and now has put his own daughter in peril by taking her along on a fruitless quest to the border with the idiot side kick.<br /><br />Cliché #6 One never runs over a hoodlum running from a crime , but some poor little cute kid. This is because the parents of the child have to play a big part of the movie, and because the the person who accidentally killed the child can have ridiculous interaction with the parents.<br /><br />Cliché #7 Name me one movie in which one cop is not the angry vet and they get paired up with a rookie. Even if they are homicide detectives who have to be the most experienced cops on a police Force. Sev7n and Copy cat and Law and Order come to mind right away. And the vet even though gruff on the outside has a heart of gold.<br /><br />Cliché #8 Let's go and round up some unemployed Soap Stars. Now I like Lindsey Price. But Susan Haskell IMO can not act her way out of a paper bag and when she use to be on One Life To Live as Marty he swayed from right to left every time she opened her mouth. It use to get me sea sick. She might be anchored on land better now, but she still cannot act.<br /><br />The movie might have been more insightful if it wasn't filled with clichés. I don't think a movie has to be expensive or cerebral to be good. But this was just bad.<br /><br />***SPOILER**** Now I am not going to spoil the ending. Oh heck I will because I feel it will be a disservice to humanity to let a person waste time they will never get back looking at this movie. It involves Cliché #6 and #7. Unless a person has never seen a movie before you had to see what was coming. The father makes even a dumber mistake runs from the cops at the end and gets shot by the angry veteran, who all of a sudden is very upset. You would think she thought the poor guy was innocent all through the movie and she shot him by mistake. When she didn't. Now for the little girl who the dad brought along with him. Guess what happen to her? Times up, she ends up living with the family whose child was killed by her father!! Come on! You all knew that was going to happen, because she is a replacement child!! That is why she did not go and live with the Lindey Price character. <br /><br />This movie was a insult as far as I was concerned. Because there were so many avenues this movie could of explored and went down but it chose to take the cliché ridden one. The 2 stars are for 2 of the stars, the little girl, who I thought was very good and Lindsey Price who character was annoying but she did what she could with it. My advice is take a vice and squeeze your head with it instead of looking at this dreck\n",
      "* * * * * * * * * \n",
      "2511\n",
      "Okay, so the previews to this film only tells you that a rebellious young girl goes to live with her grandmother for the summer in order to straighten out. That is actually not the case! It's about a young rebellious 17 year old girl who reveals a secret and it's up to her mother to believe if she's telling the truth or not.<br /><br />To be honest, I really enjoyed the concept of this movie. They had a really good plot and a really good theme of a love/hate relationship between mother and daughter. I did not however, enjoyed watching Lindsay Lohan's acting. In reality, this movie would have been GREAT if they had someone else, perhaps a better actress. The character of Rachel (Lohan) is a very sexually aggressive person and it sort of reminds us of the real Lindsay so it takes away a lot from the film.<br /><br />I do however, think that if you put Lindsay aside, you will enjoy this film. The ending is pretty great (and sad).\n",
      "* * * * * * * * * \n",
      "2519\n",
      "By far the worst movie of all time. Even Yaphet Kotto could not save this turkey. I have heard that the movie was originally supposed to be titled \\The Treasure\\\" but was changed to \\\"Sharks' Treasure\\\" in order to take advantage of the excitement created by \\\"Jaws\\\". I think sharks were in one scene of this movie; the fact that they happened to be included in this \\\"thriller\\\" was supposed to sell tickets. Didn't work. Anytime something \\\"good\\\" happens in the movie, the ship's crew toasts each other with a certain brand of beer that had just been introduced at the time the movie was made. Gee, do ya think that beer might have been a sponsor? Could they have made it any more obvious? The only time anyone should break out the beer is if they make it through this thing. That's cause enough for celebration.\"\n",
      "* * * * * * * * * \n",
      "2570\n",
      "It's like a bad 80s TV show got loose and tried to become a soft-core porn movie. Oh my god was it bad. The plots of each character had little relevance. The plot itself wasn't anything to speak of. Something about a stalker, I guess. In the end he shoots himself? It's not really clear, but somehow there's a volleyball game involved. And the main character (Randy) sleeps around a lot. The only reason my friends rented this movie was because Casper Van Dien was in it, and they ended up wanting to fast forward to the scenes with him in it, which were barely watchable at that. Thank god I didn't spend any money on it, but I want that hour of my life back.\n",
      "* * * * * * * * * \n",
      "2595\n",
      "I honestly had somewhat high expectations when I first began to watch this movie, but it turned out to be probably one of the most boring films I have ever seen!<br /><br />First of all, the pace is incredibly slow, so it seems much longer than it is (and it's not short).I'm sure when Jane Austen wrote the book, she made it several pages long, filled it with description, and didn't intend for people to read in in one day, or it might drag and lose it's appeal, which \\Emma\\\" most certainly did. Now \\\"Sense and Sensibility\\\" had this flaw of a slow pace, but at least it had lively lines to make up for it, as well as some good performances!<br /><br />That brings me to flaw #2, which is of course, the acting. While I don't happen to care for basically anybody involved in this film, I am sure they are capable of good work, but I didn't see much of it in this movie. It was like people were trying too hard to be witty, too hard to be \\\"upper-class\\\", too hard to be British (well, some of them), so they all just came off as a bunch of actors and not as people.<br /><br />#3. The cast, as I said, seemed only like actors, and not actually like the people they were playing. Maybe that's a good thing, because the people they played really weren't all that nice. Why did everybody like Emma, for example? Sure, she was nice to the rich, handsome people in front of them, but she was an awful gossip behind their backs. If her friends were \\\"ugly\\\", then she didn't even bother to go behind their backs. So, why is this girl so great? Why do people have to tell stories, \\\"just to make her laugh?\\\" Of course the snob couldn't even do that right. I have enough problems with Gwyneth Paltrow as Gwyneth Paltrow, and her \\\"Emma\\\" did not exactly change my opinion.<br /><br />Well, it's easy to see that I did not care for this one. I'm sure it's a lovely book and all, but some books are really not meant to be made for the big screen, and \\\"Emma\\\" is one of them.\"\n",
      "* * * * * * * * * \n",
      "2658\n",
      "Maybe you shouldn't compare, but Wild Style and Style Wars are original Hip Hop. Beat Street does have a lot of the original artists of early Hip Hop, but they've been obviously made clear that this could be their big break, of course for some it was and that's nice. But if you view this as original Hip Hop Culture you're wrong. It's overproduced and has a Hollywood sauce. Rather look for the first two movies i mentioned. They have convey the grittiness that comes with life in the ghetto. Yes, the rating for this movie is low, but the reviews are mostly positive or even raving. This is probably because although the story, the acting, the dialogues and the direction all are dreadful, the music and dancing is what the people love about it. Me, i do love the dancing but at the time thought that electro was the death of Hip Hop (i was so glad when round '86 a new generation of now classic Hip Hop artists appeared, like Krs One, Public Enemy, Ultramagnetic Mc's, Jungle Brothers, Bizmarkie to name a few), and i still don't like most of the beats in this movie and that is why it doesn't work for me. I mean, Wild Style has not much of a story but the music there is great and authentic. Of course tastes differ and that's alright. But as far as i'm concerned, this movie is trash except for the break dancing and some of the music and so i can't rate it higher than a 4 out of ten.\n",
      "* * * * * * * * * \n",
      "2662\n",
      "This film, although not totally bad, should have been filmed where the actual events took place. Grand Island, Nebraska was devastated by no less than seven tornados on the night of June 3, 1980. Grand Island is situated in the nearly treeless, flat Platte River Valley in Hall county. The makers of this movie filmed in the tree covered hills of Ontario and moved the whole event to a non-existant town called Blainsworth. The people of Grand Island bravely survived this awful night only to be forgotten because of a poorly made movie.\n",
      "* * * * * * * * * \n",
      "2721\n",
      "Dear Richard, I know we all loved you on Home Improvement with Tim Allen. But seriously, do you not have anything else to do besides lame sequels to Air Bud? I would have thought Tim might have actually give you a bit role by now or even becoming his personal assistant. I know that seems ironic, but the pay benefits are much more rewarding.<br /><br />Everybody would see you around Tim and instantly think \\Tool Time\\\". You would even get roles with Bob Vila more often. Instead, you appear for 10 minutes with a Golden Retriever and smiling. I know there wasn't much of a script, but you could have added to it. I mean, come on. Tim owes you one.<br /><br />But seriously, this movie does nothing for the Air Bud line. Quite the contrary, the fake talking puppies are cornier than actually seeing the dogs play sports. The original was better. And you, Mr. Richard Karn, know that more than anybody.<br /><br />This is an \\\"F\\\" movie.\"\n",
      "* * * * * * * * * \n",
      "2793\n",
      "American Pie: Beta House is sort of in limbo between genres. On the one hand, it's a comedy with no plot and few genuinely clever jokes. On the other hand, it's porno that's a tad too soft-core to actually turn on any viewers. Essentially Beta House is a collage of sex scenes - some humiliating, others just lame attempts at humor - with a couple thin plot points thrown in an effort at cohesiveness. The characters are barely even two-dimensional, most development relies on knowledge of Naked Mile, and the \\important\\\" plot scenes are so far apart that you wonder why the writers even felt the need for a story.<br /><br />In all fairness, I did not go into this movie without expectations. I liked the original three American Pie movies, and thought Band Camp and Naked Mile were solid rentals. I thought Naked Mile was almost good enough to be released in theaters, and so when I saw that some of the same characters were returning for Beta House, I was excited to see this installment. I was aware that there would be numerous scenes of debauchery and sexual humiliation in multiple forms. And I was fine with it, because in the past, these scenes were backed by the story and were well integrated into the plot. In Beta House, however, it's almost as if the writers forgot why the formula in the other AP movies worked. They spent too much energy working in the nudity that they forgot to actually write a story.<br /><br />This movie is a disappointment and not even worth a one-dollar rental. The jokes are lame, the story is non-existent, and the porno-aspect is too tame if that's all you really care about seeing.\"\n",
      "* * * * * * * * * \n",
      "2886\n",
      "While I don't claim to be any sort of expert in marine life, I must say anyone with a modicum of intelligence could not possibly buy in to this notion of a whale (and not even the mother!) having a clue about revenge because it witnessed his dead mate having a forced abortion by humans! I mean, really! This is basically the whole plot. Richard Harris must have been extremely hard up for roles to have accepted this junk. This is the kind of movie that is so bad that if you paid 50 cents to see it, you would feel like demanding your money back.\n",
      "* * * * * * * * * \n",
      "2989\n",
      "I found \\The Arab Conspiracy\\\" in a bargain bin and thought I'd uncovered a lost treasure. Folks, there's a reason why you don't hear much about this film. The plot is muddy, the pacing is slow, Cornelia Sharpe is about as vivacious as plain, cold tofu, and the ending leaves you flat. Not even Sean Connery can save this one.\"\n",
      "* * * * * * * * * \n"
     ]
    },
    {
     "name": "stdout",
     "output_type": "stream",
     "text": [
      "3036\n",
      "Trite, clichéd dialog and plotting (the same kind of stuff we saw all through the 1980s fantasy movies), hokey music, and a paint-by-numbers characters knocks this out of the running for all but the most hardcore fans.<br /><br />What saves this film from the junk heap is the beautiful crutch of Bakshi's work, the rotoscoping, and the fact that Frank Frazetta taught the animators how to draw like him. This is Frazetta...in motion. The violence is spectacular and the art direction and animation are unlike any other sword & sorcery movie of the period.<br /><br />I like to watch this with the sound off, playing the soundtrack to the first Conan movie instead.\n",
      "* * * * * * * * * \n",
      "3043\n",
      "A one is the highest rating I could have given this movie, considering zero and negative numbers are not allowed. Pee yew, pointless mess of a movie with a lot of wasted b-list actors who have done better work, written and directed by some guy with the mentality of a twelve year old who smirks and giggles at stupid puns, and poop and fart jokes. For example, Gene Stapelton's (Ding-Bat from All in the Family) character telling Marilu Henner's character that she \\swings both ways\\\" sexually, was a cheap attempt at humor indicative of the general lameness of the movie... You want good, cheeky humor? Rent Animal House, American Pie (part one only), Old School or Office Space.\"\n",
      "* * * * * * * * * \n",
      "3047\n",
      "Keanu Reeves stars as a friend of a popular high school student who suddenly commits suicide...he and his friends go through emotional turmoil and share their reactions to this horrible incident...Good acting by Reeves and a young Jennifer Rubin..but on the whole is a little too much.. 4 of 10\n",
      "* * * * * * * * * \n",
      "3073\n",
      "Oh dear me! Rarely has a \\horror\\\" film bored me, or made me laugh, as much as this one. After a spirited start with an intriguing premise, it descends into not much more than a slasher flick, with some supernatural and sexual asides. The usually excellent Alice Krige is wasted in this one, and the plot twists are ludicrous. Don't bother unless you're really desperate. Rating: 3/10.\"\n",
      "* * * * * * * * * \n",
      "3139\n",
      "This is a classic stinker with a big named cast, mostly seniors who were well past their prime and bedtime in this one.<br /><br />This is quite a depressing film when you think about it. Remain on earth, and you will face illness and eventually your demise.<br /><br />Gwen Verndon showed that she could still dance. Too bad the movie didn't concentrate more on that. Maureen Stapleton, looking haggard, still displayed those steps from \\Queen of the Star Dust Ballroom,\\\" so much more down to earth from 10 years earlier.<br /><br />I only hope that this film doesn't encourage seniors to commit mass suicide on the level of Jim Jones. How can anyone be idiotic enough to like this and say it gets you to think?<br /><br />Why did Don Ameche win an Oscar for this nonsense?<br /><br />If the seniors were doing such a wonderful thing at the end, why was the youngster encouraged to get off the boat? Why did Steve Guttenberg jump ship as well? After all, he had found his lady-love. <br /><br />This would have been a nice film if the seniors had just managed to find their fountain of youth on earth and stay there.<br /><br />Sadly, with the exception of Wilford Brimley, at this writing, Vernon, Gilford, Stapleton, Ameche, Tandy, Cronyn and lord knows who else are all gone. The writers should have taken the screenplay and placed it with this group as well.\"\n",
      "* * * * * * * * * \n",
      "3160\n",
      "**** WARNING: here be spoilers **** Why do I waste my hastily fleeing years watching garbage like this? This film is an impressive collection of clichés, poor writing, worse directing, and then we haven't even got to the acting yet. <br /><br />And of course, you can predict the whole story from beginning to end.<br /><br />Hero expert fights against stupid, corrupt and incompetent henchmen. One avalanche goes off, burying all the heroes who somehow manage to get out alive in spite of going through all sorts of cliffhanger perils. Corrupt partner who caused the whole thing gets fried alive together with his payoff money. Second avalanche heroically deflected by renegade expert's adventurous experiment. Evil henchmen in the end turn out to have a heart as well. Troubled teenager falls into the arms of her crusty stepmother after being saved by her. Etc, etc, etc, etc, on and on it goes. <br /><br />In fact, there's little reason to warn for spoilers. You could probably work the whole plot out if I gave you the basic ingredients. At least, I wasn't too wide off the mark most of the time, anticipating what would happen next.<br /><br />And then we haven't discussed the factual errors.<br /><br />I agree with a previous commentator that even though there are usually SOME redeeming features even of a bad movie. you'd be hard pressed to find any in this one. I suppose I gave it 2 out of 10 for some nice scenery shots, but that's it.<br /><br />It's been some time since a film made me groan, but this one certainly did.\n",
      "* * * * * * * * * \n",
      "3214\n",
      "\\Drawing Restraint 9\\\" is a kind of movie one either loves or hates; fortunately or not, I left it with a strong feeling of wasted time and of being thoroughly stuffed with \\\"killing whales is bad\\\" propaganda. Aesthetically, the movie could have been pleasing, especially its first half, until it is not clear that every action portrayed serves as an allegory of various aspects of whale hunting. Until then, it might be slightly amusing to look at daily chores of japan workers, but later it becomes obvious that anything that appears on the screen is a propaganda, and no single frame is an exception. I use the word \\\"propaganda\\\" because the movie uses basically the old morality play device, where \\\"good\\\" and \\\"bad\\\" are not deduced in the course of action but are set in stone. Probably it's just me, but I find such type of art shallow and preconceived, even when it's all about the noble (no sarcasm here) quest of protecting the environment.<br /><br />In my opinion it is a cardinal sin when a movie material is stretched out without any justification, for the sake of stretching only. In my opinion, \\\"Drawing Restraint 9\\\" could've been easily fit into 75 minutes, but has a torturous length of 2 and 1/4 hours. Yes, there were interesting shots, but there were not enough of these to leave 15-minute gaps of nothingness without notice. The movie has no standard scenario, and there's no evolution of characters, but neither it is a documentary, it's rather a kind of conceptual installation. That's an unusual form for a movie, but it still can be viewed as art even when the concept is as simple and naive as here. OTOH I also believe that the director should've had some honesty and did not pretend that it could be only delivered in no less than 135 minutes.<br /><br />And yes, the music score mostly resembled whale sounds. How surprising.<br /><br />2/10.\"\n",
      "* * * * * * * * * \n",
      "3379\n",
      "The 1930s saw a vogue for documentary films about remote corners of the world, with an emphasis on wild animals, exotic terrain and primitive people with unusual cultures. Despite the logistics of transporting a film crew to a distant and dangerous place, and then bringing 'em back alive (with the film footage), such films were often much cheaper to make than were conventional Hollywood features ... because there were no expensive sets, costumes, or high-priced movie stars.<br /><br />The most successful makers of such films (artistically and financially) were the team of Martin E. Johnson and his wife Osa, who made several documentaries (sometimes with blatantly staged events) in Africa and Asia. The Johnsons' safari films were extremely popular, inspiring several parodies ... most notably Wheeler & Woolsey's \\So This is Africa\\\", in which the very sexy Esther Muir plays a character named Mrs. Johnson-Martini (instead of Martin E. Johnson, geddit?). Although several other filmmakers were producing safari documentaries at this time, the Johnsons' films were the most popular in this genre because they relied heavily on humour. Viewed from our own more enlightened (I hope) standpoint, this is a serious flaw in the Johnsons' documentaries: there are too many scenes in which the funny little brown or yellow people are made to look complete idiots who are easily outsmarted by the clever white bwana Johnson and his wife.<br /><br />One definite asset of these movies is the presence of Osa Johnson. Ten years younger than her husband, she manages to seem young enough to be his daughter. While certainly not as attractive as the shapely blond Esther Muir, Osa Johnson was a pert brunette who gave ingratiating performances in front of the camera in all the films she co-produced with her husband.<br /><br />'Congorilla' is probably the best of the Johnsons' films. The shots of the Congo are interesting and have some historical value as evidence of what this environment looked like in 1930. The shots of the Pygmies and other natives are also interesting, although these suffer from the Johnsons' penchant to stage events in a manner that makes the natives look 'wild' and alien.<br /><br />The best (and funniest) scene in 'Congorilla' is an improvised sequence in which Osa Johnson attempts to teach a jazz dance to some Pygmy women. (The dance is the Black Bottom, no less ... the same dance which Bob Hope famously taught to Daisy and Violet Hilton, the conjoined twins.) Wearing jodhpurs, riding boots, and a pith helmet, Osa Johnson starts scat-singing while she does high steps and slaps her knees in her attempt to teach this dance to the African women. Meanwhile, they just stand there staring at her, apparently wondering what this crazy white woman is trying to accomplish. It's a very funny scene, but it has unpleasant undertones. Osa Johnson is doing a dance that was invented by black Americans: the implication seems to be that black Africans should instinctively be able to perform this dance after a brief demonstration (using natural rhythm, I guess) because it's in their blood, or something.<br /><br />I'll rate 'Congorilla' 4 points out of 10. This film says a little bit about African life in the 1930s and rather more about American cultural perceptions in that same decade.\"\n",
      "* * * * * * * * * \n",
      "3423\n",
      "\\Proximity\\\" tells of a convict (Lowe) who thinks the prison staff is out to kill him. This very ordinary film is an action/drama with a weak plot; stereotypical, poorly developed characters; and a one dimensional performance by Lowe. A forgettable film not worthy of further commentary.\"\n",
      "* * * * * * * * * \n",
      "3591\n",
      "i guess its possible that I've seen worse movies, but this one is a real stinker! the plot is unremarkable but thats not the worst of it. the directing is no where close to what you would expect from andy ching. he's capable of good work but failed to pull this movie together.<br /><br />angie harmon, playing the female lead as a reporter dogging into who's behind the assassination of the president, truly butchered the role. there was no chemistry with gooding, her demeanor was flat and wooden, and the 5 inch spike heels she wore throughout the movie were absurd. this outing for harmon places her solidly at the bottom of the \\b\\\" list.<br /><br />and what was cuba gooding thinking??? he has to his credit a number of outstanding performances, but this was far beneath what we've come to expect from him.<br /><br />poor james woods and burt reynolds. poor poor poor poor poor.\"\n",
      "* * * * * * * * * \n",
      "3615\n",
      "I was expecting a documentary that focused on the tobacco industry in North Carolina. Instead I watched a man who rues the fact that his great grandfather lost his tobacco empire to the Duke family. And this went on and on. If Mr. McElwee's family had prevailed over the Dukes I doubt that Mr. McElwee would have any problems with the death toll caused by tobacco-related diseases. I grew up near the area where Mr. McElwee's family began it tobacco business ; I expected more than McEwee's continual focus on his family. I learned very little about the history of tobacco in the NC economy and the ramifications to the state's economy by tighter regulation of tobacco. The countless references to the movie \\Bright Leaves\\\" are out of place - So what if Gary Cooper played Mr. McElwee's great grandfather? Does the viewer gain any understanding of the role of tobacco in the North Carolina economy by the showing of old film clips of a fictionalized film? I didn't.\"\n",
      "* * * * * * * * * \n",
      "3635\n",
      "Cheezy action movie starring Dolph Lungren. Lungren is a one time military man who has retreated into a teaching job. But the changes in the neighborhood and the student body have left him frustrated and he decides that he?s going to hang it up. Things get dicey when while watching over a bunch of students in detention some robbers take over the school as a base of operation for an armored car robbery. Its Dolph versus the baddies in a fight to the death. Jaw dropping throw back to the exploitation films of the late grindhouse era where bad guys dressed as punks and some of the bad women had day glow hair. What a stupid movie. Watchable in a I can?t believe people made this sort of way, this is an action film that was probably doomed from the get go before the low budget, fake breakaway sets and poor action direction were even a twinkle in a producers eye. Watch how late in the film as cars drive through the school (don?t ask) they crash into the security turret (don?t ask since it looks more like a prison then a high school) and smash its barely constructed form apart(it doesn't look like it did in earlier shots). What hath the gods of bad movies wrought? Actually I?m perplexed since this was directed (?) by Sydney J Furie, a really good director who made films like The Boys in Company C. Has his ability failed him, or was this hopeless from the get go and he didn't even bother? It?s a turkey. A watchable one but a turkey none the less.\n",
      "* * * * * * * * * \n",
      "3647\n",
      "I have seen many good Korean Movies including thrillers and movies with darker overtone, but this one sucks. The director seems to be a sadist, who happened to get someone to produce some junk. The movie lacks any sort of entertainment value and is not even a thriller. I can't believe someone really made such a movie. Even though acting is OK, the story line and the feeling it leaves is awful.<br /><br />I am sure, I am not going to see any movies of this director. No sense of movie making, and utter disappointment in having thriller moments. All this has is showing scenes with psychopath wasting the reels with badly shot scenes and showing more blood and violence thinking that makes it thrilling. Very disappointing movie and I strongly recommend skipping all the movies of this sort.\n",
      "* * * * * * * * * \n",
      "3654\n",
      "This is a sad film made for sad people. I was sitting in theaters tearing my hair apart, wanting to break the chairs in front of me as the movie spitted out one cringe-inducing scenes after another. And there were people roaring with laughter behind me, which made me wonder what kind of films these people must be watching to actually enjoy this horse-s**t.<br /><br />Nikkhil Advani has six stories with no plot and no interesting characters. The screenplay is dull, probably he was drunk when he was writing this film. There is no strong hold on any of these stories. Nothing new , nothing to hold the audience and filled with dialogs which you would have heard a million times before. One of the stories is about this couple not being able to have sex because of series of disasters taking place every time they want to do it. I mean seriously is this story really required? Its not funny, not creative but only proves that Advani has no sense of comedy. Another of the stories (which was probably the only story I was interested in) is based on a man's infidelity and that too ends in a lame age-old sati-savitri pati-parmeshwar crap. I have no idea what the Salmaan-Priyanka plot was all about. There was no issue in the plot for it to be a plot. She can't take Karan Johar's film because she has to marry Salmaan ?? Why can't she marry him and still take the film ?? or does Advani and Priyanaka just want to prove the world that it is in fact true that female actors cant be successful if they are married or that they should not act in films once they are married?? With six actors in the film obviously Advani cant produce the film all by himself. So he makes full use of sponsors like the Times group, shamelessly promoting their Filmfare magazines. And also some jewelery brand which the women in the film absolutely seem to adore!! I come to IMDb to give it the worst rating and i am shocked to see posts praising the film. It just goes to show the sad state of bollywood and how star struck the fans are. With fans like these, movies like Salaam E Ishq will be continue to be made and worse probably be a hit.\n",
      "* * * * * * * * * \n",
      "3879\n",
      "A routine mystery/thriller concerning a killer that lurks in the swamps. During the early days of television, this one was shown so often, when Dad would say \\What's on TV tonight?\\\" and we'd tell him \\\"Strangler of the Swamp\\\" he'd pack us off to the movies. We went to the movies a lot in those days!\"\n",
      "* * * * * * * * * \n",
      "3988\n",
      "Whenever a Columbo story deviates from the familiar plot (colorful killer commits crime, Columbo smokes out killer, Columbo becomes a pest in the process), the writers somehow are never able to match the quality and interest of most traditional episodes. This episode deviates in the extreme, and the result is a major flop.<br /><br /> Would you believe: Columbo never faces the villain till the very end?!!<br /><br />Frankly, I was tempted to turn it off about two-thirds through.<br /><br /> Oh, the sacrifices we self-appointed reviewers make!!!\n",
      "* * * * * * * * * \n",
      "4012\n",
      "Good lord, whoever made this turkey needs to be buried alive. I'm sorry, but the other reviewer must not have seen this movie, he must be watching something else, or have never seen a movie before... 9 out of ten stars? He's saying what, this is as good as Ben Hur or Gone With the Wind? Unintentionally funny, massively unbelievable characters, absurd situations, looks like it was shot in Griffith Park (which works out pretty well--MASH was shot in Griffith Park), crappy script, just about everything that could possibly be wrong with a movie all rolled into one package. Should be required viewing for all prospective film makers as an example of how a movie could be horribly wrong. It reminds me of something a USC student may make for a film class. <br /><br />Give this one a pass unless you do drugs and are into high camp.\n",
      "* * * * * * * * * \n",
      "4162\n",
      "The Underground Comedy Movie, is possibly the worst train wrecks I've ever seen. Luckily I didn't pay for this movie, and my friend reluctantly agreed to watch it again siting that it was so awful but he needed to prove to me how awful it was. I love off color comedy. I figured at the least it would have that and I would be entertained. No, instead the acting was so awful, the \\jokes\\\" were extremely cheesy, and the plot was no where to be found. Maybe there wasn't supposed to be a plot so I can't hold that against this movie. It's pretty sad where the funniest thing in a comedy is an old woman having her head hit off by a bat.....by Batman...A man dressed in a baseball uniform wielding a bat. Hilarious. Simply genius. I got the feeling watching this movie that its creators made it and laughed hysterically with their friends about it. Perhaps this was full of inside jokes we just didn't understand. Or perhaps it's the worst piece of trash ever made and it should be locked away in a vault and dumped in the Arctic Ocean.<br /><br />P.S. Don't buy this movie!\"\n",
      "* * * * * * * * * \n",
      "4251\n",
      "There is no reason to see this movie. A good plot idea is handled very badly. In the middle of the movie everything changes and from there on nothing makes much sense. The reason for the killings are not made clear. The acting is awful. Nick Stahl obviously needs a better director. He was excellent in In the Bedroom, but here he is terrible. Amber Benson from Buffy, has to change her character someday. Even those of you who enjoy gratuitous sex and violence will be disappointed. Even though the movie was 80 minutes, which is too short for a good movie (but too long for this one),there are no deleted scenes in the DVD which means they never bothered to fill in the missing parts to the characters.<br /><br />Don't spend the time on this one.\n",
      "* * * * * * * * * \n",
      "4331\n",
      "This movie wasn't that bad when compared to the first two sequels to the original. It's directed by Martin Kitrosser of Friday the 13th fame. The acting is very bad indeed, but the gore and special effects help make it interesting. Thats one thing I like about Screaming Mad George (make up effects artist for the film), his effects are so off-the-wall and bizarre that they will keep you watching a bad movie just to find out how crazy they're gonna get. The movie isn't really all that gory, but there is an EXTREMELY nasty eyeball-munching scene in the middle involving a toy maggot (what!?!) Mickey Rooney makes a guest appearance that he probably wasn't too enthusiastic about but needed the money at the time, possibly? If you liked the weirdo 4th installment (my favorite of all 5), you'll probably like this one. I liked it better than the Matrix! Enjoy.\n",
      "* * * * * * * * * \n",
      "4714\n",
      "This is yet another depressing and boring film about AIDS and tragedy. It begins very uneventful and predictable and continues throughout the movie. I kept waiting for it to pick-up, but unfortunately it never did. The acting is fair, but the script needs A LOT of work. And if you're looking for the nudity, don't waste your time with these not so hot actors. Due to the poor sound quality and lack of captions, I missed 1/8 of the movie. If you have never seen over five gay films, or have recently come to terms with being gay, you may find this film interesting, otherwise it's your run-of-the-mill low budget movie. It ranks as one of the worst gay films I have ever seen.\n",
      "* * * * * * * * * \n",
      "4744\n",
      "This movie is traditional bollywood fare as far as the star power, sentimentality and love triangle of emotions. What really bothered me about this movie was the makers' absurd notion of surrogate mother. A whore who conceives a child with someone after have sex with the man (of the family desiring a child) is not a surrogate mother. Neither is she a good candidate for a surrogate mother. I have seen Indian movies and television shows that made 10 to 15 years ago that dealt with this issue more intelligently. The whole concept of the movie is ridiculous and absolutely implausible. I realize that most bollywood movies aren't meant to be plausible, but they don't pretend to be either. This movie wants us to emote along with the characters, but this can't done with such a ridiculous, contrived conflict. I would have expected better from Abbas and Mustan.\n",
      "* * * * * * * * * \n",
      "4816\n",
      "One of the requirements of science fiction, at least before it starts to become satire, is that it be somewhat plausible. I would think that an anti-matter bomb would do considerably more damage than for what it was intended. But I'll leave that to the physicists who might have seen Solar Crisis.<br /><br />It is a crisis the earth is facing because solar flares are getting totally out of hand. They're getting close to Earth, so much so that it's become unseasonably hot, as if the entire Earth were Death Valley. The answer is an anti-matter bomb which a space ship will have to take to the sun and explode it there. That will divert the flares off in say the direction of say Mercury providing it's not in direct alignment with the Earth. <br /><br />Who to deliver it, but captain Tim Matheson and his crew. That is if he can keep his mind on the business at hand and not on runaway son, Corin Nemec. Taking care of the personal side of the family problems is admiral Charlton Heston, Matheson's father, and Nemec's grandfather.<br /><br />There's a villain here too, Peter Boyle who is the CEO of a multi-national corporation which in this crisis is trying to control the world's food supply for the survivors. The idea he might not survive doesn't enter into his thinking. He's doing his best to sabotage Matheson's mission.<br /><br />Solar Crisis seems like a bad mix of 2001, A Space Odyssey and Voyage to the Bottom of the Sea. Boyle seems to be taking his cue from Gene Hackman as Lex Luthor in Superman, apparently he's the only one in the cast who realizes he's in a turkey and overacts accordingly.<br /><br />The rest of the cast are stalwart, true blue and dull. Except possibly desert rat Jack Palance who finds Nemec and cares for him. <br /><br />The key here is that the film was directed by that noted Hollywood purveyor of flop films, Allen Smithee. The film gets as much as four stars for the cast involved and it was out in time for a Thanksgiving carving.\n",
      "* * * * * * * * * \n",
      "4910\n",
      "I notice that most of the people who think this film speaks the truth were either not born before the moon landings (1969-1972), or not old enough to appreciate them. I think it is much easier to question an historic event if you did not live through it.<br /><br />I was a youngster at the time of Apollo, but I was old enough to understand what was going on. The entire world followed the moon landings. Our families gathered around the TV to watch the launch. Newspaper headlines screamed the latest goings-on each day, from launch to landing, from moonwalks to moon liftoff, all the way to splashdown, in a multitude of languages. In school, some classes were cancelled so we could watch the main events on TV. During Apollo 13 the world prayed and held its collective breath as the men limped home to an uncertain fate. You couldn't go anywhere without someone asking what the latest was. The world was truly one community. <br /><br />Now with a buffer of 30-odd years after the fact, it is easy to claim fraud because worldwide enthusiasm and interest has died down. We are left with our history books, and anybody can claim that history is wrong and attempt to \\prove\\\" it with a bunch of lies and made-up facts while completely ignoring the preponderance of evidence showing otherwise--not to mention the proof that dwells in the souls and memories of those who lived through these wonderfully heady and fantastic days.\"\n",
      "* * * * * * * * * \n",
      "4947\n",
      "Carlito Way, the original is a brilliant story about an ex-drug dealer who hopes to leave his criminal past and so he invests in a club and the deals with the trouble that comes with it.<br /><br />This film was....<br /><br />I saw the trailer and knew instantly it was going to be bad..But after dismissing films in the past and finding out they were great( Lucky Number Slevin, Tokyo Drift)...I gave this a shot and it failed within the first five minutes...<br /><br />The script is something a teenager would come up with if given five minutes to prepare...It was weak, with weaker dialogue. It seems there is an instant need for romance in a gangster movie. So Brigante decides to beat a guy up for the girl....and she say's 'Yes!' And if you need to act bad just throw racism around...As we learn from the 'Italian mobsters'...<br /><br />The acting was terrible to say the least...I found 'Hollywood Nicky', hilarious.<br /><br />I absolutely hate all these musicians turning to movies. Lets face it the only reason P Diddy did this movie was so he could play a gangsters...The actress who plays Leticia was weak but beautiful. The sex scene was weak but we got to see her..which was okay...<br /><br />But overall I expected it shed light on how Carito ended up in prison and the love of his life...And the assassin towards the end completely added to the horrendous movie that is...<br /><br />Carlito's Way: Rise to Power..\n",
      "* * * * * * * * * \n",
      "4957\n",
      "My wife and I both agree that this is one of the worst movies ever made. Certainly in the top ten of those I've watched all the way through. At least \\Plan 9\\\" was enjoyable.<br /><br />I DID really enjoy \\\"Christine\\\", \\\"The Dead Zone\\\", \\\"Firestarter\\\", \\\"Carrie\\\", and some of his other films. I didn't care much for \\\"Cujo\\\" (only because the sound was so bad on versions I've seen and I often couldn't tell what people were saying), or \\\"Pet Sematary (Pet Cemetery)\\\".<br /><br />But this mess was a total mistake in every way possible. The \\\"creatures\\\" themselves seemed designed by a 9-year-old. (No offense to 9-year-olds.)<br /><br />Even the \\\"one-liners\\\" made us groan and weren't remotely amusing.\"\n",
      "* * * * * * * * * \n",
      "4987\n",
      "I think it's a great movie!! It's fun, maybe a little unrealistic, but fun and dramatic!! I would like to see it again, if they were showing it in TV!! Just 1 question: Are we still talking about the same movie???\n",
      "* * * * * * * * * \n",
      "5175\n",
      "The idea of making a miniseries about the Berlin airlift seemed to me as one of the more interesting German (post)war movies. It is a theme that has not been explored much as yet. However, the makers of this series stuffed it with clichés. It starts already with the DVD cover of the movie, which is a direct copy of the cover of 'Pearl Harbor'.<br /><br />Luise Kielberg (Bettina Zimmermann) gets to hear that her husband, who is a doctor, (Ulrich Noethen) has died in Russia and after the war she's struggling to survive. She finds a job at the American base, gets to work for the coolest and highest ranking officer (Heino Ferch) in town, falls in love with 'm, gets pregnant, and all of a sudden her husband turns up again. Come on!!! We've seen this once too often. Heino Ferch and Ulrich Noethen play their role quite well; Bettina Zimmermann however never really seems to convince. For some reason it always seems she's somewhat too late in giving the right emotional reaction to the scenes. It just didn't work for me.<br /><br />The action scenes with the planes and the air lift, we're sometimes exciting, more often not. Nasty things always seemed to happen to the same pilot.<br /><br />Unless you're a big fan of WWII movies, I suggest you spend your money on something else: chocolate ice-cream brings a lot more satisfaction!<br /><br />4 out 10!\n",
      "* * * * * * * * * \n",
      "5229\n",
      "This video guide was the masterpiece of the year 1995. Beautifully done! Matthew Perry and Jennifer Aniston have major on-screen chemistry when they talk about what the Start button does. I'm waiting for Microsoft to release a Special Edition DVD complete with deleted scenes, Bill Gates commentary, a documentary of how Windows 95 compares to Windows XP, and more!<br /><br />Overall: 10/10 (Should have won at least a Golden Globe)\n",
      "* * * * * * * * * \n",
      "5377\n",
      "It really is that bad of a movie. My buddy rented it because he, well, is an idiot. But then again, I must be an idiot too because I watched the whole damn thing! The actors were on par with high school drama geeks who think that are going places. The only place they will be going is back to waiting tables at Luby's. All I could think of while I was watching this \\gem\\\" was how it actually got made. I mean, some \\\"screenwriter\\\" actually thought that this premise was fresh, original and lucrative. Then some moron with money believed in the script so much that he decided to fork some cash over with the naive misconception that he was going to make a return on it. Actors were cast, locations were scouted, make-up artists were hired, computer animators fresh out of Al Collins graphic Design School were brought in and this turd started to take form.<br /><br />There obviously were a ton of things that I hated about this move but the one thing the drove me the craziest was the overuse of music. Every single minute of this flick was scored. There was not a single break in music. And at times it was mixed higher than the dialogue, not that it made you miss some vital plot point or anything.<br /><br />After it was over, we decided to watch Mystic River. It was like driving a 1980 VW Diesel Rabbit then switching to a BMW 740il. You couldn't get two more opposite movies in terms of quality.\"\n",
      "* * * * * * * * * \n",
      "5416\n",
      "The one sheets and newspaper campaign suggested (as often they did) a far more lurid and violent piece than showed up on the drive-in screens. Claude Brook is actually an Americanization of Claudio Brook, who worked in films for years. This one's quite hard to find anymore; I'd love to see it again to compare it to other international horrors of the day, but don't remember particularly impressed way back when. Chances are it was a chopped up version that made it to U.S. theatres and video. But oh, that one sheet...still a gem of my later horror collection.\n",
      "* * * * * * * * * \n",
      "5530\n",
      "I've been using IMDb for a few years now, but have never written any reviews before. However, this movie so disappointed me (even with a modest score of 6.4 at the time of writing) that I couldn't keep quiet anymore.<br /><br />Noise is the story of a New Yorker (Tim Robbins)who is so perturbed by noise pollution that he takes on an alter-ego as a as a vigilante, \\The Rectifier\\\", and vandalizes any cars he finds with a car-alarm sounding.<br /><br />I take the name of the movie to be somewhat of a misnomer. Although there are one or two instances of other sources of noise being addressed or mentioned, the only true focus of our protagonist is car alarms. Car alarms, car alarms, car alarms. There is really no other focus. When the movie tries to tie other examples of noise pollution to the problem of car alarms, it seems to be just thrown in to give merit to the actions of Robbins' character. <br /><br />Yes, we're all annoyed by noise. Nobody likes the sound of car alarms. Of course we all have that internal urge to take a baseball bat to a shrieking vehicle, and this movie uses that fact, and pretty much that fact alone, to sell this movie. I say 'pretty much' because there is also a blatantly contrived sexual relationship (including a completely needless threesome) which is obviously thrown in for those movie-goers who need such things thrown in in order to enjoy a movie. Honestly, it's eye-rolling.<br /><br />Robbin's character, very shortly into the movie, becomes completely unrelatable. It seems less that he decides not to put up with the noise anymore, and more that by focusing so much on the noise he has begun to lose his sanity. The first half of the movie is essentially the story of how he turns from just an angry, car-bashing dude into this hero of the little guy, The Rectifier. However... the transformation doesn't take place. He just renames himself.<br /><br />I could go on for a while. Annoying generalized social commentary comes in every now and then to add to the pretentiousness of the movie, and the self-satisfied smirk which never quite leaves Robbins face doesn't help either. <br /><br />Overall, I think it's very obvious what this movie is trying to be, as it's pretty much shoved down your throat, but in my opinion, it fails in a big way. Just one guy's opinion, cheers.\"\n",
      "* * * * * * * * * \n",
      "5535\n",
      "OK,but does that make this a good movie?well,not really,in my opinion.there isn't a whole lot to recommend it.i found it very slow,tediously,in fact.it's also predictable pretty much through and through.number one and two were somewhat predictable,but not as much.i also felt this movie was quite campy at times,which i didn't really think fits this series and the character.Jeff Fahey plays the main bad guy in this installment.he's a decent enough actor,but i felt he played his character too over the top.i guess that fit with the tone of the movie,which would have been great if i had liked the movie.plus,there were some pretty bad one liners.Arnold Vosloo returns in the title role,but is given little to work with in this movie.the character has not really evolved,as i had hoped.oh well.this is just my opinion.anyway,for me,while this movie is not abysmal,it is pretty bad.my vote for Darkman III: 3.5/5\n",
      "* * * * * * * * * \n",
      "5580\n",
      "I watched about 30 minutes into this film before I finally got sick of getting bludgeoned over the head with this movie. The soundtrack, the so-called 'plot', and each and every actor. It's like they all think they're the main part of the movie and scream \\NOTICE ME!\\\" over and over again. The bad guy has his bad-guy music going on and says sinister bad-guy-like things, just in case you didn't quite catch on. The good guy does brave and noble things just in case you didn't know he was the good guy. And oh lord, the plane scene. \\\"MY HUSBAND IS MISSING! OH MY GOD! IT'S IMPOSSIBLE THAT HE GOT UP TO STRETCH HIS LEGS OR GO TO THE TOILET OR ANYTHING, HE MUST BE MISSING!\\\" (And yes, I know, his clothes were still there, but honestly, she woke up and started to panic before she even had time to look at the damn seat he'd been in.)<br /><br />As a religious girl, I want to apologize to the world for wasting the film this was printed on.<br /><br />And I want my 30 minutes back.\"\n",
      "* * * * * * * * * \n",
      "5588\n",
      "I rated this a 3. The dubbing was as bad as I have seen. The plot - yuck. I'm not sure which ruined the movie more. Jet Li is definitely a great martial artist, but I'll stick to Jackie Chan movies until somebody tells me Jet's English is up to par.\n",
      "* * * * * * * * * \n",
      "5614\n",
      "Wow, could have been such a good movie,Starts of with Brittany Daniels tied up, Im thinking cool we are going to get a flash back, but nothing, movie starts anew with the kid filming. This movie probably would have been better if it wasn't for the acting. I mean the acting was mostly horrible.. Although with the lines the poor actors had to deal with i guess they did the best they could..Still it really ruin the movie for me.. The twins were the only ones that seem to have some acting skills.. The movie drags to long for the supposed shocking conclusion.. All in all I have seen worse low budget movies but considering this was hype with the 8 films to die for I was very disappointed.. By the way, were did some reviewers say there was gore and stuff. Did I see the same movie.. Well this is 4 out of the eight, and so far only one has been any good..\n",
      "* * * * * * * * * \n",
      "5670\n",
      "1st watched 8/26/2001 - 3 out of 10(Dir-Tobe Hooper): Scary, yet sadistic(which makes sense) portrayal of a relative of the Marquis De Sade carrying out the same sadistic acts and enjoying it that supposedly his predecessor did. This Tobe Hooper film really doesn't do a whole lot different than his similar in style Freddy Krueger movies with the same star (Freddy himself - Robert Englund) playing a dual role(the Marquis De Sade and his relative). It is also seems like it wants to really poke at Christianity but then loses that in the end much to my chagrin but leaving an inconsistent feel to the movie. Could have been much worse if excesses were taken in sex and violence, but they try to keep this at a minimal despite some disgusting scenes. My final thought is why would Hooper want to make this movie. It obviously took awhile to actually get distributed, then it has to be advertised gruesomely and with Hooper's name in the title to hopefully make some money on his name and his gore. It's obvious this didn't work.\n",
      "* * * * * * * * * \n",
      "5715\n",
      "Watching the first 30 minutes of Sands of Oblivion gave me high hopes. It seemed I was in for a cheaper version of the Mummy. The setup was promising, in the 1920's Cecil B. Demille makes his opus of the Ten Commandments. It seems in using real Egyptian artifacts for the movie set they unleashed an ancient and terrible evil (don't they always?). Aware of what had been unleashed DeMille orders the entire set buried instead of the usual practice of tearing it down. Hopefully the evil will be buried with it for all time. Then we switch to present day where a team is attempting to excavate the site (the movie's first mistake, but hey those period costumes are expensive and this is a Sci-Fi channel movie). The first sightings we get of the Anubis monster are well done and it's a costume that they put some effort into and not the usual cheesy CG effect. Then the body counts starts. This is were the movie went south for me. The reactions to the fact that people are dying in gruesome and strange ways gets a strangely subdued reaction. Once they realize that the ancient evil has again been unleashed and is on a killing spree what do the stock issue leading man and lady do? They make the usual stop to the \\guy who knows the truth but never told anyone\\\". After getting that vital information do they share it with the comrades at the dig site? No, they stop off at a hotel for a refreshing shower and some pleasant small talk. Really I'm not the most motivated person but if I knew a demon from ancient Egypt was on the loose and killing everyone in sight and would be coming after me I'd put a little hustle in my step to solve the problem. After this overlong and pointless middle section they get around to destroying the Anubis monster in the usual way, by racing around in dune buggies and shooting it with a rocket launcher while it's standing by a pile of phosphorous grenades. For a Sci-Fi movie it was above the usual crap they put out, which isn't saying much at all. What disappoints me is this could have been a lot more if someone had wrote a decent script for it.\"\n",
      "* * * * * * * * * \n",
      "5718\n",
      "A real disappointment from the great visual master Ridley Scott. G.I. Jane tells the story of a first female ever to go through the hellish training at the Navy SEALs. The training is the most difficult and hard in existence as the instructor says in the film to the lead character O'Neil played by Demi Moore. There is no particular message or point in this film or then I couldn't reach it properly. It may be a some kind of a statement of female rights and abilities but it all sinks under the tired scenes and stupid gun fight at the end of the film.<br /><br />I really can't understand why Ridley uses so much zooms in that mentioned last gun battle at the desert?! It looks sooooo stupid and irritating and almost amateurish so I would really like to know what the director saw in that technique. When I look at his latest film, Black Hawk Dawn, there is absolutely nothing wrong in the battle scenes (which are plenty) and they are very intense and directed with skill. The whole finale in G.I. Jane looks ugly and is nothing more but stupid and brainless shooting and killing.<br /><br />This is Ridley Scott's worst movie in my opinion and there are no significant touches from which this great director is known. Still I'm glad I saw this in Widescreen format because there are still couple of great scenes and samples of Scott's abilities, but they are very few in this film.<br /><br />A disappointment and nothing compared to the classics (Blade Runner, Thelma & Louise, Alien and so on..) of this talented director. So I'm forced to give G.I. Jane 4/10.\n",
      "* * * * * * * * * \n",
      "5843\n",
      "This could be looked at in many different ways. This movie sucks, its good or its just plain weird. The third one probably explains this movie best. It has strange themes and just has a strange plot. So who else but Christopher Walken would play in this no matter how bad, average or even how good it might be.<br /><br />The acting was what you would expect especially out of Ben Stiller. Jack Black I have always liked so you know what you will get out of him but this is not bad. Christopher Walken is always off the wall. He is always enjoyable to watch no matter how bad the movie is. Comedy wise it is somewhat funny. This of course meaning that it does have its moments (though very few) but can get a little over top here and there which makes me feel like the movie is just desperate for laughs but of course not in a good way.<br /><br />The directing was average as well. Barry Levinson is a slightly overrated director and really did not do a good job here. This movie seemed that it had a lot more potential and he did not do much to reach it. Just very average and did not seem like a lot of effort was put into making this film.<br /><br />The writing is the key to a good comedy. Obviously that means the writing here failed. At best it is below average. Considering it does have its moments it was not too horrible. That is never a good thing to say about a movie though. <br /><br />If not for Christopher Walken and it stupid ridiculous ending I would have given it a lower rating. He is always quite a character in his movies. Stil this is just a whacked out strange movie with strange characters that really don't go anywhere. Not completely horrible but I would not really recommend it though because it is a very forgettable movie.\n",
      "* * * * * * * * * \n"
     ]
    },
    {
     "name": "stdout",
     "output_type": "stream",
     "text": [
      "6070\n",
      "someone needed to make a car payment... this is truly awful... makes jean Claude's cyborg look like gone with the wind... this is an hour I wish I could sue to get back... luckily it produced severe somnolence... from which I fell asleep. how can actors of this caliber create this dog? I would rather spend the time watching algae grow on the side of a fish tank than partake of this wholly awful concoction of several genre. I now use the DVD as a coaster on my coffee table. $5.99 at walmart is far too much to spend on this movie... if you really have to have it, wait till they throw them out after they have carried them on the inventory for several years and are frustrated that they would not sell.<br /><br />please for the love of god let this movie die of obscurity.\n",
      "* * * * * * * * * \n",
      "6090\n",
      "First of all, let's get a few things straight here: a) I AM an anime fan- always has been as a matter of fact (I used to watch Speed Racer all the time in Preschool). b) I DO like several B-Movies because they're hilarious. c) I like the Godzilla movies- a lot.<br /><br />Moving on, when the movie first comes on, it seems like it's going to be your usual B-movie, down to the crappy FX, but all a sudden- BOOM! the anime comes on! This is when the movie goes WWWAAAAAYYYYY downhill.<br /><br />The animation is VERY bad & cheap, even worse than what I remember from SPEED RACER, for crissakes! In fact, it's so cheap, one of the few scenes from the movie I \\vividly\\\" remember is when a bunch of kids run out of a school... & it's the same kids over & over again! The FX are terrible, too; the dinosaurs look worse than Godzilla. In addition, the transition to live action to animation is unorganized, the dialogue & voices(especially the English dub that I viewed) was horrid & I was begging my dad to take the tape out of the DVD/ VHS player; The only thing that kept me surviving was cracking out jokes & comments like the robots & Joel/Mike on MST3K (you pick the season). Honestly, this is the only way to barely enjoy this movie & survive it at the same time.<br /><br />Heck, I'm planning to show this to another fellow otaku pal of mine on Halloween for a B-Movie night. Because it's stupid, pretty painful to watch & unintentionally hilarious at the same time, I'm giving this movie a 3/10, an improvement from the 0.5/10 I was originally going to give it.<br /><br />(According to my grading scale: 3/10 means Pretty much both boring & bad. As fun as counting to three unless you find a way to make fun of it, then it will become as fun as counting to 15.)\"\n",
      "* * * * * * * * * \n",
      "6247\n",
      "European Vacation (aka National Lampoon's European Vacation) is the weakest of the Vacation films (the first and third one the most superior of the films). While Chevy Chase and Beverly D'Angelo return as Clark and Ellen Griswold (with new actors in the roles of Russ and Audrey Griswold), this time they are given a weaker script with very bad dialogue. This causes the pacing to suffer, with the jokes not very funny at all. To be more specific, what really causes this film to suffer is the fact that the \\jokes\\\" as they are, are just pasted together into a cobbled-together script), rather than serving a central plot as the other 3 Vacation films have. Oh well, they can't win them all. 4 out of 10.\"\n",
      "* * * * * * * * * \n",
      "6312\n",
      "As far as Spaghetti Westerns go, I'd put This Man Can't Die on the dull side of the genre. It's not that the movie is particularly bad, but it lacks the brilliance and flash of some of the other SWs I've seen. Guy Madison does his best in the lead role, but lacks the on-screen charisma necessary to pull it off. With one notable exception, the rest of the cast isn't particularly good. The direction is uninspired and offers very few moments that I haven't seen before. There's just not much to get very excited about.<br /><br />The cast exception I mentioned is Rosalba Neri. She's the one bright spot in this otherwise mediocre film. Unfortunately, her screen time is limited to less than 15 minutes. (Note: The IMDb page for This Man Can't Die is wrong. Rosalba Neri does not play Jenny Benson. Instead, she is the character Melin. I'm not sure how anyone could mistake Rosalba Neri for some guy named John Bartha as listed in IMDb's credits for the movie.)\n",
      "* * * * * * * * * \n",
      "6393\n",
      "The 1963 version of \\The Haunting\\\" has been one of my favorite horror films for years, so I anticipated the release of this 1999 remake with a good deal of trepidation. It hardly seemed that any follow-up could exceed or even equal the original masterpiece. Unfortunately my worries were well-founded: This movie stinks.<br /><br />I don't know what the people involved in this film were thinking. Jan De Bont, who seemed to have had a fluke when he directed the excellent \\\"Speed,\\\" does as poorly here (or perhaps even worse) as he did with the much-hyped duds \\\"Twister\\\" and \\\"Speed 2: Cruise Control.\\\" Hey Jan, stick to cinematography, would ya? Liam Neeson is adequate in his role as the doctor-pretending-to-be-a-sleep-psychologist -- I don't think he is capable of turning in a truly bad performance -- but even he cannot save a lame script and weak story. Catherine Zeta Jones proves once again (as she did in \\\"Entrapment\\\") that she lacks the acting ability to rise above the material that is handed to her. The female lead, who did great in an episode of \\\"The X-Files,\\\" looks lost here as Eleanor, an insomniac hovering on the edge of sanity. And that blond guy, whoever he is, is more wooden than the laughably strange statuettes of children carved into the woodwork around the house. I don't think he changes expression once during the entire film.<br /><br />(SPOILERS AHEAD)<br /><br />The reason the first movie worked so well is because we were never sure whether the house was truly haunted or whether the manifestations were a result of Eleanor's precarious mental state. No spirits are actually seen in the original, leaving much up to the imagination--a hallmark of other great horror films like \\\"The Changeling\\\" and \\\"The Blair Witch Project.\\\" In this updated version, we of course get tons of CGI ghosts, which basically (in the face of the weak script/plot) make the movie totally unscary. The f/x aren't even that great, considering they were done by ILM. The frozen breath looks particularly fake. The effects in the underrated Peter Jackson film \\\"The Frighteners,\\\" which I saw just before this one, were a lot better. The wooden carvings of the children, which are supposed to look creepy, just look silly (especially when they scream), and the CGI monsters are nothing to write home about. Rather than providing a relief from the bad acting, bad direction, and bad writing, the effects only add to this mess of a film.<br /><br />Some particularly dumb scenes: When the three other characters break into Eleanor's bedroom, and none of them seem at all surprised to find a huge scowling demon hovering over the bed. The scene where Eleanor \\\"sees\\\" the former lady of the house hanging from the rafters... the acting here is particularly bad. And last, but not least, the unintentionally hilarious bit where Wooden Blond Guy utters an uninspired shout of what is supposed to be anguish, leaps up on a piece of furniture, and starts slashing away at the painting of the old, evil guy who built the house. We actually get some satisfaction in this scene, as seconds after his attack, Blond Guy is dragged over to the fireplace by the ghost of the old guy and promptly gets his head cut off by the flue. It was the only part of the movie I enjoyed.<br /><br />In sum, stick to the original 1963 \\\"The Haunting.\\\" 3/10 stars.\"\n",
      "* * * * * * * * * \n",
      "6483\n",
      "Cedric Kahn's films have been character-based, rather than action-based (I'm thinking of L'Ennui and Feux rouges) so it is jarring to see this series of really expert car chases interspersed with some plodding attempts to give character to Succo. I don't find Stefano Cassetti to be an interesting actor; he reminds me of pro athletes who are coaxed into movies, like Bret Favre. That blank stare looks like a really vicious deer caught in the headlights. A real actor would have forced us to reflect more on Succo's personality, rather than admiring his skill at carjacking.<br /><br />The little acting there is comes mainly from Isild le Besco as the needy schoolgirl Succo takes by storm. The interview at the police office is a marvel of bland obstinacy with a little fear of the future blended in. Le Besco apart, there is little to recommend this film.\n",
      "* * * * * * * * * \n",
      "6582\n",
      "I want to start by stating I am a republican, even though I don't agree with a lot of the things bush has done in office. And I love the daily show and Colbert report. They have to be two of my favorite shows on TV. I enjoy the bush jokes on Conan, Letterman, Leno, because I admit that W is not the smartest guy to ever walk the earth(I do believe he's not the dumbest either.) But it comes to a point when enough is enough and it's not really that funny anymore. I see where it can be funny and it is(hey he's making fun of our authority figure he's hilarious.). Comedy central though is just trying to hard to poke fun at him. I mean maybe one special episode, but an entire series is just dumb. It seems CC is just saying the same bush jokes that we've heard WAY to many times. I really cannot see this show going past 1 season.\n",
      "* * * * * * * * * \n",
      "6825\n",
      "Pieced (edited) together from dead body parts (deleted scenes) from corpses (Anchorman), the Frankenstein Monster (Wake Up, Ron Burgundy) is definitely not a sight for sore eyes (something you'd ever want to watch twice.....maybe even once for that matter.)<br /><br />More often than not -the relativity of the scenes in WURB are made relevant by a third person narrator. Even more troubling is that the characters in WURB are inconsistent with the versions of themselves that we had at the end of Anchorman (in opening narration we're told WURB takes place shortly after the original.) At the end of Anchorman, Burgundy had grown since the start of the film and embraced having a hybrid co-anchorwoman/lover. In this film, he's back to his immature antics with prank phone calls to Veronica (quite clearly these are the more of the same scenes from the original Anchorman spliced in to WURB.) <br /><br />The part that makes this a movie, a continually evolving story, involves a bank-robbing clan without a cause called the Alarm Clock. These scenes are almost painful to sit through. This part was scrapped from the original scripts for Anchorman.<br /><br />The majority of other scenes involving our Channel 4 news team are clearly alternate/deleted takes on scenes from Anchorman. They go to the same party as in the original, the same original \\group bitching about having a woman on the team\\\" scene, and the same cat fashion show segment that Veronica had objections to reporting.<br /><br />Burgundy re-creates their first date with the drive-in spot overlooking San Diego and dinner at his favorite club, Tinos. Neither character make mention that they've been to the drive-in spot before and when Burgundy walks into Tinos with Veronica, he introduces it to her as though they've never been before. Oh, and they're wearing the same clothes as on their original date.<br /><br />Still, I have to give some credit to the filmmakers - even if WURB is nothing more than a clever way of presenting deleted scenes tied together with narration. Between the two Ron Burgundy stories - this is the weaker one. Looking back on it, it's quite a feat for Anchorman to have risen from the ashes of WURB. You stay classy, IMDb. Thanks for stopping by.\"\n",
      "* * * * * * * * * \n",
      "6846\n",
      "In the future of 2001, Freddy is after the last surviving teenager of Elm Street. Forsaking ANY scares whatsoever for unfunny attempts at humor and needless celebrity cameos (come on..Roseanne??? Tom Arnold??!!?? WTF?), this is tied with part 2 is the worst the demon child rapist ever got. Wow was this a piece of crap. Not even the great legendary Alice Cooper could make the stench of this movie go away. And when they hell did Freddy ever have a daughter?? The whole film is severely retarded in ever single conceivable way, shape & form. Rachel Talalay, you stink to high heaven, babe.<br /><br />My Grade: D- <br /><br />DVD Extras: Cast and Crew Bios; Jump to the 3D sequence and Jump to a Nightmare options (more extras for the film can be found on the seventh disc of The Nightmare Collection DVD set) <br /><br />DVD-Rom content: Trivia game; Screenplay; and web link\n",
      "* * * * * * * * * \n",
      "7054\n",
      "I suppose it was for Temple Matthews who written basically a remake even though there are few changes which just make it worse. SPOILERS: It is much similar to the original. Melody, Ariel's new daughter is threatened by Ursula's sister, Morgana. Morgana escapes, but keeps her promise to take Melody away from them. Did Ursula have a sister?! And she is not that great a villain as Ursula was. This is where there is similarity. Medoly is kept from the sea until Morgana is captured, but she doesn't know a thing about it, because it all happened when she was a baby. A wall surrounds the palace to keep her in and morgana out. She goes under the wall day to day to have a swim and talk with Sebastian, who is not as funny or fun as in the original. She finds a seashell with her name on it and runs away from home and to look for answers and finds Morgana. Here is a similarity; Morgana tricks Melody, making her happy by turning here into a mermaid. Meanwhile, Eric, Melody and King Triton look for her. To stay a mermaid she needs to steal the trident from Triton. So Melody does, because she does not know King Triton is her father. She makes friends with a penguin and a walrus and here is where it is awful. The penguins who live with them in an icy ocean, hate them because they are cowards. So they try to prove they are heroes and fail. That does not suit the little mermaid. And the dialogue during those conversations between the penguins and those two characters is ear-bleeding. you know why? Because the first had a great story. This one is not and is not magical. It is just an example of how bad many sequels are.<br /><br />Melody finds them and they help to take her to Atlantica to prove themselves. When they take the trident, Ariel finds Melody with Morgana. Melody is angry at her mother for keeping her from the sea so she gives the trident to Morgana, then she shows her true colours once she grabs it. Poor Ariel and Melody are in her custody. The penguin and the walrus begin to prove themselves when they fight Morgana's shark friend. Sorry I did not mention him earlier. They finally prove themselves. Eric, King Triton and his soldiers arrive but are forced to bow down before Morgana by the power of the trident. Melody takes it, throws it to Triton and he ices Morgana (literally). Then Ariel apologises to Melody and thinks it is all her fault. It was not! Ariel did the right thing to protect Melody, but they never say so. Triton offers Melody to live in sea or land. She in fact has a \\better idea\\\". She uses the trident to vaporize the wall so humans and mer-folk can be together. Then everyone sings an awful song. THE END.<br /><br />Whoever has seen it and likes this obviously has not seen the original. I do not dislike this because I am a teenager. I liked it when I was very very little. Then as I grew older I began to see what is bad about this film. young, young kids will enjoy it, but it is likely that when they are in primary school, they will forget about it. Normally I would think I over-judged a film and it was better than I remember when I watched it again, but not this one. It is even worse. Story is no exception. If you thought, by reading this that the story is good, read more of this comment and you will know the other bad points: Well, you know the story now. I am sorry for spoiling it for you, but I had to point out some bad parts of it. One of the worst things is the animation. Colour is awful. The original had beautiful colour. Watching this almost made me want to go blind. Even the illustrations and landscape design were not good. The original had beautiful, magical colouring and beautiful underwater landscape design and for land as well, making it a joy to watch.<br /><br />The music is unbearable. Compared to the first, the music here is crap. Songs are not that well composed and Tara Strong (I think that is her name) who did Melody can not sing. She at times either sang too high or did not keep track for the melody in the song. So much for having \\\"Melody\\\" as a name.And the music is not at all beautiful or moving. Little Mermaid 1 won an Oscar for it and it truly deserved it. This one deserved a razzie award for worst musical score in a sequel if it would exist.<br /><br />I did not like the voices. Several people who played characters from the first, did the same ones in this. Jodi Benson is a great singer, but now that she is older, no offence to her, her voice is too deep and not so beautiful anymore. And I am really disappointed in her and others who were in the first for being a part of this. If I was chosen for this film, just by reading the script, I can tell it would be a bad film. The characters are different now. Ariel is more wiser now, but annoying. They overdid her character, making her too mature. In sequels you are not meant to change the characters unless it is for a special reason. She was sixteen in the first. There is little chance she changes. That is the stage when you become the person you are going to be for the rest of your life. Screenwriters should think of that. They should think of the character.<br /><br />Well, I suppose that is it for me. I hope you find my comment useful, because I am sure a lot of you will agree with my point of view.\"\n",
      "* * * * * * * * * \n",
      "7084\n",
      "Well, I have to say, this movie was so bad that I would have walked out if i didn't have to review it for work. ANd the worst part is, I wanted to see it so badly that I drove all over the city, paid $10 parking two times because the newspaper listings were wrong. Vince Vaughn plays the guy he always does -- the only time I've seen him play someone else was in that movie with John Travolta. Anyways, the plot has potential -- it sounded great in the preview, but it is filled with totally ridiculous, predictable, weak plot turn points. And I was hoping that this would be one Christmas movie where Christmas DIDN\\t have to be saved, and that Santa didn't need a replacdmetn, but nope. The only cool part was the sleigh rides, and the little bladck kid was the best character. I'm sure this movie would be great for young kids, but for adults it's so lame that it's chore to sit through.\"\n",
      "* * * * * * * * * \n",
      "7162\n",
      "After just watching FIVE ACROSS THE EYES, I gotta be honest...I just didn't like it. I had read so many good reviews on this movie, but I just did'nt get where these reviews have came from,<br /><br />I have got a lot of time for newcomers into film-making, and I'm sure the directors will do well for themselves, but the budget they had was the main problem, there was two cameras used in the entire film (which was OK) but they seemed like really cheap cameras. Another problem was the sound, you get all these girls screaming and shouting all at the same time, all talking on top of each other - it's just impossible to hear what they're saying.<br /><br />It had a good idea going for it, in a nutshell, they hit a parked car then drive off, a short while later they are getting chased by the car they hit, driven by a mad woman, who wants to kill them, and has plenty of chances to do so!...and on the other hand the girls have plenty of chances to escape, but don't! <br /><br />Very frustrating...I only just scraped through this one!\n",
      "* * * * * * * * * \n",
      "7299\n",
      "In my opinion, this movie's title should be changed from \\Only the Brave\\\" to \\\"All About Lane\\\". I went to a screening of this film a few months ago and was quite disappointed with the outcome. Although, I appreciate that the director made a movie about the men of 442nd - a subject matter that long deserved addressing in the film industry - the acting in some parts of film was quite stale. The performances of Marc Dacascos, Tamlyn Tomita, and Jason Scott Lee were all great. However, the director should have NEVER put himself as the main character in the movie. Sorry Lane, you are just not a film actor. Stick to what you're good at - theater acting. Gina Hiraizumi's performance in this film was also horrible. She should never have been given a speaking role and her looks were unfit to play the part of a Miss Nisei queen. There were other young actresses in the film who were naturally beautiful and whose performances were wonderful... Why weren't they cast for that role? Another major problem with this film were its action sequences. The Japanese-American soldiers don't look like they were fighting German soldiers... let alone anyone. Granted this was a low budget feature, but since this was a war-based film, isn't it important to show some actually fighting? This film was a worthy attempt, but definitely not worth a major distribution.\"\n",
      "* * * * * * * * * \n",
      "7423\n",
      "<br /><br />The main question I pose concerning this film is, how do you film a cole porter musical and only use 3 of his 15 songs! merman and lahr played the lead roles on broadway, here they are replaced by the weaker red skelton and lucille ball. plot changes abound and the fun is lost.<br /><br />SKIP IT.\n",
      "* * * * * * * * * \n",
      "7435\n",
      "For the love of god please don't see this movie! Its a waste of time, the plot is predictable, as are the romantic scenes. Trying to build too much with very little, this film and its evil predictable villain is just lame. The characters aren't developed, and most of the film is padded out with shots of Rome, which is much more interesting than the actual film. To top all of that, the acting is a disgrace. I know everyone tries to find their niche, but this is truly a disaster. I can't believe that someone actually paid however many millions of pounds to put this film on screen. Don't waste money or time on this film, go see your grandma or something worthwhile instead.\n",
      "* * * * * * * * * \n",
      "7447\n",
      "I was subjected to this atrocity by my wife, tried to turn it off after 10 minutes, but was forced through the whole thing. This must be, hands down, the most gruesome pretense of a movie ever...<br /><br />There were great script moments, such as:<br /><br />Sammy - \\If she gets over here right away, she gets a bonus\\\" Madam - \\\"A boner?\\\" Sammy - \\\"No, a bonus\\\"<br /><br />To summarize: Horrible script, terrible acting and incredibly illogical.\"\n",
      "* * * * * * * * * \n",
      "7473\n",
      "The only reason to see this movie is for a brilliant performance by Thom-Adcox Hernandez who is underused in the movie within the movie. As usual Tom Villard is good, too. Otherwise it's c**p. The possesor doesn't even exist how does he magically change the letters on the theatre marquee to spell out \\The Possessor\\\"? Lame.\"\n",
      "* * * * * * * * * \n",
      "7525\n",
      "they have sex with melons in Asia.<br /><br />okay. first, i doubted that, but after seeing the wayward cloud, i changed my mind and was finally convinced that they have sex with watermelons, with people dead or alive. no safe sex of course. the (terrifyingly ugly) leading man shoots it all into the lady's mouth after he did the dead lady. never heard of HIV? guess not.<br /><br />the rest of this movie is mainly boring, but also incredibly revolting. as a matter of fact, in parts it got so disgusting i couldn't take my virgin eyes off. sex with dead people! how gross is that? and what's the message behind it all? we need water, we need melons, we need to be dead to have sex? sorry, but this stinks!\n",
      "* * * * * * * * * \n",
      "7549\n",
      "1st watched 2/28/2006 - 4 out of 10(Dir-Sydney Pollack):-DVD version I watched titled \\3 Days of the Condor\\\"- So so CIA drama full of laid-back performances making for a very laid-back movie. The premise of the story revolves around 7 out of 8 members of a CIA research group being killed with Robert Redford's character, codename = Condor, being the one that was left. Who killed them and why? That's what Redford tries to find out while trying to not be the 8th victim at the same time. Along the way, he gets Faye Dunaway's character involved involved, originally because he needs a place to hide, and then she eventually helps him out after a little lovey-dovey time. This is one of a handful of innocent guy on the run stories but this one doesn't have a lot of suspense. The flat performances don't help and the finish doesn't seal the deal for the audience enough either. Despite having a good director in Sydney Pollack and a group of classic performers, the story and the performances are not what they should be and therefore the movie is not what it should be.\"\n",
      "* * * * * * * * * \n",
      "7815\n",
      "Guy de Maupassant was a novelist who wrote a novel about a man, a poor man, without any moral qualities. He only wanted to success in a society where all the people, the politic men, the businessmen, the journalists, the women are corrupt. The only king is MONEY. The Maupassant hero, Charles Forestier is going higher and higher in the society scale thanks to his seduction poser. He is in love with all the women who could help him in his action to climb the society stapes. At the end of the novel, he married himself with the biggest daily paper owner's daughter, in the greatest church of Paris : \\La Madeleine\\\". \\\"Le Tout Paris\\\" is there. He has a fortune and more, he will become a member of Parliament and later a Minister. The \\\"useless\\\" women are out of his view, but he is always keeping in touch with the pretty and the usefull women. The picture \\\"THE PRIVATE AFFAIRS OF BEL AMI\\\" is a story of MORALITY. It is everything, but not a story in the Maupassant idea. Why had they put \\\"BEL AMI\\\" in its title ?\"\n",
      "* * * * * * * * * \n",
      "7911\n",
      "Woody Allen, when at his best, has one of the sharpest pens around. He can make an acute observation and wrap it around a punch line like nobody else. However, when he's at his worst his movies can stench of pretentiousness. Unfortunately, \\Melinda and Melinda\\\" has this stench from opening to closing. The set up is one of his more intriguing ideas in a while. Four friends sit in a restaurant discussing whether the essence of life is comedy or drama. To help settle the argument, one man relates the beginning of a story and asks the two other men arguing (one a comic playwright, the other a dramatic playwright) whether the story is a comedy or a tragedy. The two men then continue the story and the movie plays out the stories that they weave. Now, when I first heard about this film, my understanding was that they tell the exact same story, the genre (comedy or drama) only changes by how you look at it. Now that would have been interesting. However, the stories only share one main element and a few side elements. They are entirely different stories with major plot differences. The drama is so stiffly scripted and pretentious that it can only really work as self-parody. If this was the point, then it failed because these elements prevent the audience from feeling any emotional investment in any of the characters. The comedy is the story that has moments of success, but they are still short and fleeting. Will Farrell is obviously meant to be the stand-in for Woody, but he could have played this character so much more believably without adding Woody's stutters and hand-ticks. Woody is the best at being Woody. When someone else tries, they're not playing a character, they are modeling a recognizable actor. This type of thing only pulls the audience out of the story.<br /><br />My favorite Woody Allen movies make me leave the theater a little bit lighter in spirit than I walked in. This one made me wish I could get my money back.\"\n",
      "* * * * * * * * * \n",
      "7973\n",
      "This was a movie that I hoped I could suggest to my American friends. But after 4 attempts to watch the movie to finish, I knew I couldn't even watch the damn thing to close. You are almost convinced the actual war didn't even last that long. Other's will try to question my patriotism for criticizing a movie like this. But flat out, you can't go from watching Saving Private Ryan to LOC. Forget about the movie budget difference or the audience - those don't preclude a director from making an intelligent movie. The length of the movie is not so bad and the fact that it is repetitive - they keep attacking the same hill but give it different names. I thought the LOC was a terrible terrain - this hill looked like my backyard. The character development sequences (the soilders' flashbacks, looking back to their last moments, before being deployed) should have been throughout the movie and not just clumped into one long memory. To this day, I have yet to watch the ending. But there was a much better movie (not saying much) called Border.\n",
      "* * * * * * * * * \n",
      "8334\n",
      "I love low budget independent films and had high hopes for this one. But this film is static. Never mind the production value, which is very noble for its budget, but the pacing is deadly. Admittedly these folks achieve much with little, but the film fails on the most fundamental level. It's boring. The editing is glacial and the pacing stalls. It should have been 65 minutes. The best thing about the Dr. Jekyll is Mr. Hyde who isn't seen nearly enough. He had the most dramatic potential. Instead we have to suffer through dithering Baltimorean-Brits stammer through endless and tiresome exposition. It feels like a backwater stage play committed to video.<br /><br />Noble efforts by everyone in the production, but a story this tired needed a kick in the pants and funky new low budget technology should have given it a fresh voice. Instead it's just a lame retread.\n",
      "* * * * * * * * * \n",
      "8446\n",
      "SPOILER ALERT ! ! ! Personally I don't understand why Pete did not help to save Williams life,I mean that would be great to know why William was motivated,or forced.I think Secret Service members are every day people,and there is a rumor the writer was a member of the Secret Service,now he's motivations are clear,well known.But as a rental this film will not satisfy you,cause the old but used twists,the average acting -these are just things in this film,only for keep you wait the end.Clark Johnson as the director of S.W.A.T. did a far better work like this time,and I still wondering how the producers (for example Michael Douglas)left this film to theaters.\n",
      "* * * * * * * * * \n",
      "8655\n",
      "Mary Pickford becomes the chieftain of a Scottish clan after the death of her father, and then has a romance. As fellow commenter Snow Leopard said, the film is rather episodic to begin. Some of it is amusing, such as Pickford whipping her clansmen to church, while some of it is just there. All in all, the story is weak, especially the recycled, contrived romance plot-line and its climax. The transfer is so dark it's difficult to appreciate the scenery, but even accounting for that, this doesn't appear to be director Maurice Tourneur's best work. Pickford and Tourneur collaborated once more in the somewhat more accessible 'The Poor Little Rich Girl,' typecasting Pickford as a child character.\n",
      "* * * * * * * * * \n",
      "8658\n",
      "This movie is told through the eyes of a young teacher at a catholic school, watching as the RAWANDAN genocide un-furls around him.<br /><br />The movie starts off with a brief explanation about the past history and rivalry of Rawanda. Then it jumps to the story as told through the eyes of a young idealistic \\NEW-COMER\\\" a young teacher who doesn't take life or the situation too seriously. As he and the driver approach a road-block he plays around with his drivers I.D. not realizing that this is a serious moment and that if the driver can't identify himself as being of the right tribe to the soldiers they'll be killed. And thats how he treats the unfolding story of chaos and unfolding around him. Suddenly realizes that every Rawandan (including his driver) is involved and that the Europeans soldiers and tourists cannot and will not help. The media cameras cannot stop machete's, and there's too many machete wielding militia-men too shoot. the title comes from the armies captain saying he's going to shoot the dogs eating the dead-bodies around his compound, but won't shoot the Militia-men that are killing people around the compound. Mainly because they haven't fired at the soldiers yet. Finally he realizes the hopelessness of the situation and the guy who tells the evacuation team that he wants to give up his seat for one of the intended victims, flees with his tail in-between his legs, rather than face immanent death with the school kids he's promised not to leave behind.<br /><br />It's more of character study, and a come to Jesus moment for one character, than a story about the genocide in \\\"RAWANDA\\\". This movie didn't have to take place in RAWANDA, it could have taken place any one of the Genocidal hell holes going around this world at any given time.\"\n",
      "* * * * * * * * * \n",
      "8668\n",
      "Warning! Spoilers!<br /><br />This is your typical disney film.<br /><br />1.Policticly correct what with the foster home that has an even divison of races.<br /><br />2.Insults the viewers intellect with its simplistic lines.<br /><br />3.The boy's slezy father is almost directly taken from the Never Ending Story 2.<br /><br />4.In a world full of crime,disase,corruption,starvation and other proplems that need to be taken care of,only a losing team is worthy of divine intervention.UGHHHH!!!<br /><br />5.Did you know that angels don't like swearing?! Where the heck did that come from!<br /><br />6.In helping the team,the angel cause pain and humilation on the opposing team.Very angelic indeed!<br /><br />7.The team the angels are helping are called...can you guess...THE ANGELS! Disney at its worst!<br /><br />8.\\Just got his training wings.\\\" Brillent line!<br /><br />My conculsion:I did not like it at all.\"\n",
      "* * * * * * * * * \n",
      "8720\n",
      "How, in the name of all that's holy, did this film ever get distribution? It looks as if it has been shot on someone's mobile phone and takes the screaming girl victim scenario to whole new depths. They literally scream for the full 90 minutes of the movie. And that's all they do. There is no plot, no tension, no characters, and not a lot of acting. Just screaming and more screaming.<br /><br />I gave up after fifteen minutes and fast-wound through it to see if anything happened. It doesn't - except for screaming, of course. Odlly enough, the act of going through it on fast forward highlights another problem - there is no camera-work to speak of. Every shot looks like every other shot - middle distance, one angle, dull, dull, DULL.<br /><br />It's not so bad it's good. It's just plain bad.\n",
      "* * * * * * * * * \n",
      "8778\n",
      "OK maybe a 13 year old like me was a little to old for this movie. Its about this pampered rat, who lives in a palace. Then a sewer rat flushes him down a toilet! He ends up in this rat city and meets this girl rat who has a gem a greedy frog wants. He will do anything for this gem he sends a whole army after these two rats.He plans to take the gem and to flood rat city! THe cool part about this movie is the slugs. They do all the sound effects. They sing, make noises, its awesome, its also pretty funny. OK bottom line, it is aimed at 7 year olds. Other wise, a great movie to take a younger family member to see. I didn't think the animation was real dreamworks art though, more like WAllace and Gromit. i thinkthey slacked a little on that. The movie was just decent, not worth spending $9.50 for though, sorry.\n",
      "* * * * * * * * * \n",
      "8833\n",
      "Much has been written about Purple Rain, the apparent \\quin-essential\\\" musician bio movie, however I'm here to tell you that the movie does not deserve it's high praise.<br /><br />First of all let's get one thing straight Prince is a great musician and Music is the one area where Purple Rain excels. Even the score is mesmerising, and if this was shot purely as a concert film it would be a great experience unfortunately it's not and as such the movie has some problems.<br /><br />First of all is the horrendous acting/writing, Prince's character \\\"The Kid\\\" is supposed to come off as some type of mysterious loner of few words unfortunately this just comes off as corny and incensere. A good loner character should at least have some talkative moments, unfortunately Prince's character rarely has over a few words of dialog in the film and it's hard to believe that he'd get the girl this way. Everything just seems a little off here, which is a shame because you can tell this is a character that's terribly conflicted and lives a very complicated live, but we aren't ever allowed to get inside of it.<br /><br />A surprising aspect of this film is just how much of this takes place in concert. Prince and Morris's lives seemingly take a back seat to the performances here, which I guess makes sense from a business perspective, but it's exhausting to have a 2 hour movie where seemingly half of it takes place on stage, especially when the character's back stories get pushed aside for it.<br /><br />So to sum it up: This isn't a very good movie.\"\n",
      "* * * * * * * * * \n",
      "8838\n",
      "An archaeologist (Casper Van Dien) stumbles accidentally upon an ancient, 40 foot mummy, well preserved underground in the Nevada desert. They are determined to keep this a secret and call in a Jewish translator to assist in figuring out the history of it. The mummy, as explained at the beginning, is the son of a fallen angel and is one of several giants that apparently existed in \\those days\\\". In order to save his son from a devastating flood which was predicted to kill everything, he mummifies his son, burying him with several servants for centuries - planning to awaken him years from then. In our present, the fallen angels still walk the earth and the mummy is resurrected and a ritual is expected to take place. Most of the movie is slow, having to do with a lot of biblical crap and a couple lousy, air-punching fights. The mummy is decent looking but isn't shown nearly enough. It should have had more to do with that but it dragged on a great deal so... eh. Don't bother.\"\n",
      "* * * * * * * * * \n",
      "8953\n",
      "Was this the greatest movie that I have ever seen? No. Was it the worst? No.<br /><br />As a mother of four kids, it is nice to watch something that was light and amusing. It was great, but it was cute.<br /><br />I think that it definitely had some room to improve, but it tried.<br /><br />I am not sure if this movie deserves the extreme level of abuse from the other reviewer. They obviously do not care for Eva Longoria. I think that she was better in this than in The Sentinel. I think that movies are a matter of opinion. The actors play a huge role in whether it is a hit or a flop.<br /><br />Maybe the cast did not work out. Maybe there were too many things going on.<br /><br />I just wanted to speak up for an average movie, not a terrible one. It could just be a chick flick. Kind of like the movie The Split-Up or French Kiss. My husband still talks about those. :)\n",
      "* * * * * * * * * \n"
     ]
    },
    {
     "name": "stdout",
     "output_type": "stream",
     "text": [
      "8985\n",
      "I can't figure Al Pacino out. I watch him in the Godfather, Scarface, Carlito's Way, and I think I am watching one of the greatest actors of the last thirty years. Then I see him in Two for the Money, Any Given Sunday and Revolution, and I wonder what the guy is thinking.<br /><br />I stumbled on Revolution a few nights ago, and thought I would invest the next two hours on this. Here is a news flash: Want to get prisoners to talk? Force them to watch this over and over...they'll confess to anything.<br /><br />I won't rehash the plot since there is no coherent plot, but it does take place during the American Revolution and Pacino plays an uneducated peasant who does not want to get involved, but ultimately does. While he has no money, no education and dresses like a caveman, a very hot Natasha Kinski falls in love with him for no apparent reason, since they have only two minutes of dialogue together.<br /><br />Quite frankly, if \\Al Smith\\\" starred in this movie, instead of \\\"Al Pacino\\\", it would have ruined their career. The script was horrible, but Pacino's demotivated performance and obvious fake accent made it even worse. Donald Sutherland's role was laughable. I really can't describe it. Natasha Kinski is a main character, but has like 5 lines in the movie. In fact, nobody speaks much in this movie.<br /><br />One of the most laughable premise in the movie is how Al Pacino and Kinski have this uncanny knack to continually run into each other on the battlefield. Its like the entire Northeast is a Starbucks. \\\"Hey, funny to see you here again, on ANOTHER battlefield 100 miles away...see you in a few months\\\".<br /><br />I am required to give this one star by IMDb, since there is nothing here for a negative score.\"\n",
      "* * * * * * * * * \n",
      "9101\n",
      "0*'s Christian Slater, Tara Reid, Stephen Dorff, Frank C. Turner, Mathew Walker, Will Sanderson. Directed by Uwe Boll.<br /><br />Based on the video game director Uwe Boll attempts to recreate the game into an action-packed nail biter sadly he doesn't succeed. Instead he makes one of the worst movies ever MADE! Even though he gets minor celebrity such as Christian Slater, Tara Reid and Stephen Dorff his movie lacks the necessary fundamentals that a movie needs to be good such as a story line, and some basic relativity of what's going on in the dark and the light. The movie bounces all around and Uwe Boll has no creative control. And not to mention the bad CGI used on making the monsters. Even though they did look cool and the feedings were well, a little lame. Honestly this is one of the worst movies ever made. My final rating 0/10.\n",
      "* * * * * * * * * \n",
      "9132\n",
      "I just have to add, in case anyone actually reads this and hasn't completely gotten the point yet. These other reviewers aren't joking around, this really IS the worst colour movie you're likely to ever see. When the movie started I couldn't believe something like this actually made it out for the world to see.<br /><br />They're not just saying it when they said it looks like a home movie. It really does. Like the \\director\\\" took the family hi8 camcorder (before DV cameras and computer non-linear editing), no other equipment (lights, sound gear, etc), grabbed some decent-looking acting students, and went out to shoot a movie. No script, just making it up as he went along.<br /><br />When I watched it, it was on my mono TV, so I only have one channel of audio (left of right speaker). At first I thought I'd hooked it up wrong. The movie was silent until someone spoke a couple of minutes in. I got up and switched over to the other channel and suddenly I could hear music and sound effects but then couldn't hear the dialog. They recorded the sound on different bloody channels! I mean, there's movies that can be funny to watch, so bad they're good, kind of thing. I'm not sure this is one of those. I mean, I'll admit to being a bit of a budding film maker. And seeing bad movies just makes you want to go out there and PROVE you can do it better, you know. But watching this just made me feel sorry for whoever made it.<br /><br />As bad as they were, the actors are the only good thing about this. I thought the chick was hot and was disappointed in the brevity of her bath scene. A bit of T and A from her would have raised the score from nothing to maybe a 3 or 4. But alas, no. If you want to make a movie but it's turning out crap, throw in some gratuitous nudity. Worked for Roger Corman.\"\n",
      "* * * * * * * * * \n",
      "9136\n",
      "Here's why the Jane Show won't work. Once again Canadian bonehead producers and writers can't create a sitcom without putting some kind of different spin on it. I guess these people don't watch a lot of T.V. from the U.S. which has the sitcom model down pat. No, here we have to do something different, we have to make the A story absolutely absurd and then have a meaningful B story to try to make up for it. The characters are two dimensional and the story lines are way over the top: Forklift races??? give me freaking break. Here's a little advice for the writers of the show, Don't write funny situations, find the funny in situations. And remember, you have to be born with a sense of humor to write truly funny stuff, not just be an improv monkey.\n",
      "* * * * * * * * * \n",
      "9142\n",
      "I watched this immediately after seeing HILLSIDE CANNIBALS so anything would have been an improvement . On top of that it stops me from comparing ZOMBI 3 to 28 DAYS LATER and its sequel . Unfortunately the more I watched it the more I realised how well made Danny Boyle's original was and how much this movie influenced 28 WEEKS LATER <br /><br />One can't help noticing how much the 28 franchise has dated this type of Italian horror movie . I was totally convinced ZOMBI 3 must have been made in 1980 or 1981 at the very latest - In which case I would have called my summary 28 YEARS LATER ( Geddit ? ) - but wasn't until I came to this page to find it was released in 1988 . All the production values scream that it's a low budget splatter flick from the very early part of that decade . I might have enjoyed this movie as a fifteen year old schoolboy in 1982 as would have my peers but not now <br /><br />Much of the problem involves a lack of internal continuity . For example some of the zombies shuffle about with the pace of a snail while others can run very fast and posses self awareness which leads to a ridiculous end scene involving a DJ . Likewise some can be killed by a kick to the face while others remain alive even if they've had their head chopped off , wait till you see the fridge scene , you might just die laughing . Even the serious characters suffer from this type of contrived sloppy scripting where a character suddenly reveals he's a helicopter pilot which leads me to ask why the army have been employing him to drive jeeps for a career <br /><br />Obviously you're reminded of the earlier film THE CRAZIES which also reminded me of the later 28 films . Bunch of terrorists break in to scientific base leading to all sorts of disaster with the military being the bad guys trying to kill both the infected and the survivors and long before the ending you'll have worked out that basically everyone dies . The problem with this is you'll instantly be reminded of how the British franchise did it so much better on a bigger budget . Not just that but the 28 franchise will appeal to a thinking audience who may have little interest in the average horror movie . ZOMBI 3 will appeal to no one but a hardcore splatter audience\n",
      "* * * * * * * * * \n",
      "9238\n",
      "How did this become a blockbuster? Dear God I don't know where to start why this movie sucked too much. The movie was predictable & there was no originality. The only thing I can admire is the acting of some characters. The movie was too bright, they should have done something with the lighting, eg. making the environment more darker. The make up on certain dead characters made this movie look like a 1970 horror flick. This is 2006! People don't get scared by other people wearing heavy make up. Most of the horror scenes we're taken from other Hollywood or Asian horror movies. Total rip off! This is why I don't watch tagalog movies. The only reason why so many people \\screamed\\\" while watching this movie is because of conformity. How many times do we have to copy scenes from The Ring and improvise it that instead of the girl coming out of the TV, its now coming from the window next door? No matter how you put it, ITS STILL A RIP OFF. If you want a good horror movie, go watch the 50 best horror movie listed on this website.\"\n",
      "* * * * * * * * * \n",
      "9270\n",
      "Valentine is a horrible movie. This is what I thought of it:<br /><br />Acting: Very bad. Katherine Heigl can not act. The other's weren't much better.<br /><br />Story: The story was okay, but it could have been more developed. This movie had the potential to be a great movie, but it failed.<br /><br />Music: Yes, some of the music was pretty cool.<br /><br />Originality: Not very original. The name `Paige Prescott' Recognize Prescott?<br /><br />Bottom Line: Don't see Valentine. It's a really stupid movie.<br /><br />1/10<br /><br />\n",
      "* * * * * * * * * \n",
      "9284\n",
      "Bizarre take on the Cinderella tale. Terribly poor script, but Kathleen Turner turns in a pretty decent evil step-mother performance.<br /><br />Visually stunning in some parts, but that's about it. The period costumes range from the Elizabethan era to the 1990s. Fast forward until you see something interesting and save yourself the full 90 minutes of drivel.<br /><br />If you're really in the mood for a Cinderella story - I suggest \\Ever After: A Cinderella Story\\\" or \\\"The Glass Slipper\\\".\"\n",
      "* * * * * * * * * \n",
      "9340\n",
      "Because of the 1988 Writers Guild of America strike they had to shoot this episode in 3 days. It's pretty much crap, consisting of repeat cut + pasted clips from Season 2 and was described by its writer, Maurice Hurley as \\terrible, just terrible.\\\" <br /><br />Why the producers couldn't just wait to shoot something decent who knows. I'm guessing because of the strike the production ran out of money and could only release a flashback episode or maybe Roddenberry was too sick at the time to be able to veto this half-assery. This episode also marks the final appearance of Diana Muldaur (Dr. Katherine Pulaski) on the series.\"\n",
      "* * * * * * * * * \n",
      "9395\n",
      "The tragedy is that this piece of rubbish was part of my curriculum while I was studying cinema. So imagine how I was forced to watch it in complete. Believe me going through hell is much much easier. Our professor told us that this is some film ???, but he never thought that we'd disagree or assume the apposite. I don't think that there is any gods on earth, we're only humans, so all the filmmakers, therefore they CAN make mistakes, bad movies.. Or very bad too. The main problem wasn't that art, by all means, is susceptible to endless points of view, but that a lot of people just don't get it, that every single human got his own genuine taste, his own opinion, hence what I suppose it the greatest movie ever made, can also be your worst one ever, and how that is right both ways, but how many people can understand this correctly?. So my professor believes in this movie, and simply I don't. However, the only way to evaluate this \\thing\\\" is by measuring it by its original intent to show us different kinds of old folk stories or whatever to catch on this society's mentality, imagination, and nature. To tell you the damn truth Mr. Pier Paolo Pasolini as the scriptwriter and the director made it too unbearable to watch in the first place. The movie is so UGLY. I can't stand this, so how about analyzing it, then discovering the potential beauty in it !! It's beyond your mind hideousness, and strangely not for the sake of the movie's case or anything, it's for the sake of the unstable vision of (Pasolini). His work is so primitive to underdeveloped extent. The deadly cinematic technique, the effective sense of silliness, and the incredible horribleness made everything obnoxious. Look at the atrocious acting, the unfruitful cinematography, the awfully poor sets, .. OH MY GOD I've got the nausea already. It can terminate your objectivity violently as watching this movie is one true pain like taking the wisdom tooth off by a blind doctor. There are dreadful nightmares which could be more merciful than this. So originally, how to continue THAT just to review it fairly ? Actually, you don't. As this very movie doesn't treat you fair at all. There is really memorable scene in here where some boys are peeing into the eye of the camera (!) I'm trying to connect some things like that with Pasolini's end as murdered.\"\n",
      "* * * * * * * * * \n",
      "9400\n",
      "The movie is an extra-long tale of a classic novel that completely fails to capture the original adventure's spirit. The quite horribly American Patrick Swayze is cast as the British hero Allan Quatermain despite the obviousness of his nationality.<br /><br />The movie continues throughout to \\Hollywood-ise\\\" the story by changing both the plot and the characters to fit more comfortably into the accepted mold. The movie manages to be predictable throughout, even to those who are not familiar with the story and is plagued by some extremely bad acting and terribly disappointing fight sequences.<br /><br />All in all, a terrible addition to the already quite bad collection of movies based on the legend of King Soloman's Mines and Allan Quatermain.\"\n",
      "* * * * * * * * * \n",
      "9424\n",
      "***SPOILERS*** ***SPOILERS*** When I saw a preview for this movie I thought it was going to be atleast a slightly admirable storyline. But as most superstation original movies I was left disapointed. This gullible family ends up driving through this \\deserted\\\" town to take a brake and find this video camera showing these people doing everything their donig and finds out they all eventually disappear, the family goes through all these mysterious stages and never discovers or displays what the heck is stalking them. Their are more gaps than I can count and they don't explain anything that happens how or what. It ends where the family gets in a car accident and get posest or brainwashed or something( which is never explained). The next thing you know ur hoping they somehow find out how all it happened but it ends leaving you completely confused.\"\n",
      "* * * * * * * * * \n",
      "9501\n",
      "This film was terrible. I have given it the high score of 2 as I have seen worse, but very few.<br /><br />From the clichéd start of having the end of the film at the start and going back to the start at the end this film used everything in the box of tricks used in film making just for the sake of it, like a kid with too many toys. There was the endless, boring repetitive narration, slow motion, freeze frame, flashbacks and merged images etc - none of which made a dull film any better.<br /><br />It is called \\16 years of alcohol\\\", but there was little drinking or drunkeness and no depiction of withdrawal with the film jumping about all over the place with no coherent sense. The story was badly written and extremely pretentious and the direction was equally poor and it is a shame that people have put up further money for more films by Mr Jobson, previously know for being in a rubbish group and on TV making as much sense as this film does.<br /><br />I found it a major struggle to see this to the end but in the hope of it getting better I carried on to the bitter but it really was a waste of time and I would have been better off not bothering.\"\n",
      "* * * * * * * * * \n",
      "9679\n",
      "this film was shrouded in scandal for so long that it became a very sought after item...the outrage, the mystery, etc. it had everything to be a great piece of film-making, but ultimately fails in every extent. it's a terribly bad comedy, a pathetic horror movie, a lame erotic film.<br /><br />the 2 disc DVD includes a gorgeous booklet with stills, interviews, essays on bestiality, etc. as well as an extensive interview with the more-than-pretentious director. for those who have heard about it but never seen it, the package will seem fantastic until one actually sees the film. disc 1 contains the edited film, badly translated to English but with good visual quality. disc 2 contains the director's cut, in an awful transfer, in french.<br /><br />what can I say about the actual beast? a hand puppet of Kermit the frog would have been more effective and shocking.\n",
      "* * * * * * * * * \n",
      "9819\n",
      "An OK flick, set in Mexico, about a hit-man (Scott Glenn) who hitches a ride with struggling American writer and his Mexican girlfriend after a hit. He pays them to take him to the border  but things get out of hand.<br /><br />It starts well enough, but quickly struggles and dies.<br /><br />**SPOILER**<br /><br />The eventual relationship twist is badly set up and difficult to believe. An absence of passion, and essentially no reasoning behind her leaving one man for the other, made it ridiculous - and the ending was predictable and dull.<br /><br />**END SPOILER**<br /><br />Harvey Keitel is the US agent on the hit-man's trail, but he seems a little confused as to how boring and slow the script is...\n",
      "* * * * * * * * * \n",
      "9991\n",
      "Stefan is an x-con that five years ago got married to Marie. Their marriage has been stable until Stefan past catch up with them and he's offered to do a courier job. Stefan's job is a heroin delivery from Germany to Sweden which should go easily.<br /><br />In Germany Stefan meet Elli, a girl from Bosnia that has been sold to a stripclub owner. Stefan dislikes what he sees and decide to help Elli out of her misery. Due to the fact that Elli's father during the war fleed to Sweden Elli now goes with Stefan to Sweden. To make up with the past Stefan promises Elli to help her find her father, no matter what it takes. Finally back in Sweden the whole situation seems to be more complicated than Stefan ever thought of..<br /><br />This movie doesn't seem to fit in the ordinary class of swedish movies due to the fact that it's been americanized alot. Regina Lund and Cecilia Bergqvist makes it all average, the effects makes the movie a little too much though. See it and jugde for yourself.<br /><br />\n",
      "* * * * * * * * * \n",
      "10276\n",
      "A pretty average scifi film. The plot was more or less obvious from the start. Although the acting was reasonably good, the writing seemed very cliched, using ideas taken from numerous films.<br /><br />The basic plot: Scientists working on a deep space research platform rescue a fighter from crashing into the red dwarf that they have been orbitting. Onboard they find a stasis pod, which coincidently malfunctions at that very moment. After 2 or 3 minutes of the man in the pod waking up, you realise that he is a complete lunatic. Something which totally escapes the 3 person crew of the research ship...<br /><br />After that it becomes a rip off every other film involving a psychotic madman terrorising innocent victims, overall I think Speed 2 was a better exploration of the subject matter, which I didn't consider to be a good film either.<br /><br />Not a good film, get Aliens out and watch that again.<br /><br />\n",
      "* * * * * * * * * \n",
      "10408\n",
      "I feel it is my duty as a lover of horror films to warm other people about this horrible and very very bad \\horror\\\" film. Don't waste your time or money on this film, the acting is bad, the story is just one of the worst i have come across and the script was just awful. Nothing about it was good, you end up thinking to yourself why am i watching this crap. The plot had so many holes in it and they never got cleared up in the end, it was just so bad, i don't know how a film so terrible could be made. As i said before i love horror films and i was so let down, it was an 18 but you see little blood and no scares or jumps at all. Also what annoyed me was how stupid things happened in the film that had no point to the plot at all like the brother and sister kissing, why? is all i can say. Just don't bother, there are far more great horror films out there, just don't waste your time life is too short.\"\n",
      "* * * * * * * * * \n",
      "10461\n",
      "Some kids are hiking in the mountains, and one of them goes into a large tunnel and discovers some old mummified gladiator. He puts on the gladiator's helmet and spends the rest of the movie killing all the other hikers.<br /><br />This thing is just so utterly senseless it's maddening. Here's a short list of things that don't make any sense:<br /><br />1) A guy and a girl are in their tent and they think they hear something outside. The guy goes out to investigate and finds another hiker outside. Then he hears his girlfriend scream so they head back to the tent - arriving the next morning?!? He was only 50 feet away!<br /><br />2) These two dunderheads then hear another girl scream (What, 100 feet away?), but don't investigate because they're afraid they'll get lost.<br /><br />3) Another guy and a girl are walking around, and in about their 10th scene together the girl informs the guy that due to the circumstances, protocol no longer requires him to address her as professor. I mean, what the...? First off, that's just a really stupid thing to say, secondly he never called her professor in the first nine scenes they were in together.<br /><br />4) A wounded girl attacks Demonicus and he stops her, telling her that part of his gladiator training taught him how to wound without killing. Um, yeah, we kinda noticed she's wounded and not dead because she's up and walking around. But, thanks for that tidbit of information.<br /><br />5) One girl is tied up in Demonicus' lair, and when someone attempts to free her, she instead instructs this person to go and get help. Um, look, idiot, if she set you free, which would take about 5 seconds, there would be no need to get help.<br /><br />And it just goes on and on. The whole middle part of the movie is spent with the two idiots getting lost in the woods, then they fight, then they pitch a tent and ignore the screams of their friends, then they wander around some more. It's just so damned boring and pointless that I turned the DVD off halfway through. <br /><br />None of these characters are sympathetic, especially the ones that get the majority of the screen time. Demonicus himself made me laugh out loud every time I saw him - he looks like a kid in a Halloween costume, scrunching his face up to look evil. He runs, or should I say scampers around like he's gay. The special effects are comedic, the acting is for the most part awful, and nothing makes any sense.<br /><br />Overall, maybe this concept could have produced an enjoyably campy film if they put some more time and effort into it, getting rid of the ludicrous dialogue, creating characters with actual likable personalities, having some sort of logical flow to the action, and maybe even making Demonicus a female character in a sexy gladiator outfit. But no, instead we get this senseless pile of nonsense that will bore you to death.\n",
      "* * * * * * * * * \n",
      "10483\n",
      "Snuggle down in your favourite chair and switch on the play-station, as you toss this into the waste disposal unit. Spend a useful 90 min. living your favourite game. Disjointed - poorly filmed - non directed junk. It takes a bits from several other \\science fiction\\\" movies and badly attempts to join the parts into a pathetically weak story. There's nothing new here, the filmmakers do not seem to realise that providing simple entertainment would achieve a monetary game, but a touch of skill ingenuity and flair is required to turn it into a good film. Any money spent watching this is a waste, and personally i would like my 90 min of life back.\"\n",
      "* * * * * * * * * \n",
      "10512\n",
      "What a crappy movie! The worst of the worst! This movie is as entertaining as a dead slug. No-talent-what-so-ever-actors, stupid plot. Who wrote this script?! Was there ever a script for this goofy movie or did the director just accidentally press the record-button on his camera and then decided to make the film up as they went along? Is this meant to be a kids movie or a comedy or what? My friends younger brother is in the 6.th grade and him and his classmates just did an amateur-movie for their school-project which outdid this geeky movie.. This is by far the worst film I have seen in my life! There is just no excuse for this flick!\n",
      "* * * * * * * * * \n",
      "10534\n",
      "This movie's full title is \\Waqt: Race Against Time\\\". That's a race no one can ever win, but you can certainly cut your losing margin by not wasting any of your precious \\\"waqt\\\" on this bakvaas. This movie was clumsy and manipulative in a way that made K3G look honest. It strained my credulity too far. It was ridiculously stupid in its storyline, and deserves to be mocked for it.<br /><br />It's not quite as awful as Baghban or Black, but this movie has nothing to recommend it. Stupid, pointless, with a ridiculously OTT performance by Amitji. The central \\\"plot\\\" is another nasty example of the crudely manipulative propaganda that infests so many \\\"family\\\" BW films. If my father, who raised me, and who I love dearly, treated me like Big B did Akshay, I'd shoot him myself. To say nothing of the trivialising of terminal illness.\"\n",
      "* * * * * * * * * \n",
      "10570\n",
      "My God, what an incredible movie it is! Reminded me so much of the similar scene in Mel Gibson's movie \\We were Soldiers\\\" when \\\"the Company is not lost, they're just cut off\\\" And the other scene in Pearl Harbour when the British officer says to Ben Affleck \\\"If all Americans are like you, then God help the nation that goes to war with America!<br /><br />Put all 3 movies together and you would have enough BULLSHIT to fertilise the entire Sahara Desert.<br /><br />The story of the cut-off Battalion may be real enough but the movie could have done without all that American preachy jingoistic propaganda attached to it. There were audible groans in the cinema during the above-mentioned scene in Pearl Harbour (no kidding either) The Lost Battalion however is really in a class of its own ",
      ".<br /><br />\\\"Americans think they are unbeatable",
      "inspired bravery",
      ". \\\" I actually cringed and damn near puked at all the swill being spewed out throughout this diarrhoeic disaster (the movie that is) <br /><br />The fighting scenes were well made (3 stars for that) but if the script is manure, then wrapped even in brightly coloured ribbons, it is still manure. The writer, James Carabatsos, also wrote those other screamers",
      "Hamburger Hill, No Mercy , Heartbreak Ridge. Someone, please shoot him before he writes any more such garbage.<br /><br />The Director, Russell Mulcahy is an Australian too. God, the shame!!!\"\n",
      "* * * * * * * * * \n",
      "10575\n",
      "One hour, eight minutes and twelve seconds into this flick and I decided it was pretty lame. That was right after Hopalong (Chris Lybbert) drops on his horse from a tree to rejoin the good guy posse. I was pretty mystified by the whole Hopalong Cassidy/Great Bar 20 gimmick which didn't translate into anything at all. Obviously, the name Coppola in the credits couldn't do anything to guarantee success here, even with more than one listed.<br /><br />If you make it to the end of the film, you'll probably wind up asking yourself the same questions I did. What exactly was the hook with the gloves? What's up with the rodeo scenario? Who was The Stranger supposed to represent? Why did they make this film? <br /><br />I could probably go on but my energy's been drained. Look, there's already a Western called \\The Gunfighter\\\" from 1950 with a guy named Gregory Peck as the title character. Watching it will make you feel as good as watching this one makes you feel bad. That one I can recommend.\"\n",
      "* * * * * * * * * \n",
      "10761\n",
      "I am very surprised by the positive comments because there were four of us that saw this at one screening and we all walked out. We personally felt that it was painfully slow to watch and couldn't sit through the whole movie. And we really tried to stick with it. In particular, those in the group who really wanted to like it because of their personal experiences with sexual orientation alienation in the school years depicted didn't like or identify with it at all. :(<br /><br />That said, it is great to see that this film really resonated with a lot of people here on the boards and with reviewers. That's the beauty of the subjective art form of film. :)\n",
      "* * * * * * * * * \n",
      "10872\n",
      "I am uncertain what to make of this misshapen 2007 dramedy. Attempting to be a new millennium cross-hybrid between On Golden Pond and The Prince of Tides, this film ends up being an erratic mess shifting so mercurially between comedy and melodrama that the emotional pitch always seems off. The main problem seems to be the irreconcilable difference between Garry Marshall's sentimental direction and Mark Andrus' dark, rather confusing screenplay. The story focuses on the unraveling relationship between mother Lilly and daughter Rachel, who have driven all the way from San Francisco to small-town Hull, Idaho where grandmother Georgia lives. The idea is for Lilly to leave Rachel for the summer under Georgia's taskmaster jurisdiction replete with her draconian rules since the young 17-year old has become an incorrigible hellion.<br /><br />The set-up is clear enough, but the characters are made to shift quickly and often inexplicably between sympathetic and shrill to fit the contrived contours of the storyline. It veers haphazardly through issues of alcoholism, child molestation and dysfunctional families until it settles into its pat resolution. The three actresses at the center redeem some of the dramatic convolutions but to varying degrees. Probably due to her off-screen reputation and her scratchy smoker's voice, Lindsay Lohan makes Rachel's promiscuity and manipulative tactics palpable, although she becomes less credible as her character reveals the psychological wounds that give a reason for her hedonistic behavior. Felicity Huffman is forced to play Lilly on two strident notes - as a petulant, resentful daughter to a mother who never got close to her and as an angry, alcoholic mother who starts to recognize her own accountability in her daughter's state of mind. She does what she can with the role on both fronts, but her efforts never add up to a flesh-and-blood human being.<br /><br />At close to seventy, Jane Fonda looks great, even as weather-beaten as she is here, and has the star presence to get away with the cartoon-like dimensions of the flinty Georgia. The problem I have with Fonda's casting is that the legendary actress deserves far more than a series of one-liners and maternal stares. Between this and 2005's execrable Monster-in-Law, it does make one wonder if her best work is behind her. It should come as no surprise that the actresses' male counterparts are completely overshadowed. Garrett Hedlund looks a little too surfer-dude as the naïve Harlan, a devout Mormon whose sudden love for Rachel could delay his two-year missionary stint. Cary Elwes plays on a familiar suspicious note as Lilly's husband, an unfortunate case where predictable casting appears to telegraph the movie's ending.<br /><br />There is also the omnipresent Dermot Mulroney in the morose triple-play role of the wounded widower, Lilly's former flame and Rachel's new boss as town veterinarian Dr. Simon Ward. Laurie Metcalf has a barely-there role as Simon's sister Paula, while Marshall regular Hector Elizondo and songsmith Paul Williams show up in cameos. Some of Andrus' dialogue is plain awful and the wavering seriocomic tone never settles on anything that feels right. There are several small extras with the 2007 DVD, none all too exciting. Marshall provides a commentary track that has plenty of his trademark laconic humor. There are several deleted scenes, including three variations on the ending, and a gag reel. A seven-minute making-of featurette is included, as well as the original theatrical trailer, a six-minute short spotlighting the three actresses and a five-minute tribute to Marshall.\n",
      "* * * * * * * * * \n",
      "10893\n",
      "And I mean ultra light. This film features four giant stars, about three and a half jokes and nothing beyond that.<br /><br />There really isn't too much to say about this stinker, other than that although it has a couple of really good bits, most of it isn't very funny. Nor does it work at all as a romance. How about as a romantic comedy? Not on your life. Most of the dialogue is way too flat to be sophisticated, much less amusing.<br /><br />What's really ashame is the premise is not bad at all. This movie could have been so much more, especially with all the recent focus on some of the bogus ways in which films are promoted, complete with phony quotes from critics. The film uncovers the un-mined territory of the press junket -- those all expense paid trips for journalists who almost always write nice reviews. But instead of exploring what should have been a motherlode of jokes, it devotes all of about three minutes to this territory and moves on in pursuit of the film's lame romance.<br /><br />The same with Catherine Zeta-Jones' character -- the whinny, self centered movie star. Zeta-Jones does a good job with what she's given, but she's given practically nothing. It's all homogenized junk that looks very pale in comparison with some of the things we've heard about stars over the years.<br /><br />In the end, it is hard to understand what made Zeta-Jones, Julia Roberts, John Cusack and Billy Crystal sign aboard this doomed ship, which sinks like a rerun of \\The Love Boat.\\\" In fact, as the old joke goes, they should have forgotten the script and filmed the deal. It would probably make a better story. So, go ahead and tell us, filmmakers, what do you have on these stars that got them to appear in this?\"\n",
      "* * * * * * * * * \n",
      "10897\n",
      "I don't understand how \\2 of us\\\" receive such a high rating... I thought that the first half dragged on and the second half didnt make sense, followed by an unresolved climax which was not worth the trouble. However, I did like Jared Harris' performance of John Lennon which was worth the wasted 2 hours.\"\n",
      "* * * * * * * * * \n",
      "11028\n",
      "I mean, I thought I heard this dialog in the movie, but it was so bad and out of place that I can't really believe it. I was laughing so hard at what must have been the worst writing and acting in human history, i was seriously worried that I might have a heart attack and die right there in the theater.<br /><br />So this is the scene I am talking about, the \\hero\\\" just watched his brother crash and his brothers car exploded right there just feet away from him (the hero). The \\\"hero\\\" was throwing the expected \\\"fit\\\" at seeing something so tragic and people were trying to hold him back from running into the burning car.<br /><br />In the middle of his fit and his uncontrollable rage/emotional break down he says \\\"I am so sad\\\" - he said that right? Am I crazy?\"\n",
      "* * * * * * * * * \n",
      "11297\n",
      "The only reason I saw \\Shakedown\\\" was that it has Erika Eleniak in it. She's sexy as always, but she plays second fiddle to leading man Wolf Larson. It's a pity, because she has more action capabilities than she's allowed to show here. The film largely consists of endless shootouts that quickly become monotonous - especially when most of the time you are seeing the bad guys armed with machine guns constantly missing Larson and him armed only with a revolver (that NEVER runs out of bullets) taking them all out rather easily. The earthquake effects are decent, but there is also a lot of blurry motion and poor CGI explosions. As the psychotic \\\"spiritual leader\\\", Ron Perlman tries, but the pseudo-religious mumbo-jumbo he has to spout is simply boring. Eleniak, Perlman or Larson (assuming he has any) completists might want to give this one a look, for others it is barely worth a rental. (*1/2)\"\n",
      "* * * * * * * * * \n",
      "11332\n",
      "Joe Don Baker. He was great in \\Walking Tall\\\" and had a good bit-part in \\\"Goldeneye\\\", but here in \\\"Final Justice\\\" all hope is gone...the dark side has won. <br /><br />As with most of humanity, my main experience with this one was on MST3K, and what an experience it was! Mike and the robots dig their claws deep into Baker's ample flesh and skewer this flick completely. It's obvious they were just beginning with \\\"Mitchell\\\" on their anti-Joe Don kick and here lies their continuation on a theme.<br /><br />It makes for a funny experience, though: there are plenty of choice riffs. My favorites - \\\"John Rhys-Davies for sale\\\", \\\"It's 'Meatloaf: Texas Ranger'\\\", \\\"none of them are sponge-worthy\\\", \\\"Why was she wearing her prom dress to bed\\\", and my favorite - \\\"'Son of a...'? What? What was he the son of: son of a PREACHER MAN?\\\"<br /><br />By itself, \\\"Final Justice\\\" is, as Joe Don puts it in the movie, \\\"a big fat nada\\\". But here, it actually has some entertainment value. You get a chance, catch THIS version of \\\"Final Justice\\\".<br /><br />Two stars for \\\"Final Justice\\\". Ten for the MST3K version ONLY.<br /><br />Oh, and try not to visit Malta when Joe Don's in town.\"\n",
      "* * * * * * * * * \n",
      "11459\n",
      "Occasionally one is served a new entrée from foreign films. That is their great attraction. They take from life and serve it up raw. American films, rarely dare to touch the forbidden subjects of society. Too many hang-ups and a morbid fear of financial failure. The Almighty dollar, determines their selections. Something which invites European directors. In addition, audiences world wide remain hungry for \\different\\\" films, especially those which offer a savory bite out of the wretched, suffering body of humanity. Despite the fear of directors or producers, many audiences yearn for beauty, poetry, and the pristine flavor of life. That is what the film \\\"To the Left of the Father\\\" offers to curious audiences. A family locked in the belief that unity of family stems from the unity of it's obedience to tradition. Yet when the patriarch of a family forgets it's members are flesh and blood humans, filled with raging, unbridled dreams and dark passions, then the two are set in motions against itself. Selton Mello plays André a son who seeks to control his inner passions with the stagnant philosophy of his father. Raul Cortez plays his Father. Simone Spoladore is Ana a young woman who seeks to quench a forbidden thirst from the family waters. Leonardo Medeiros is Pedro, the elder brother. The film offers much, but does takes an extremely inordinate amount of time to say it. ***\"\n",
      "* * * * * * * * * \n",
      "11635\n",
      "I shall not waste my time writing anything much further about how every aspect of this film is indescribably bad. That has been done in great detail already, many times over. The 'plot' started out as a very uninspiring cockney wide-boy/gangster-by-numbers bore and very quickly descended into an utter shambles. Anybody who pretends that they can see some hidden masterpiece inside this awful mess is just kidding themselves. It is now 7 or 8 years since I watched it during its 1 week run at the cinema before it was pulled, yet it sticks in my mind for being easily the most terrible film I have ever seen.<br /><br />I am only making these comments, and indeed the only reason I went to see the film, is because of the amusing fact that my brother Eddie appeared in it as the second 'heavy' in the pub scene. It was his hands that thrust a zippo lighter towards Rhys Ifan's face in the bar in 'Russia' (it was actually filmed at the former Butlins holiday camp at Barry Island). My brother has absolutely no acting experience whatsoever - he had recently joined an extras' agency and this was his first part. Having seen the film, it appeared that nobody in it required any acting experience whatsoever.<br /><br />I remember there were about 8 people in the whole cinema - and this was just a couple of days after it had been released. I have never heard of an other film that was so unpopular and disappeared so fast - and rightly so. In case you were thinking of renting this film on DVD, I would advise you instead to put your two pound coins in a fire until they are red-hot, then jam them into your eye sockets. This will probably be a lot less painful than watching the film.\n",
      "* * * * * * * * * \n",
      "11725\n",
      "Arthur Askey's great skill as a comic was in the way he communicated with his public. His juvenile jokes, silly songs and daft dances went down well because he was able to engage folk and draw them into his off the wall world. A lack of a live audience was a distinct disadvantage to him, and he was never completely comfortable in films. He has his moments in The Ghost Train, and his character, Tommy Gander, has been tailored to make the most of his talents, but Askey the performer needed to be seen to be appreciated.<br /><br />Askey's support in the film is not strong, it includes regular co-star Richard Murdoch; Betty Jardine and Stuart Latham as a dopey honeymoon couple; Linden Travers going over the top as a 'mad woman'. Also on board are Peter Murray-Hill, who off-screen married Phyllis Calvert, as the nominal leading man, giving a totally bland reading of the part, and leading lady Carol Lynne, who turns in an equally insipid performance. It is left to character actress Kathleen Harrison to effortlessly steal the film as a parrot loving single woman who gets smashed on Dr Morland Graham's brandy.\n",
      "* * * * * * * * * \n"
     ]
    },
    {
     "name": "stdout",
     "output_type": "stream",
     "text": [
      "11783\n",
      "ET's obsession with Dannielynn Smith is despicable. Leave the child alone. With all the constant attention she'll most likely grow up psychotic, depressed or worse. Think of Princess Diana and how she longed for privacy. Now poor little rich girl Ashley Olson just wants to be left alone. No wonder Greta Garbo became a recluse and said \\I want to be alone\\\". How much does ET make off this little girl? Does ET not have anything better to report on? I bet there's lots of people who really don't care what color her birthday cake and balloons were. By the way, I never heard that Anna Nichole ever won any of those court cases over the will and her inheritance. Who is paying for the lifestyle of Larry, Howard and little Dannielynn? Could it be ET?\"\n",
      "* * * * * * * * * \n",
      "11800\n",
      "The directors cut version, which was the one I saw, was very long for this type of movie. Almost two hours is way too long. If you have the choice, definitely go for the non-directors cut.<br /><br />The main plot is almost not taken up at all, the movie consists to the main part of several murder scenes, which are connected but the feeling is that they're only shown in order to fill the movie with splatterish violence. The connection is not revealed until the latter part and the lack of context bored me out long before I was there.<br /><br />As a horror movie it doesn't work. You never get the required feel for the characters due to mediocre acting and the general disposition (character is presented, 15 minutes later character is dead). This pictures strong side lies in the splatter part.\n",
      "* * * * * * * * * \n",
      "11851\n",
      "I can understand after watching this again for the first time in many years how it is considered one of the worst Laurel & Hardy's. For me, it isn't as close to as bad as \\Air Raid Wardens\\\" and \\\"The Bullfighters\\\", but there are some definite huge flaws in it. The film is set up to show Laurel and Hardy as the owners and instructors of the dance studio. Hardy is funny as the prancing lead of a \\\"London Bridge\\\" dance, surrounded by 20th Century Fox starlets, while in the next room, Laurel teaches the beginners ballet while wearing a ballerina outfit. A clumsy carpenter spills glue on the floor, leading to a predicable gag where Hardy ends up the looser. Then, in come the racketeers, now selling insurance covering up their protection racket. One of them is a very young and handsome Robert Mitchum. But no sooner do they bully the boys into buying insurance, they are arrested.<br /><br />This is the end of the gangsters and the last time we see the dance studio. The rest of the film is devoted to Laurel and Hardy's support of wealthy patron Trudy Marshall and her inventor boyfriend, Robert Bailey. They first try to help them hide their relationship from her disapproving parents (Matt Briggs and Margaret Dumont) and hopeful suitor Allan Lane, whom we can tell right off is a no-good swine. This leads to Briggs' hidden bar being revealed to tea-totaling Dumont, and a gag where a rug is literally pulled out from the wealthy patriarch which crashes his bed into a pond below. When Bailey uses the boys to help display his ray gun, pandemonium ensues. The dead-pan butler announces to Case and Dumont that their house is on fire.<br /><br />Later, Hardy wants to use the insurance policy to gain money to pay their dance studio rent and hopes to get Laurel to break a leg to do so. There is no reference to the fact that the insurance salesmen were gangsters and that the policy would probably be invalid. (Even if they were to have become legitimate insurance salesman, after being arrested, their licenses would have been revoked). Laurel ends up getting off a bus which had been abandoned by the driver over a supposedly rabid dog (only a frosting covered, cake devouring Toto look-alike, or possibly the actual pooch), causing Oliver to end up on a huge beach roller-coaster that somehow the bus has ended up on, perfectly fitting its wheels onto the tracks. Roller-coaster gags can be exciting, as evidenced in \\\"Abbott and Costello Go to Hollywood\\\", and this one is amusing but anticlimactic.<br /><br />As the story wraps up, all of these gags seem to have no point, giving the impression that this was simply a series of one-reelers put together to make a full-length feature, hopefully part of a double bill. L&H, as I've mentioned in other reviews of their later films, had lost much of their luster after leaving Hal Roach's employ, but surprisingly here, they do not come off as old and tired looking as they had in films made in the same year. Had the gags not been as amusing, as was the case with some of their other films, this surely would have ranked a \\\"2\\\" as opposed to a \\\"3\\\".\"\n",
      "* * * * * * * * * \n",
      "11856\n",
      "Personally, while I'm able to appreciate really good movies, I also have a strange ability to somewhat enjoy even the most crappiest of crap. You know, those times when you just want to sit there and watch some horrible cookie-cutter action movie to kill time. This is the only movie that I can remember actually shutting off in the middle, and I have absolutely NO intention of going back to finish it. The plot was so contrived and predictable, I was calling out what the next scene would be easily (and I'm usually not very good at this). The actors were horrible, I've seen better acting in middle school plays. Even the scene cuts were bad, the flow was all wrong.<br /><br />This movie is like a parody that forgot the funny.\n",
      "* * * * * * * * * \n",
      "11886\n",
      "This has to be, by far, the absolute worst movie I have seen in the last 20 years. When I saw that Michael Madsen was in it I figured it couldn't be too bad a movie since he has been in some pretty decent films, and he was a pretty fair actor. WRONG! No one should waste their time on this film. I fast forwarded through 80 percent of it and I don't feel that I missed a thing.\n",
      "* * * * * * * * * \n",
      "12001\n",
      "This movie is terrible but it has some good effects.\n",
      "* * * * * * * * * \n",
      "12037\n",
      "Effect(s) without cause is generally not possible in the real world but in the world of Hollywood remakes, not only is it possible, it's required. The Haunting has been given the computer treatment courtesy of a 1st-class cinematographer-turner-director who once showed promise (Jan de Bont- Speed) but has since produced a string of big budget garbage (Twister, Speed 2).<br /><br />Actor are superfluous in a movie of this type and they seem to realize it. Liam Neeson and Cathrine Zeta-Jones act like they wish they were anywhere but in this film. Lili Taylor makes an attempt to add something to the proceedings but whatever that something might be is unknown since the script feels like half of it is missing. Events just happen, good and bad ghosts show up with no rhyme or reason and then the story just ends with a most unsatisfying non-event meant to wrap up the previous 90 minutes of inanity.<br /><br />There really isn't even reason to see this for the effects since we all know that anything can be put on screen now. Why not watch effects in the service of a good story instead of just for their own sake?\n",
      "* * * * * * * * * \n",
      "12102\n",
      "When I look back on my college days at Ohio University, there will always be one event in which I will remember with fond memories. Channel 23 is OU's local access channel and until the last few years, pretty much played anything they were sent. This included many DIY movies ranging from a guy microwaving marshmallow Peeps and then scanning pictures of them online, to a version of Macbeth starring 8th graders who had apparently just learned how to make squibs.<br /><br />However, the king, in my opinion, of the channel 23 lineup was Midnight Skater. The first time I watched it was around 2AM. I should have been studying. Or sleeping. Or watching regular TV. But no, all that is for pussies. My roommate and I watched Midnight Skater, and when it was complete, I don't think either of us believed that any of the movie had just happened. But sure enough, it was on a few nights later, and we had to come to grips that this movie did, in fact, exist.<br /><br />I could go on and on about how awful it is, but its the sort of awful that makes life worth living. The plot is disjointed, the acting terrible, the everything soul scarring, but by god, if there are others watching with you, its impossible not to have a good time watching it. Its sort of like the first time you hear \\Guts\\\" by Chuck Pahalniuk. You hear it, you're disgusted and shaken, but five minutes later, all you want and desire is to make someone else experience the abject horror you just endured.<br /><br />Long story short, Midnight Skater, for all of its epic flaws, makes for some very late night fun. Plus, I desperately want the Theme to Midnight Skater. Kudos to whoever wrote it and sang it. Sweet God I love that song.\"\n",
      "* * * * * * * * * \n",
      "12296\n",
      "I saw the film tonight at a free preview screening, and despite the fact that I didn't pay a dime to see this film I still felt ripped off. Ladies and gentlemen, time is money and if you see this film you are leaving a Benjamin on your seat. The acting is torpid at best; Kiefer Sutherland phones in his worst impersonation of Jack Bauer, and Michael Douglas looks like he realizes he made a bad choice leaving Catherine Zeta-Jones for the duration it took to shoot this turkey. Eva Longoria is a non-entity; she looks like she's reading her lines off a teleprompter. And if you can't spot the \\mole\\\" within the first 20 minutes, then you just landed on this planet from a world without TV and recycled story lines. If you truly want to see a good secret service thriller, rent In the Line of Fire. If you see and buy into this one, you'll start to fear for the president's safety because the Secret Service looks and acts like the grown-up versions of the kinds from 90210. No matter what your feelings about W, let's hope this \\\"art\\\" does not imitate life.\"\n",
      "* * * * * * * * * \n",
      "12376\n",
      "No wonder Pamela Springsteen gave up acting to become a full-time photographer; it's a much better idea to have her behind a camera than in front of one. While this movie is not without its interesting elements (mullets from hell, etc.), it is outweighed by flaws. For one thing, Angela, the murderous counselor, appears to be about the same age as the campers. Having an older, more threatening camp director would have done a lot for the film. And then you have the murder scenes. The budget was apparently too low to execute most of them properly (no pun intended), although drowning someone in an outhouse toilet is certainly original. But overall, there are a ton of movies out there that are scarier/more fun to spend an hour and a half of your life watching.\n",
      "* * * * * * * * * \n",
      "12618\n",
      "When I saw that IMDb users rated this movie the bottom 250 movies, I thought it was too harsh but little did I know that the low rating was absolutely correct.<br /><br />I am a big fan of the Wayans brothers. I loved their Scary Movie 2 and even enjoyed White Chicks. Little Man, however, had very few laughs and the jokes were stale.<br /><br />Obviously, the joke will revolve around Marlon Wayans, who plays a grown midget that was recently let out of prison. He and his partner, Tracy Morgan, steal a diamond meant for a gangster. Things go awry and the midget has to place the diamond with an unsuspecting couple played by Shawn Wayans and Kerry Washington. In order to get the diamond back, the midget pretends to be an abandoned baby left on the unsuspecting couples doorstep. Of course, he is taken in and the drama begins on quest for the diamond.<br /><br />The movie has some actors and actresses from Saturday Night Live like Molly Shannon and Rob Schneider as well from In Living Colour. All these talents, however, cannot help the poor script and the jokes which simply was not funny.<br /><br />The special effects to make Marlon Wayans to look like a midget was OK. I mean, it was not 100% believable but it was OK...nothing great. I just wish that the Wayans brothers had put more effort into developing a script with good jokes rather than trying to shore up their poor script with cameos from their famous comedic actors and actresses.<br /><br />Wait for it on cable or television. It really is not worth any amount of money.\n",
      "* * * * * * * * * \n",
      "12811\n",
      "When I'd seen the name of this movie, I'd always thought it was a musical. Like \\The Harvey Girls.\\\" It's not. It's a pudding that overcooked, hit the kitchen ceiling, and was pried off and cobbled together. No music and not a period piece but thoroughly improbable.<br /><br />It starts with patriarch James Woods telling the eldest of his three daughters, a small child who grows to be Barbara Stanwyck, that she must maintain the family name and home.<br /><br />We thus think it is going to be a historical intergenerational tale. And it is, for a brief time. Then it turns into the story of cold-hearted Stanwyck's fight against lawyer George Brent. Why is she so dead set against him? Well, why else? As we learn in a strange flashback sequence narrated by Stanwyck, she had once thought she could inherit some money (for her sisters as well as herself, of course) by marrying. She hit on someone she took to be a country bumpkin, who was in fact budding lawyer Brent.<br /><br />Lest anyone think the child they had, a young man of eight or so at the time of the main plot, is -- well, you know ... They had a hasty marriage and during the very short time they were together, he was conceived.<br /><br />One of her sisters is in love with a painter named Gig Young, who is played by Gig Young. The other sister tries to take him away. Etc., etc.<br /><br />It is a shrill, unengaging mess -- well enough acted but without a shred of logic or plausibility.\"\n",
      "* * * * * * * * * \n",
      "12899\n",
      "SPOILERS (ALTHOUGH NONE THAT AREN'T REVEALED IN THE FIRST TWO MINUTES OF THE MOVIE)<br /><br />Robin Williams is actually quite good in this as the friendly, lonely, emotionally stunted loser Sy. He makes a very human, even sympathetic psycho, and really disappears into the character--no small feat for such a recognizable performer. <br /><br />Too bad the rest of the movie is such a waste. The supporting performances (and performers) wouldn't look out of place in a soft-core porno (it doesn't help that every character but Sy is made of 100% cardboard). At times, the director actually seems to be trying to frustrate suspense: we know from the very first moments a) that Sy is a complete whack-job, b) that he survives, and c) that he gets nabbed by the cops at the end. So all we're left to ponder is the hows and the whys, and the answers provided aren't all that interesting.<br /><br />The plot is plodding and contrived, and features some nonsensical moments (for instance, the husband berates his wife for her expensive tastes, even though she seems to spend all her free time at the local discount superstore). About two thirds of the way through, Sy does something so irredeemably stupid that it makes one wonder how much he actually cares about his grand revenge scheme. And the final clichéd explanation of his psychosis, right out of `Peeping Tom,' is a terrible copout.<br /><br />The dialogue is of the absolute worst sort. It's not overwritten, or awkward, or unbelievable, or bad in any other way that could be considered fun, even for bad-movie lovers. Instead, every line is purely, hideously functional--it's as if the director handed a plot outline to a newspaper copywriter and said, `Hey, I need a workable script on this--in an hour.' It made me want to scream, honestly.<br /><br />This movie seems to be a throwback to the suburban beware-the-help thrillers of the eighties and nineties (`The Hand That Rocks the Cradle,' e.g.), and while it's certainly unpleasant, it's never really scary. Sy's fetishism occasionally makes you feel uncomfortable, but on its own that's not enough to make the film work. In the end, lack of craftsmanship from everyone involved, except Robin Williams, sinks this one. 3 out of 10.\n",
      "* * * * * * * * * \n",
      "12967\n",
      "I saw and liked the first two a lot, really. Especially because the second is not just a try to make another one as good as the first. And it's a story standing alone. You don't have to know the first movie. I liked that in the \\Free Willy\\\" movies, too.<br /><br />But... the third, here is absolutely useless! I tried it with a friend of mine, because we both liked the first two. We decided to stop after a good half an hour. The movie is okay, there are funny parts in it alright. But what for? Timon and Pumba were funny creatures in the first two movies. What Lion King 1 1/2 is for me is: a hard attempt to get even more fun of the first movie than it had already, plus telling the story from their point of view. But what for? I'd really like to know. You know, the idea of the two of them sitting in the cinema watching the first one, is really nice. But what comes after is mostly unnecessary. I guess many people liked Timon and Pumba, and so do I really. Yet, for me many parts were very constructed with a try to be funny. No chance, most of it wasn't funny at all, at least for me. Btw. what was the movie about anyway? Was it a) about Timon and Pumba or b) an attempt to get more fun out of the first movie? I tend to choose option b and I'm very disappointed about it.<br /><br />If you like to see stories like: \\\"the story behind xy\\\", you should see \\\"Rosencrantz and Guildenstern Are Dead\\\" by Tom Stoppard with Tim Roth and Gary Oldman. That's really funny and no try to get more out of \\\"Hamlet\\\" then it has.\"\n",
      "* * * * * * * * * \n",
      "13051\n",
      "Two years before he wrote and directed \\Arthur\\\", Steve Gordon had a minor hit with his screenplay for this crackpot comedic vehicle for Henry Winkler, then TV's \\\"The Fonz\\\". A 1950s college thespian (and all-around jerk) woos a co-ed and gets married without any employment prospects on the horizon; to make ends meet, he turns to the flamboyant world of wrestling, eventually becoming a \\\"Gorgeous George\\\"-like celebrity. Turning likable Winkler into an obnoxious goof-off probably sounded like an interesting idea at the time (and a sure way to separate him from his television alter-ego), but the jokes and situations are often wrong-headed and mean, staged rather sloppily by director Carl Reiner. Particularly crude is a wincing bit involving Hervé Villechaize (of \\\"Fantasy Island\\\") putting the moves on Polly Holliday (Flo from \\\"Alice\\\"). As Henry's beloved, Kim Darby looks a little out of her element--particularly when surrounded by all these TV hams--rendering the romance aspect of the script inconsequential. *1/2 from ****\"\n",
      "* * * * * * * * * \n",
      "13240\n",
      "102 Dalmatians (2000, Dir. Kevin Lima) <br /><br />Believed to be cured, Cruella de Vil (Close) is released from prison and sets out to make a new start in life. Things are going well for Cruella who is busy helping homeless dogs off the street. When the clock strikes on Big Ben, things turn bad. The hypnotic cure is reversed and Cruella is back, and this time she is determined to make that spotted coat she always wanted.<br /><br />Glenn Close reprises her role as Cruella de Vil and once again is the highlight of the film. Every scene with her in is worth watching in this dull sequel, which feels more of a repeat of the previous film, rather than a new story.<br /><br />She's Changed.  Ken Sheperd (Ioan Gruffudd)\n",
      "* * * * * * * * * \n",
      "13245\n",
      "This oddity in the new DORIS DAY COLLECTION doesn't really need to be included as she is only in the film for less than 30 minutes. What she does do however, is shine when she's on screen. The near plot less movie is just an excuse to showcase some Warner contract players of the day. JANCIE RULE shows promise and it's a shame she didn't become a big star. RUTH ROMAN handles the role of the \\go-getter\\\" with aplomb. Better if this was in color. The Travis Air force base locations with some rear projection work well. What's best about the movie are some wonderful musical interludes. If you enjoyed THANK YOUR LUCKY STARS and Hollywood CANTEEN you'll like this one.\"\n",
      "* * * * * * * * * \n",
      "13340\n",
      "The \\Confidential\\\" part was meant to piggy-back on the popular appeal of the lurid magazine of the same name, while the labor racketeering theme tied in with headline Congressional investigations of the day. However, despite the A-grade B-movie cast and some good script ideas, the movie plods along for some 73 minutes. It's a cheap-jack production all the way. What's needed to off-set the poor production values is some imagination, especially from uninspired director Sidney Salkow. A few daylight location shots, for example, would have helped relieve the succession of dreary studio sets. A stylish helmsman like Anthony Mann might have done something with the thick-ear material, but Salkow treats it as just another pay-day exercise. Too bad that Brian Keith's typical low-key style doesn't work here, coming across as merely wooden and lethargic, at the same time cult figure Elisha Cook Jr. goes over the top as a wild-eyed drunk. Clearly, Salkow is no actor's director. But, you've got to hand it to that saucy little number Beverly Garland who treats her role with characteristic verve and dedication. Too bad, she wasn't in charge. My advice-- skip it, unless you're into ridiculous bar-girls who do nothing else but knock back whiskeys in typical strait-jacketed 50's fashion.\"\n",
      "* * * * * * * * * \n",
      "13345\n",
      "I don't see how anyone who even likes Van Damne could like this movie.<br /><br />The movie actually starts out with some promise. I would say the action scenes at the beginning of the movie is excellent. The actions scenes with the family ward trying to save the twins is a great start and is good lead in to the main story. However, the film is all down hill from there. <br /><br />It would have been nice if the director could have stayed with the original premise. That is the brothers are born in different parts of the world and thus learn different skills. One brother is supposed to be skilled in Martial Arts, but the other brother is supposed to be skilled in firearms. How convenient when the time arises that the brother who has never picked up a gun before all of the sudden is a great marksman, and the brother who has not been taught any martial arts is all of the sudden doing the splits and high kicks.<br /><br />The plot, action, etc. are just plain ridiculous. My favorite scenes? How about when Van Damne is confronting an armed soldier with an AK-47. The soldier is about 100 yards away. Instead of aiming and shooting at Van Damne he is doing a war cry like he is wielding a battle axe and running at him. Van Damne proceeds to pick up a pistol from a fallen soldier and shoots him,...while he is still about 75 to 80 yards away. <br /><br />This movie has one of the most disappointing endings. Bolo Yeung is a skilled martial artist. However, instead of choreographing a decent fight. Bolo is throwing barrels at Van Damne like Donkey Kong. Absolutely aggravating movie that had so much promise. If your a Van Damne fan, save your time and see Hard Target or one of his earlier films.\n",
      "* * * * * * * * * \n",
      "13408\n",
      "The Derek's have over the 1980s produced a few decent bids to acquire the title \\worst movie of all time\\\", and this is probably their prime achievement in these stakes. In fact, this film can be regarded as belonging to the \\\"so bad, it's good\\\" category, right up there with the products of the likes of Edward Wood Jr. or Doris Wishman. This explains the IMDb voting pattern for this film with some people handing out top marks.<br /><br />Anthony Quinn made the odd dodgy film in his time, but this performance as a randy ghost is so incredibly bad, it has to be seen to be believed.\"\n",
      "* * * * * * * * * \n",
      "13481\n",
      "I normally only write reviews for movies I really hated or really liked. And, as you can probably tell from the number of stars up there, I didn't like it. By now, I assume you have read about the plot or maybe even seen the movie, so I'll skip the summary. Let's break this down, pros and cons:<br /><br />Cons: The concept: The premise was set up to be interesting. Using Chaos theory as a theme was interesting. However, it wasn't carried out so well. Correct me if I'm wrong, but it seems to me that Chaos theory was kind of misrepresented. The event that occurred in the movie seemed more like contrived coincidence than anything. I guess the Butterfly effect was represented by the whole \\God(s) causes Tsunami to bring back statue.\\\" The presentation comes off as really sloppy though. Some people call this intelligent, but it just seems to be another souped up action film.<br /><br />Storyline: Is it just me, or does it seem that Kamal just threw this together to give him an excuse to play ten roles? The plot is extremely contrived; Govind kept losing the vial so many times in obscure accidents (his friend just happens to mix up the vial with a package he was sending to India, a crazy old lady just happens to throw the vial into an idol, half the cast just happens to unexpectedly meet up in the same hospital, and the case with the idol just happened to get mixed up with one that belonged to a famous singer.)<br /><br />CGI: Oh god, the CGI. It was even worse than the special effects in Jaws 3, and those sucked. Right away, I could tell which parts were animated. Even my ten-year-old cousin knows that underwater cars don't look like that. <br /><br />Stunts: Yes, I now that action scenes in Tamil movies aren't realistic, but the stunts in this one were horrid and actually distracted me from the story.<br /><br />Make up: I have to admit, they did a better job than expected. I thought Kamal would be playing people with similar skin tones, so the two fake white guys and the fake Japanese Aikido guy caught me off guard. However, it was still pretty bad, I could easily tell which ones were wearing masks.<br /><br />The songs: The music was distracting and out-of-place in many instances.<br /><br />Asin: Her character was possibly the most annoying one in the movie. She was loud, ditsy, and obsessed irrationally about that idol. I actually found myself wishing she would die.<br /><br />Plot holes and Fridge Logic: Let me get this straight: a lab monkey was smart enough to get past a password-locked door, but not intelligent enough to tell the difference between a bar of chocolate and a vial with a deadly virus in it. And then, an ex-CIA agent who's after the vial figures out it's headed for India. Instead of immediately following it, he marries a pole dancer first. A famous Punjabi singer with cancer checks into a small town hospital in the third world when he could easily afford the best medical treatment available. Furthermore, he gets shot in the throat with a bullet. You'd think he would be killed, but instead, the magic bullet has cleared his tumor. You read that right, a BULLET knocked out the tumor. <br /><br />Pros... The Naidu Character: Possibly the only likable part of the movie was his comedy.\"\n",
      "* * * * * * * * * \n",
      "13492\n",
      "Don't understand how these animated movies keep coming out, and no matter how good (or bad) it is people love it.<br /><br />I saw this movie with my two kids (5,7). They like pretty much anything animated (like most people who rated this film). The theater was almost full, and I looked forward to seeing the movie with its superb cast. To tell the truth I was bored silly. It was unbelievably predictable and just plain unfunny. There were a couple chuckles throughout the film and that was it. Of course they tried time and time again to get the cheap laugh, but just didn't work. My son almost always says to me that he wants the DVD after we see an animated movie, but not on this one. My daughter fell asleep half way through. Also, the kids thought the character animation looked weird. I haven't heard that from them since seeing The Polar Express, which gave my daughter nightmares.<br /><br />Trust me, I'm not the type who looks for the negative in everything. But quality is quality, and like so many animated movies they throw out there, it has very little.\n",
      "* * * * * * * * * \n",
      "13496\n",
      "Drawing Restraint 9. dir: Matthew Barney.<br /><br />How do you know when you're in the middle of a pretentious art film? Is it that there is only 8 lines of dialogue in 140 minutes of film? Is it when Bjork is wearing what looks like a giant furry pita on her head in a pseudo-Asian ritual? Maybe when mammoth turds and spinal columns are used in a whale blubber experiment. Or, when you're about ready to kill the composer for making a minimal, and still annoying, version of a Philip Glass score? In any case, Drawing Restraint 9 is among the most pretentious of the modern art movies. At 135 minutes, it adds to its pretension by being boring to boot. I would call the use of color stunning, and the opening sequence interesting, but the rest of the movie looked like it was filmed for a Discovery Channel documentary. That is until it looks like they were trying to film their version of P-ss Christ, but that will be coming up later.<br /><br />Actually, the documentary-esquire portions were the best parts of it. The surface plot is about a whaling ship, and then there is a ritual about making whale fat. Then, there are the guests in the form of Bjork and Matthew Barney who are welcomed on the ship by being put through a ritual of humiliation which includes passed-out head shaving (think frat boy pranks), nicotine patches, and giant furry pita hats. Then there is mutual evisceration, cannibalism, and lets not forget the giant turd.<br /><br />Matthew Barney has written that this is about \\the relationship between self-imposed resistance and creativity.\\\" That's almost like saying, \\\"if you don't get it, then you're not creative in your interpretation, so sod off because I'm an artist.\\\" Oh, wait, that's the POST-modern interpretation of that sentence and what the movie would be about if it was POST-modern. But, its supposed to be Modern art. Which is about the art itself.<br /><br />So, let's start this whole interpretation bit, shall we? The following lines are only 3/4 serious and should not be taken as any realistic attempt to interpret the movie.<br /><br />The first half-hour concerns pearl divers and the construction of a giant ramp. Obviously, the ramp is symbolic of the need for self-elevation to whatever standards you hold dear, and the pearl divers are looking for pearls of wisdom. Then, on a whaling ship, they build a crate that looks like it is in the crude shape of a whale. Obviously a crude element of foreshadowing.<br /><br />On the ship, they make whale fat inside the shape of the whale, and take out the fins portion. They replace this with a spinal column and later a giant turd. These are supposed to be the states of the movie itself. When its fat, its entertaining but bad for you. When it is the spinal column, its the \\\"important\\\" parts of the movie, or the backbone so to speak. Then, the giant turd is the bowels of the movie, or when the movie is crap.<br /><br />Bjork and Matthew Barney the arrive on separate ships, are put into strange humiliating outfits which AREN'T EVEN WELL MADE OR SYMMETRICAL, one suspects that they ran out of money and Barney was trying to quit smoking. SO, they put patches on his head. They go through a ritual and learn about the ship from a Japanese wise man, who tells them that the ship is scarred from when another ship hit it; a crash or intersection, if you will. This inspires Bjork and Barney, who are different on the outside, to start cutting each other's legs off and eat them so they could turn into whales themselves and be the same person. They intersect. Oh, did I forget to mention that this has been done in a Robbie Williams video? Then, the pearl divers come back with their mouths full of pearls of knowledge which they let fall to make a stupid Venn Diagram. Barney made it through 8th grade geometry, obviously. Or, maybe at least some social studies.<br /><br />Oh, and did I forget Bjork's ear-gouging I-want-to-kill-her score? At times it is hypnotic, but at others you just want to assassinate her.<br /><br />Art film is one thing, but when you just throw up all sorts of symbolism in the hopes of getting a reaction out of people, it becomes a self-destructive joke. When do you cross the line between becoming a joke in terms of art? Dali and Bunuel frequently made surreal pieces of nonsense but were more coherent and/or entertaining than this piece of trash. Un Chien Andalou had the sensibility to cram as much symbolism as it could into less than half an hour.<br /><br />So, can I recommend this? Only if you like dull HIGH ART films with lots of symbolism and flat imagery.<br /><br />D+\"\n",
      "* * * * * * * * * \n",
      "13612\n",
      "Oh a vaguely once famous actress in a film where she plays a mother to a child . It`s being shown on BBC 1 at half past midnight , I wonder if ... yup it`s a TVM <br /><br />You`ve got to hand it to TVM producers , not content on making one mediocre movie , they usually give us two mediocre movies where two themes are mixed together and NOWHERE TO HIDE is no different . The first theme is a woman in danger theme cross pollinated with a woman suffering from the pain of a divorce theme which means we have a scene of the heroine surviving a murder attempt followed by a scene having her son Sam ask why she divorced ? And being a TVM she answers that the reason is \\ That people change \\\" rather than say something along the lines like \\\" I`m a right slapper \\\" or Your daddy cruises mens public toilets for sex \\\" as does happen in real life divorce cases . And it`s young Sam I feel sorry for , not only are his parents divorced but he`s as thick as two short planks . Actually since he`s so stupid he deserves no sympathy because he`s unaware that a man flushing stuff down a toilet is a drug dealer , unaware that you might die if someone shoots at you , and unaware that I LOVE LUCY is painfully unfunny . If only our own childhoods were so innocent , ah well as Orwell said \\\" Ignorance is strength \\\" . Oh hold on Sam is suddenly an expert on marine life ! Is this character development or poor scripting ? I know what one my money`s on . And strange that Sam the boy genuis hasn`t noticed that if the story is set in 1994 then why do people often wear clothes , drive cars and ride trains from the 1950s ? But as it turns out during a plot twist it`s the mother who`s the dummy . Then there`s a final plot twist that left me feeling like an idiot for watching this\"\n",
      "* * * * * * * * * \n",
      "13639\n",
      "This movie is simply not worth the time or money spent. Full of clichés and a plot that makes absolutely no sense ! I cant believe that so many people have given this awful movie a 10. My guess is they are stooges of the movie maker. <br /><br />If I could give this movie a zero, I would. Too bad IMDb doesn't allow that. <br /><br />The only reason I watched it because I went with a friend who really wanted to see it. Whats sad is that I never had great expectations from this movie to begin with and yet I felt short changed. Take my word, don't waste your $8 on this piece of trash. The only entertainment I got out of the movie was making fun of the directors name. In all, highly NOT RECOMMENDED !\n",
      "* * * * * * * * * \n",
      "13801\n",
      "I entered the theater to Sky Captain in 2004 expecting a good film. Nearly every review of this movie had been positive, the effects looked enticing, the previews convincing.<br /><br />Needless to say, disappointment actually doesn't describe the feeling I got from this film. It was rage.<br /><br />Beyond being boring and poorly written, the reason this film gets a 2 out of 10 stars is because everything in the film was stolen from another source. I understand the difference between an homage and stealing: this was stealing. More importantly, it seems that the filmmakers didn't steal to progress a point or move the plot along. They stole just to show that they could. There is literally no point to showing a clip of The Wizard of Oz in a theater at the beginning of the movie except to set up another scene (that I won't elaborate on) which steals from the same film. Needless to say, every concept in the film was neither original nor even a spin on an old concept: it was literally just a rehash of something I had already seen, from pulp-era robots reminiscent of the old Superman Cartoons and the recent film \\The Iron Giant\\\", to the silent martial artist minion of the villain that has been used in countless films, most recognizable in recent years as Darth Maul in \\\"Star Wars: The Phantom Menace\\\".<br /><br />On the subject of the actual film, most of the performances were completely wooden. Perhaps this is because the entire movie was done on a blue-screen, with computer imagery filling in everything save the actors. Frankly, this is no excuse for poor acting. If a person was ever a child, they understand that a lack of visual reference is no excuse for not trying.<br /><br />Finally, there is no humanity in this film. The protagonists are the only real human beings here. Nearly all the antagonists are robots, and the number of friendly characters that are shown during the film can be counted on one hand. If robots are attacking the entire planet, shouldn't we expect to see masses of humanity running from them? The sub-par performance of the main characters prevents us from connecting to, really, anything here.<br /><br />The film wasn't the worst movie out there, which is why I didn't give it a 1. Rather, the film was an example of all that is wrong with modern action films: the filmmakers tried to justify the movie with special effects, but without artistic vision or originality of any kind, it falls flat.\"\n",
      "* * * * * * * * * \n",
      "14301\n",
      "I watched this movie yesterday and was highly disappointed.<br /><br />Heather Graham and Tom Cavanaugh basically had to carry this awkwardly unbelievable script for five hours (or however long it actually was). From the beginning, every single element of this movie is unbelievable. This movie made me chuckle several times, but they were mainly out of shock that the director/writer actually expected us to believe the many messy scattered elements that attempted to piece this movie together.<br /><br />The movie's focus is Gray (Graham) and her issues with intimacy. Things get interesting when she realizes that she and her brother have unexpectedly WAY too much in common.<br /><br />Interesting, intriguing. However, instead of unraveling this story into something believable and palatable, the director keeps taking Gray into these ludicrous twists that never actually make any sense at all. Being an LGBT individual, this movie seemed to echo what all heterosexuals think we go through in the coming-out process. (I'll be insulted if the writer's queer.) Had it not been for the cute chemistry between Cavanaugh and Graham (which, by the way, was understandably forced), I would give it a negative 3 stars.\n",
      "* * * * * * * * * \n",
      "14353\n",
      "Can it ever be said that there are some movies that have no redeeming features whatsoever? Answer: Yes, and this is one of them. After helming the appalling 'House of the Dead' director Uwe Boll has now cast his less-than-talented eye towards yet another video game adaptation. Don't these guys get it? To anyone who can't understand, here it is in block capitals for you: VIDEO GAMES DO NOT MAKE FOR GOOD MOVIES! The acting here is, at best, sub-standard. The set design and special effects are poor. Unlike the video game (which did have its scary moments) the movie has no atmosphere of impending doom, no sense of danger or menace. Pacing and plotting is confused and the paper that the script is printed on would have been better used as toilet paper. The main culprit is the director. Uwe Boll uses the camera with the grace and skill of a monkey using a paintbrush. Hackneyed zooms, swoops and pans are spliced into the whole dreary affair at unpredictable moments leaving the audience disorientated and bored. Why this guy was ever let near a movie set in the first place must stand as one of modern cinemas greatest secrets. Avoid at all costs.\n",
      "* * * * * * * * * \n",
      "14566\n",
      "i am very disappointed with this movie because i like these french actors and i liked \\Buffet Froid\\\" from this Director (bertrand blier) but the script of \\\"Les Acteurs\\\" is VERY POOR. why these actors they agreed to play this poor scenario.\"\n",
      "* * * * * * * * * \n",
      "14687\n",
      "I never thought I see a movie worse than \\Lisa Picard Is Famous\\\", but this came pretty close. As repeated often throughout the comments, it was predictable; five minutes into the movie you know it will be a stranded at the alter outcome. This movie painfully references/rips off everything from \\\"Something about Mary\\\" to \\\"Revenge of the Pink Panther\\\". Writer Greg Glienna (Meet the Parents) needs some new material.<br /><br />The only twist is the deranged boyfriend/police officer pursued by internal affairs, but even that opportunity is wasted. Lots of setting shots of the Seattle Space Needle necessary to disguise the obvious Canadian shooting locale. Some of the worst driving in the car scenes with almost no effort to disguise the fact that the car is being pulled through town on a trailer. Geez, at least turn the wheel or put the brakes on once in a while. Selma Blair is inert and the short haircut a crime. $3M to Jason Lee, for what? Guess it beats skateboarding!<br /><br />So here's who should see this movie: Bee Gees fans who want to hear two actors sing 'Islands in the Stream' badly; People who can't get enough of Julia Stiles. 1/10\"\n",
      "* * * * * * * * * \n",
      "14692\n",
      "Saw this movie in my English class this afternoon and was surprised by how bad this version was. Don't get me wrong, George C. Scott was terrific as Scrooge, but the rest of the cast fails so very badly. Sometimes I couldn't stop laughing at the stupid acting and the repeated line: \\Merry Christmas to everyone!\\\" Other times I almost fell asleep.<br /><br />The movie is based on a Charles Dickens short story about a rich guy, who don't think Christmas is nothing but humbug. After 30 minutes, the rich guy is visited by three ghosts, who persuade him to celebrate Christmas after all.<br /><br />I can not understand how this movie, with a script so bad it must have been written in five minutes, can be so well-rated. Instead of this piece of garbage, I recommend to you, the Bill Murray comedy Scrooged. That at least, was funny...\"\n",
      "* * * * * * * * * \n",
      "14713\n",
      "This movie sucked. It really was a waste of my life. The acting was atrocious, the plot completely implausible. Long, long story short, these people get \\terrorized\\\" by this pathetic \\\"crazed killer\\\", but completely fail to fight back in any manner. And this is after they take a raft on a camping trip, with no gear, and show up at a campsite that is already assembled and completely stocked with food and clothes and the daughters headphones. Additionally, after their boat goes missing, they panic that they're stuck in the woods, but then the daughters boyfriend just shows up and they apparently never consider that they could just hike out of the woods like he did to get to them. Like I said, this movie sucks. A complete joke. Don't let your girlfriend talk you into watching it.\"\n",
      "* * * * * * * * * \n"
     ]
    },
    {
     "name": "stdout",
     "output_type": "stream",
     "text": [
      "14806\n",
      "The problem I find with this title is that I am not sure if the director is trying to produce a documentary or movie. A blend of the two genres just doesn't work and that leaves the whole thing hung in the middle of nowhere. This is more so as the director has picked the most extremes of what is supposed to be happening around our everyday life making it an unconvincing documentary. If it is meant to be a thriller/drama this is too dull and monotonous. In either case, what is the moral or the message which the director is trying to convey to the audience? That around us there are people who ill-treat others who are willing to be ill-treated? That there are many crazy lunatics around us? So..........so what?\n",
      "* * * * * * * * * \n",
      "15150\n",
      "Three story lines and not enough tying them together, \\Inside Man\\\" was very jumpy and an incomplete attempt to be artistic and realistic. Though having its moments, the movie started off looking like a fast thriller which quickly grounded to a slow crawl, jumped quickly between highs and lows, and only barely picked up steam again near the last 20 minutes. I will give credit to Denzel Washington, he played his part extremely well with a full grasp of his human side and not just the typical \\\"super-detective\\\" with all the answers. Clive Owen also did quite well with his duality part as \\\"evil genius\\\" and \\\"criminal mastermind\\\" (both not the same in retrospect). Overall though, each person individually created a great sub-section. Yet, when the parts finally came together and everything counted, there was no sudden \\\"ah-ha!\\\" or summation of everything. It all ended up with very little of the energy it began with, with a lot of plot-holes, tons of questions, and as I said earlier, no where near Spike Lee's normal level. I have to completely disagree with the so-called \\\"professional critics\\\"... this is not the movie they play it up to be.\"\n",
      "* * * * * * * * * \n",
      "15180\n",
      "The Education of Little Tree is just not as good as it could have been. Little Tree's education is about things like the circle of life and how you should look at a star to help you. Whatever happened to the three R's? Readin' 'Ritin' and 'Rithmetic? When the idiot back talks the teacher at the boarding school place he starts crying and talking to the sky. Oh my gosh. Sure, the lady was a little harsh, but then James Cromwell's character comes and takes him away, leaving the audience thinking that Little Tree was absolutely right. He should learn to adapt to new discipline. Those were the times! Talking to a star is not going to change a thing! Little Tree needs to learn that his adoring guardians are not always right.\n",
      "* * * * * * * * * \n",
      "15471\n",
      "I've been willing to put up with a lot from late-spring/summer action fluff movies, but in general that's been due to the fact that most of them have reasonable payoff (i.e. cool special effects, interesting plot twists, comic value, Steve Buscemi, etc.). This movie, however, had none of this. All that we got was the cheap thrill of several minutes of Eva Longoria's cleavage (an issue of Maxim is cheaper than a movie ticket). There is an embarrassing lack of plot, suspense, back story, character development, continuity, etc. I would get into specifics, but quite frankly I've already-maybe willingly-forgotten most of the movie.<br /><br />The entire time I was in the theater, I was kicking myself for not just spending the afternoon watching a 24 season on DVD. Save your money on this one, folks. Unless you really, really, really like Eva Longoria's cleavage.\n",
      "* * * * * * * * * \n",
      "15908\n",
      "This movie blows - let's get that straight right now. There are a few scene gems nestled inside this pile of crap but none can redeem the limp plot. Colin Farrel looks like Brad Pitt in \\12 Monkeys\\\" and acts in a similar manner. I normally hate Colin because he is a fairy in general but he's OK in this movie. There were two plot lines in this movie-= one about a kid who throws rocks through windshields of moving vehicles and the other about a woman with a moustache. Let's face it- this movie has no freaking idea of what it wanted to say or where it wanted to go. THe characters story lines intertwine on some levels but are in no means worthy of being included in a script. The whole thing is weak and pointless and then there is an occasional OK scene. But overall- Don't bother unless you love irish accents so much that you can watch mediocrity and it is rescued by everyone sounding like the Lucky Charms elf -an American fetish that has catapulted some truly crappy movies to success.\"\n",
      "* * * * * * * * * \n",
      "15967\n",
      "From the creators of Shrek",
      "",
      "",
      "",
      ".. OK, that grabbed my attention.<br /><br />Well the creators of Shrek also made Madagascar. Madagascar was half as good as Shrek.<br /><br />And now Flushed Away is half as good as Madagascar.<br /><br />That means Flushed Away isn't good. The animation and all that special effects were extremely good but the movie wasn't.<br /><br />The story of this movie was only meant for kids. It's seriously not possible for adults to actually love this flick.<br /><br />But there were many jokes meant for adults. I bet kids dint understand the jokes.<br /><br />Despite that I dint like this flick.<br /><br />I am completely disappointed. 4/10\n",
      "* * * * * * * * * \n",
      "16000\n",
      "This is a movie that demonstrates that mood and music and texture aren't enough to make a good film. Sure, the viewer is treated to numerous fine scenes of Los Angeles in the thirties--I especially liked the view of the trolley approaching the tunnel, and the tram rising up the hillside--but in a sense this fine cinematography is self-defeating, because it creates a mood that \\something's going to happen\\\"--and nothing does. The script too keeps feinting toward some plot or action or trauma--and time after time not delivering. Not even delivering the (I assume) theme of the movie, the characters' essential misfit. The lead actors, both too pretty for their roles, didn't convey any repression or agony, and the script didn't expose us to any.<br /><br />Now, Donald Sutherland? That's another story. His character was so well fashioned, so perfectly played, that I wanted the camera to follow him.\"\n",
      "* * * * * * * * * \n",
      "16015\n",
      "I find it hard to believe that anyone would put this movie in the same context as the Exorcist. Where the Exorcist was subtle and creepy, Stigmata was blunt, clumsy, and way too formulaic.<br /><br />This is one of the most visually beautiful films I've seen in a while, but the imagery does not make up for the downward spiral of patronizing exposition that makes it unbearable. <br /><br />My interest in this movie was peaked when it was compared to The Exorcist, and my visit to the official web site increased that interest. The web site had many tales of \\actual\\\" stigmata throughout history. However, scene by scene, the movie is so obsessed by its quest for \\\"genuineness\\\" that it becomes comical at first, then outright hard to watch toward the end. I began getting suspicious when the priest charged with investigating potential miracles walks into the beauty parlor where our would-be heroine cuts hair and, evidently, flirts with priests.<br /><br />The plot: A woman without faith in God begins receiving the wounds of Christ (the Stigmata) and is baffled and upset about the ordeal. A priest is sent straight from the Vatican to investigate the case. Is Frankie possessed by Satan, or a vessel for Jesus Christ?<br /><br />The only miracle in this film is that it finally ends.\"\n",
      "* * * * * * * * * \n",
      "16143\n",
      "Woosh",
      "! Man",
      " What can I say...?<br /><br />The opening-scene, maybe? We see a bunch of mongoloid-barbarians with bad make-up jump off the walls of some ruins. They sneak around and attack some dude with a scantily clothed captive girl. The dude runs off, the mongoloids follow him and one of them stays behind seemingly to rape the girl, but instead he exposes one of her breasts and kidnaps her. Then, the dude (still on the run) sees a horse and tries to steal it. Suddenly",
      " a blond god-like looking hero with a bad wig appears, saying \\That's my horse!\\\". The Mighty Deathstalker just made his appearance. The mongoloids arrive, Deathstalker kills all of them (including the dude) on the tunes of some rather inappropriate Mexicanos western score (this is supposed to be a Swords & Sorcery flick, so what's with the 'arriba-trompettos'?), and then goes up to Captive Girl and exposes both her breasts. He starts to rub them and Captive Girl seems to like it. She starts liking her lips and caressing Deathstalker. Just when they are about to get down to it, this old dude appears, interrupting what could have been the end of a perfect day for Deathstalker (and a possible perfect ending for a short-film).<br /><br />Now tell me",
      " Isn't that the point where either a feminist would angrily switch off the movie, or any other male viewer would say \\\"This is going to be one hell of a good movie!\\\" The plot is as simple as throwing a kitten from the balcony: Deathstalker must obtain the Sword of Justice and use it to steal the Amulet of Life and the Chalice of Magic from the evil sorcerer Munkar.<br /><br />Aside from decapitations, dismemberment, random bloodshed, retarded fist fights and embarrassing sword fights, this film also contains a massive amount of t!ts & a$$ shots. I initially wanted to add one extra point to this movie for each gratuitous shot of naked boobies I could count. After 9 points (not even halfway into the movie), I had to give up counting. It was distracting me from the rest of the movie. And the rest of the movie was worth it. Totally crazy stuff. Check out this mutant cat/worm-like creature Munkar has as a pet and which he feeds eyeballs and fingers. And here's an interesting question: What would you do if a man in a woman's body would enter your bedroom and try to kill you with a knife? The answer is simple: You slap him around a bit, take away the knife and then try to rape him. Then you discover that he's actually not a woman, so you throw him out of your bed and tell him to leave your room. It works out well, I tell you. Deathstalker does it too, and the Deathstalker-way, is the right way!<br /><br />DEATHSTALKER is a wonderful movie, really, as pointed out in other comments. The villains are vile. The women are delicious. There's blood, sex, violence, rape and tasty chicken. There's a completely pointless tournament which just features a bunch of barbarians beating, slashing and hacking the crap out of each other. My favorite weapon used in that tournament was a giant wooden hammer, used to beat a poor contender to bloody pulp. And my favorite contender undoubtedly was that one brute with the Warthog-head (reminiscent of the Gamorrean Guards from RETURN OF THE JEDI). I won't reveal how the movie ends, but just prepare to ravish in delight when I tell you a 4-way dismemberment is thrown into the movie's climax.<br /><br />And of course, there's a wonderful display of ineptitude throughout the whole movie. See a guy being dragged behind a horse over a dirt road, and the next point-of-view shot shows him being dragged over grass (no road). See that awesome tattoo on the sorcerer's head magically change sides within the same scene (on shot has it on the left side of his head, the other on the right). Well, after all, Munkar is a magician. It's that, or this movie was shot in an alternate universe where things like \\\"continuity\\\" simply don't exist.<br /><br />As much as I enjoyed this and as much as I am looking forward to the other 3 installments in this series, I do have enough shreds of decency left in me to not let this movie pass. I am prepared, though, to give it the maximum amount of minimal points, just so I could be able to deduct a couple of more points for the possibly inferior sequels to follow. DEATHSTALKER might be a superbly fun, trashy & sleazy CONAN rip-off, it also is an abominable movie.\"\n",
      "* * * * * * * * * \n",
      "16255\n",
      "Unless somebody enlightens me, I really have no idea what this movie is about. It looks like a picture with a message but it´s far from it. This movie tells pointless story of a New York press agent and about his problems. And, that´s basically all. When that agent is played by Pacino, one must think that it must be something important. But it takes no hard thinking to figure out how meaningless and dull this movie is. To one of the best actors in the world, Al Pacino, this is the second movie of the year (the other is \\Simone\\\") that deserves the title \\\"the most boring and the most pointless motion picture of the year\\\". So, what´s going on, Al?\"\n",
      "* * * * * * * * * \n",
      "16316\n",
      "And that comes from someone that will withstand almost ANY viewing. The acting and sound is awful. This might qualify for a \\so bad it's good\\\" point of merit,,,for some. However I take my horror movies seriously and this is just crap-it's just soooo cheap, I think that's my major complaint. The dialogue is often hilarious-attention to how many times \\\"you startled me\\\" is used. The \\\"child\\\" actress is seriously god awful-I pray her acting career ended here..her line \\\"DONUTS! I HATE DONUTS\\\" is worth repeated viewing however.\"\n",
      "* * * * * * * * * \n",
      "16375\n",
      "Considering the risk of showing same-sex relationships before the late 1980's, Personal Best could have done better to play the same-sex relationship between Hemingway (Chris Cahill) and Donnelly (Tory Skinner) as a more than experimental phase of Cahill's life.<br /><br />It seems to me that the creators of this movie threw in the same-sex relationship between two fairly attractive women in order to attract viewers. Also consider the 90 seconds of exposing the crotches of several women jumping backwards over a high jump pole. This random scene had VERY LITTLE relevance to the movie and it appeared as though this was done merely to keep the audience interested in this bland movie. I suppose the producers were trying to counteract the boring plot and the even more boring setting of the movie (the 1980 Oregon Track and Field Competition).<br /><br />This review may seem harsh, but it is the truth. The exploitation of young Muriel Hemingway's body and the same-sex relationship ruined any credit that I would have given to this film.<br /><br />Pepper Thompson\n",
      "* * * * * * * * * \n",
      "16473\n",
      "Only the glandular secretions -- and please don't ask for any more details -- of young virgins can keep the rapidly deteriorating body and mind of the crazed old amateur horticulturalist's wife fresh and youthful. Since, like most people except those taking part in medical trials, virgins seldom give up their secretions willingly, Dr. Lorenz (Bela Lugosi) arranges for them to be abducted and preserved. He'll do the extracting himself. <br /><br />What a great cheese ball of a premise for a low budget horror movie. If The Corpse Vanishes turns out not to be the Havarti of horror, as a plain limburger it leaves an interesting aftertaste. <br /><br />Sure, the acting is almost awful except for the actors fortunate enough to be playing the crazed dwarf (Angelo Rossitto, who later played The Master in Mad Max Beyond Thunderdome); his crazed brute of a brother, Angel (Frank Moran), who grunts a lot and has a fetish for the virgins' hair; the crazed mother of the two (Minerva Urecal); the crazed wife (Elizabeth Russell), who sleeps in a plush coffin and, of course, the crazed doctor (Lugosi). <br /><br />An enterprising young reporter, Patricia Hunter (Luana Walters) tracks down the doctor because of a strange orchid with a peculiarly sweet odor that had been worn by the victims. When the doctor and his wife invite Pat to stay the night, a raging storm immediately breaks out. That clue tells us some raging violence is about to erupt inside. Since it's well known that in Hollywood at this time all unmarried young women were virgins, Pat may have some unpleasant surprises to deal with. They include dark passages, a crusty laboratory where a near dead virgin is stored, a basement mausoleum and, later, a direct threat to Patricia's own glandular secretions. If she survives, what a story she'll have to give her editor. <br /><br />If you sample this moist slice of moldy Velveeta (and why not? Don't be superior), don't judge Bela Lugosi by the company he keeps here. He had a huge impact in Dracula (1931), but my favorite movie of his is The Black Cat (1934). As Dr. Vitas Werdegast he's a sad, ironic man protective of his two young friends. When he finally takes a scalpel to Hjalmar Poelzig (Boris Karloff) and begins to flay the man alive, ah, well, it's a great scene.\n",
      "* * * * * * * * * \n",
      "16496\n",
      "OMG this was the most painful experience of my life watching this. I could even finish it what is happening to Nick. Their best thing on teen Nick is Drake and Josh and thats about to go off air. The kids songs are kinda of annoying and the so are the kids. My little sister wanted to watch the show because she likes anything that comes on Disney or nick usually but after finish watching this show she said \\ one of the worst shows that I have ever saw so boring.\\\" My little brother actually fell asleep I envy him. In short if your 3yrs old with no brain activity you'll enjoy this show otherwise change the channel now.\"\n",
      "* * * * * * * * * \n",
      "16684\n",
      "The director Sidney J. Furie has created in Hollow Point a post-modern absurdist masterpiece that challenges and constantly surprises the audience. <br /><br />Sidney J. Furie dares to ask the question of what happens to the tired conventional traditionalist paradigms of 'plot' and 'characterisation' when you remove the crutches of 'motivation' and 'reason'. <br /><br />The result leads me to say that my opinion of him could not possibly get any higher.<br /><br />One and a half stars.<br /><br />P.S. Nothing in this movie makes any sense, the law enforcement agents are flat out unlikeable and the organised criminals are full on insane.\n",
      "* * * * * * * * * \n",
      "16774\n",
      "A youth gets a bad hair day, goes out on a hill, and falls into where he can't escape. Then, he meets MR. ATLAS, a \\mythological\\\" dude from 2,000 years ago as his very best friend, and an Arnold Schwarzenegger look-and-sound-alike. His Herculean strength helps the boy out of danger, and later adjusts to modern life. So what's the big deal? This is the lousiest idea for a \\\"family\\\" outing! Either way, this one shouldn't have been attempted at all, really! Our fictional character of might and brawn is nothing more than a typical stranger who appears ordinary to the rest of the universe. To add to the blasphemy is the lack of anything new or appealing, and before you know it, there is some attempted violence that doesn't qualify this as \\\"family\\\" entertainment. The scene where Atlas complains of his undershorts is gaggling, though. Just spend a nice, quiet afternoon in the park for a change.\"\n",
      "* * * * * * * * * \n",
      "16846\n",
      "What was the point of this movie? What was the plot? I do not know. Shaq can't act, people don't know how to direct, and I am Kazaam! A genie who raps? Come on. Maybe Eminem or Linkin Park will be in a movie like this. I remember I watched this just to kill time. It didn't really interest me. I just remember thinking, \\Who put Shaq in this movie???\\\" The whole story seemed stupid too. It made no sense whatsoever. I guess an unrealized moral of this movie is that you can find anything in the ghetto and anything can happen. I can't comment much more because this movie is so terrible there's nothing worth commenting about. I \\\"wish\\\" this movie would go away.\"\n",
      "* * * * * * * * * \n",
      "16864\n",
      "George Brent is a reporter sent to interview an heiress. She is supposedly the heir to a face cream fortune. He interviews her on her yacht. They fall for each other in bathing costumes.<br /><br />It turns out (quite early) that she is not an heiress. She part of an advertising campaign for the cold cream.<br /><br />The movie follows the ups and downs of their romance.<br /><br />The supporting cast does little to buoy it up. Davis and Brent carry the picture. Though it's fairly predictable, it is also fairly entertaining. It's far from her best. But, especially considering its obscurity in her oeuvre, it's not one of her worst, either.\n",
      "* * * * * * * * * \n",
      "17024\n",
      "This is a typical example of technically highly skilled directors of video clips/commercials trying to do their first full feature length movie. On one hand the imagery, camera, lighting, CGI and even the sound are highly polished and have a truly \\expensive\\\" look and feel. Even the actors show a certain amount of potential - unto the point where even the best acting could not hide a bad plot.<br /><br />In this case it is not a bad plot but hardly a plot at all.<br /><br />So 50% of the dialog consists of \\\"What the hell was that ?\\\", \\\"What was that ?\\\" and \\\"What the hell was that ?\\\". In none of the cases any of the characters nor the audience is provided with the slightest hint of an answer though. In most of the other dialogues one gets the feeling that there never was any form of dialogue book and the actors had to freely improvise to a plot that wasn't ever explained to them.<br /><br />The only reason why Skye Bennet's performance could be so good is that her character as an autistic girl didn't allow giving her these tragically horrible dialogue lines the other actors had to deal with. That way she was able to just show her acting talent which the rest of the cast couldn't even get close to. I mean there's not one actor in the world that could make up for a dialogue like this:<br /><br />Ben: Is this real, huh ? Emily: Stop it. Ben: A mass psychosis, huh ? Jon: Somebody has to take control of this situation. Ben: This situation can't be controlled. Not by you, not by anybody. Emily: Not by you either. Ben: No<br /><br />Got me goosebumps. But not for horror, more for the horrible attempt. In some moments I felt ashamed for the actors to have added this to their vita.<br /><br />2 stars for the excellent technical work.\"\n",
      "* * * * * * * * * \n",
      "17412\n",
      "\\Loonatics Unleashed \\\" is the worst thing that could happen to the classic characters created by Chuck Jones . The \\\"Loony Tunes\\\" have many spin -offs and different versions , some were good ,others not very much .But \\\"Loonatics \\\" it's the worst .The concept is stupid and derivative of shows as \\\"The Power Rangers \\\" and \\\"Teen Titans \\\" . There wasn't any similarity with the original characters and the stories are boring and poorly made . The new designs are ugly and the animation is pathetic . This show just doesn't work .This horrible waste of animation is a complete failure and this shouldn't have be nothing more than a bad joke . Lame ! Zero stars\"\n",
      "* * * * * * * * * \n",
      "17525\n",
      "Set in the 70s, \\Seed\\\" centers around convicted serial killer Max Seed (Will Sanderson), who killed 666 people in 6 years. He is sentenced to death, but in the electric chair he doesn't die, even after being shocked three times.<br /><br />Detective Matt Bishop (Michael Paré) and other officers cover up this secret by burying Seed alive. Seed breaks out and goes after the people who put him in his living coffin.<br /><br />Filmed by the worst director in the world (Uwe Boll), \\\"Seed\\\" is nothing more than a snuff film about trying to stretch the envelope of decent society and fails to deliver in any aspect of a storyline. And he said this is based on true events because if a person survives the electric chair after being shocked three times, they will be set free. This is an urban legend, and it would never happen. Much like Boll's other abominations (\\\"Alone in the Dark\\\" for one), \\\"Seed\\\" is just utterly horrendous.\"\n",
      "* * * * * * * * * \n",
      "17579\n",
      "It is not often I watch a film that is as dreadful as this one. I continued to watch, every minute hoping that this was intended as a joke only to find it was meant to be taken seriously. Well, as seriously as this genre requests.<br /><br />The acting was disgraceful and the situations horribly contrived and clichéd. If a film was made in 1920 (for example) and had the quality of Hide & Seek (Cord) in its direction we would think that cinema back then was naive. As it happens, this film was made in 2000 and I have yet to see a film from the silent era that has as little charm as this one.<br /><br />Definitely not for the serious movie-goer.<br /><br />[Not worth a rating]\n",
      "* * * * * * * * * \n",
      "17587\n",
      "Brides are dying at the altar and their corpses are vanishing. No one knows why or who, but an investigative reporter (Luana Walters) notes that each bride was wearing a strange orchid and she goes to interview its creator, Dr. Lorenz (Bela Lugosi). Now Dr. Lorenz is a mad scientist with some strange habits, including sleeping in coffins and injecting his elderly wife (Elizabeth Russell) with the fluid of young brides to keep her young.<br /><br />The Corpse Vanishes has an interesting premise and a short enough run time that it shouldn't be able to get boring. Unfortunately, while it starts off quite well, it does start to drag before the halfway point and gets rather boring with its clichés and predictable plot.<br /><br />There are some good things about it-Bela Lugosi is charming and evil and performs brilliantly; Elizabeth Russell is also a beautiful, suave, aloof and very creepy countess; and I'm always a fan of Angelo Rossitto. Luana Walters is also convincing as the reporter here.<br /><br />It maintains a bit of a Gothic atmosphere and the sets are decent.<br /><br />But overall, it just didn't manage to hold my interest through the whole picture, and for that, I have to rate it poorly.\n",
      "* * * * * * * * * \n",
      "17597\n",
      "This was quite possibly the worst movie I have ever seen. I watched it with a large group of friends and after it was over not a one of us understood the plot. Aside from the lack of plot, the acting was atrocious, the \\special effects\\\" were not so special, and the writing was absolutely horrible. The movie's only redeeming factor is that it's so incredibly bad that it's quite funny. You can't help but laugh at a zombie being run over while actors are spewing crappy dialogue. I wouldn't recommend this film to anyone looking for a good movie, but it's something that a group of friends can get together and have a good laugh about. It's now a running joke among my friends and I. 1 out of 10.\"\n",
      "* * * * * * * * * \n",
      "17606\n",
      "This movie is one of the most wildly distorted portrayals of history. Horribly inaccurate, this movie does nothing to honor the hundreds of thousands of Dutch, British, Chinese, American and indigenous enslaved laborers that the sadistic Japanese killed and tortured to death. The bridge was to be built \\over the bodies of the white man\\\" as stated by the head Japanese engineer. It is disgusting that such unspeakable horrors committed by the Japanese captors is the source of a movie, where the bridge itself, isn't even close to accurate to the actual bridge. The actual bridge was built of steel and concrete, not wood. What of the survivors who are still alive today? They hate the movie and all that it is supposed to represent. Their friends were starved, tortured, and murdered by cruel sadists. Those that didn't die of dysantry, starvation, or disease are deeply hurt by the movie that makes such light of their dark times.\"\n",
      "* * * * * * * * * \n",
      "17624\n",
      "This piece of crap, since I can't call it a movie, can be summed up by the following.<br /><br />-Stereotypical black criminal with black midget partner get in trouble -Black Midget pretends to be a baby with a fully developed adult face, body hair and genitalia -Black midget is mistaken(somehow) by man and woman who happen to want a baby -Black midget than goes on to commit acts of physical and sexual violence, demean white people wherever he sees them, and commit more crimes -Happy Ending<br /><br />Honestly, it could have been a good satire if it hadn't been directed so shallowly and had such talentless bastards star in it.\n",
      "* * * * * * * * * \n",
      "17677\n",
      "I have a high tolerance for the weird, but frankly some movies go way, way beyond weird--so far that they make your brain hurt. This is such a film. Trying to understand it or even explain it is impossible and I think the film is best understood while taking drugs--it's that incomprehensible.<br /><br />The film begins with some very cute Japanese animation involving a cat. However, out of the blue, tons of twisted and occasionally disturbing things occur--making me wonder if I am losing something in the translation. However, even if this is so, why did we need to be treated to images of a magic trick involving dismembering a lady with a clever, defecation, puking, lighting animals on fire, etc.. All this really seemed random and pretty awful. Oddly, and I don't know why, some see this as a work of genius. I just don't get that.\n",
      "* * * * * * * * * \n",
      "17815\n",
      "Ah, the spirit of '68. The streets of Paris were running wild with rebellion, the hippies were high on the spirit of love. How was Britain marking this age of radicalism and revolution? Erm, by the looks of it, dear Old Blighty was focusing on making films about boys in boarding schools. If... contains the evil establishment. It contains the uprising of the oppressed. What it lacks in contrast to the Parisien passion and the hippy headtripping is any sense of excitement, except in its all-out ammo-and-artillery fire ending.<br /><br />Lindsay Anderson's If... stars the ever-marvellous Malcolm McDowell as one of three private school pupils who decorate their dorm with photos of Lenin and other left-wing radicals. It's clearly an anti-establishment movie in its depiction of the evil upper-class oiks who rule the roost and the antiquated autocratic practices of the pish-posh public school standard. What makes If... unusual though is that for all its radical sympathies, it doesn't explicitly give us any sense of great tension between human decency and the despotic school system, instead it just kind of floats: lacking in plot and lacking in personality.<br /><br />Surrealist bits fade in and out occasionally and the film slips from black-and-white to colour again (is it due to the low budget or is it an arty expression?), but there is little of interest to speak of. All we get is the poignant denouement where the young rebels reach for their rifles and shoot down the shady overlords of the establishment. Hooray! A revolution! At last something that demands a second thought unlike the rest of this dull exercise in boarding school daydreaming.<br /><br />If... could have been a powerful political statement, but as it is it drifts and only gathers any sense of direct interest at the end. Instead of being a testament to the dissident zeitgeist of the late-Sixties, it only succeeds in being a dazed document of upper-class British education. Anarchy? Apathy more like, the only man many viewers will want to stick it to after watching If... will be Lindsay Anderson.\n",
      "* * * * * * * * * \n",
      "17829\n",
      "I tend to like character-driven films. I also think Hope Davis turns in consistently good work, so I had high hopes for this movie. Those hopes were soon dashed.<br /><br />The main flaw with this movie is the direction. There are a lot of scenes that are daydream sequences. The movie makes frequent use of the Denis Leary character as the alter ego of the Campbell Scott character. It doesn't work for me at all. This would have worked better as a play than a movie.<br /><br />There are problems with the plot as well. It is important that the characters in a movie take a journey and end up in a place different from where they started. I didn't feel that the characters grew in the experiences portrayed in the movie.<br /><br />Finally, the editing wasn't well done, either. There was a very big sag in the middle of the movie that was exceptionally boring.<br /><br />Except for acting, which I felt was consistently strong, this movie failed in almost every aspect of cinema.\n",
      "* * * * * * * * * \n",
      "18056\n",
      "It is so rare that I get to rate a movie without having some reservation as to whether I should have gone up one or down one but this one.....Did the explosion rate a notch higher, or one down because my brain hurt trying to CREATE a plot. No, THIS ONE....yeah, a solid, no brainer.....ONE/ten\n",
      "* * * * * * * * * \n",
      "18060\n",
      "I thought maybe a film which boasted a cast including Peter O'Toole, Susannah York, Michael Craig & Harry Andrews might be worth watching. Alas, I was wrong. Utter pretentious nonsense from beginning to end with both O'Toole and York overacting wildly. I watched it twice and still have no idea what is was about. I've a feeling O'Toole plays the Laird of a Scottish castle who has a drink problem and likes reliving childhood games with his sister (York). He is also barking mad. But apart from that, your guess is as good as mine.<br /><br />The film has no redeeming feature whatsoever. I can only assume the cast and director were blackmailed into making this dreary, unimaginative, stagy piffle. Clearly a waste of the time of a talented cast and director. Risible.\n",
      "* * * * * * * * * \n",
      "18080\n",
      "This movie was way over-hyped. A lot of the viewers, who thought this was \\amazing\\\" must have been into the old school movies, cause the whole movie is set in the past. At first I thought the movie was just showing something from the past, so I was expecting that faded dreamy like lighting on the characters to pass, but it just going. Basically this was a movie trying to mix the future with the past, and the 2 don't mix very well in this movie, even with special effects. You could actually see the blue screen the actors were working with. There are too many movies out there that do exactly what this movie did, so there is no reason for critics to hype this movie up saying \\\"it's the greatest movie ever done\\\". It's just crap on a stick. It also didn't help that the story line was sooo crappy. I don't understand why Hollywood agreed to have this movie produced, and I also don't understand how actors/actresses in this movie are willing to be in a movie like this. It's almost as though everybody read the script and forgot to read the fine print...\\\"It will all be done on a computer\\\". This was a movie that should have been on a movie network, because nothing about this movie was revolutionary. I'm very upset with myself for paying money to see this. Whatever you do, don't waste your time and money on this movie today or tomorrow.\"\n",
      "* * * * * * * * * \n",
      "18171\n",
      "**SPOILERS**<br /><br />This is one BAD movie. Seriously. Acting in absolutely horrible, the FX are dreadfull and the plot is down right awful. But hey, its so bad that its fun watching! The script is SO bad that its enjoyable! You just have to cringe and laugh at lines such as \\I guess thats what you call CROCTEASING.\\\" as the women flash their breasts at the crocodile. I mean COME ON thats funny cause its so bad! It has such horrible jokes that they're funny! But after a while it just becomes to much as the movie turns into crap. I really started to fall asleep. Trust me though, the plastic croc foot stamping on the leaves and the constant swishes of a crock tail well keep you laughing for a long time. Though I have to say it had one cool part when the croc ripped that dude in half and he just hung there for a while figuring out what to do. Heh heh mindless movie, which HAS to be nominated for the MST3K line!!\"\n",
      "* * * * * * * * * \n"
     ]
    },
    {
     "name": "stdout",
     "output_type": "stream",
     "text": [
      "18480\n",
      "The premise is amazing and the some of the acting, notably Sally Kellerman and Anthony Rapp, is charming... but this film is near unwatchable. The music sounds as if it comes from some sort of the royalty free online site and the lyrics as if they were written with a rhyming dictionary open on the lap. Most of the singing is off-key. I think they may have filmed with the singing accapella and put in the music under it... The dialogue is really stupid and trite. The movie works best when it is actually talking about the real estate but unfortunately it strays to often into stupid farcical sub-plots. I found myself checking my watch after ther first twenty minutes and after 40 wondering 'when is it ever going to end.'\n",
      "* * * * * * * * * \n",
      "18520\n",
      "I'm not even gonna waste time on this one; it's not funny, not scary, practically unwatchable and only occassionaly gory(the FX suck though(no pun intended)). This is a disclaimer; WATCH AT YOUR PERIL! Ask yourself 1 question; Are slugs scary?\n",
      "* * * * * * * * * \n",
      "18558\n",
      "I will never forget the night I saw this movie. We were on a submarine on patrol in the North Atlantic and this was the scheduled movie of the evening. We ALL gave up after the second reel. They did not even try to show it at the mid-night showing. Opting for a rerun instead...... This is all I really have to say but they have this stupid rule that my comment must contain ten lines. I'm not supposed to pad the comment with random words so I will just continue to ramble until I get my ten lines of BS. I could not find George Goble listed in the credits but I remember him in the movie. The sining was terrible and the songs even worse.\n",
      "* * * * * * * * * \n",
      "18590\n",
      "I had high hopes for Troy and I am so bitterly disappointed. The film was directed so badly it made my stomach ache. The pacing was so slow, the dialogue laughable and the film - well apart from a nice fight scene between Achilles (Pitt) and Hector (Bana) - the rest was shallow.<br /><br />And why, oh why does Hollywood always insist on rewriting stories to fit 'consumer approval'. Agamemnon didn't die in Troy, the war lasted 10 years and Achilles was killed by Paris OUTSIDE the walls of Troy with an arrow to the ankle! It annoys me that such a classic story as this is turned into a soap.<br /><br />And don't even start me on the 'lack' of chemistry between Helen and Paris. She was the woman the war was fought over and it didn't even look as if the two of them cared a great deal about the other. No sparks, no emotion, no hope.<br /><br />I have to say in the films defence Brad Pitt, Eric Bana and Peter O' Toole acted very well with a bad script but that isn't enough to save this awful movie. <br /><br />Can anybody tell me where the £200 million budget went? Maybe in all the trees they used for the funeral pyres - where did they get all those trees?<br /><br />I am so disappointed it hurts.\n",
      "* * * * * * * * * \n",
      "18764\n",
      "This pile of sh!t is tied in my book as the worst thing ever made. I can't BELIEVE that someone actually relased this CRAP, let alone acually MADE it. HORRIBLE, HORRIBLE, HORRIBLE. Not even worth mentioning the damn story or any details about it. THAT's how bad it actually is. Avoid it like SARS!\n",
      "* * * * * * * * * \n",
      "18770\n",
      "This review also contains a spoiler of the first movie -- so if you haven't seen either movie and want to but don't want the spoilers, please don't read this review!<br /><br />While this movie is supposed to be about Christian and Kathryn meeting for the first time, the movie is a poor copy of the first Cruel Intentions. The actors that they had portray Ryan Phillippe's Christian and Sarah Michelle Gellar's Kathryn are very poor substitutes indeed. Neither can pull off the smarmy, snooty rich-kid attitude that the original actors did. It's absolutely appalling that some of the dialog was verbatim -- not so much between Christian and Kathryn, but if you listen closely enough you'll recognize it. There are also inconsistencies in the plot - if this were truly the first meeting of Christian and Kathryn, then why is it that Christian fell in love with a girl at the end of the movie? He supposedly was supposed to be in love for the first time in the original movie (with Reese Witherspoon's character).<br /><br />Also, the tie-in with the photography/\\You could be a model\\\" comment at the end was totally lame and didn't add anything at all. Overall, this movie was a waste of time. I can't believe they made a Cruel Intentions 3.\"\n",
      "* * * * * * * * * \n",
      "18786\n",
      "In the days before gore and sex took over, real horror films were made. Castle of Blood is, in my estimation, one of the finest, although other reviewers have given it mixed ratings. In an odd sort of way it reminds of the more recent The Others, which was in the theaters a couple of years ago.<br /><br />Director Antonio Margheriti remade his own picture in 1970 titling it this time Web of the Spider (AKA Nella Stretta Morsa del Ragno). Why he did this I do not understand, although the remake starred Anthony Franciosa and Klaus Kinski and was very good in its own right. Perhaps he saw a good story and wished to tailor it more to American audiences. I do not really know. It is interesting that he did the original in black and white and the remake in color.<br /><br />Castle of Blood is excellent Italian Gothic. La Danza Macabra is said to be an unpublished work of Edgar Allen Poe, who \\appears\\\" in this film. Poe and Lord Blackwood, owner of a haunted castle, bet American writer Alan Foster (George Riviere) that he cannot spend All Souls Night in said castle and survive. Foster eagerly accepts the bet but soon regrets it, for he is witness to a series of murders committed by ghosts. It seems that the ghosts come back to life once every few years but are doomed to re-enact the crimes they committed in life. Lord Blackwood conveniently forgot to tell Foster that his blood is needed for them to resurrect themselves on the next All Souls Night! <br /><br />It does not take Foster and the beautiful Elisabeth Blackwood (portrayed by the incomparable Barbara Steele) long to fall in love, even though their romance is doomed, because Elisabeth is one of the ghosts. I will not give the ending away, but will just say that Castle of Blood is every bit a romantic tragedy as it is a horror story. <br /><br />Comments. This film is greatly atmospheric, even by the excellent standards of the Italians. My personal opinion is they do true horror better than anybody, and the somewhat dim black and white filming only enhances this. In fairness, Web of the Spider was fine in its own right, even with color and greater brightness. I loved the lingering shots, something most modern day directors do not have the patience for. Indeed, when Alan first enters the doomed castle, we are treated to several minutes of him doing nothing but roaming around from room to room, the dread ands unease building in his face and mannerisms. By the time the first ghost appears, the audience is thoroughly primed and ready. There is wonderful dialogue between Alan and the ghosts, something else not often done in standard ghost stories. There are also memorable scenes, very visual for this type of film. Elisabeth's \\\"murder\\\" and the dance scene (reminds somewhat of the similar dance of the ghouls in 1962's Carnival of Souls) were particularly good.<br /><br />Sadly, few general interest viewers will ever hear of, much less see, this film. That is a shame, for this one is a cut above the rest. I got my copy from Sinister Cinema and am not certain if it can be purchased anywhere else. For persons interested in this genre, it is a must see.\"\n",
      "* * * * * * * * * \n",
      "18822\n",
      "pokemon the movie was a terrible film. unlike the first one, this is not a good film at all. the graphics were decent but the story was flat and no real drama was built up in it. in the first one the interaction between the characters were decent. the subtraction of brock and addition of tracey was bad. tracey really doesn't have much to say or do, and unlike brock offers no comic relief. the only good points is you get to see misty actually get jelous over ash, and her early brooding over being called his girlfriend was entertaining. overall this film isn't worth renting and the short movie before didn't do anything for me or my wife. and we do consider ourselves pokemon fans.oh well, maybe the next one will be better.cant ge t much worse\n",
      "* * * * * * * * * \n",
      "18917\n",
      "The Hamiltons tells the story of the four Hamilton siblings, teenager Francis (Cory Knauf), twins Wendell (Joseph McKelheer) & Darlene (Mackenzie Firgens) & the eldest David (Samuel) who is now the surrogate parent in charge. The Hamilton's move house a lot, Franics is unsure why& is unhappy with the way things are. The fact that his brother's & sister kidnap, imprison & murder people in the basement doesn't help relax or calm Francis' nerves either. Francis know's something just isn't right & when he eventually finds out the truth things will never be the same again...<br /><br />Co-written, co-produced & directed by Mitchell Altieri & Phil Flores as The Butcher Brothers (who's only other film director's credit so far is the April Fool's Day (2008) remake, enough said) this was one of the 'Films to Die For' at the 2006 After Dark Horrorfest (or whatever it's called) & in keeping with pretty much all the other's I've seen I thought The Hamiltons was complete total & utter crap. I found the character's really poor, very unlikable & the slow moving story failed to capture my imagination or sustain my interest over it's 85 & a half minute too long 86 minute duration. The there's the awful twist at the end which had me laughing out loud, there's this really big sustained build up to what's inside a cupboard thing in the Hamiltons basement & it's eventually revealed to be a little boy with a teddy. Is that really supposed to scare us? Is that really supposed to shock us? Is that really something that is supposed to have us talking about it as the end credits roll? Is a harmless looking young boy the best 'twist' ending that the makers could come up with? The boring plot plods along, it's never made clear where the Hamiltons get all their money from to buy new houses since none of them seem to work (except David in a slaughterhouse & I doubt that pays much) or why they haven't been caught before now. The script tries to mix in every day drama with potent horror & it just does a terrible job of combining the two to the extent that neither aspect is memorable or effective. A really bad film that I am struggling to say anything good about.<br /><br />Despite being written & directed by the extreme sounding Butcher Brothers there's no gore here, there's a bit of blood splatter & a few scenes of girls chained up in a basement but nothing you couldn't do at home yourself with a bottle of tomato ketchup & a camcorder. The film is neither scary & since it's got a very middle-class suburban setting there's zero atmosphere or mood. There's a lesbian & suggest incestuous kiss but The Hamiltons is low on the exploitation scale & there's not much here for the horror crowd.<br /><br />Filmed in Petaluma in California this has that modern low budget look about it, it's not badly made but rather forgettable. The acting by an unknown (to me) cast is nothing to write home about & I can't say I ever felt anything for anyone.<br /><br />The Hamiltons commits the cardinal sin of being both dull & boring from which it never recovers. Add to that an ultra thin story, no gore, a rubbish ending & character's who you don't give a toss about & you have a film that did not impress me at all.\n",
      "* * * * * * * * * \n",
      "18985\n",
      "The head of a common New York family, Jane Gail (as Mary Barton), works with her younger sister Ethel Grandin (as Loma Barton) at \\Smyrner's Candy Store\\\". After Ms. Grandin is abducted by dealers in the buying and selling of women as prostituted slaves, Ms. Gail and her policeman boyfriend Matt Moore (as Larry Burke) must rescue the virtue-threatened young woman.<br /><br />\\\"Traffic in Souls\\\" has a reputation that is difficult to support - it isn't remarkably well done, and it doesn't show anything very unique in having a young woman's \\\"virtue\\\" threatened by sex traders. Perhaps, it can be supported as a film which dealt with the topic in a greater than customary length (claimed to have been ten reels, originally). The New York City location scenes are the main attraction, after all these years. The panning of the prisoners behind bars is memorable, because nothing else seems able to make the cameras move. <br /><br />**** Traffic in Souls (11/24/13) George Loane Tucker ~ Jane Gail, Matt Moore, Ethel Grandin\"\n",
      "* * * * * * * * * \n",
      "19034\n",
      "Attack Force has a horrendous title, and can almost certainly be judged by it's awful cover, because the film is horrible! A mish-mash of plot lines, a choppy mess, and a horribly stagnated pace, make the film hard to watch start to finish. I managed this and I'm proud. As a fan of Seagal's work (mostly of his old days), it's painful to see him star in such tripe. True Seagal's last half dozen movies or so, have sucked a lot, but some of them at least had some redeeming features. Attack Force is a mess. From conception to delivery this film has undergone many changes, from an alien plot line, to the current one about a highly addictive super drug, about to be unleashed on the Romanian (the film has several settings, none of which are Romanian, but all look like Romania because they are in Romania!) populace. The film is tacked together with little regard for whatever state the original shooting script was. Plot-holes and loose ends are abound in the film that's for sure. That's been a problem in Seagal's last few films as well, but never has the result been so boring. There's a whole plot line about the water supply being poisoned with CTX (that's the drugs cool name) that is never resolved! <br /><br />Of course in recent years the plot's haven't been the main draw in the Seagal canon so there was a big onus on the other departments, especially the action. Before I regard the action though, all the other departments are poor. The direction is poor, or perhaps better put, made to look poor. Who knows how director Michael Keusch originally intended this film? Between him finishing his job, the re-shoots by stunt man Tom Delmar, and the editing, a coherent auteur vision is completely lost. The best way to describe the film is that it's just all over the shop! The cinematography is dull, nearly inducing sleep, while the droning score (sounding like it was produced on the cheapest of cheap synthesizers) does nothing to excite matters. The cast too are poor, unable to salvage anything here. Seagal looks bored beyond recognition, and is dubbed through much of the picture, clearly when plot-points are being changed. He looks tired and overweight, and lethargic, unlike he's looked in previous pictures too (remarkable as the aforementioned have been key complaints in Seagal's recent pictures). The only redeemable cast member is Adam Croasdell as one of the villains, doing a slimy Brit routine. He seems to be a throwback to the alien plot line, because he's playing it inhuman. He seems like a cross between a body snatcher and a vampire (ditto to the lead villain played by some hot chick who appears on occasion, seemingly waiting for her husband",
      " Dracula).<br /><br />Finally the action. Well it's poor. Poorly conceived, poorly shot. There's not much either, and there's even less featuring Seagal. Stevo doesn't really bring out the stunt double here, because there's so little to do. There's even a lengthy (repetitive and boring) action scene on the hour mark that inter-cuts occasionally with little flashes of Seagal's stand in because clearly Seagal wasn't there while the scene was being shot, and they wanted to have him feature in the action scene. Seagal eventually appears in person to shoot two guys in the head. Seagal has a producers credit here and a script credit, but from what I understand the film has been altered behind his back to the current state it's in. Seagal will apparently not be working with these people again, or with Castel Studio's who continue to deliver horrifically sub-Nu-Image (that's saying something), material.<br /><br />Overall this is one to avoid if you are not a Seagal fan. Seagal fans can also be safe in the knowledge that the big man probably won't want to do anything this bad again. Unfortunately his next film which has already been shot, with the same people, promises to be even worse than this. *\n",
      "* * * * * * * * * \n",
      "19050\n",
      "This was surely the stupidest, crudest, most repulsive film I have seen in quite some time. I was tempted to turn off the VCR, but, as in the fascination watching a horrible car accident, I literally found it COMPULSIVELY HATEABLE in every conceivable way and slugged it out through to the end. I am by no means a prude who objects to the comedic portrayal of sexual antics on the screen. Animal House, Porky's, There's Something About Mary, both American Pie movies, and even the notorious Freddy Got Fingered I have found highly enjoyable on their own crude terms. Mamie Van Doren's breast-baring sponge bath is the most horrifying appearance by a naked geriatric since The Shining. Ineptly edited and shot, with incredibly annoying performances from Devon Sawa and Jason Schwartzman, the film ended, without the benefit of having made me giggle once. The only useful purpose for the film is as a textbook example of how not to make a gross out picture. Oh, and it would also serve nicely as a lawn fertilizer.\n",
      "* * * * * * * * * \n",
      "19093\n",
      "Whoever wrote up \\Redline\\\" as a great car movie must be getting paid off by Daniel Sadek to promote this ultra crappy flaming, steaming pile of amateur crap. Easily the worst automotive movie or any movie ever made. This makes Showgirls look like Citizen Kane.<br /><br />Take every cheesy cliché out of an 80s action TV series, put in some really crappy special effects and lame characters with no relevance and you have living proof that Daniel Sadek should not write screenplays and produce movies but should remain in the real estate business.<br /><br />This is such a lame movie with such a lame plot and the most contrived action sequences ever. What offends me is not that the makers of this film are idiots but that they consider the movie going public to be idiots enough to fall for this crap.\"\n",
      "* * * * * * * * * \n",
      "19115\n",
      "In general I like dinosaur movies but this one is pure crap. No script, no dialogues, no acting. And the brave colonel Rance trying to show he is tough and so curving his mouth resembles as a twin brother the stupid Proctor from the Police Academy. So this was a complete waste of time (fortunately not waste of money as I saw the film on TV). And I really cannot understand 7 people who graded this sh*t 10. They must've joked. My advice, if you see this title run from it!\n",
      "* * * * * * * * * \n",
      "19347\n",
      "I have always admired Susan Sarandon for her integrity and honesty in her private life as well as her talents as an actor. I therefor found it strange that she would appear in a film that so distorted that facts. Her character's rescue from the South Pole was done by a Canadian charter company from Edmonton, Alberta flying a Canadian designed and built Twin Otter aircraft. The trip had been turned down by the US Airforce, Navy and Coast Guard as beyond their capabilities. The same company staged a similar rescue a few years later to bring out a man from the South Pole base. I feel that the film fairly represented a very gripping subject and documented a very courageous woman facing a frightening task. I fail to see why the producers would find it necessary ignore the bravery of the rescue pilots and show the rescue plane as a USAF Hercules.\n",
      "* * * * * * * * * \n",
      "19399\n",
      "This is probably the most boring, worse and useless film I have seen last year. The plot that was meant to have some philosophical aspects emerged to me as a very bad hollow copy of the matrix, with plenty of clichés: the lone wolf cop, good looking, psychologically disturbed, sleeping with his gun... + nice hard worker and shy, but good looking she-scientist, you add a 2 cent plot and you have I, Robot! I was terribly disturbed by the obvious advertising of brands like FedEx,Audi,converse etc. This movie stinks the commercialization and tend to be more a poor ad spot that unfortunately will not end after 30 sec. I wouldn't recommend this to my worse enemy, if you have some spare time, watch a good TV program instead or better read a nice book.\n",
      "* * * * * * * * * \n",
      "19420\n",
      "Many moons ago when I was seven years old, I can vaguely remember seeing a trailer for this movie. It appealed to my naive sense of curiosity and I decided to ask my parents to take me to this movie. Being the wise adults that they are, they told me \\Absolutely not! It's a bunch of trash.\\\" Of course, I was very disappointed that I would not be the first kid on my block to see the \\\"Incredible Melting Man.\\\"<br /><br />Little time passed - maybe a couple of days. I forgot about \\\"The Incredible Melting Man\\\" and my disappointment faded. Twenty-five years passed until it re-entered the forefront of my thoughts. While surfing through channels on digital cable, I found this long-lost relic of a movie. My curiosity was piqued and I decided to finally partake in this fruit forbidden by my parents. I should have listened to them. The \\\"Incredible Melting Man\\\" is perhaps the worst movie known to man. It makes movies such as \\\"Def-Con 4, \\\"Metalstorm\\\", and \\\"Freddie Got Fingered\\\" look like Oscar nominees. I feel violated for wasting almost two hours of my life watching this vile filth. The story was incoherent and the effects were crude even for 1977. How anyone convinced a film company to produce this movie beyond me.<br /><br />Don't make the same mistake that I did. Listen to your parents if they forbade you to watch this movie. They were right.\"\n",
      "* * * * * * * * * \n",
      "19475\n",
      "Although in some aspects Seven Pounds is solid and interesting in some of its narrative style, Gabriele Muccino's project is rather mediocre. The movie becomes more and more sappy and manipulative as it move toward the end: hearts human and emotional, eyes physical and metaphorical. Seven Pounds is more of an amateurish imitation of Alejandro González Iñárritu's Amores Perros and 21 Grams, with lots and lots of flashbacks. The problem is the story is quite predictable from VERY easily on through the movie. That's too bad, because Seven Pounds could have been as authentically \\good\\\" if Ben and Emily had been put in the right hands.\"\n",
      "* * * * * * * * * \n",
      "19569\n",
      "Well. Where to begin. Let's just say this; avoid this movie at all<br /><br />costs. It's based on a cartoon series. The movie makes the cartoon look<br /><br />like Hamlet. Filled with emasculated actors who seem embarrassed to be<br /><br />here, lousy camera work, terrible music, and enough product placement to<br /><br />make you want to never visit Yahoo! again, this movie is really the<br /><br />bottom of the barrel. To quote the New Yorker, Matthew Broderick and<br /><br />Rupert Everett mug their way through this picture with the gay abandon<br /><br />of men who have spotted a rare species of paycheck in the distance.\\<br /><br />They should pay us some of the millions they earned for watching it.<br /><br />Awful.\"\n",
      "* * * * * * * * * \n",
      "19593\n",
      "OMG this is one of the worst films iv ever seen and iv seen a lot I'm a Film student. I don't understand why Angelina Jolie would be in this movie? Did she need the money that badly? I love AJ and have seen almost everything shes ever been in so i watched this 2 tick another one off. It was SOO bad! not even good bad, just bad bad. It had 1 or 2 funny little moments but all in all it was bad n a waste of 101 minutes. I cant even say AJ looked good in it because well she didn't. The plot is predictable unless you r expecting a re-telling of Romeo and Juliet then its not. All round disappointing. Maybe if your 12 this could be a good film otherwise I really don't recommend it.\n",
      "* * * * * * * * * \n",
      "19622\n",
      "I thought the film was good in parts.the start was exciting .the first 30 minutes of the film were good.the camera angles in the first 30 minutes were strange and i did not like it coz the were they not covering the actors entirely.<br /><br />i think the last 25 minutes of the film were really not that great from which we expect a lot in case of such films.<br /><br />the dialoques did not make sense and i don't think they were very witty.<br /><br />i felt as if they were trying to copy films like phonebooth in terms of dialogues,but failed miserably.it seemed as if they many of the scenes between the actors were put for sake of it and did not make any sense to the story.<br /><br />the entire film features only law and caine.<br /><br />i don't think it was a waste of time,its an OK film,but not gr8\n",
      "* * * * * * * * * \n",
      "19655\n",
      "I really wanted to like this movie because the critics have been unkind<br /><br />to it (to say the least)... but it was terrible. Really terrible. Badly<br /><br />acted, a witless script, cack handed direction... Watching this film was<br /><br />like watching a car crash- you want to look away but you keep staring<br /><br />because you want to see how messy it's going to get. Well, the car is<br /><br />wrecked and there are no survivors. On the plus side, the cinematography<br /><br />was nice, made me want to go on holiday, if only to cleanse myself from<br /><br />this unholy\n",
      "* * * * * * * * * \n",
      "19724\n",
      "Platoon is to the Vietnam War as Rocky IV is to heavyweight championship boxing. Oliver Stone's story of the experience of a US Army platoon in Vietnam in 1968 is so overdone it's laughable. While most or all of the occurrences in Platoon did occur over the 10+ year span of US military involvement in Vietnam, to portray these things happening to one small group of men in such a short time frame (weeks) gives a horribly skewed picture of the war. In Platoon, the men of the platoon see all of the following in the course of a week or two: US soldiers murdering civilians, US Soldiers raping civilians, a US Sergeant murdering another US Sergeant, a US Private murdering a US Staff Sergeant, US soldiers killed/wounded by friendly fire, 90%+ killed or wounded in the platoon. For Stone to try to pass this film off as the typical experience of a US soldier in Vietnam is a disgrace. Two Vietnam War films I would recommend are We Were Soldiers (the TRUE story of arguably the worst battle for US soldiers in Vietnam) and HBO's A Bright Shining Lie.\n",
      "* * * * * * * * * \n",
      "19740\n",
      "A serial killer dies in a snowstorm and gets mutated into Frosty the Snowman's evil twin. Then goes on a killing spree. Interesting plot. Sounds scary. And it is scary. If you're five years old. Otherwise, it's kind of cheesy. I saw it on cable and I'm glad I didn't pay money to see it. It has all the charm and style of a low-budget movie which may become a cult film. I'm sure it has a loyal fan base somewhere. I'm just not in it. Even though I didn't like the movie as a whole, there were some scenes I found amusing. Such as the bathtub scene and the post-explosion scene with the Picasso reference. It was also enjoyable to watch the many ways the heroes try to kill Jack and he just doesn't seem to want to die. In short, \\Jack Frost\\\" is a good low-budget B-movie comedy, but a bad low-budget B-movie horror.\"\n",
      "* * * * * * * * * \n",
      "19748\n",
      "I appreciate a think positive feel good about yourself film, but this is too much. In the end they look like a bunch of loonies. This film is one of those finding yourself 70's plots, I know the film is made in 1980. A lot more of Clint and girl friend movie. This movie is a 3/10.\n",
      "* * * * * * * * * \n",
      "19966\n",
      "The opening shot was the best thing about this movie, because it gave you hope that you would be seeing a passionate, well-crafted independent film. Damn that opening shot for filling me hope. As the \\film\\\" progressed in a slow, plodding manner, my thoughts were varied in relation to this \\\"film\\\": Was there too much butter in my popcorn? Did the actors have to PAY the director to be in this \\\"film\\\"? Did I get my ticket validated at the Box Office? Yes, dear reader. I saw this film in the Theatre! This would be the only exception I will make about seeing a film at home over a Movie Theatre, because at home you can TURN IT OFF. Were there any redeeming values? Peter Lemongelli as the standard college \\\"nerd\\\" had his moments, especially in a dog collar. Other than that this \\\"film\\\" went from trying to be a comedy, to a family drama to a spiritual uplifter. It succeeded on none of these fronts. Oh, and the girlfriend was realllllllllly bad. Her performance was the only comedy I found.\"\n",
      "* * * * * * * * * \n"
     ]
    }
   ],
   "source": [
    "# false positives\n",
    "\n",
    "print(\"Examples of false positives:\")\n",
    "\n",
    "import random, time\n",
    "\n",
    "for i in range(0, len(ols_predictions)):\n",
    "    if (ols_predictions[i] == 1):\n",
    "        if (X_raw_train.iloc[i]['sentiment'] == 0):\n",
    "            if (random.uniform(0, 1) < 0.05): # to print only 5% of the false positives\n",
    "                print(i)\n",
    "                print(X_raw_train.iloc[i]['review'])\n",
    "                print('* * * * * * * * * ')\n"
   ]
  },
  {
   "cell_type": "markdown",
   "metadata": {},
   "source": [
    "---\n",
    "\n",
    "# <span style=\"color:red\">WARNING: Don't look at test set performance too much!</span>\n",
    "\n",
    "---\n",
    "\n",
    "The following cells show performance on your test set. Do not look at this too often! "
   ]
  },
  {
   "cell_type": "markdown",
   "metadata": {},
   "source": [
    "# Look at performance on the test set"
   ]
  },
  {
   "cell_type": "markdown",
   "metadata": {},
   "source": [
    "### MODEL: ordinary least squares"
   ]
  },
  {
   "cell_type": "code",
   "execution_count": 20,
   "metadata": {},
   "outputs": [
    {
     "name": "stdout",
     "output_type": "stream",
     "text": [
      "{'Pos': 2543, 'Neg': 2457, 'TP': 1285, 'TN': 1240, 'FP': 1217, 'FN': 1258, 'Accuracy': 0.505, 'Precision': 0.5135891286970423, 'Recall': 0.5053086905230043, 'desc': 'ols_test'}\n"
     ]
    }
   ],
   "source": [
    "ols_performance_test = BinaryClassificationPerformance(ols.predict(X_test), y_test, 'ols_test')\n",
    "ols_performance_test.compute_measures()\n",
    "print(ols_performance_test.performance_measures)"
   ]
  },
  {
   "cell_type": "markdown",
   "metadata": {},
   "source": [
    "### MODEL: SVM, linear"
   ]
  },
  {
   "cell_type": "code",
   "execution_count": 21,
   "metadata": {
    "scrolled": false
   },
   "outputs": [
    {
     "name": "stdout",
     "output_type": "stream",
     "text": [
      "{'Pos': 2543, 'Neg': 2457, 'TP': 2306, 'TN': 2186, 'FP': 271, 'FN': 237, 'Accuracy': 0.8984, 'Precision': 0.8948389600310438, 'Recall': 0.9068029885961463, 'desc': 'svm_test'}\n"
     ]
    }
   ],
   "source": [
    "svm_performance_test = BinaryClassificationPerformance(svm.predict(X_test), y_test, 'svm_test')\n",
    "svm_performance_test.compute_measures()\n",
    "print(svm_performance_test.performance_measures)"
   ]
  },
  {
   "cell_type": "markdown",
   "metadata": {},
   "source": [
    "### MODEL: logistic regression"
   ]
  },
  {
   "cell_type": "code",
   "execution_count": 22,
   "metadata": {},
   "outputs": [
    {
     "name": "stdout",
     "output_type": "stream",
     "text": [
      "{'Pos': 2543, 'Neg': 2457, 'TP': 2279, 'TN': 2206, 'FP': 251, 'FN': 264, 'Accuracy': 0.897, 'Precision': 0.9007905138339921, 'Recall': 0.8961856075501377, 'desc': 'lgs_test'}\n"
     ]
    }
   ],
   "source": [
    "lgs_performance_test = BinaryClassificationPerformance(lgs.predict(X_test), y_test, 'lgs_test')\n",
    "lgs_performance_test.compute_measures()\n",
    "print(lgs_performance_test.performance_measures)"
   ]
  },
  {
   "cell_type": "markdown",
   "metadata": {},
   "source": [
    "### MODEL: Naive Bayes"
   ]
  },
  {
   "cell_type": "code",
   "execution_count": 23,
   "metadata": {},
   "outputs": [
    {
     "name": "stdout",
     "output_type": "stream",
     "text": [
      "{'Pos': 2543, 'Neg': 2457, 'TP': 2174, 'TN': 2138, 'FP': 319, 'FN': 369, 'Accuracy': 0.8624, 'Precision': 0.8720417168070598, 'Recall': 0.854895792371215, 'desc': 'nbs_test'}\n"
     ]
    }
   ],
   "source": [
    "nbs_performance_test = BinaryClassificationPerformance(nbs.predict(X_test), y_test, 'nbs_test')\n",
    "nbs_performance_test.compute_measures()\n",
    "print(nbs_performance_test.performance_measures)"
   ]
  },
  {
   "cell_type": "markdown",
   "metadata": {},
   "source": [
    "### MODEL: Perceptron"
   ]
  },
  {
   "cell_type": "code",
   "execution_count": 24,
   "metadata": {},
   "outputs": [
    {
     "name": "stdout",
     "output_type": "stream",
     "text": [
      "{'Pos': 2543, 'Neg': 2457, 'TP': 2168, 'TN': 2103, 'FP': 354, 'FN': 375, 'Accuracy': 0.8542, 'Precision': 0.8596352101506741, 'Recall': 0.852536374360991, 'desc': 'prc_test'}\n"
     ]
    }
   ],
   "source": [
    "prc_performance_test = BinaryClassificationPerformance(prc.predict(X_test), y_test, 'prc_test')\n",
    "prc_performance_test.compute_measures()\n",
    "print(prc_performance_test.performance_measures)"
   ]
  },
  {
   "cell_type": "markdown",
   "metadata": {},
   "source": [
    "### MODEL: Ridge Regression Classifier"
   ]
  },
  {
   "cell_type": "code",
   "execution_count": 25,
   "metadata": {},
   "outputs": [
    {
     "name": "stdout",
     "output_type": "stream",
     "text": [
      "{'Pos': 2543, 'Neg': 2457, 'TP': 2218, 'TN': 2171, 'FP': 286, 'FN': 325, 'Accuracy': 0.8778, 'Precision': 0.8857827476038339, 'Recall': 0.8721981911128588, 'desc': 'rdg_test'}\n"
     ]
    }
   ],
   "source": [
    "rdg_performance_test = BinaryClassificationPerformance(rdg.predict(X_test), y_test, 'rdg_test')\n",
    "rdg_performance_test.compute_measures()\n",
    "print(rdg_performance_test.performance_measures)"
   ]
  },
  {
   "cell_type": "markdown",
   "metadata": {},
   "source": [
    "### MODEL: Random Forest Classifier"
   ]
  },
  {
   "cell_type": "code",
   "execution_count": 26,
   "metadata": {
    "scrolled": true
   },
   "outputs": [
    {
     "name": "stdout",
     "output_type": "stream",
     "text": [
      "{'Pos': 2543, 'Neg': 2457, 'TP': 1783, 'TN': 2100, 'FP': 357, 'FN': 760, 'Accuracy': 0.7766, 'Precision': 0.8331775700934579, 'Recall': 0.7011403853716084, 'desc': 'rdf_test'}\n"
     ]
    }
   ],
   "source": [
    "rdf_performance_test = BinaryClassificationPerformance(rdf.predict(X_test), y_test, 'rdf_test')\n",
    "rdf_performance_test.compute_measures()\n",
    "print(rdf_performance_test.performance_measures)"
   ]
  },
  {
   "cell_type": "markdown",
   "metadata": {},
   "source": [
    "### ROC plot to compare performance of various models and fits"
   ]
  },
  {
   "cell_type": "code",
   "execution_count": 27,
   "metadata": {
    "scrolled": true
   },
   "outputs": [
    {
     "data": {
      "image/png": "[encoded data removed]",
      "text/plain": [
       "<Figure size 432x288 with 1 Axes>"
      ]
     },
     "metadata": {
      "needs_background": "light"
     },
     "output_type": "display_data"
    }
   ],
   "source": [
    "fits = [ols_performance_test, svm_performance_test, lgs_performance_test, nbs_performance_test, prc_performance_test, rdg_performance_test, rdf_performance_test]\n",
    "\n",
    "for fit in fits:\n",
    "    plt.plot(fit.performance_measures['FP'] / fit.performance_measures['Neg'], \n",
    "             fit.performance_measures['TP'] / fit.performance_measures['Pos'], 'bo')\n",
    "    plt.text(fit.performance_measures['FP'] / fit.performance_measures['Neg'], \n",
    "             fit.performance_measures['TP'] / fit.performance_measures['Pos'], fit.desc)\n",
    "plt.axis([0, 1, 0, 1])\n",
    "plt.title('ROC plot: test set')\n",
    "plt.xlabel('False positive rate')\n",
    "plt.ylabel('True positive rate')\n",
    "plt.show()"
   ]
  },
  {
   "cell_type": "markdown",
   "metadata": {},
   "source": [
    "---\n",
    "\n",
    "# <span style=\"color:red\">SUBMISSION</span>\n",
    "\n",
    "---"
   ]
  },
  {
   "cell_type": "code",
   "execution_count": 28,
   "metadata": {},
   "outputs": [
    {
     "name": "stdout",
     "output_type": "stream",
     "text": [
      "movie_data is: <class 'pandas.core.frame.DataFrame'>\n",
      "movie_data has 25000 rows and 2 columns \n",
      "\n",
      "the data types for each of the columns in movie_data:\n",
      "id        object\n",
      "review    object\n",
      "dtype: object \n",
      "\n",
      "the first 10 rows in movie_data:\n",
      "         id                                             review\n",
      "0  12311_10  Naturally in a film who's main themes are of m...\n",
      "1    8348_2  This movie is a disaster within a disaster fil...\n",
      "2    5828_4  All in all, this is a movie for kids. We saw i...\n",
      "3    7186_2  Afraid of the Dark left me with the impression...\n",
      "4   12128_7  A very accurate depiction of small time mob li...\n",
      "Shape of HashingVectorizer X:\n",
      "(25000, 55755)\n",
      "Look at a few rows of the new quantitative features: \n",
      "   word_count  punc_count  exclam_count  q_count  upper  q_star  q_hash  \\\n",
      "0         131           5             0        0      7       0       0   \n",
      "1         169          15             1        0     15       0       0   \n",
      "2         176          18             0        0     25       0       0   \n",
      "3         112           5             0        0     10       0       0   \n",
      "4         133           8             0        0     17       0       0   \n",
      "5         331          20             1        5     48       0       0   \n",
      "6         121          18             4        0      6       0       0   \n",
      "7         230          22             0        4     32       0       0   \n",
      "8          59           3             3        0      2       2       0   \n",
      "9         224          14             0        1     48       0       0   \n",
      "\n",
      "   afinn_score  \n",
      "0         17.0  \n",
      "1         22.0  \n",
      "2          7.0  \n",
      "3         10.0  \n",
      "4          3.0  \n",
      "5         14.0  \n",
      "6         10.0  \n",
      "7         13.0  \n",
      "8         16.0  \n",
      "9         15.0  \n",
      "Size of combined bag of words and new quantitative variables matrix:\n",
      "(25000, 55763)\n",
      "(25000, 55763)\n",
      "Shape of X_test for submission:\n",
      "(25000, 55763)\n",
      "SUCCESS!\n",
      "Number of rows in the submission test set (should be 25,000): \n"
     ]
    }
   ],
   "source": [
    "# read in test data for submission\n",
    "# CHANGE FILE PATH and my_random_seed number (any integer other than 74 will do): \n",
    "raw_data, X_test_submission = process_raw_data(fn='moviereviews_test.tsv', my_random_seed=80, test=True)\n",
    "print(\"Number of rows in the submission test set (should be 25,000): \")"
   ]
  },
  {
   "cell_type": "markdown",
   "metadata": {},
   "source": [
    "---\n",
    "\n",
    "Choose a <span style=\"color:red\">*single*</span> model for your submission. In this code, I am choosing the Ordinary Least Squares model fit, which is in the `ols` object. But you should choose the model that is performing the best for you! "
   ]
  },
  {
   "cell_type": "code",
   "execution_count": 29,
   "metadata": {},
   "outputs": [
    {
     "name": "stdout",
     "output_type": "stream",
     "text": [
      "0.49776\n"
     ]
    }
   ],
   "source": [
    "# store the id from the raw data\n",
    "my_submission = pd.DataFrame(raw_data[\"id\"])\n",
    "# concatenate predictions to the id\n",
    "my_submission[\"prediction\"] = svm.predict(X_test_submission)\n",
    "# look at the proportion of positive predictions\n",
    "print(my_submission['prediction'].mean())"
   ]
  },
  {
   "cell_type": "code",
   "execution_count": 30,
   "metadata": {},
   "outputs": [
    {
     "data": {
      "text/html": [
       "<div>\n",
       "<style scoped>\n",
       "    .dataframe tbody tr th:only-of-type {\n",
       "        vertical-align: middle;\n",
       "    }\n",
       "\n",
       "    .dataframe tbody tr th {\n",
       "        vertical-align: top;\n",
       "    }\n",
       "\n",
       "    .dataframe thead th {\n",
       "        text-align: right;\n",
       "    }\n",
       "</style>\n",
       "<table border=\"1\" class=\"dataframe\">\n",
       "  <thead>\n",
       "    <tr style=\"text-align: right;\">\n",
       "      <th></th>\n",
       "      <th>id</th>\n",
       "      <th>review</th>\n",
       "      <th>word_count</th>\n",
       "      <th>punc_count</th>\n",
       "      <th>exclam_count</th>\n",
       "      <th>q_count</th>\n",
       "      <th>q_star</th>\n",
       "      <th>q_hash</th>\n",
       "      <th>upper</th>\n",
       "      <th>afinn_score</th>\n",
       "    </tr>\n",
       "  </thead>\n",
       "  <tbody>\n",
       "    <tr>\n",
       "      <td>0</td>\n",
       "      <td>12311_10</td>\n",
       "      <td>Naturally in a film who's main themes are of m...</td>\n",
       "      <td>131</td>\n",
       "      <td>5</td>\n",
       "      <td>0</td>\n",
       "      <td>0</td>\n",
       "      <td>0</td>\n",
       "      <td>0</td>\n",
       "      <td>7</td>\n",
       "      <td>17.0</td>\n",
       "    </tr>\n",
       "    <tr>\n",
       "      <td>1</td>\n",
       "      <td>8348_2</td>\n",
       "      <td>This movie is a disaster within a disaster fil...</td>\n",
       "      <td>169</td>\n",
       "      <td>15</td>\n",
       "      <td>1</td>\n",
       "      <td>0</td>\n",
       "      <td>0</td>\n",
       "      <td>0</td>\n",
       "      <td>15</td>\n",
       "      <td>22.0</td>\n",
       "    </tr>\n",
       "    <tr>\n",
       "      <td>2</td>\n",
       "      <td>5828_4</td>\n",
       "      <td>All in all, this is a movie for kids. We saw i...</td>\n",
       "      <td>176</td>\n",
       "      <td>18</td>\n",
       "      <td>0</td>\n",
       "      <td>0</td>\n",
       "      <td>0</td>\n",
       "      <td>0</td>\n",
       "      <td>25</td>\n",
       "      <td>7.0</td>\n",
       "    </tr>\n",
       "    <tr>\n",
       "      <td>3</td>\n",
       "      <td>7186_2</td>\n",
       "      <td>Afraid of the Dark left me with the impression...</td>\n",
       "      <td>112</td>\n",
       "      <td>5</td>\n",
       "      <td>0</td>\n",
       "      <td>0</td>\n",
       "      <td>0</td>\n",
       "      <td>0</td>\n",
       "      <td>10</td>\n",
       "      <td>10.0</td>\n",
       "    </tr>\n",
       "    <tr>\n",
       "      <td>4</td>\n",
       "      <td>12128_7</td>\n",
       "      <td>A very accurate depiction of small time mob li...</td>\n",
       "      <td>133</td>\n",
       "      <td>8</td>\n",
       "      <td>0</td>\n",
       "      <td>0</td>\n",
       "      <td>0</td>\n",
       "      <td>0</td>\n",
       "      <td>17</td>\n",
       "      <td>3.0</td>\n",
       "    </tr>\n",
       "  </tbody>\n",
       "</table>\n",
       "</div>"
      ],
      "text/plain": [
       "         id                                             review  word_count  \\\n",
       "0  12311_10  Naturally in a film who's main themes are of m...         131   \n",
       "1    8348_2  This movie is a disaster within a disaster fil...         169   \n",
       "2    5828_4  All in all, this is a movie for kids. We saw i...         176   \n",
       "3    7186_2  Afraid of the Dark left me with the impression...         112   \n",
       "4   12128_7  A very accurate depiction of small time mob li...         133   \n",
       "\n",
       "   punc_count  exclam_count  q_count  q_star  q_hash  upper  afinn_score  \n",
       "0           5             0        0       0       0      7         17.0  \n",
       "1          15             1        0       0       0     15         22.0  \n",
       "2          18             0        0       0       0     25          7.0  \n",
       "3           5             0        0       0       0     10         10.0  \n",
       "4           8             0        0       0       0     17          3.0  "
      ]
     },
     "execution_count": 30,
     "metadata": {},
     "output_type": "execute_result"
    }
   ],
   "source": [
    "raw_data.head()"
   ]
  },
  {
   "cell_type": "code",
   "execution_count": 31,
   "metadata": {},
   "outputs": [
    {
     "data": {
      "text/html": [
       "<div>\n",
       "<style scoped>\n",
       "    .dataframe tbody tr th:only-of-type {\n",
       "        vertical-align: middle;\n",
       "    }\n",
       "\n",
       "    .dataframe tbody tr th {\n",
       "        vertical-align: top;\n",
       "    }\n",
       "\n",
       "    .dataframe thead th {\n",
       "        text-align: right;\n",
       "    }\n",
       "</style>\n",
       "<table border=\"1\" class=\"dataframe\">\n",
       "  <thead>\n",
       "    <tr style=\"text-align: right;\">\n",
       "      <th></th>\n",
       "      <th>id</th>\n",
       "      <th>prediction</th>\n",
       "    </tr>\n",
       "  </thead>\n",
       "  <tbody>\n",
       "    <tr>\n",
       "      <td>0</td>\n",
       "      <td>12311_10</td>\n",
       "      <td>1</td>\n",
       "    </tr>\n",
       "    <tr>\n",
       "      <td>1</td>\n",
       "      <td>8348_2</td>\n",
       "      <td>0</td>\n",
       "    </tr>\n",
       "    <tr>\n",
       "      <td>2</td>\n",
       "      <td>5828_4</td>\n",
       "      <td>0</td>\n",
       "    </tr>\n",
       "    <tr>\n",
       "      <td>3</td>\n",
       "      <td>7186_2</td>\n",
       "      <td>1</td>\n",
       "    </tr>\n",
       "    <tr>\n",
       "      <td>4</td>\n",
       "      <td>12128_7</td>\n",
       "      <td>1</td>\n",
       "    </tr>\n",
       "  </tbody>\n",
       "</table>\n",
       "</div>"
      ],
      "text/plain": [
       "         id  prediction\n",
       "0  12311_10           1\n",
       "1    8348_2           0\n",
       "2    5828_4           0\n",
       "3    7186_2           1\n",
       "4   12128_7           1"
      ]
     },
     "execution_count": 31,
     "metadata": {},
     "output_type": "execute_result"
    }
   ],
   "source": [
    "my_submission.head()"
   ]
  },
  {
   "cell_type": "code",
   "execution_count": 32,
   "metadata": {},
   "outputs": [
    {
     "data": {
      "text/plain": [
       "(25000, 2)"
      ]
     },
     "execution_count": 32,
     "metadata": {},
     "output_type": "execute_result"
    }
   ],
   "source": [
    "my_submission.shape"
   ]
  },
  {
   "cell_type": "code",
   "execution_count": 33,
   "metadata": {},
   "outputs": [],
   "source": [
    "# export submission file as pdf\n",
    "# CHANGE FILE PATH: \n",
    "my_submission.to_csv('moviereviews_submission.csv', index=False)"
   ]
  },
  {
   "cell_type": "markdown",
   "metadata": {},
   "source": [
    "# Submit to Canvas: 1) the CSV file that was written in the previous cell and 2) the url to the repository (GitHub or other) that contains your code and documentation"
   ]
  }
 ],
 "metadata": {
  "kernelspec": {
   "display_name": "Python 3",
   "language": "python",
   "name": "python3"
  },
  "language_info": {
   "codemirror_mode": {
    "name": "ipython",
    "version": 3
   },
   "file_extension": ".py",
   "mimetype": "text/x-python",
   "name": "python",
   "nbconvert_exporter": "python",
   "pygments_lexer": "ipython3",
   "version": "3.7.4"
  }
 },
 "nbformat": 4,
 "nbformat_minor": 2
}
