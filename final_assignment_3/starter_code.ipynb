{
 "cells": [
  {
   "cell_type": "code",
   "execution_count": 1,
   "metadata": {},
   "outputs": [],
   "source": [
    "import numpy as np\n",
    "import pandas as pd\n",
    "import matplotlib.pyplot as plt\n",
    "%matplotlib inline"
   ]
  },
  {
   "cell_type": "code",
   "execution_count": 2,
   "metadata": {},
   "outputs": [],
   "source": [
    "raw_data = pd.read_json('food_enforcement_US_bacteria.json', orient='records')"
   ]
  },
  {
   "cell_type": "code",
   "execution_count": 3,
   "metadata": {},
   "outputs": [
    {
     "name": "stdout",
     "output_type": "stream",
     "text": [
      "(6104, 26)\n",
      "0    Native Catch Salmon Bacon, Traditional flavor....\n",
      "1    Delish Fruit Burst 10 oz.(283 g)  Enjoy by: 8/...\n",
      "2    Garden Pure Holiday Fruit Bowl 4 lbs (1.81kg) ...\n",
      "3    Fresh Fruit Product is labeled in part:  \"***F...\n",
      "4    Ready Pac¿ Gourmet Fruit Bowl, 64oz , UPC 7774...\n",
      "5    River Ranch brand Diced Grn Cabbage w/Color, 4...\n",
      "6    Sweet and Sour Stir Fry packaged under the fol...\n",
      "7    Onion Slab Cut.  Products are labeled in part:...\n",
      "8    MIX w/yellow onions used as an ingredient.  Pr...\n",
      "9    Fresh n Easy brand Shred Grn Cabbage w/Color, ...\n",
      "Name: product_description, dtype: object\n"
     ]
    }
   ],
   "source": [
    "print(raw_data.shape)\n",
    "print(raw_data.head(10).product_description)"
   ]
  },
  {
   "cell_type": "markdown",
   "metadata": {},
   "source": [
    "### Bag of words feature representation for descriptive text"
   ]
  },
  {
   "cell_type": "code",
   "execution_count": 4,
   "metadata": {},
   "outputs": [
    {
     "data": {
      "text/plain": [
       "(6104, 5901)"
      ]
     },
     "execution_count": 4,
     "metadata": {},
     "output_type": "execute_result"
    }
   ],
   "source": [
    "from sklearn.feature_extraction.text import CountVectorizer\n",
    "vectorizer = CountVectorizer(stop_words='english', token_pattern=r'(?u)\\b[A-Za-z]+\\b', max_df=0.9, strip_accents='ascii')\n",
    "\n",
    "corpus = raw_data['product_description']\n",
    "X = vectorizer.fit_transform(corpus)\n",
    "X.shape"
   ]
  },
  {
   "cell_type": "markdown",
   "metadata": {},
   "source": [
    "### fit Kmeans"
   ]
  },
  {
   "cell_type": "code",
   "execution_count": 5,
   "metadata": {},
   "outputs": [
    {
     "data": {
      "image/png": "[encoded data removed]",
      "text/plain": [
       "<Figure size 432x288 with 1 Axes>"
      ]
     },
     "metadata": {
      "needs_background": "light"
     },
     "output_type": "display_data"
    }
   ],
   "source": [
    "#fit Kmeans with k clusters\n",
    "from sklearn.cluster import KMeans\n",
    "\n",
    "clusterVal = 10\n",
    "# km = KMeans(n_clusters=clusterVal,n_init=30,n_jobs=-1)\n",
    "# km.fit(X)\n",
    "\n",
    "# print out plot for testing different numbers of clusters\n",
    "distortions = []\n",
    "for i in range(1, clusterVal):\n",
    "    km = KMeans(n_clusters=i,n_init=30,n_jobs=-1)\n",
    "    km.fit(X)\n",
    "    distortions.append(km.inertia_)\n",
    "    \n",
    "plt.plot(range(1, clusterVal), distortions, marker='o')\n",
    "plt.xlabel('Number of clusters')\n",
    "plt.ylabel('Inertia')\n",
    "plt.show()"
   ]
  },
  {
   "cell_type": "markdown",
   "metadata": {},
   "source": [
    "### labels are named with integers and stored in the `labels_` attribute"
   ]
  },
  {
   "cell_type": "code",
   "execution_count": 6,
   "metadata": {
    "scrolled": true
   },
   "outputs": [
    {
     "data": {
      "text/plain": [
       "array([2, 2, 2, ..., 2, 0, 0], dtype=int32)"
      ]
     },
     "execution_count": 6,
     "metadata": {},
     "output_type": "execute_result"
    }
   ],
   "source": [
    "km.labels_"
   ]
  },
  {
   "cell_type": "markdown",
   "metadata": {},
   "source": [
    "### take a look at one of the cluster results"
   ]
  },
  {
   "cell_type": "code",
   "execution_count": 7,
   "metadata": {
    "scrolled": true
   },
   "outputs": [
    {
     "name": "stdout",
     "output_type": "stream",
     "text": [
      "**********\n",
      "Cluster 0\n",
      "Count 449\n",
      "Sample of 5 Descriptions\n",
      "\n",
      "Salsa in 12 oz., 16 oz., and 5 lb. plastic containers.  The product labels reads as follows: \u001c",
      "PREMIUM QUALITY Private Selection Natural***SALSA NO PRESERVATIVES KEEP REFRIGERATED NET WT 12 OZ (340g)***INGREDIENTS: Tomatoes***Jalapeno***DISTRIBUTED BY: INTER-AMERICAN PRODUCTS, CINCINNATI, OHIO 45202***1-800-697-2448***\" and \u001c",
      "PREMIUM QUALITY Private Selection Natural PICO DE GALLO NO PRESERVATIVES KEEP REFRIGERATED NET WT 12 OZ (340g)***INGREDIENTS: Tomatoes***Jalapeno***DISTRIBUTED BY: INTER-AMERICAN PRODUCTS, CINCINNATI, OHIO 45202***1-800-697-2448***\u001d",
      " and \u001c",
      "heinen\u0019s\" Fresh***Salsa All Natural Net. Wt. 16oz. (1lb) 454g***Ingredients: Tomatoes***Jalapeno***PACKED FOR HEINEN\u0019S BY CLUB CHEF, LLC\u001d",
      " and \u001c",
      "heinen\u0019s\" Fresh Bruschetta All Natural Net. Wt. 16oz. (1lb) 454g ***Ingredients: Tomatoes***Jalapeno***PACKED FOR HEINEN\u0019S BY CLUB CHEF, LLC\u001d",
      "\n",
      "\n",
      "Diced Celery and Onion, 7 oz, UPC 643550000429;    Diced Celery and Onion, 19 oz, UPC 643550000351;  Diced Celery and Onions, 8oz,  UPC 643550000504, clear plastic containers sold in Wegmans;  Diced Celery & Onions, Celeri et oignons frais, en des, 198g, UPC 643550000467.  Diced Celery and Onions, 5lbs, \"Crossvalley\" label, no UPC.  \n",
      "\n",
      "Slivered Red Onions, 5 oz, UPC 643550000009.    Slivered Red Onions, 5lbs, \"Gills Onions\" label, no UPC;  Slivered Red Onions, 5lbs, \"Markon\" label, no UPC.  Slivered Red Onions, 5lbs, \"Sysco\" label, no UPC;  Slivered Red Onions, 5lbs, \"Crossvalley\", no UPC.\n",
      "\n",
      "Diced Yellow Onions, 7oz, UPC 643550000405, Gills Onions Label;  Diced Yellow onions, 5lb bag, UPC 898634001018, True Leaf label;  Diced Yellow onions, 8oz, UPC 643550000498, clear plastic containers sold in Wegmans stores;  Diced Yellow Onions, Oignons jaunes frais, en des, 198 grams, UPC 643550000443, Gills Onions Label.    Diced Yellow Onions, 5lbs, \"Gills Onions\" label, no UPC.\n",
      "\n",
      "**********\n",
      "Cluster 1\n",
      "Count 1\n",
      "Sample of 5 Descriptions\n",
      "\n",
      "Cut Corn, Brand Bybee's Best, Net Wt 20 lb, UPC 4635800010  Cut Corn, Brand Bybee's Best, Net Wt 55 lb, UPC 45720025  Cut Corn, Brand Bybee Foods, Net Wt 50 lb, UPC 132  Organic Supersweet White Corn, Brand Bybee Foods, Net Wt 5 lb, UPC 11000148  White Cut Corn, Brand Bybee's Best, Net Wt 20 lb, UPC 4635800034  Supersweet Cut Corn, Brand Bybee Foods Northwest Growers Select, Net Wt 5 lb, UPC 4635800043    Organic Super Sweet White Corn, Brand Columbia River Organics, Net Wt 10 oz, UPC 5711000107  Organic Sweet Yellow Corn, Brand Columbia River Organics, Net Wt 10 oz, UPC 5711000106    Cob Corn, Brand Northwest Growers Select, Net Wt 96 ct, UPC 4635800049  Cut Corn, Brand Northwest Growers Select, Net Wt 20 lb, UPC 5711000163  Cut Corn, Brand Northwest Growers Select, Net Wt 30 lb, UPC 5711000165  Cut Corn, Brand Northwest Growers Select, Net Wt 55 lb, UPC 45730579  White Supersweet Cut Corn, Brand Northwest Growers Select, Net Wt 30 lb, UPC 5711000182  5.5\" Supersweet Cob Corn, Brand Northwest Growers Select, Net Wt 48 count, UPC 528628    Organic Super Sweet White Corn, Brand Organic by Nature, Net Wt 16 oz, UPC 4635800070  Organic Super Sweet Whole Kernel Corn, Brand Organic by Nature, Net Wt 50 lb, UPC R03881  Org White Corn, Brand Organic by Nature, Net Wt 4 lb, UPC 4635800070  Organic White Corn, Brand Organic by Nature, Net Wt 5 lb, UPC 4635800064  Whole Kernel Sweet Corn, Brand Organic by Nature Organic, Net Wt 4 lb, UPC 4635800058    Cut Corn, Brand Chef Maxwell, Net Wt 20 lb, UPC 051849  Cut Corn, Brand Chef Maxwell, Net Wt 30 lb, UPC 3530295002    Cut Corn, Brand Correct Choice, Net Wt 30 lb, UPC 30CBE    Cut Corn, Brand Endico, Net Wt 20 lb, UPC 601459277304    Cut Corn, Brand Farmer's Bounty, Net Wt 20 lb, UPC 02300  Corn, Brand Farmer's Bounty, Net Wt 30 lb, UPC 5711000171    Cut Corn, Brand Fiesta Mart, Net Wt 16 oz, UPC 5102280003    Cut Corn, Brand The Inn, Net Wt 20 lb, UPC 8628920723    Organic Super Sweet Yellow and White Corn, Brand Live Smart, Net Wt 16 oz, UPC 604338  Super Sweet Cut Corn, Brand Live Smart, Net Wt 40 oz, UPC 603379    Cut Corn, Brand Parade, Net Wt 16 oz, UPC 5070030666  Cut Corn, Brand Parade, Net Wt 32 oz, UPC 5070007676    Golden Cut Corn, Brand O Organic, Net Wt 16 oz, UPC 7989340175  Org SS Corn, Brand O Organics, Net Wt 16 oz, UPC 7989340175    Super Sweet Corn, Brand Panda Express, Net Wt 20 lb, UPC 07913    Cut Corn, Brand Pantry Essentials, Net Wt 64 oz, UPC 2113015225    Super Sweet Corn, Brand Safeway Kitchens, Net Wt 12 oz, UPC 2113009065    Sweet Corn, Brand Signature Kitchens, Net Wt 12 oz, UPC 2113009065  White Sweet Corn, Brand Signature Kitchens, Net Wt 12 oz, UPC 2113009035  White Sweet Corn, Brand Signature Kitchens, Net Wt 16 oz, UPC 2113024254  Whole Kernel Corn, Brand Signature Kitchens, Net Wt 16 oz, UPC 2113009152  Whole Kernel Corn, Brand Signature Kitchens, Net Wt 32 oz, UPC 2113009021    Organic Super Sweet Cut Corn, Brand Trader Joe's, Net Wt 16 oz, UPC 00299633    Cut Corn, Brand USDA, Net Wt 30 lb, UPC 103000404407  Super Sweet Corn, Brand USDA, Net Wt 30 lb, UPC 103000404407    Super Sweet Cut Corn, Brand VIP, Net Wt 16 oz, UPC 7007701048  Family Size Cut Corn, Brand VIP, Net Wt 32 oz, UPC 7007701248    Organic Sweet Corn, Brand Wellsley Farms, Net Wt 5 lb, UPC 8867000999    Kernel Corns, Brand JFDA, Net Wt 1 kg, UPC 991438945338    Cut Corn, Brand McCain, Net Wt 500 g, UPC 99143894523  Kernel Corn, Brand McCain, Net Wt 1 kg, UPC 991438945130  Super Sweet Kernel Corn, Brand McCain, Net Wt 1 kg, UPC 991438945017  Super Sweet Kernel Corn, Brand McCain YGC, Net Wt 1 kg, UPC 991438945369    Fresh Sweet Corn, Brand Mity, Net Wt 1 kg, UPC 7437331054    Cut Corn, Brand Mountain Mist, Net Wt 1 kg, UPC 4635800056  Super Sweet Corn, Brand Mountain Mist, Net Wt 1 kg, UPC 4635800056    Super Sweet Corn, Brand Veggie Maria, Net Wt 500 g, UPC 543567006314    Kernel Corn, Brand Life Foods, Net Wt 1 kg, UPC 903392007670  Kernel Super Sweet  Corn, Brand Life Foods, Net Wt 1 \n",
      "\n",
      "**********\n",
      "Cluster 2\n",
      "Count 5534\n",
      "Sample of 5 Descriptions\n",
      "\n",
      "Native Catch Salmon Bacon, Traditional flavor.  UPC 7 83583 27965 9.     Traditional Salmon Bacon is ground and seasoned skinless/boneless salmon, extruded, peppered, smoked, cooled and vacuum packed in 8 oz., 14 oz., and 5 lbs. clear vacuum bags.  Label states \u001c",
      "keep refrigerated or frozen\".    \n",
      "\n",
      "Delish Fruit Burst 10 oz.(283 g)  Enjoy by: 8/28/12 Distributed by: Walgreen Co. 200 Wilmot Road, Deerfield, IL 60015 Distributed by Walgreens UPC 049022 55862 5\n",
      "\n",
      "Garden Pure Holiday Fruit Bowl 4 lbs (1.81kg) Best By: 8/28/12 and before   F& S Produce Co. Inc. Headquarters, Rosenhayn, NJ 08532      UPC 6 01172 00264 1\n",
      "\n",
      "Fresh Fruit Product is labeled in part:  \"***Fresh Island Medley***1 LB (454g)***Best If Sold By***Ingredients:  Pineapple, Mango, Papaya.***Packed in its own juice***Distributed by:  Winn-Dixie Stores Inc. Jacksonville, FL 32254***For Nutrition Information Call 1-888-449-9386***P-009***0 21140 01696 6***PERISHABLE KEEP REFRIGERATED***\"\n",
      "\n",
      "**********\n",
      "Cluster 3\n",
      "Count 2\n",
      "Sample of 5 Descriptions\n",
      "\n",
      "Cut Green Beans, Brand Bybee Foods, Net Wt 50 lb, UPC 205050004485CR  Organic Petite Whole Green Beans, Brand Bybee Foods, Net Wt 5 lb, UPC 5711000146  1\" Cut Green Beans, Brand Bybee's Best, Net Wt 20 lb, UPC 4635800012  Whole Green Beans, Brand Bybee's Best, Net Wt 15 lb, UPC 4635800018    Green Beans, Brand Chef Maxwell, Net Wt 20 lb, UPC 051849  Green Beans, Brand Chef Maxwell, Net Wt 25 lb, UPC 1-bean-grf  Green Beans, Brand Chef Maxwell, Net Wt 30 lb, UPC 3530295001  Green Beans, Brand Chef Maxwell, Net Wt 30 lb, UPC 63530295001    Organic Cut Green Beans, Brand Columbia River Organics, Net Wt 10 oz, UPC 5711000103  Organic French Cut Green Beans, Brand Columbia River Organics, Net Wt 10 oz, UPC 5711000105  Organic Petite Whole Green Beans, Brand Columbia River Organics, Net Wt 10 oz, UPC 5711000102    Green Beans, Brand Correct Choice, Net Wt 30 lb, UPC 30GBBE  Green Beans, Brand Correct Choice, Net Wt 30 lb, UPC 30GBCMI    Cut Green Beans, Brand Endico, Net Wt 20 lb, UPC 712    Cut Green Beans, Brand Farmers Bounty, Net Wt 30 lb, UPC 4635800007  Cut Green Beans, Brand Farmer's Bounty, Net Wt 20 lb, UPC 07300  Whole Green Beans, Brand Farmer's Bounty, Net Wt 15 lb, UPC 4635800021    Cut Green Beans, Brand Great Value, Net Wt 12 oz, UPC 7874205333  Steamable Cut Green Beans, Brand Great Value, Net Wt 12 oz, UPC 7874208363    Worlds Finest Cut Beans, Brand C.H. Belt's, Net Wt 20 lb, UPC 00882240000695    Cut Green Beans, Brand James Farm, Net Wt 32 oz, UPC 6069501004  Whole Green Beans, Brand James Farm, Net Wt 32 oz, UPC 6069501003  1/2\" Cut Green Beans, Brand Northwest Growers Select, Net Wt 30 lb, UPC 08110    Cut Green Beans, Brand Northwest Growers Select, Net Wt 20 lb, UPC 57110000184  Cut Green Beans, Brand Northwest Growers Select, Net Wt 30 lb, UPC 5711000186  Cut Green Beans, Brand Northwest Growers Select, Net Wt 50 lb, UPC 4635800020  Fine Whole Green Beans, Brand Northwest Growers Select, Net Wt 4 lb, UPC 10150  French Cut Green Beans, Brand Northwest Growers Select, Net Wt 20 lb, UPC 25100  Organic Cut Green Beans, Brand Northwest Growers Select, Net Wt 30 lb, UPC 5711000187  Organic Cut Green Beans, Brand Northwest Growers Select, Net Wt 50 lb, UPC 4635800042  Petite Whole Green Beans, Brand Northwest Growers Select, Net Wt 15 lb, UPC 5711000194    Whole Green Beans, Brand O Organic, Net Wt 16 oz, UPC 7989340180    Organic Petite Whole Green Beans, Brand Organic by Nature, Net Wt 16 oz, UPC 4635800071  Organic Petite Whole Green Beans, Brand Organic by Nature, Net Wt 5 lb, UPC 4635800059    1-1/2\" Cut Green Beans, Brand Overhill Farms, Net Wt 30 lb, UPC 0931140     Cut Green Beans, Brand Pantry Essentials, Net Wt 12 oz, UPC 2113015221  Cut Green Beans, Brand Pantry Essentials, Net Wt 32 oz, UPC 2113015155    Cut Green Beans, Brand Parade, Net Wt 16 oz, UPC 5070028672  Cut Green Beans, Brand Parade, Net Wt 32 oz, UPC 5070055810    Cut Green Beans, Brand Safeway Kitchens, Net Wt 16 oz, UPC 2113009151  Cut Green Beans, Brand Safeway Kitchens, Net Wt 32 oz, UPC 2113009083  Whole Petite Green Beans, Brand Safeway Kitchens, Net Wt 12 oz, UPC 2113009005    Cut Green Beans, Brand Signature Kitchens, Net Wt 16 oz, UPC 2113009151  Cut Green Beans, Brand Signature Kitchens, Net Wt 32 oz, UPC 2113009083  French Cut Green Beans, Brand Signature Kitchens, Net Wt 16 oz, UPC 2113009082  Whole Green Beans, Brand Signature Kitchens, Net Wt 16 oz, UPC 2113024256  Whole Green Beans, Brand Signature Kitchens, Net Wt 12 oz, UPC 2113009005    Cut Green Beans, Brand The Inn, Net Wt 20 lb, UPC 8628920109  Whole Green Beans, Brand The Inn, Net Wt 2 lb, UPC 8628920112    Organic Whole Green Beans, Brand Trader Joe's, Net Wt 16 oz, UPC 00169219    Organic Cut Green Beans, Brand True Goodness, Net Wt 10 oz, UPC 1373343095    Cut Green Beans, Brand USDA, Net Wt 30 lb, UPC 203050004407    Cut Green Beans, Brand VIP, Net Wt 32 oz, UPC 7007701208    Organic Cut Green Beans, Brand Wild Oats, Net Wt 12 oz, UPC 4873700713     ***********BULK \n",
      "\n",
      "Green Peas, Brand Bybee's Best, Net Wt 20 lb, UPC 4635800011  Green Peas, Brand Byee Foods, Net Wt 50 lb, UPC 155000007785CR  Organic Sweet Baby Peas, Brand Bybee Foods, Net Wt 5 lb, UPC 5711000145    Organic Petite Peas, Brand Columbia River Organics, Net Wt 10 oz, UPC 5711000109    Green Peas, Brand Northwest Growers Select, Net Wt 20 lb, UPC 5711000152  Green Peas, Brand Northwest Growers Select, Net Wt 55 lb, UPC 45721084  Organic Peas, Brand Northwest Growers Select, Net Wt 30 lb, UPC 5711000155    Organic Baby Peas, Brand Organic by Nature, Net Wt 16 oz, UPC 4635800069  Organic Green Peas, Brand Organic by Nature, Net Wt 50 lb, UPC R01790  Organic Sweet Baby Peas, Brand Organic by Nature, Net Wt 5 lb, UPC 4635800063  Organic Sweet Peas, Brand Organic by Nature, Net Wt 2.5 kg, UPC 4635800061    Peas, Brand Chef Maxwell, Net Wt 20 lb, UPC 051849  Green Peas, Brand Chef Maxwell, Net Wt 30 lb, UPC 3530295003    Green Peas, Brand Correct Choice, Net Wt 30 lb, UPC 30PBE    Peas, Brand Earth's Pride Organics, Net Wt 5 lb, UPC 0000027772    Peas, Brand Endico, Net Wt 20 lb, UPC 7720    Green Peas, Brand Farmers Bounty, Net Wt 30 lb, UPC 5711000161  Green Peas, Brand Farmer's Bounty, Net Wt 50 lb, UPC 4635800028    Green Peas, Fiesta Mart, Net Wt 16 oz, UPC 5102280005    Green Peas, Brand The Inn, Net Wt 20 lb, UPC 8628920742    Green Peas, Brand Live Smart, Net Wt 40 oz, UPC 603546    Green Peas, Brand Parade, Net Wt 16 oz, UPC 5070031666  Green Peas, Brand Parade, Net Wt 32 oz, UPC 5070007682  Petite Green Peas, Brand Parade, Net Wt 16 oz, UPC 5070055804    Green Peas, Brand O Organic, Net Wt 16 oz, UPC 7989340174    Green Peas, Brand Pantry Essentials, Net Wt 64 oz, UPC 2113015226    Green Peas, Brand Safeway Kitchens, Net Wt 32 oz, UPC 2113009029  Green Peas, Brand Signature Kitchens, Net Wt 16 oz, UPC 2113009028  Green Peas, Brand Signature Kitchens, Net Wt 32 oz, UPC 2113009029  Green Peas (NO SALT ADDED), Brand Signature Kitchens, Net Wt 16 oz, UPC 2113009031  Petite Green Peas, Brand Signature Kitchens, Net Wt 12 oz, UPC 2113009030  Petite Green Peas, Brand Signature Kitchens, Net Wt 16 oz, UPC 2113024252  Sugar Snap Peas, Brand Signature Kitchens, Net Wt 12 oz, UPC 2113024260    Organic Peas, Brand Trader Joe's, Net Wt 16 oz, UPC 00496636  Petite Peas, Brand Trader Joe's, Net Wt 16 oz, UPC 00122689    Green Peas, Brand USDA, Net Wt 30 lb, UPC 153000004407    Green Peas, Brand VIP, Net Wt 16 oz, UPC 7007701064  Green Peas, Brand VIP, Net Wt 32 oz, UPC 7007701264    Organic Peas Brand Wellsley Farms, Net Wt 12 oz, UPC 8867000998    Green Peas, Brand JFDA, Net Wt 1 kg, UPC 991438945307    Green Peas, Brand McCain, Net Wt 1 kg, UPC 991438945116  Peas (NZ), Brand McCain, Net Wt 500 g, UPC 310174006014  Peas (NZ), Brand McCain, Net Wt 1 kg, UPC 310174006021  Green Peas, Brand McCain YGC, Net Wt 1 kg, UPC 991438945376    Green Peas, Mountain Mist, Net Wt 1 kg, UPC 4635800057    Green Peas, Brand Life Foods, Net Wt 1 kg, UPC 903392007694    Green Peas, Brand Emerald Farms, Net Wt 40 oz, UPC 3765403672    Green Peas, Brand Endico, Net Wt 40 oz, UPC 0145916720    Sweet Peas, Brand Great Value, Net Wt 12 oz, UPC 7874205336  Sweet Peas, Brand Great Value, Net Wt 26 oz, UPC 7874210912    Steamable Sweet Peas, Brand Great Value, Net Wt 12 oz, UPC 7874208369    Garden Peas, Brand James Farm, Net Wt 40 oz, UPC 6069501000    Sweet Green Peas, Brand Price First, Net Wt 16 oz, UPC 7874211027    Sweet Peas, Brand Quirch, Net Wt 14 oz, UPC 6507260140  Sweet Peas, Brand Quirch, Net Wt 32 oz, UPC 6507260139    Garden Fresh Sweet Peas, Brand Season's Choice, Net Wt 16 oz, UPC 4149816429    Organic Peas, Brand True Goodness, Net Wt 10 oz, UPC 1373343100  Organic Petite Green Peas, Brand True Goodness, Net Wt 10 oz, UPC 1373343099    Organic Sweet Peas, Brand Wild Oats, Net Wt 12 oz, UPC 4873700712    Frozen Peas, Brand Woolworths Homebrand, Net Wt 1 kg, UPC 300633968458    *******BULK containers***************    Organic peas, Brand Amy's, Net W\n",
      "\n",
      "**********\n",
      "Cluster 4\n",
      "Count 3\n",
      "Sample of 5 Descriptions\n",
      "\n",
      "Walnuts: America Choice, 12 oz. Plastic Pouch, UPC: 75480779049; Aurora , 6.5 oz. Plastic Cup, UPC: 65585200097; Aurora, 14.0 oz. Plastic Tub, UPC: 65585200070; Aurora, Bulk, NO UPC; Aurora, 4.0 oz. Plastic Pouch, UPC: 65585200490; Aurora, 12.0 oz. Plastic Pouch, UPC: 65585200316; Belmont Market, 6.5 oz. Plastic Cup, UPC: 65585200097; Ernest Klein, 6.5 oz. Plastic Cup, UPC: 65585200097; Food Emporium Brand Products, 14.0 oz. Plastic Tub, UPC: 1119079096; Food Emporium Brand Products, 12.0 oz. Plastic Pouch, UPC: 72297451004; Gauls Market Brand Products, 6.5 oz. Plastic Cup, UPC: 65585200097; Giant Carlisle Food Store, 6.5 oz. Plastic Cup, UPC: 68826713594; Giant of Maryland, 6.5 oz. Plastic Cup, UPC: 68826713594; Gourmet Garage, 6.5 oz. Plastic Cup, UPC: 79084505931; Gourmet Garage, 14.0 oz. Plastic Tub\t, UPC: 79084505371; Harvest Co  Op Market, 6.5 oz. Plastic Cup, UPC: 65585200097; Hurley Ridge, 6.5 oz. Plastic Cup, UPC: 65585200097; Hurley Ridge, 12 oz. Plastic Pouch, UPC: 65585200316; Lees Market, 6.5 oz. Plastic Cup, UPC: 65585200097; Martins Food, 6.5 oz. Plastic Cup, UPC: 68826713594; Palmers Market, 6.5 oz. Plastic Cup, UPC: 65585200097; Stop & Shop, 6.5 oz. Plastic Cup, UPC: 68826713594; Union Market, 6.5 oz. Plastic Cup, UPC: 65585200097; Walter Stewart Market, 14.0 oz. Plastic Tub, UPC: 65585200070; Wild Acorns, 6.5 oz. Plastic Cup, UPC: 81957401075; Wild By Nature Brand Products, 6.5 oz. Plastic Cup, UPC: 65585270097; Windfall Market, 6.5 oz. Plastic Cup, UPC: 65585200097\n",
      "\n",
      "Roasted Salt Mixed Nuts: Aurora, 4.5 oz. Plastic Pouch, UPC: 65585200252; Aurora, 20 oz. Plastic Tub, UPC: 65585200340; Aurora, 10 oz. Plastic Pouch, UPC: 65585200804, Aurora, Bulk, No UPC, Belmont Market, 20 oz. Plastic Tub, UPC: 65585200340, Food Emporium Brand Products, 6.5 oz. Gift Bag, UPC: 1119079042; Food Emporium Brand Products, 20 oz. Plastic Tub, UPC: 1119079095, Gauls Market Brand Products, 20 oz. Plastic Tub, UPC: 65585200340; Giant Carlisle Food Store, 9.0 oz. Plastic Cup, UPC: 68826714736; Giant of Maryland, 9.0 oz. Plastic Cup, UPC: 68826714736;   Martins Food, 9.0 oz. Plastic Cup, UPC: 68826714736; Stop&Shop, 9.0 oz. Plastic Cup, UPC:  68826714736; Aurora, 9.0 oz. Plastic Cup, UPC: 65585200084; Ernest Klein, 9.0 oz. Plastic Cup, UPC: 65585200084; Gauls Market Brand Products, 9.0 oz. Plastic Cup, UPC: 65585200084; Harvest Co  Op Market, 9.0 oz. Plastic Cup, UPC: 65585200084; Hurley Ridge, 9.0 oz. Plastic Cup, UPC: 65585200084\t11/4/15  12/13/15  Palmers Market \tRoasted Salt Mixed Nuts \t9.0 oz. Plastic Cup\t65585200084\t11/4/15  12/13/15  Wild Acorns \tRoasted Salt Mixed Nuts \t9.0 oz. Plastic Cup\t81957401052\t11/4/15  12/13/15  Wild By Nature Brand Products\tRoasted Salt Mixed Nuts \t9.0 oz. Plastic Cup\t65585270084\t11/4/15  12/10/15; Gourmet Garage, 9 oz. Plastic Cup, UPC: 79084505922; Gourment Garage, 20 oz. Plastic Tub, UPC: 79084505842  \n",
      "\n",
      "Cranberry Health Mix:  America Choice, 16 oz. Plastic Pouch, UPC: 75480779046; Aurora , 9.25 oz. Plastic Cup, UPC: 65585200288; Aurora , 10.0 oz. Pillow Pouch, UPC: 65585200826; Aurora, 16.0 oz. Plastic Pouch, UPC: 65585200827, Aurora , 18 oz. Plastic Pouch\t, NO UPC; Aurora , 21 oz. Plastic Cup, UPC: 65585200585; Aurora , 4.5 oz. Single Serve, UPC: 65585200208; Aurora, 1.35 oz. Single Serve, UPC: 65585200574; Aurora \tBulk, NO UPC; Belmont Market , 9.25 oz. Plastic Cup, UPC: 65585200288; Belmont Market, 21 oz. Plastic Cup, UPC: 65585200585; Citarella Brand Products, 9.25 oz. Plastic Cup, UPC: 79084505949; Citarella Brand Products, Bulk, NO UPC; Food Emporium Brand Products, 7.5 oz. Gift Bag, UPC: 1119079044; Food Emporium Brand Products, 21 oz. Plastic Cup, UPC: 1119079010; Gauls Market Brand Products, 9.25 oz. Plastic Cup, UPC: 65585200288, Gauls Market Brand Products, 21 oz. Plastic Cup, UPC: 65585200585; Giant Carlisle Food Store, 21 oz. Plastic Cup, UPC: 68826713692; Giant Carlisle Food Store, 9.25 oz. Plastic Cup, UPC: 68826714713; Giant of Maryland, 21 oz. Plastic Cup, UPC: 68826713692; Giant of Maryland, 9.25 oz. Plastic Cup, UPC: 68826714713; Gourmet Garage, 9.25 oz. Plastic Cup, UPC: 79084505949; Gourmet Garage, 21 oz. Plastic Cup, UPC: 79084505603; Green Hills Market, 9.25 oz. Plastic Cup, UPC: 65585200288; Green Hills Market, 21 oz. Plastic Cup, UPC: 65585200585; Harvest Co  Op Market , 9.25 oz. Plastic Cup, UPC: 65585200288; Hurley Ridge 9.25 oz. Plastic Cup, UPC: 65585200288; Hurley Ridge, 21 oz. Plastic Cup, UPC: 65585200585; Lees Market, 9.25 oz. Plastic Cup, UPC: 65585200288; Lees Market, 21 oz. Plastic Cup, UPC: 65585200585; Martins Food, 21 oz. Plastic Cup, UPC: 68826713692; Martins Food, 9.25 oz. Plastic Cup, UPC: 68826714713; Miles Market, 9.25 oz. Plastic Cup, UPC: 65585200288; Stop & Shop, 21 oz. Plastic Cup, UPC: 68826713692; Stop & Shop, 9.25 oz. Plastic Cup, UPC: 68826714713; Union Market\t, 9.25 oz. Plastic Cup, UPC: 65585200288; Whole Foods Market , 9.25 oz. Plastic Cup, UPC: 65585200288; Whole Foods Market , 21 oz. Plastic Cup, UPC: 65585200585; Wild Acorns , 9.25 oz. Plastic Cup, UPC: 81957401025; Wild Acorns, 16.0 oz. Plastic Pouch, UPC: 81957401114; Wild By Nature Brand Products, 9.25 oz. Plastic Cup, UPC: 65585270288; Windfall Market, 9.25 oz. Plastic Cup, UPC: 65585200288; Hannaford, 9.25 oz. Plastic Cup, 72543994563  \n",
      "\n",
      "**********\n",
      "Cluster 5\n",
      "Count 105\n",
      "Sample of 5 Descriptions\n",
      "\n",
      "Buttermilk, Lemon & Blueberry Frozen Yogurt Bucket, 814, Jeni's Splendid Ice Creams, LLC, 3 gallons, plastic bucket, individually packed, frozen.  Buttermilk, Lemon & Blueberry Frozen Yogurt Pint Case, 714, Jeni's Splendid Ice Creams, LLC, pint size, plastic container, 8 pints per case, frozen.  Buttermilk, Lemon & Blueberry Frozen Yogurt Pint, Jeni's Splendid Ice Creams, LLC, pint size, plastic container, individually packed, frozen.\n",
      "\n",
      "Cinderella Pumpkin Ice Cream Bucket , 371, Jeni's Splendid Ice Creams, LLC, 3 gallons, plastic bucket, individually packed, frozen.    Cinderella Pumpkin Ice Cream Half Gallon, Jeni's Splendid Ice Creams, LLC, half gallon, plastic container, individually packed, frozen.    Cinderella Pumpkin Ice Cream Pint Case, Jeni's Splendid Ice Creams, LLC, half gallon, plastic container, 4 half gallons per case, frozen.    Cinderella Pumpkin Ice Cream Pint Case, 271, Jeni's Splendid Ice Creams, LLC, pint size, plastic container, 8 pints per case, frozen.\n",
      "\n",
      "Cherry Lambic Ice Cream Bucket, 328, Jeni's Splendid Ice Creams, LLC, 3 gallons, plastic bucket, individually packed, frozen.    Cherry Lambic Ice Cream Pint Case, 228, Jeni's Splendid Ice Creams, LLC, pint size, plastic container, 8 pints per case, frozen.    Cherry Lambic Ice Cream Pint, Jeni's Splendid Ice Creams, LLC, pint size, plastic container, individually packed, frozen.  \n",
      "\n",
      "Bergamot Frozen Yogurt Bucket, 348, Jeni's Splendid Ice Creams, LLC, 3 gallons, plastic bucket, individually packed, frozen.  Bergamot Frozen Yogurt Pint Case, 248, Jeni's Splendid Ice Creams, LLC, pint size, plastic container, 8 pints per case, frozen.  Bergamot Frozen Yogurt Pint, Jeni's Splendid Ice Creams, LLC, pint size, plastic container, individually packed, frozen.\n",
      "\n",
      "**********\n",
      "Cluster 6\n",
      "Count 1\n",
      "Sample of 5 Descriptions\n",
      "\n",
      "Not Ready to Eat, IQF green peas.  Products' labels contains Cooking Instructions.  Products are sold under various brands and various net weight.    Bountiful Harvest Green Peas, item #  22486-11904, case UPC & label UPC 30822486119042  and 2248611904, net wt. 12/2.5 LB      C&W Early Harvest Petite Peas, item # 70332-00159, case UPC & label UPC 10070332001591 and 7033200159, net wt. 12/16 oz.    C&W Petite Peas, item # 70332-00158, case UPC & label UPC 10070332001584 and 7033200158, net wt. 12/16 OZ    Crown Point  Green Peas, item # CNP99-11239, case UPC & label UPC 10813973017008, net wt. 20 LB    Crown Point Peas, item # CNP99-11240, case UPC & label UPC 10813973016902, net wt. 12/2.5 LB    Early Dawn Green Peas, item # ERDEX-8M445, case UPC & label ERDEX-8M445 and 7437331521, net wt. 24/500 G     Early Dawn Green Peas, item # ERDEX-8M540, case UPC & label UPC 7437331523, net wt. 6/2 KG     Evergreen Green Peas, item # EVGEX-20440, case UPC & label UPC 4940507000126, net wt 12/1 KG    Festival Green Peas, item # FECEX-2K440, case UPC & label UPC 4967777006016, net wt 12/1 KG     Field Fresh Peas, item #\t64775-17440, case UPC & label UPC 6477517440, net wt. 20 LB      First Street Green Peas, item # 41512-08202, case UPC & label UPC 4151208202 and 4151208201, net wt. 12/2.5 LB    First Street Green Peas, item # 41512-12135, case UPC & label UPC 4151212135 and 4151212134, net wt. 12/12 OZ      Foodtown Peas, item # 11153-34628, case UPC & label UPC 11153 34628 and 11153 34628, net wt. 12/40 OZ    Frost Sweet Green Peas, item # FRS99-10002, net wt. 12/2.5 LB      Great Value Sweet Peas, item # 78742-05336, case UPC & label UPC 10078742053360 and 7874205336, net wt. 12/12 OZ      Great Value Sweet Peas, item # 78742-05336-1, case UPC & label UPC 30078742053364 and 7874205336, net wt 10/12 OZ      Great Value Sweet Peas, item # 78742-10912-1, case UPC & label UPC 30078742109122 and 7874210912, net wt. 5/26 OZ    Green Peas, item # 72608-22036, net wt. 55 LB  Green Peas, item # BOYEX-1K025, net wt. 25 KG   Green Peas, item # 72608-22036, net wt. 55 LB    Harvest Value Green Peas, item # 58108-00575, UPC 50758108005759, net wt. 20 LB      Heinz Green Peas, item # 02521-39697, UPC 14902521396972 and 4902521396975, net wt.\t12/1 KG      James Farm Peas, item # 60695-01000, case UPC & label UPC 760695010004 and 6069501000, net wt\t12/2.5 LB    JFSA Green Peas, item # 562343-301436, case UPC & label UPC 14562343301433 and 4562343301436, net wt 12/1 KG    Ligo Green Peas, item #\tLIGEX-3Q440, UPC 072810112303, net wt. 12/1 KG     Market Pantry Peas, item # 85239-00549, case UPC & label UPC 10085239005498 and 8523900549, net wt. 12/32 OZ      Markon First Crop Green Peas, item # 23234-14095, case UPC & label UPC 00723234140952, net wt. 20 LB      Markon Green Peas, item # 23234-14145, case UPC & label UPC 00723234141454, net wt. 20 LB      Maruha Nichiro Green Peas, item # MRUEX-4I023, net wt. 25 KG    Monarch Green Peas, item # 58108-00574, case UPC & label UPC 50758108005742, net wt. 20 LB    NW Treasure Green Peas, item # 62406-90000, UPC 00062406900001, net wt. 30 LB    Ore Ida Green Peas, item # 02521-00855, case UPC & label UPC 24902521008551 and 4902521008557, net wt. 20/150 G x 2      Peas, item FUR99-12030, net  wt. 20 LB      Restaurant's Pride Frosty Acres Peas, item # 48200-27425, case UPC & label UPC 10048200274255 and 4820027425, net wt. 12/2.5 LB    Restaurant's Pride Frosty Acres Peas, item # 48200-27440, UPC 00048200274401, net wt. 20 LB    SH Blackwell Green Peas, item # SHBEX-00004, net wt. 6/2 KG      Simplot Classic Green Peas, item # 71179-18925, UPC 10071179189251, net wt. 20 LB      Simplot Classic Peas, item # 71179-18949, UPC 10071179189497, net wt 12/2.5 LB      Souplantation/Sweet Tomatoes Peas\t, item # SPT99-10000, net wt. 30 LB       Sysco Classic Green Peas, item # 74865-07848, UPC 10074865078488 and 7486507848, net wt 12/2.5 LB    Sysco Classic Green Peas, item # 74865-63317, UPC 00074865633178, net wt. 30\n",
      "\n"
     ]
    },
    {
     "name": "stdout",
     "output_type": "stream",
     "text": [
      "**********\n",
      "Cluster 7\n",
      "Count 8\n",
      "Sample of 5 Descriptions\n",
      "\n",
      "Italian Green Beans. Product is IQF frozen, not ready to eat, each label carries cooking instructions.      Packages sizes: 14 oz.; 16 oz.; 2 lbs.; 2.5 lbs.; 20 lbs. and 1,350 lbs. (tote)    Product is sold under brands: Birds Eye (C&W), Markson First Crop, Bountiful Harvest, River Valley, Simplot Classic, Sysco Classic, Sysco Imperial, National, Monarch, Valamont, Worlds Finest, Tasteful and totes .    Labels read in part:   Item # 70332-00052 (not on label).    \"***BIRDS EYE C&W ***cut italian green beans***14oz***(UPC) 0 70332 00052 8***\" Proof, of bag label. provided. Shipper case UPC Code 10070332000525.    Item # 23234-13195 (not on label).    \"***12/2 LB***334400***MARKSON FIRST CROP*** Case label and proof of generic bag label provided.  Generic labels are stamped with Net Wt.. during production. No UPC Code - Generic Bag; Shipper Case UPC Code 10723234131957.    Item # 22486-11893 is contained on case label  \"***12/2.5 LB BAGS NET WT. 30 LBS***22486***11893***1614***Bountiful Harvest Originals ITALIAN GREEN BEANS******\"  Case label and bag label provided.  No UPC Code - Generic Bag.  Shipping Case UPC Code 30822486118939.    Item # 78982-00445-2 not on bag.  \"*** RIVER VALLEY*** Italian Green Beans NET WT. 16 OZ.***(UPC) 0 78982 11445 2***\". Bag label provided.  Shipping Case UPC Code 78982114452.    Item # 71179-18052 not on bag/box.  \"***12/32 OZ BAGS***10071179180524***SIMPLOT CLASSIC ITALIAN BEANS***\".  Case label and a generic Simplot proof label for bag provided. There is no UPC on generic bag; Shipping Case UPC Code 10071179180524.    Item # 74865-07851 not on label.    \"***Classic SYSCO ***Italian Cut Green Beans*** NET WT 32 OZ (2 LBS)***\".  Proof of bag and case label provided.  No UPC Code-Generic Bag. Shipping Case UPC Code 1007117918052.    Item # 74865-38722  \"*** Imperial SYSCO ***FRESH FROZEN ITALIAN BEANS 6409577***\" 12/2 LB. stamps applied, case and partial copy of bag labels provided. UPC for bag 74865-38722, Shipping Case UPC Code 10074865387221.    Item # 74865-07851  \"***Classic SYSCO***Fresh Frozen Italian Cut Breen Beans***NET WT 32 OZ (2 LBS)***(UPC) 0 74865 07851 1***\" Proof of bag label provided. Shipping  Case UPC Code 10074865078518.     Item # 72608-30730.  \"***FROZEN ITALIAN BEAN MIXED CUTS DISTRIBUTED BY NATIONAL FROZEN FOODS CORPORATION SEATTLE, WA 98109***\" 20 LB NET WT. ; case label provided. Blue liner used, no UPC for liner.  Shipping Case UPC Code 7260830730.     Item # 58108-00504.  \"***MONARCH***ITALIAN GREEN BEANS***NET WT/PESO NETO 32 OZ (2 LB)***(UPC) 7 58108 00504 4***\".  Proof for bag label provided. Shipping Case UPC Code 50758108005049.    Item # 72608-12284 for 12/2 and item # 72608-12288 for 20 lb. case.  \"***FROZEN VALAMONT ITALIAN BEANS ***\" 12/2 LB case and 20 lb; case labels provided. In the 20 lb case a generic blue bag is used.  In the 12/2lb product clear plastic bags are used.  Photos of the bags were provided.  12/2  Case UPC Code 10072608122849.  20 lb Case UPC Code 00072608122880.    Item  # WFN99-11200.  \"***C.H. BELT'S WORLDS FINEST Italian Cut Beans***NET WT. 91 KG (2 LBS) 32 OZ*** (UPC)8 82240 00004 6***\". Partial label of bag and proof of label provided. Shipping Case UPC Code 10882240000043.    Item # 72608-30605.  \"***72608***30605***12/2 LBS***TASTEFULL ITALIAN BEANS ***\" Case label and photo of product inside case were provided. There is no labeling on bags, they are clear poly. Shipping Case UPC Code 7260830605.     Totes IT BEAN R/C - have a sticker.  The one for FSUP-111-110, 111-720, 111-136 were provided.  All are 1350 lbs. There are no UPC codes.\n",
      "\n",
      "Peas & Carrots, brand Bybee's Best, frozen, net wt. 20lb. UPC 4635800013    Peas & Carrots, brand Chef Maxwell, frozen, net wt. 30lb. UPC 98020    Carrots and Peas, brand CH Belt, frozen, net wt. 20lb. UPC --    Organic Peas & Carrots, brand Columbia River Organics, frozen, net wt.10oz. UPC 5711000112    Peas and Carrots, brand Emerald Farms, frozen, net wt. 40oz. UPC 3765403673    Peas and Carrots, brand Endico, frozen, net wt.\t20lb. UPC 7730    Peas and Carrots, brand Endico, frozen, net wt.\t40oz. UPC 0145916730    Peas & Carrots, brand Farmer's Bounty, frozen, net wt. 30lb. UPC 4635800002    Peas & Carrots, brand Fiesta Mart, frozen, net wt. 16oz. UPC 5102280007    Peas & Carrots, brand Great Value, frozen, net wt. 12oz. UPC 7874205335    Peas & Carrots, brand James Farm, frozen, net wt. 40oz. UPC 6069501001    Peas and Carrots, brand JAG Foods/LA Foods, frozen, net wt. 30lb. UPC --    Peas & Carrots, brand Northwest Growers Select, frozen, net wt. 20lb. UPC 14100    Carrots & Peas, brand Panda Express, frozen, net wt. 20lb. UPC 10882210001309    Peas and Dice Carrots, brand Parade, frozen, net wt. 16oz. UPC 5070031831    Peas & Carrots, brand Quirch, frozen, net wt. 14oz. UPC 6507260152    Peas & Carrots, brand Quirch, frozen, net wt. 32oz. UPC 6507260151    Green Peas & Diced Carrots, brand Safeway Kitchens, frozen, net wt. 12oz. UPC 2113009182    Peas & Carrots, brand Signature Kitchens, frozen, net wt. 12oz. UPC 2113009182    Peas & Carrots, brand Signature Kitchens, frozen, net wt. 16oz. UPC 2113009154    Peas & Carrots, brand Signature Kitchens, frozen, net wt. 32oz. UPC 2113009033    Peas & Carrots, brand The Inn, frozen, net wt. 20lb. UPC 8628920749    Organic Peas & Shoestring Carrots, brand True Goodness, frozen, net wt.10oz.  UPC 0882077972    Peas & Carrots, brand VIP, frozen, net wt. 16oz. UPC 7007701068    The ingredients statement declares: Peas and Carrots. \n",
      "\n",
      "Mixed Vegetable, brand Emerald Farms, frozen, net wt. 40oz. UPC 3765403670    Mixed Vegetables, brand Fiesta Mart, frozen, net wt. 16oz. UPC 5102280006    Mixed Vegetables, brand Parade, frozen, net wt. 16oz. UPC 5070030675    Mixed Vegetables, brand Parade, frozen, net wt. 32oz. UPC 5070055832    Mixed Vegetables, brand Quirch, frozen, net wt. 14oz. UPC 6507260130    Mixed Vegetables, brand Quirch, frozen, net wt. 32oz. UPC 6507260129    Mixed Vegetables,brand Safeway Kitchens, frozen, net wt. 32oz. UPC 2113009042    Mixed Vegetables (4-way), brand Signature Kitchens, frozen, net wt. 32oz. UPC 2113009042    Mixed Vegetables (5-way), brand Signature Kitchens, frozen, net wt. 32oz. UPC 2113009042    Mixed Vegetables (5-way), brand Signature Kitchens, frozen, net wt. 12oz. UPC 2113024258    Mixed Vegetables, brand VIP, frozen, net wt. 16oz. UPC 7007701076    Mixed Vegetables, brand VIP, frozen, net wt. 32oz. UPC 7007701276    The ingredients statement declares: Beans, Carrots, Corn, and Lima Beans.\n",
      "\n",
      "Big House Blend, brand Bybee's, frozen, net wt. 30lb. UPC AZ#85    Best Mixed Vegetables, brand Bybee's, frozen, net wt. 20lb. UPC 4635800014    California Blend, brand Chef Maxwell, frozen, net wt. 20lb. UPC 063027    Raw Mixed Vegetables, brand Chef Maxwell, frozen, net wt. 30lb. UPC 63530295005    4 Way, brand E. Boyd, frozen, net wt. 55lb. UPC --    4 Way, brand E. Boyd, frozen, net wt. 1600lb. UPC --    Potato 3 Way, brand E. Boyd, frozen, net wt. 30lb. UPC --    Mixed Vegetables, brand Farmer's Bounty, frozen, net wt. 20lb. UPC 02300    Mixed Vegetables, brand Farmer's Bounty, frozen, net wt. 30lb. UPC 4635800003    4 Way, brand JAG Foods/LA Foods, frozen, net wt. 30lb. UPC --    Mixed Vegetables, brand Life Foods, frozen, net wt. 1kg. UPC 903392007687    Mixed Vegetables, brand McCain, frozen, net wt. 500g. UPC 991438945222    Mixed Vegetables, brand McCain, frozen, net wt. 1kg. UPC 991438945123    Mixed Vegetables, brand McCain YGC, frozen, net wt. 1kg. UPC 991438945383    Mixed Vegetables, brand Northwest Growers Select, frozen, net wt. 20lb. UPC 4635800044    4 Way, brand Single Source, frozen, net wt. 30lb. UPC --    4-Way Mixed Vegetables, brand The Inn, frozen, net wt. 20lb. UPC 8628920720    5-Way Mixed Vegetables, brand The Inn, frozen, net wt. 20lb. UPC 8628920744    The ingredients statement declares: Mixed Vegetables.\n",
      "\n",
      "**********\n",
      "Cluster 8\n",
      "Count 1\n",
      "Sample of 5 Descriptions\n",
      "\n",
      "Not Ready to Eat, IQF Mixed Vegetables.  Products' labels contains Cooking Instructions. Products are sold under various brands and various net weight.         Heinz Mixed Vegetables\t02521-39698\t14902521396989\t4902521396982\t12/1 KG   Heinz Mixed Vegetables\t02521-39698\t14902521396989\t4902521396982\t12/1 KG   Heinz Mixed Vegetables\t02521-39698\t14902521396989\t4902521396982\t12/1 KG   Heinz Mixed Vegetables\t02521-39698\t14902521396989\t4902521396982\t12/1 KG   Heinz Mixed Vegetables\t02521-39698\t14902521396989\t4902521396982\t12/1 KG  Bountiful Harvest 5 Way Mixed Veg\t22486-11912\t00822486119126\tN/A\t30 LB  Festival Mixed Vegetables\tFECEX-2K688\tN/A\t4967777005019\t12/1 KG   Festival Mixed Vegetables\tFECEX-2K688\tN/A\t4967777005019\t12/1 KG   Garden Fresh Mixed Vegetables\t64775-37371\t10064775373711\tN/A\t30 LB   Garden Fresh Mixed Vegetables\t64775-37371\t10064775373711\tN/A\t30 LB   Garden Fresh Mixed Vegetables\t64775-47370\t10064775473701\tN/A\t20 LB  Garden Fresh Mixed Vegetables\t64775-47370\t10064775473701\tN/A\t20 LB  Great Value Mixed Vegetables\t78742-05334-1\t30078742053340\t7874205334\t10/12 OZ  Great Value Mixed Vegetables\t78742-05334-1\t30078742053340\t7874205334\t10/12 OZ  Great Value Mixed Vegetables\t78742-05334-1\t30078742053340\t7874205334\t10/12 OZ  Great Value Mixed Vegetables\t78742-05334-1\t30078742053340\t7874205334\t10/12 OZ  Great Value Mixed Vegetables\t78742-05334-1\t30078742053340\t7874205334\t10/12 OZ  Great Value Mixed Vegetables\t78742-05334-1\t30078742053340\t7874205334\t10/12 OZ  Great Value Mixed Vegetables\t78742-05334-1\t30078742053340\t7874205334\t10/12 OZ  Great Value Mixed Vegetables\t78742-05334-1\t30078742053340\t7874205334\t10/12 OZ  Great Value Mixed Vegetables\t78742-05334-1\t30078742053340\t7874205334\t10/12 OZ  Great Value Mixed Vegetables\t78742-10907-1\t30078742109078\t7874210907\t5/26 OZ  Great Value Mixed Vegetables\t78742-10907-1\t30078742109078\t7874210907\t5/26 OZ  Great Value Mixed Vegetables\t78742-10907-1\t30078742109078\t7874210907\t5/26 OZ  Great Value Mixed Vegetables\t78742-10907-1\t30078742109078\t7874210907\t5/26 OZ  Great Value Mixed Vegetables\t78742-10907-1\t30078742109078\t7874210907\t5/26 OZ  Great Value Mixed Vegetables\t78742-10907-1\t30078742109078\t7874210907\t5/26 OZ  Great Value Mixed Vegetables\t78742-10907-1\t30078742109078\t7874210907\t5/26 OZ  Great Value Mixed Vegetables\t78742-10907-1\t30078742109078\t7874210907\t5/26 OZ  Great Value Mixed Vegetables\t78742-10907-1\t30078742109078\t7874210907\t5/26 OZ  Great Value Mixed Vegetables\t78742-10907-1\t30078742109078\t7874210907\t5/26 OZ  Great Value Mixed Vegetables\t78742-05334-1\t30078742053340\t7874205334\t10/12 OZ  Great Value Mixed Vegetables\t78742-05334-1\t30078742053340\t7874205334\t10/12 OZ  Great Value Mixed Vegetables\t78742-05334-1\t30078742053340\t7874205334\t10/12 OZ  Great Value Mixed Vegetables\t78742-05334-1\t30078742053340\t7874205334\t10/12 OZ  Great Value Mixed Vegetables\t78742-05334-1\t30078742053340\t7874205334\t10/12 OZ  Great Value Mixed Vegetables\t78742-05334-1\t30078742053340\t7874205334\t10/12 OZ  Great Value Mixed Vegetables\t78742-05334-1\t30078742053340\t7874205334\t10/12 OZ  Great Value Mixed Vegetables\t78742-05334-1\t30078742053340\t7874205334\t10/12 OZ  Great Value Mixed Vegetables\t78742-05334-1\t30078742053340\t7874205334\t10/12 OZ  Great Value Mixed Vegetables\t78742-05334-1\t30078742053340\t7874205334\t10/12 OZ  Great Value Mixed Vegetables\t78742-05334-1\t30078742053340\t7874205334\t10/12 OZ  Great Value Mixed Vegetables\t78742-05334-1\t30078742053340\t7874205334\t10/12 OZ  Great Value Mixed Vegetables\t78742-05334-1\t30078742053340\t7874205334\t10/12 OZ  Great Value Mixed Vegetables\t78742-05334-1\t30078742053340\t7874205334\t10/12 OZ  Great Value Mixed Vegetables\t78742-05334-1\t30078742053340\t7874205334\t10/12 OZ  Great Value Mixed Vegetables\t78742-05334-1\t30078742053340\t7874205334\t10/12 OZ  Great Value Mixed Vegetables\t78742-05334-1\t30078742053340\t7874205334\t10/12 OZ  Great Value Mixed Vegetables\t78742-05334-1\t30078742053340\t7874205334\t10/12 OZ  Great Value Mixed Vegetables\t78742-05334-1\t30078742053340\t7874205334\t10/12 OZ  G\n",
      "\n",
      "**********\n",
      "Cluster 9\n",
      "Count 0\n",
      "Sample of 5 Descriptions\n",
      "\n"
     ]
    }
   ],
   "source": [
    "# You should look at all the clusters, but let's look at cluster \"15\" (I chose this arbitrarily; you should look at all of them)\n",
    "\n",
    "sampleLen = 5\n",
    "for x in range(0,clusterVal):\n",
    "    count = 0\n",
    "    sample = []\n",
    "    \n",
    "    for i in range(0,len(km.labels_)):\n",
    "        if km.labels_[i] == x:\n",
    "            count += 1\n",
    "            if count < sampleLen:\n",
    "                sample.append(raw_data['product_description'][i])\n",
    "    \n",
    "    print('**********')\n",
    "    print('Cluster ' + str(x))\n",
    "    print('Count ' + str(count))\n",
    "    print('Sample of ' + str(sampleLen) + ' Descriptions\\n')\n",
    "    for i in range(0,len(sample)):\n",
    "        print(sample[i] + '\\n')\n",
    "        \n",
    "    \n",
    "\n",
    "\n",
    "    "
   ]
  },
  {
   "cell_type": "code",
   "execution_count": null,
   "metadata": {},
   "outputs": [],
   "source": []
  }
 ],
 "metadata": {
  "kernelspec": {
   "display_name": "Python 3",
   "language": "python",
   "name": "python3"
  },
  "language_info": {
   "codemirror_mode": {
    "name": "ipython",
    "version": 3
   },
   "file_extension": ".py",
   "mimetype": "text/x-python",
   "name": "python",
   "nbconvert_exporter": "python",
   "pygments_lexer": "ipython3",
   "version": "3.7.4"
  }
 },
 "nbformat": 4,
 "nbformat_minor": 2
}
